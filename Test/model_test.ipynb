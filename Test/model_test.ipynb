{
 "cells": [
  {
   "cell_type": "code",
   "execution_count": 1,
   "metadata": {},
   "outputs": [],
   "source": [
    "import pandas as pd\n",
    "import numpy as np\n",
    "import seaborn as sns\n",
    "import matplotlib.pyplot as plt\n",
    "import sys\n",
    "from sklearn.model_selection import train_test_split\n",
    "\n",
    "sys.path.append(\"../library\")\n",
    "import RecSys as rs\n",
    "path = \"../clean_data/\""
   ]
  },
  {
   "cell_type": "code",
   "execution_count": 2,
   "metadata": {},
   "outputs": [],
   "source": [
    "chefmozGeo_r = pd.read_csv(path + \"chefmozGeo_r.csv\", sep=';').drop(['Unnamed: 0'],axis=1)\n",
    "chefmozProfile_r = pd.read_csv(path + \"chefmozProfile_r.csv\", sep=';').drop(['Unnamed: 0'],axis=1)\n",
    "rating_final_r = pd.read_csv(path + \"rating_final_r.csv\", sep=';').drop(['Unnamed: 0'],axis=1)\n",
    "userChefmozRelation_r = pd.read_csv(path + \"userChefmozRelation_r.csv\", sep=';').drop(['Unnamed: 0'],axis=1)\n",
    "userGeo_r = pd.read_csv(path + \"userGeo_r.csv\", sep=';').drop(['Unnamed: 0'],axis=1)\n",
    "userProfile_r = pd.read_csv(path + \"userProfile_r.csv\", sep=';').drop(['Unnamed: 0'],axis=1)"
   ]
  },
  {
   "cell_type": "code",
   "execution_count": 3,
   "metadata": {},
   "outputs": [],
   "source": [
    "train, test = train_test_split(rating_final_r, test_size=0.2)"
   ]
  },
  {
   "cell_type": "markdown",
   "metadata": {},
   "source": [
    "# Most Popular Restaurant"
   ]
  },
  {
   "cell_type": "markdown",
   "metadata": {},
   "source": [
    "## Most visited Restaurant"
   ]
  },
  {
   "cell_type": "code",
   "execution_count": 4,
   "metadata": {},
   "outputs": [
    {
     "data": {
      "text/plain": [
       "(698, 5)"
      ]
     },
     "execution_count": 4,
     "metadata": {},
     "output_type": "execute_result"
    }
   ],
   "source": [
    "train.shape"
   ]
  },
  {
   "cell_type": "code",
   "execution_count": 5,
   "metadata": {},
   "outputs": [
    {
     "data": {
      "text/html": [
       "<div>\n",
       "<style scoped>\n",
       "    .dataframe tbody tr th:only-of-type {\n",
       "        vertical-align: middle;\n",
       "    }\n",
       "\n",
       "    .dataframe tbody tr th {\n",
       "        vertical-align: top;\n",
       "    }\n",
       "\n",
       "    .dataframe thead th {\n",
       "        text-align: right;\n",
       "    }\n",
       "</style>\n",
       "<table border=\"1\" class=\"dataframe\">\n",
       "  <thead>\n",
       "    <tr style=\"text-align: right;\">\n",
       "      <th></th>\n",
       "      <th>userID</th>\n",
       "      <th>placeID</th>\n",
       "      <th>rating</th>\n",
       "      <th>food_rating</th>\n",
       "      <th>service_rating</th>\n",
       "    </tr>\n",
       "  </thead>\n",
       "  <tbody>\n",
       "    <tr>\n",
       "      <th>86</th>\n",
       "      <td>65</td>\n",
       "      <td>94</td>\n",
       "      <td>2</td>\n",
       "      <td>1</td>\n",
       "      <td>0</td>\n",
       "    </tr>\n",
       "    <tr>\n",
       "      <th>217</th>\n",
       "      <td>124</td>\n",
       "      <td>18</td>\n",
       "      <td>1</td>\n",
       "      <td>1</td>\n",
       "      <td>1</td>\n",
       "    </tr>\n",
       "    <tr>\n",
       "      <th>520</th>\n",
       "      <td>47</td>\n",
       "      <td>39</td>\n",
       "      <td>2</td>\n",
       "      <td>2</td>\n",
       "      <td>2</td>\n",
       "    </tr>\n",
       "    <tr>\n",
       "      <th>236</th>\n",
       "      <td>93</td>\n",
       "      <td>24</td>\n",
       "      <td>0</td>\n",
       "      <td>1</td>\n",
       "      <td>0</td>\n",
       "    </tr>\n",
       "    <tr>\n",
       "      <th>108</th>\n",
       "      <td>62</td>\n",
       "      <td>7</td>\n",
       "      <td>1</td>\n",
       "      <td>0</td>\n",
       "      <td>1</td>\n",
       "    </tr>\n",
       "  </tbody>\n",
       "</table>\n",
       "</div>"
      ],
      "text/plain": [
       "     userID  placeID  rating  food_rating  service_rating\n",
       "86       65       94       2            1               0\n",
       "217     124       18       1            1               1\n",
       "520      47       39       2            2               2\n",
       "236      93       24       0            1               0\n",
       "108      62        7       1            0               1"
      ]
     },
     "execution_count": 5,
     "metadata": {},
     "output_type": "execute_result"
    }
   ],
   "source": [
    "train.head()"
   ]
  },
  {
   "cell_type": "code",
   "execution_count": 6,
   "metadata": {},
   "outputs": [],
   "source": [
    "mostVisited = train.groupby('placeID')['userID'].count()"
   ]
  },
  {
   "cell_type": "code",
   "execution_count": 7,
   "metadata": {},
   "outputs": [
    {
     "data": {
      "text/html": [
       "<div>\n",
       "<style scoped>\n",
       "    .dataframe tbody tr th:only-of-type {\n",
       "        vertical-align: middle;\n",
       "    }\n",
       "\n",
       "    .dataframe tbody tr th {\n",
       "        vertical-align: top;\n",
       "    }\n",
       "\n",
       "    .dataframe thead th {\n",
       "        text-align: right;\n",
       "    }\n",
       "</style>\n",
       "<table border=\"1\" class=\"dataframe\">\n",
       "  <thead>\n",
       "    <tr style=\"text-align: right;\">\n",
       "      <th></th>\n",
       "      <th>userID</th>\n",
       "      <th>placeID</th>\n",
       "      <th>rating</th>\n",
       "      <th>food_rating</th>\n",
       "      <th>service_rating</th>\n",
       "    </tr>\n",
       "  </thead>\n",
       "  <tbody>\n",
       "    <tr>\n",
       "      <th>86</th>\n",
       "      <td>65</td>\n",
       "      <td>94</td>\n",
       "      <td>2</td>\n",
       "      <td>1</td>\n",
       "      <td>0</td>\n",
       "    </tr>\n",
       "    <tr>\n",
       "      <th>217</th>\n",
       "      <td>124</td>\n",
       "      <td>18</td>\n",
       "      <td>1</td>\n",
       "      <td>1</td>\n",
       "      <td>1</td>\n",
       "    </tr>\n",
       "    <tr>\n",
       "      <th>520</th>\n",
       "      <td>47</td>\n",
       "      <td>39</td>\n",
       "      <td>2</td>\n",
       "      <td>2</td>\n",
       "      <td>2</td>\n",
       "    </tr>\n",
       "    <tr>\n",
       "      <th>236</th>\n",
       "      <td>93</td>\n",
       "      <td>24</td>\n",
       "      <td>0</td>\n",
       "      <td>1</td>\n",
       "      <td>0</td>\n",
       "    </tr>\n",
       "    <tr>\n",
       "      <th>108</th>\n",
       "      <td>62</td>\n",
       "      <td>7</td>\n",
       "      <td>1</td>\n",
       "      <td>0</td>\n",
       "      <td>1</td>\n",
       "    </tr>\n",
       "  </tbody>\n",
       "</table>\n",
       "</div>"
      ],
      "text/plain": [
       "     userID  placeID  rating  food_rating  service_rating\n",
       "86       65       94       2            1               0\n",
       "217     124       18       1            1               1\n",
       "520      47       39       2            2               2\n",
       "236      93       24       0            1               0\n",
       "108      62        7       1            0               1"
      ]
     },
     "execution_count": 7,
     "metadata": {},
     "output_type": "execute_result"
    }
   ],
   "source": [
    "train.head()"
   ]
  },
  {
   "cell_type": "code",
   "execution_count": 8,
   "metadata": {},
   "outputs": [
    {
     "data": {
      "text/plain": [
       "placeID\n",
       "87    31\n",
       "1     27\n",
       "85    22\n",
       "41    20\n",
       "35    19\n",
       "52    19\n",
       "15    16\n",
       "82    15\n",
       "18    15\n",
       "25    14\n",
       "Name: userID, dtype: int64"
      ]
     },
     "execution_count": 8,
     "metadata": {},
     "output_type": "execute_result"
    }
   ],
   "source": [
    "mostVisited.sort_values(ascending=False).head(10)"
   ]
  },
  {
   "cell_type": "code",
   "execution_count": 9,
   "metadata": {},
   "outputs": [],
   "source": [
    "mostVisitedRestaurant = list(mostVisited.sort_values(ascending=False).index)"
   ]
  },
  {
   "cell_type": "markdown",
   "metadata": {},
   "source": [
    "## Most Rated Restaurant"
   ]
  },
  {
   "cell_type": "code",
   "execution_count": 10,
   "metadata": {},
   "outputs": [
    {
     "data": {
      "text/plain": [
       "placeID\n",
       "0     3\n",
       "1    27\n",
       "2     9\n",
       "3     1\n",
       "4     5\n",
       "Name: rating, dtype: int64"
      ]
     },
     "execution_count": 10,
     "metadata": {},
     "output_type": "execute_result"
    }
   ],
   "source": [
    "train.groupby('placeID')['rating'].count().head()"
   ]
  },
  {
   "cell_type": "code",
   "execution_count": 11,
   "metadata": {},
   "outputs": [],
   "source": [
    "mostRated = train.groupby('placeID')['rating'].sum()"
   ]
  },
  {
   "cell_type": "code",
   "execution_count": 12,
   "metadata": {},
   "outputs": [
    {
     "data": {
      "text/plain": [
       "placeID\n",
       "87    38\n",
       "1     33\n",
       "85    29\n",
       "35    23\n",
       "41    23\n",
       "15    21\n",
       "76    20\n",
       "18    19\n",
       "86    19\n",
       "77    18\n",
       "Name: rating, dtype: int64"
      ]
     },
     "execution_count": 12,
     "metadata": {},
     "output_type": "execute_result"
    }
   ],
   "source": [
    "mostRated.sort_values(ascending=False).head(10)"
   ]
  },
  {
   "cell_type": "code",
   "execution_count": 13,
   "metadata": {},
   "outputs": [],
   "source": [
    "mostRatedRestaurant = list(mostRated.sort_values(ascending=False).index)"
   ]
  },
  {
   "cell_type": "markdown",
   "metadata": {},
   "source": [
    "## Highest mean rating Restaurant"
   ]
  },
  {
   "cell_type": "code",
   "execution_count": 14,
   "metadata": {},
   "outputs": [
    {
     "data": {
      "text/plain": [
       "placeID\n",
       "87    31\n",
       "1     27\n",
       "85    22\n",
       "41    20\n",
       "35    19\n",
       "52    19\n",
       "15    16\n",
       "82    15\n",
       "18    15\n",
       "25    14\n",
       "Name: rating, dtype: int64"
      ]
     },
     "execution_count": 14,
     "metadata": {},
     "output_type": "execute_result"
    }
   ],
   "source": [
    "train.groupby('placeID')['rating'].count().sort_values(ascending=False).head(10)"
   ]
  },
  {
   "cell_type": "code",
   "execution_count": 15,
   "metadata": {},
   "outputs": [
    {
     "data": {
      "text/plain": [
       "placeID\n",
       "90    1\n",
       "3     1\n",
       "49    2\n",
       "34    2\n",
       "55    3\n",
       "72    3\n",
       "50    3\n",
       "16    3\n",
       "31    3\n",
       "14    3\n",
       "Name: rating, dtype: int64"
      ]
     },
     "execution_count": 15,
     "metadata": {},
     "output_type": "execute_result"
    }
   ],
   "source": [
    "train.groupby('placeID')['rating'].count().sort_values(ascending=True).head(10)"
   ]
  },
  {
   "cell_type": "code",
   "execution_count": 16,
   "metadata": {},
   "outputs": [],
   "source": [
    "def filteredListRatedRestaurant(train, min_ratings=0):\n",
    "    listRatedRestaurant = train.groupby('placeID')['rating'].apply(list).reset_index()\n",
    "    filteredListRatedRestaurant = listRatedRestaurant[listRatedRestaurant.rating.apply(lambda x: len(x)>=min_ratings)]\n",
    "    meanListRatedRestaurant = filteredListRatedRestaurant['rating'].apply(np.mean)\n",
    "    filteredListRatedRestaurant['mean'] = meanListRatedRestaurant\n",
    "    return filteredListRatedRestaurant.sort_values('mean',ascending=False)"
   ]
  },
  {
   "cell_type": "code",
   "execution_count": 17,
   "metadata": {
    "scrolled": true
   },
   "outputs": [
    {
     "data": {
      "text/html": [
       "<div>\n",
       "<style scoped>\n",
       "    .dataframe tbody tr th:only-of-type {\n",
       "        vertical-align: middle;\n",
       "    }\n",
       "\n",
       "    .dataframe tbody tr th {\n",
       "        vertical-align: top;\n",
       "    }\n",
       "\n",
       "    .dataframe thead th {\n",
       "        text-align: right;\n",
       "    }\n",
       "</style>\n",
       "<table border=\"1\" class=\"dataframe\">\n",
       "  <thead>\n",
       "    <tr style=\"text-align: right;\">\n",
       "      <th></th>\n",
       "      <th>placeID</th>\n",
       "      <th>rating</th>\n",
       "      <th>mean</th>\n",
       "    </tr>\n",
       "  </thead>\n",
       "  <tbody>\n",
       "    <tr>\n",
       "      <th>3</th>\n",
       "      <td>3</td>\n",
       "      <td>[2]</td>\n",
       "      <td>2.00</td>\n",
       "    </tr>\n",
       "    <tr>\n",
       "      <th>32</th>\n",
       "      <td>32</td>\n",
       "      <td>[2, 2, 2, 2, 2]</td>\n",
       "      <td>2.00</td>\n",
       "    </tr>\n",
       "    <tr>\n",
       "      <th>36</th>\n",
       "      <td>36</td>\n",
       "      <td>[2, 2, 2, 2, 2, 2]</td>\n",
       "      <td>2.00</td>\n",
       "    </tr>\n",
       "    <tr>\n",
       "      <th>34</th>\n",
       "      <td>34</td>\n",
       "      <td>[2, 2]</td>\n",
       "      <td>2.00</td>\n",
       "    </tr>\n",
       "    <tr>\n",
       "      <th>79</th>\n",
       "      <td>79</td>\n",
       "      <td>[2, 2, 2, 2]</td>\n",
       "      <td>2.00</td>\n",
       "    </tr>\n",
       "    <tr>\n",
       "      <th>65</th>\n",
       "      <td>65</td>\n",
       "      <td>[2, 2, 1, 2, 2]</td>\n",
       "      <td>1.80</td>\n",
       "    </tr>\n",
       "    <tr>\n",
       "      <th>63</th>\n",
       "      <td>63</td>\n",
       "      <td>[2, 2, 1, 2, 2]</td>\n",
       "      <td>1.80</td>\n",
       "    </tr>\n",
       "    <tr>\n",
       "      <th>70</th>\n",
       "      <td>70</td>\n",
       "      <td>[1, 2, 2, 2]</td>\n",
       "      <td>1.75</td>\n",
       "    </tr>\n",
       "    <tr>\n",
       "      <th>37</th>\n",
       "      <td>37</td>\n",
       "      <td>[2, 2, 2, 1]</td>\n",
       "      <td>1.75</td>\n",
       "    </tr>\n",
       "    <tr>\n",
       "      <th>11</th>\n",
       "      <td>11</td>\n",
       "      <td>[2, 2, 2, 1]</td>\n",
       "      <td>1.75</td>\n",
       "    </tr>\n",
       "  </tbody>\n",
       "</table>\n",
       "</div>"
      ],
      "text/plain": [
       "    placeID              rating  mean\n",
       "3         3                 [2]  2.00\n",
       "32       32     [2, 2, 2, 2, 2]  2.00\n",
       "36       36  [2, 2, 2, 2, 2, 2]  2.00\n",
       "34       34              [2, 2]  2.00\n",
       "79       79        [2, 2, 2, 2]  2.00\n",
       "65       65     [2, 2, 1, 2, 2]  1.80\n",
       "63       63     [2, 2, 1, 2, 2]  1.80\n",
       "70       70        [1, 2, 2, 2]  1.75\n",
       "37       37        [2, 2, 2, 1]  1.75\n",
       "11       11        [2, 2, 2, 1]  1.75"
      ]
     },
     "execution_count": 17,
     "metadata": {},
     "output_type": "execute_result"
    }
   ],
   "source": [
    "filteredListRatedRestaurant(train).head(10)"
   ]
  },
  {
   "cell_type": "code",
   "execution_count": 18,
   "metadata": {},
   "outputs": [
    {
     "name": "stderr",
     "output_type": "stream",
     "text": [
      "/home/javier/anaconda3/lib/python3.7/site-packages/ipykernel_launcher.py:5: SettingWithCopyWarning: \n",
      "A value is trying to be set on a copy of a slice from a DataFrame.\n",
      "Try using .loc[row_indexer,col_indexer] = value instead\n",
      "\n",
      "See the caveats in the documentation: http://pandas.pydata.org/pandas-docs/stable/indexing.html#indexing-view-versus-copy\n",
      "  \"\"\"\n"
     ]
    },
    {
     "data": {
      "text/html": [
       "<div>\n",
       "<style scoped>\n",
       "    .dataframe tbody tr th:only-of-type {\n",
       "        vertical-align: middle;\n",
       "    }\n",
       "\n",
       "    .dataframe tbody tr th {\n",
       "        vertical-align: top;\n",
       "    }\n",
       "\n",
       "    .dataframe thead th {\n",
       "        text-align: right;\n",
       "    }\n",
       "</style>\n",
       "<table border=\"1\" class=\"dataframe\">\n",
       "  <thead>\n",
       "    <tr style=\"text-align: right;\">\n",
       "      <th></th>\n",
       "      <th>placeID</th>\n",
       "      <th>rating</th>\n",
       "      <th>mean</th>\n",
       "    </tr>\n",
       "  </thead>\n",
       "  <tbody>\n",
       "    <tr>\n",
       "      <th>36</th>\n",
       "      <td>36</td>\n",
       "      <td>[2, 2, 2, 2, 2, 2]</td>\n",
       "      <td>2.000000</td>\n",
       "    </tr>\n",
       "    <tr>\n",
       "      <th>32</th>\n",
       "      <td>32</td>\n",
       "      <td>[2, 2, 2, 2, 2]</td>\n",
       "      <td>2.000000</td>\n",
       "    </tr>\n",
       "    <tr>\n",
       "      <th>63</th>\n",
       "      <td>63</td>\n",
       "      <td>[2, 2, 1, 2, 2]</td>\n",
       "      <td>1.800000</td>\n",
       "    </tr>\n",
       "    <tr>\n",
       "      <th>65</th>\n",
       "      <td>65</td>\n",
       "      <td>[2, 2, 1, 2, 2]</td>\n",
       "      <td>1.800000</td>\n",
       "    </tr>\n",
       "    <tr>\n",
       "      <th>76</th>\n",
       "      <td>76</td>\n",
       "      <td>[2, 2, 1, 2, 2, 2, 1, 2, 0, 2, 2, 2]</td>\n",
       "      <td>1.666667</td>\n",
       "    </tr>\n",
       "    <tr>\n",
       "      <th>33</th>\n",
       "      <td>33</td>\n",
       "      <td>[0, 2, 2, 2, 2, 1, 2, 2]</td>\n",
       "      <td>1.625000</td>\n",
       "    </tr>\n",
       "    <tr>\n",
       "      <th>85</th>\n",
       "      <td>86</td>\n",
       "      <td>[2, 2, 2, 2, 1, 2, 1, 2, 0, 2, 2, 1]</td>\n",
       "      <td>1.583333</td>\n",
       "    </tr>\n",
       "    <tr>\n",
       "      <th>19</th>\n",
       "      <td>19</td>\n",
       "      <td>[0, 1, 2, 2, 2, 2, 2]</td>\n",
       "      <td>1.571429</td>\n",
       "    </tr>\n",
       "    <tr>\n",
       "      <th>22</th>\n",
       "      <td>22</td>\n",
       "      <td>[1, 2, 2, 2, 2, 0, 2, 1, 2]</td>\n",
       "      <td>1.555556</td>\n",
       "    </tr>\n",
       "    <tr>\n",
       "      <th>23</th>\n",
       "      <td>23</td>\n",
       "      <td>[2, 1, 2, 1, 2, 1, 1, 2]</td>\n",
       "      <td>1.500000</td>\n",
       "    </tr>\n",
       "  </tbody>\n",
       "</table>\n",
       "</div>"
      ],
      "text/plain": [
       "    placeID                                rating      mean\n",
       "36       36                    [2, 2, 2, 2, 2, 2]  2.000000\n",
       "32       32                       [2, 2, 2, 2, 2]  2.000000\n",
       "63       63                       [2, 2, 1, 2, 2]  1.800000\n",
       "65       65                       [2, 2, 1, 2, 2]  1.800000\n",
       "76       76  [2, 2, 1, 2, 2, 2, 1, 2, 0, 2, 2, 2]  1.666667\n",
       "33       33              [0, 2, 2, 2, 2, 1, 2, 2]  1.625000\n",
       "85       86  [2, 2, 2, 2, 1, 2, 1, 2, 0, 2, 2, 1]  1.583333\n",
       "19       19                 [0, 1, 2, 2, 2, 2, 2]  1.571429\n",
       "22       22           [1, 2, 2, 2, 2, 0, 2, 1, 2]  1.555556\n",
       "23       23              [2, 1, 2, 1, 2, 1, 1, 2]  1.500000"
      ]
     },
     "execution_count": 18,
     "metadata": {},
     "output_type": "execute_result"
    }
   ],
   "source": [
    "filteredListRatedRestaurant(train,5).head(10)"
   ]
  },
  {
   "cell_type": "code",
   "execution_count": 19,
   "metadata": {},
   "outputs": [
    {
     "name": "stderr",
     "output_type": "stream",
     "text": [
      "/home/javier/anaconda3/lib/python3.7/site-packages/ipykernel_launcher.py:5: SettingWithCopyWarning: \n",
      "A value is trying to be set on a copy of a slice from a DataFrame.\n",
      "Try using .loc[row_indexer,col_indexer] = value instead\n",
      "\n",
      "See the caveats in the documentation: http://pandas.pydata.org/pandas-docs/stable/indexing.html#indexing-view-versus-copy\n",
      "  \"\"\"\n"
     ]
    },
    {
     "data": {
      "text/html": [
       "<div>\n",
       "<style scoped>\n",
       "    .dataframe tbody tr th:only-of-type {\n",
       "        vertical-align: middle;\n",
       "    }\n",
       "\n",
       "    .dataframe tbody tr th {\n",
       "        vertical-align: top;\n",
       "    }\n",
       "\n",
       "    .dataframe thead th {\n",
       "        text-align: right;\n",
       "    }\n",
       "</style>\n",
       "<table border=\"1\" class=\"dataframe\">\n",
       "  <thead>\n",
       "    <tr style=\"text-align: right;\">\n",
       "      <th></th>\n",
       "      <th>placeID</th>\n",
       "      <th>rating</th>\n",
       "      <th>mean</th>\n",
       "    </tr>\n",
       "  </thead>\n",
       "  <tbody>\n",
       "    <tr>\n",
       "      <th>76</th>\n",
       "      <td>76</td>\n",
       "      <td>[2, 2, 1, 2, 2, 2, 1, 2, 0, 2, 2, 2]</td>\n",
       "      <td>1.666667</td>\n",
       "    </tr>\n",
       "    <tr>\n",
       "      <th>85</th>\n",
       "      <td>86</td>\n",
       "      <td>[2, 2, 2, 2, 1, 2, 1, 2, 0, 2, 2, 1]</td>\n",
       "      <td>1.583333</td>\n",
       "    </tr>\n",
       "    <tr>\n",
       "      <th>83</th>\n",
       "      <td>83</td>\n",
       "      <td>[1, 2, 2, 2, 2, 2, 0, 2, 2, 0]</td>\n",
       "      <td>1.500000</td>\n",
       "    </tr>\n",
       "    <tr>\n",
       "      <th>39</th>\n",
       "      <td>39</td>\n",
       "      <td>[2, 0, 1, 1, 2, 1, 2, 1, 2, 2, 2]</td>\n",
       "      <td>1.454545</td>\n",
       "    </tr>\n",
       "    <tr>\n",
       "      <th>44</th>\n",
       "      <td>44</td>\n",
       "      <td>[1, 2, 1, 2, 1, 0, 2, 2, 2, 1]</td>\n",
       "      <td>1.400000</td>\n",
       "    </tr>\n",
       "    <tr>\n",
       "      <th>84</th>\n",
       "      <td>85</td>\n",
       "      <td>[0, 1, 2, 1, 0, 2, 2, 1, 1, 2, 2, 2, 0, 1, 2, ...</td>\n",
       "      <td>1.318182</td>\n",
       "    </tr>\n",
       "    <tr>\n",
       "      <th>15</th>\n",
       "      <td>15</td>\n",
       "      <td>[2, 2, 2, 2, 2, 0, 1, 1, 0, 1, 2, 1, 0, 1, 2, 2]</td>\n",
       "      <td>1.312500</td>\n",
       "    </tr>\n",
       "    <tr>\n",
       "      <th>77</th>\n",
       "      <td>77</td>\n",
       "      <td>[2, 2, 1, 1, 2, 1, 1, 2, 2, 2, 0, 1, 1, 0]</td>\n",
       "      <td>1.285714</td>\n",
       "    </tr>\n",
       "    <tr>\n",
       "      <th>18</th>\n",
       "      <td>18</td>\n",
       "      <td>[1, 2, 1, 1, 2, 1, 2, 1, 2, 2, 1, 0, 2, 1, 0]</td>\n",
       "      <td>1.266667</td>\n",
       "    </tr>\n",
       "    <tr>\n",
       "      <th>24</th>\n",
       "      <td>24</td>\n",
       "      <td>[0, 2, 1, 2, 1, 0, 1, 1, 2, 1, 2, 1, 2]</td>\n",
       "      <td>1.230769</td>\n",
       "    </tr>\n",
       "  </tbody>\n",
       "</table>\n",
       "</div>"
      ],
      "text/plain": [
       "    placeID                                             rating      mean\n",
       "76       76               [2, 2, 1, 2, 2, 2, 1, 2, 0, 2, 2, 2]  1.666667\n",
       "85       86               [2, 2, 2, 2, 1, 2, 1, 2, 0, 2, 2, 1]  1.583333\n",
       "83       83                     [1, 2, 2, 2, 2, 2, 0, 2, 2, 0]  1.500000\n",
       "39       39                  [2, 0, 1, 1, 2, 1, 2, 1, 2, 2, 2]  1.454545\n",
       "44       44                     [1, 2, 1, 2, 1, 0, 2, 2, 2, 1]  1.400000\n",
       "84       85  [0, 1, 2, 1, 0, 2, 2, 1, 1, 2, 2, 2, 0, 1, 2, ...  1.318182\n",
       "15       15   [2, 2, 2, 2, 2, 0, 1, 1, 0, 1, 2, 1, 0, 1, 2, 2]  1.312500\n",
       "77       77         [2, 2, 1, 1, 2, 1, 1, 2, 2, 2, 0, 1, 1, 0]  1.285714\n",
       "18       18      [1, 2, 1, 1, 2, 1, 2, 1, 2, 2, 1, 0, 2, 1, 0]  1.266667\n",
       "24       24            [0, 2, 1, 2, 1, 0, 1, 1, 2, 1, 2, 1, 2]  1.230769"
      ]
     },
     "execution_count": 19,
     "metadata": {},
     "output_type": "execute_result"
    }
   ],
   "source": [
    "filteredListRatedRestaurant(train,10).head(10)"
   ]
  },
  {
   "cell_type": "code",
   "execution_count": 20,
   "metadata": {},
   "outputs": [
    {
     "data": {
      "text/plain": [
       "2"
      ]
     },
     "execution_count": 20,
     "metadata": {},
     "output_type": "execute_result"
    }
   ],
   "source": [
    "rating_final_r['rating'].max()"
   ]
  },
  {
   "cell_type": "markdown",
   "metadata": {},
   "source": [
    "## Excluding bad Rate"
   ]
  },
  {
   "cell_type": "code",
   "execution_count": 21,
   "metadata": {},
   "outputs": [],
   "source": [
    "def filteredListRatedRestaurantExcluding(train,excludingRate=0, min_ratings=0):\n",
    "    trainExcluding = train[train['rating']>=excludingRate]\n",
    "    listRatedRestaurant = trainExcluding.groupby('placeID')['rating'].apply(list).reset_index()\n",
    "    filteredListRatedRestaurant = listRatedRestaurant[listRatedRestaurant.rating.apply(lambda x: len(x)>=min_ratings)]\n",
    "    meanListRatedRestaurant = filteredListRatedRestaurant['rating'].apply(np.mean)\n",
    "    filteredListRatedRestaurant['mean'] = meanListRatedRestaurant\n",
    "    return filteredListRatedRestaurant.sort_values('mean',ascending=False)"
   ]
  },
  {
   "cell_type": "code",
   "execution_count": 22,
   "metadata": {
    "scrolled": true
   },
   "outputs": [
    {
     "data": {
      "text/html": [
       "<div>\n",
       "<style scoped>\n",
       "    .dataframe tbody tr th:only-of-type {\n",
       "        vertical-align: middle;\n",
       "    }\n",
       "\n",
       "    .dataframe tbody tr th {\n",
       "        vertical-align: top;\n",
       "    }\n",
       "\n",
       "    .dataframe thead th {\n",
       "        text-align: right;\n",
       "    }\n",
       "</style>\n",
       "<table border=\"1\" class=\"dataframe\">\n",
       "  <thead>\n",
       "    <tr style=\"text-align: right;\">\n",
       "      <th></th>\n",
       "      <th>placeID</th>\n",
       "      <th>rating</th>\n",
       "      <th>mean</th>\n",
       "    </tr>\n",
       "  </thead>\n",
       "  <tbody>\n",
       "    <tr>\n",
       "      <th>3</th>\n",
       "      <td>3</td>\n",
       "      <td>[2]</td>\n",
       "      <td>2.000000</td>\n",
       "    </tr>\n",
       "    <tr>\n",
       "      <th>32</th>\n",
       "      <td>32</td>\n",
       "      <td>[2, 2, 2, 2, 2]</td>\n",
       "      <td>2.000000</td>\n",
       "    </tr>\n",
       "    <tr>\n",
       "      <th>36</th>\n",
       "      <td>36</td>\n",
       "      <td>[2, 2, 2, 2, 2, 2]</td>\n",
       "      <td>2.000000</td>\n",
       "    </tr>\n",
       "    <tr>\n",
       "      <th>34</th>\n",
       "      <td>34</td>\n",
       "      <td>[2, 2]</td>\n",
       "      <td>2.000000</td>\n",
       "    </tr>\n",
       "    <tr>\n",
       "      <th>79</th>\n",
       "      <td>79</td>\n",
       "      <td>[2, 2, 2, 2]</td>\n",
       "      <td>2.000000</td>\n",
       "    </tr>\n",
       "    <tr>\n",
       "      <th>65</th>\n",
       "      <td>65</td>\n",
       "      <td>[2, 2, 1, 2, 2]</td>\n",
       "      <td>1.800000</td>\n",
       "    </tr>\n",
       "    <tr>\n",
       "      <th>63</th>\n",
       "      <td>63</td>\n",
       "      <td>[2, 2, 1, 2, 2]</td>\n",
       "      <td>1.800000</td>\n",
       "    </tr>\n",
       "    <tr>\n",
       "      <th>70</th>\n",
       "      <td>70</td>\n",
       "      <td>[1, 2, 2, 2]</td>\n",
       "      <td>1.750000</td>\n",
       "    </tr>\n",
       "    <tr>\n",
       "      <th>37</th>\n",
       "      <td>37</td>\n",
       "      <td>[2, 2, 2, 1]</td>\n",
       "      <td>1.750000</td>\n",
       "    </tr>\n",
       "    <tr>\n",
       "      <th>11</th>\n",
       "      <td>11</td>\n",
       "      <td>[2, 2, 2, 1]</td>\n",
       "      <td>1.750000</td>\n",
       "    </tr>\n",
       "    <tr>\n",
       "      <th>76</th>\n",
       "      <td>76</td>\n",
       "      <td>[2, 2, 1, 2, 2, 2, 1, 2, 0, 2, 2, 2]</td>\n",
       "      <td>1.666667</td>\n",
       "    </tr>\n",
       "    <tr>\n",
       "      <th>75</th>\n",
       "      <td>75</td>\n",
       "      <td>[2, 2, 1]</td>\n",
       "      <td>1.666667</td>\n",
       "    </tr>\n",
       "    <tr>\n",
       "      <th>33</th>\n",
       "      <td>33</td>\n",
       "      <td>[0, 2, 2, 2, 2, 1, 2, 2]</td>\n",
       "      <td>1.625000</td>\n",
       "    </tr>\n",
       "    <tr>\n",
       "      <th>85</th>\n",
       "      <td>86</td>\n",
       "      <td>[2, 2, 2, 2, 1, 2, 1, 2, 0, 2, 2, 1]</td>\n",
       "      <td>1.583333</td>\n",
       "    </tr>\n",
       "    <tr>\n",
       "      <th>19</th>\n",
       "      <td>19</td>\n",
       "      <td>[0, 1, 2, 2, 2, 2, 2]</td>\n",
       "      <td>1.571429</td>\n",
       "    </tr>\n",
       "    <tr>\n",
       "      <th>22</th>\n",
       "      <td>22</td>\n",
       "      <td>[1, 2, 2, 2, 2, 0, 2, 1, 2]</td>\n",
       "      <td>1.555556</td>\n",
       "    </tr>\n",
       "    <tr>\n",
       "      <th>73</th>\n",
       "      <td>73</td>\n",
       "      <td>[1, 2, 1, 2]</td>\n",
       "      <td>1.500000</td>\n",
       "    </tr>\n",
       "    <tr>\n",
       "      <th>64</th>\n",
       "      <td>64</td>\n",
       "      <td>[2, 2, 1, 1, 2, 1]</td>\n",
       "      <td>1.500000</td>\n",
       "    </tr>\n",
       "    <tr>\n",
       "      <th>83</th>\n",
       "      <td>83</td>\n",
       "      <td>[1, 2, 2, 2, 2, 2, 0, 2, 2, 0]</td>\n",
       "      <td>1.500000</td>\n",
       "    </tr>\n",
       "    <tr>\n",
       "      <th>59</th>\n",
       "      <td>59</td>\n",
       "      <td>[2, 1, 2, 1]</td>\n",
       "      <td>1.500000</td>\n",
       "    </tr>\n",
       "    <tr>\n",
       "      <th>90</th>\n",
       "      <td>91</td>\n",
       "      <td>[2, 0, 2, 2]</td>\n",
       "      <td>1.500000</td>\n",
       "    </tr>\n",
       "    <tr>\n",
       "      <th>91</th>\n",
       "      <td>92</td>\n",
       "      <td>[2, 1, 2, 2, 1, 1]</td>\n",
       "      <td>1.500000</td>\n",
       "    </tr>\n",
       "    <tr>\n",
       "      <th>23</th>\n",
       "      <td>23</td>\n",
       "      <td>[2, 1, 2, 1, 2, 1, 1, 2]</td>\n",
       "      <td>1.500000</td>\n",
       "    </tr>\n",
       "    <tr>\n",
       "      <th>38</th>\n",
       "      <td>38</td>\n",
       "      <td>[2, 2, 1, 1]</td>\n",
       "      <td>1.500000</td>\n",
       "    </tr>\n",
       "    <tr>\n",
       "      <th>49</th>\n",
       "      <td>49</td>\n",
       "      <td>[2, 1]</td>\n",
       "      <td>1.500000</td>\n",
       "    </tr>\n",
       "    <tr>\n",
       "      <th>39</th>\n",
       "      <td>39</td>\n",
       "      <td>[2, 0, 1, 1, 2, 1, 2, 1, 2, 2, 2]</td>\n",
       "      <td>1.454545</td>\n",
       "    </tr>\n",
       "    <tr>\n",
       "      <th>17</th>\n",
       "      <td>17</td>\n",
       "      <td>[1, 1, 1, 1, 2, 2, 2]</td>\n",
       "      <td>1.428571</td>\n",
       "    </tr>\n",
       "    <tr>\n",
       "      <th>44</th>\n",
       "      <td>44</td>\n",
       "      <td>[1, 2, 1, 2, 1, 0, 2, 2, 2, 1]</td>\n",
       "      <td>1.400000</td>\n",
       "    </tr>\n",
       "    <tr>\n",
       "      <th>53</th>\n",
       "      <td>53</td>\n",
       "      <td>[2, 1, 2, 2, 0]</td>\n",
       "      <td>1.400000</td>\n",
       "    </tr>\n",
       "    <tr>\n",
       "      <th>4</th>\n",
       "      <td>4</td>\n",
       "      <td>[1, 1, 2, 1, 2]</td>\n",
       "      <td>1.400000</td>\n",
       "    </tr>\n",
       "    <tr>\n",
       "      <th>...</th>\n",
       "      <td>...</td>\n",
       "      <td>...</td>\n",
       "      <td>...</td>\n",
       "    </tr>\n",
       "    <tr>\n",
       "      <th>72</th>\n",
       "      <td>72</td>\n",
       "      <td>[2, 1, 0]</td>\n",
       "      <td>1.000000</td>\n",
       "    </tr>\n",
       "    <tr>\n",
       "      <th>43</th>\n",
       "      <td>43</td>\n",
       "      <td>[0, 1, 2, 1]</td>\n",
       "      <td>1.000000</td>\n",
       "    </tr>\n",
       "    <tr>\n",
       "      <th>47</th>\n",
       "      <td>47</td>\n",
       "      <td>[1, 1, 1, 2, 2, 0, 1, 0]</td>\n",
       "      <td>1.000000</td>\n",
       "    </tr>\n",
       "    <tr>\n",
       "      <th>14</th>\n",
       "      <td>14</td>\n",
       "      <td>[2, 0, 1]</td>\n",
       "      <td>1.000000</td>\n",
       "    </tr>\n",
       "    <tr>\n",
       "      <th>51</th>\n",
       "      <td>51</td>\n",
       "      <td>[1, 2, 1, 1, 0, 2, 0]</td>\n",
       "      <td>1.000000</td>\n",
       "    </tr>\n",
       "    <tr>\n",
       "      <th>66</th>\n",
       "      <td>66</td>\n",
       "      <td>[2, 1, 0]</td>\n",
       "      <td>1.000000</td>\n",
       "    </tr>\n",
       "    <tr>\n",
       "      <th>62</th>\n",
       "      <td>62</td>\n",
       "      <td>[1, 1, 1, 2, 1, 1, 0, 1, 0, 0, 2, 1, 1]</td>\n",
       "      <td>0.923077</td>\n",
       "    </tr>\n",
       "    <tr>\n",
       "      <th>26</th>\n",
       "      <td>26</td>\n",
       "      <td>[1, 2, 2, 1, 0, 0, 1, 0]</td>\n",
       "      <td>0.875000</td>\n",
       "    </tr>\n",
       "    <tr>\n",
       "      <th>9</th>\n",
       "      <td>9</td>\n",
       "      <td>[1, 2, 1, 0, 0, 1, 1]</td>\n",
       "      <td>0.857143</td>\n",
       "    </tr>\n",
       "    <tr>\n",
       "      <th>52</th>\n",
       "      <td>52</td>\n",
       "      <td>[1, 1, 2, 1, 1, 2, 0, 2, 2, 1, 0, 0, 0, 1, 0, ...</td>\n",
       "      <td>0.842105</td>\n",
       "    </tr>\n",
       "    <tr>\n",
       "      <th>45</th>\n",
       "      <td>45</td>\n",
       "      <td>[1, 1, 2, 0, 0, 1]</td>\n",
       "      <td>0.833333</td>\n",
       "    </tr>\n",
       "    <tr>\n",
       "      <th>58</th>\n",
       "      <td>58</td>\n",
       "      <td>[0, 2, 1, 1, 0, 1]</td>\n",
       "      <td>0.833333</td>\n",
       "    </tr>\n",
       "    <tr>\n",
       "      <th>42</th>\n",
       "      <td>42</td>\n",
       "      <td>[1, 0, 2, 0, 1]</td>\n",
       "      <td>0.800000</td>\n",
       "    </tr>\n",
       "    <tr>\n",
       "      <th>28</th>\n",
       "      <td>28</td>\n",
       "      <td>[0, 2, 1, 1, 0]</td>\n",
       "      <td>0.800000</td>\n",
       "    </tr>\n",
       "    <tr>\n",
       "      <th>61</th>\n",
       "      <td>61</td>\n",
       "      <td>[1, 1, 0, 0, 2, 1, 1, 0, 1]</td>\n",
       "      <td>0.777778</td>\n",
       "    </tr>\n",
       "    <tr>\n",
       "      <th>48</th>\n",
       "      <td>48</td>\n",
       "      <td>[0, 1, 0, 2]</td>\n",
       "      <td>0.750000</td>\n",
       "    </tr>\n",
       "    <tr>\n",
       "      <th>5</th>\n",
       "      <td>5</td>\n",
       "      <td>[0, 1, 0, 2]</td>\n",
       "      <td>0.750000</td>\n",
       "    </tr>\n",
       "    <tr>\n",
       "      <th>71</th>\n",
       "      <td>71</td>\n",
       "      <td>[1, 1, 1, 0, 0, 0, 2]</td>\n",
       "      <td>0.714286</td>\n",
       "    </tr>\n",
       "    <tr>\n",
       "      <th>13</th>\n",
       "      <td>13</td>\n",
       "      <td>[0, 1, 0, 2, 0, 0, 1, 0, 2, 1]</td>\n",
       "      <td>0.700000</td>\n",
       "    </tr>\n",
       "    <tr>\n",
       "      <th>80</th>\n",
       "      <td>80</td>\n",
       "      <td>[1, 0, 1]</td>\n",
       "      <td>0.666667</td>\n",
       "    </tr>\n",
       "    <tr>\n",
       "      <th>7</th>\n",
       "      <td>7</td>\n",
       "      <td>[1, 0, 1]</td>\n",
       "      <td>0.666667</td>\n",
       "    </tr>\n",
       "    <tr>\n",
       "      <th>78</th>\n",
       "      <td>78</td>\n",
       "      <td>[0, 1, 1, 0, 1]</td>\n",
       "      <td>0.600000</td>\n",
       "    </tr>\n",
       "    <tr>\n",
       "      <th>57</th>\n",
       "      <td>57</td>\n",
       "      <td>[0, 1, 1, 1, 0]</td>\n",
       "      <td>0.600000</td>\n",
       "    </tr>\n",
       "    <tr>\n",
       "      <th>8</th>\n",
       "      <td>8</td>\n",
       "      <td>[0, 1, 1, 0, 1, 0, 0, 0, 1, 0, 1, 1]</td>\n",
       "      <td>0.500000</td>\n",
       "    </tr>\n",
       "    <tr>\n",
       "      <th>87</th>\n",
       "      <td>88</td>\n",
       "      <td>[0, 1, 1, 0, 0, 1]</td>\n",
       "      <td>0.500000</td>\n",
       "    </tr>\n",
       "    <tr>\n",
       "      <th>74</th>\n",
       "      <td>74</td>\n",
       "      <td>[0, 1, 1, 0]</td>\n",
       "      <td>0.500000</td>\n",
       "    </tr>\n",
       "    <tr>\n",
       "      <th>67</th>\n",
       "      <td>67</td>\n",
       "      <td>[0, 0, 2, 0, 0]</td>\n",
       "      <td>0.400000</td>\n",
       "    </tr>\n",
       "    <tr>\n",
       "      <th>16</th>\n",
       "      <td>16</td>\n",
       "      <td>[1, 0, 0]</td>\n",
       "      <td>0.333333</td>\n",
       "    </tr>\n",
       "    <tr>\n",
       "      <th>10</th>\n",
       "      <td>10</td>\n",
       "      <td>[1, 0, 0]</td>\n",
       "      <td>0.333333</td>\n",
       "    </tr>\n",
       "    <tr>\n",
       "      <th>89</th>\n",
       "      <td>90</td>\n",
       "      <td>[0]</td>\n",
       "      <td>0.000000</td>\n",
       "    </tr>\n",
       "  </tbody>\n",
       "</table>\n",
       "<p>94 rows × 3 columns</p>\n",
       "</div>"
      ],
      "text/plain": [
       "    placeID                                             rating      mean\n",
       "3         3                                                [2]  2.000000\n",
       "32       32                                    [2, 2, 2, 2, 2]  2.000000\n",
       "36       36                                 [2, 2, 2, 2, 2, 2]  2.000000\n",
       "34       34                                             [2, 2]  2.000000\n",
       "79       79                                       [2, 2, 2, 2]  2.000000\n",
       "65       65                                    [2, 2, 1, 2, 2]  1.800000\n",
       "63       63                                    [2, 2, 1, 2, 2]  1.800000\n",
       "70       70                                       [1, 2, 2, 2]  1.750000\n",
       "37       37                                       [2, 2, 2, 1]  1.750000\n",
       "11       11                                       [2, 2, 2, 1]  1.750000\n",
       "76       76               [2, 2, 1, 2, 2, 2, 1, 2, 0, 2, 2, 2]  1.666667\n",
       "75       75                                          [2, 2, 1]  1.666667\n",
       "33       33                           [0, 2, 2, 2, 2, 1, 2, 2]  1.625000\n",
       "85       86               [2, 2, 2, 2, 1, 2, 1, 2, 0, 2, 2, 1]  1.583333\n",
       "19       19                              [0, 1, 2, 2, 2, 2, 2]  1.571429\n",
       "22       22                        [1, 2, 2, 2, 2, 0, 2, 1, 2]  1.555556\n",
       "73       73                                       [1, 2, 1, 2]  1.500000\n",
       "64       64                                 [2, 2, 1, 1, 2, 1]  1.500000\n",
       "83       83                     [1, 2, 2, 2, 2, 2, 0, 2, 2, 0]  1.500000\n",
       "59       59                                       [2, 1, 2, 1]  1.500000\n",
       "90       91                                       [2, 0, 2, 2]  1.500000\n",
       "91       92                                 [2, 1, 2, 2, 1, 1]  1.500000\n",
       "23       23                           [2, 1, 2, 1, 2, 1, 1, 2]  1.500000\n",
       "38       38                                       [2, 2, 1, 1]  1.500000\n",
       "49       49                                             [2, 1]  1.500000\n",
       "39       39                  [2, 0, 1, 1, 2, 1, 2, 1, 2, 2, 2]  1.454545\n",
       "17       17                              [1, 1, 1, 1, 2, 2, 2]  1.428571\n",
       "44       44                     [1, 2, 1, 2, 1, 0, 2, 2, 2, 1]  1.400000\n",
       "53       53                                    [2, 1, 2, 2, 0]  1.400000\n",
       "4         4                                    [1, 1, 2, 1, 2]  1.400000\n",
       "..      ...                                                ...       ...\n",
       "72       72                                          [2, 1, 0]  1.000000\n",
       "43       43                                       [0, 1, 2, 1]  1.000000\n",
       "47       47                           [1, 1, 1, 2, 2, 0, 1, 0]  1.000000\n",
       "14       14                                          [2, 0, 1]  1.000000\n",
       "51       51                              [1, 2, 1, 1, 0, 2, 0]  1.000000\n",
       "66       66                                          [2, 1, 0]  1.000000\n",
       "62       62            [1, 1, 1, 2, 1, 1, 0, 1, 0, 0, 2, 1, 1]  0.923077\n",
       "26       26                           [1, 2, 2, 1, 0, 0, 1, 0]  0.875000\n",
       "9         9                              [1, 2, 1, 0, 0, 1, 1]  0.857143\n",
       "52       52  [1, 1, 2, 1, 1, 2, 0, 2, 2, 1, 0, 0, 0, 1, 0, ...  0.842105\n",
       "45       45                                 [1, 1, 2, 0, 0, 1]  0.833333\n",
       "58       58                                 [0, 2, 1, 1, 0, 1]  0.833333\n",
       "42       42                                    [1, 0, 2, 0, 1]  0.800000\n",
       "28       28                                    [0, 2, 1, 1, 0]  0.800000\n",
       "61       61                        [1, 1, 0, 0, 2, 1, 1, 0, 1]  0.777778\n",
       "48       48                                       [0, 1, 0, 2]  0.750000\n",
       "5         5                                       [0, 1, 0, 2]  0.750000\n",
       "71       71                              [1, 1, 1, 0, 0, 0, 2]  0.714286\n",
       "13       13                     [0, 1, 0, 2, 0, 0, 1, 0, 2, 1]  0.700000\n",
       "80       80                                          [1, 0, 1]  0.666667\n",
       "7         7                                          [1, 0, 1]  0.666667\n",
       "78       78                                    [0, 1, 1, 0, 1]  0.600000\n",
       "57       57                                    [0, 1, 1, 1, 0]  0.600000\n",
       "8         8               [0, 1, 1, 0, 1, 0, 0, 0, 1, 0, 1, 1]  0.500000\n",
       "87       88                                 [0, 1, 1, 0, 0, 1]  0.500000\n",
       "74       74                                       [0, 1, 1, 0]  0.500000\n",
       "67       67                                    [0, 0, 2, 0, 0]  0.400000\n",
       "16       16                                          [1, 0, 0]  0.333333\n",
       "10       10                                          [1, 0, 0]  0.333333\n",
       "89       90                                                [0]  0.000000\n",
       "\n",
       "[94 rows x 3 columns]"
      ]
     },
     "execution_count": 22,
     "metadata": {},
     "output_type": "execute_result"
    }
   ],
   "source": [
    "filteredListRatedRestaurantExcluding(train)"
   ]
  },
  {
   "cell_type": "code",
   "execution_count": 23,
   "metadata": {
    "scrolled": true
   },
   "outputs": [
    {
     "name": "stderr",
     "output_type": "stream",
     "text": [
      "/home/javier/anaconda3/lib/python3.7/site-packages/ipykernel_launcher.py:6: SettingWithCopyWarning: \n",
      "A value is trying to be set on a copy of a slice from a DataFrame.\n",
      "Try using .loc[row_indexer,col_indexer] = value instead\n",
      "\n",
      "See the caveats in the documentation: http://pandas.pydata.org/pandas-docs/stable/indexing.html#indexing-view-versus-copy\n",
      "  \n"
     ]
    },
    {
     "data": {
      "text/html": [
       "<div>\n",
       "<style scoped>\n",
       "    .dataframe tbody tr th:only-of-type {\n",
       "        vertical-align: middle;\n",
       "    }\n",
       "\n",
       "    .dataframe tbody tr th {\n",
       "        vertical-align: top;\n",
       "    }\n",
       "\n",
       "    .dataframe thead th {\n",
       "        text-align: right;\n",
       "    }\n",
       "</style>\n",
       "<table border=\"1\" class=\"dataframe\">\n",
       "  <thead>\n",
       "    <tr style=\"text-align: right;\">\n",
       "      <th></th>\n",
       "      <th>placeID</th>\n",
       "      <th>rating</th>\n",
       "      <th>mean</th>\n",
       "    </tr>\n",
       "  </thead>\n",
       "  <tbody>\n",
       "    <tr>\n",
       "      <th>32</th>\n",
       "      <td>32</td>\n",
       "      <td>[2, 2, 2, 2, 2]</td>\n",
       "      <td>2.000000</td>\n",
       "    </tr>\n",
       "    <tr>\n",
       "      <th>36</th>\n",
       "      <td>36</td>\n",
       "      <td>[2, 2, 2, 2, 2, 2]</td>\n",
       "      <td>2.000000</td>\n",
       "    </tr>\n",
       "    <tr>\n",
       "      <th>83</th>\n",
       "      <td>83</td>\n",
       "      <td>[1, 2, 2, 2, 2, 2, 2, 2]</td>\n",
       "      <td>1.875000</td>\n",
       "    </tr>\n",
       "    <tr>\n",
       "      <th>33</th>\n",
       "      <td>33</td>\n",
       "      <td>[2, 2, 2, 2, 1, 2, 2]</td>\n",
       "      <td>1.857143</td>\n",
       "    </tr>\n",
       "    <tr>\n",
       "      <th>19</th>\n",
       "      <td>19</td>\n",
       "      <td>[1, 2, 2, 2, 2, 2]</td>\n",
       "      <td>1.833333</td>\n",
       "    </tr>\n",
       "    <tr>\n",
       "      <th>76</th>\n",
       "      <td>76</td>\n",
       "      <td>[2, 2, 1, 2, 2, 2, 1, 2, 2, 2, 2]</td>\n",
       "      <td>1.818182</td>\n",
       "    </tr>\n",
       "    <tr>\n",
       "      <th>65</th>\n",
       "      <td>65</td>\n",
       "      <td>[2, 2, 1, 2, 2]</td>\n",
       "      <td>1.800000</td>\n",
       "    </tr>\n",
       "    <tr>\n",
       "      <th>63</th>\n",
       "      <td>63</td>\n",
       "      <td>[2, 2, 1, 2, 2]</td>\n",
       "      <td>1.800000</td>\n",
       "    </tr>\n",
       "    <tr>\n",
       "      <th>41</th>\n",
       "      <td>41</td>\n",
       "      <td>[2, 2, 1, 1, 2, 1, 2, 2, 2, 2, 2, 2, 2]</td>\n",
       "      <td>1.769231</td>\n",
       "    </tr>\n",
       "    <tr>\n",
       "      <th>22</th>\n",
       "      <td>22</td>\n",
       "      <td>[1, 2, 2, 2, 2, 2, 1, 2]</td>\n",
       "      <td>1.750000</td>\n",
       "    </tr>\n",
       "    <tr>\n",
       "      <th>85</th>\n",
       "      <td>86</td>\n",
       "      <td>[2, 2, 2, 2, 1, 2, 1, 2, 2, 2, 1]</td>\n",
       "      <td>1.727273</td>\n",
       "    </tr>\n",
       "    <tr>\n",
       "      <th>2</th>\n",
       "      <td>2</td>\n",
       "      <td>[1, 1, 2, 2, 2, 2, 2]</td>\n",
       "      <td>1.714286</td>\n",
       "    </tr>\n",
       "    <tr>\n",
       "      <th>40</th>\n",
       "      <td>40</td>\n",
       "      <td>[2, 1, 2, 2, 1, 2, 2]</td>\n",
       "      <td>1.714286</td>\n",
       "    </tr>\n",
       "    <tr>\n",
       "      <th>69</th>\n",
       "      <td>69</td>\n",
       "      <td>[2, 2, 1, 2, 2, 1]</td>\n",
       "      <td>1.666667</td>\n",
       "    </tr>\n",
       "    <tr>\n",
       "      <th>60</th>\n",
       "      <td>60</td>\n",
       "      <td>[1, 2, 2, 2, 2, 1]</td>\n",
       "      <td>1.666667</td>\n",
       "    </tr>\n",
       "    <tr>\n",
       "      <th>15</th>\n",
       "      <td>15</td>\n",
       "      <td>[2, 2, 2, 2, 2, 1, 1, 1, 2, 1, 1, 2, 2]</td>\n",
       "      <td>1.615385</td>\n",
       "    </tr>\n",
       "    <tr>\n",
       "      <th>84</th>\n",
       "      <td>85</td>\n",
       "      <td>[1, 2, 1, 2, 2, 1, 1, 2, 2, 2, 1, 2, 2, 2, 2, ...</td>\n",
       "      <td>1.611111</td>\n",
       "    </tr>\n",
       "    <tr>\n",
       "      <th>25</th>\n",
       "      <td>25</td>\n",
       "      <td>[2, 2, 1, 1, 1, 2, 2, 1, 2, 2]</td>\n",
       "      <td>1.600000</td>\n",
       "    </tr>\n",
       "    <tr>\n",
       "      <th>39</th>\n",
       "      <td>39</td>\n",
       "      <td>[2, 1, 1, 2, 1, 2, 1, 2, 2, 2]</td>\n",
       "      <td>1.600000</td>\n",
       "    </tr>\n",
       "    <tr>\n",
       "      <th>27</th>\n",
       "      <td>27</td>\n",
       "      <td>[2, 2, 1, 1, 2, 1, 2, 2, 1, 2]</td>\n",
       "      <td>1.600000</td>\n",
       "    </tr>\n",
       "    <tr>\n",
       "      <th>1</th>\n",
       "      <td>1</td>\n",
       "      <td>[1, 2, 2, 2, 2, 1, 1, 2, 2, 1, 1, 2, 1, 2, 1, ...</td>\n",
       "      <td>1.571429</td>\n",
       "    </tr>\n",
       "    <tr>\n",
       "      <th>44</th>\n",
       "      <td>44</td>\n",
       "      <td>[1, 2, 1, 2, 1, 2, 2, 2, 1]</td>\n",
       "      <td>1.555556</td>\n",
       "    </tr>\n",
       "    <tr>\n",
       "      <th>86</th>\n",
       "      <td>87</td>\n",
       "      <td>[1, 1, 1, 2, 2, 1, 1, 1, 2, 1, 2, 2, 2, 1, 2, ...</td>\n",
       "      <td>1.520000</td>\n",
       "    </tr>\n",
       "    <tr>\n",
       "      <th>90</th>\n",
       "      <td>92</td>\n",
       "      <td>[2, 1, 2, 2, 1, 1]</td>\n",
       "      <td>1.500000</td>\n",
       "    </tr>\n",
       "    <tr>\n",
       "      <th>20</th>\n",
       "      <td>20</td>\n",
       "      <td>[1, 2, 1, 2, 1, 2]</td>\n",
       "      <td>1.500000</td>\n",
       "    </tr>\n",
       "    <tr>\n",
       "      <th>23</th>\n",
       "      <td>23</td>\n",
       "      <td>[2, 1, 2, 1, 2, 1, 1, 2]</td>\n",
       "      <td>1.500000</td>\n",
       "    </tr>\n",
       "    <tr>\n",
       "      <th>77</th>\n",
       "      <td>77</td>\n",
       "      <td>[2, 2, 1, 1, 2, 1, 1, 2, 2, 2, 1, 1]</td>\n",
       "      <td>1.500000</td>\n",
       "    </tr>\n",
       "    <tr>\n",
       "      <th>64</th>\n",
       "      <td>64</td>\n",
       "      <td>[2, 2, 1, 1, 2, 1]</td>\n",
       "      <td>1.500000</td>\n",
       "    </tr>\n",
       "    <tr>\n",
       "      <th>18</th>\n",
       "      <td>18</td>\n",
       "      <td>[1, 2, 1, 1, 2, 1, 2, 1, 2, 2, 1, 2, 1]</td>\n",
       "      <td>1.461538</td>\n",
       "    </tr>\n",
       "    <tr>\n",
       "      <th>24</th>\n",
       "      <td>24</td>\n",
       "      <td>[2, 1, 2, 1, 1, 1, 2, 1, 2, 1, 2]</td>\n",
       "      <td>1.454545</td>\n",
       "    </tr>\n",
       "    <tr>\n",
       "      <th>35</th>\n",
       "      <td>35</td>\n",
       "      <td>[2, 1, 1, 1, 2, 1, 2, 1, 2, 2, 1, 1, 2, 1, 1, 2]</td>\n",
       "      <td>1.437500</td>\n",
       "    </tr>\n",
       "    <tr>\n",
       "      <th>17</th>\n",
       "      <td>17</td>\n",
       "      <td>[1, 1, 1, 1, 2, 2, 2]</td>\n",
       "      <td>1.428571</td>\n",
       "    </tr>\n",
       "    <tr>\n",
       "      <th>82</th>\n",
       "      <td>82</td>\n",
       "      <td>[2, 1, 1, 1, 2, 1, 2, 1, 1, 2, 2, 1]</td>\n",
       "      <td>1.416667</td>\n",
       "    </tr>\n",
       "    <tr>\n",
       "      <th>26</th>\n",
       "      <td>26</td>\n",
       "      <td>[1, 2, 2, 1, 1]</td>\n",
       "      <td>1.400000</td>\n",
       "    </tr>\n",
       "    <tr>\n",
       "      <th>29</th>\n",
       "      <td>29</td>\n",
       "      <td>[2, 1, 2, 1, 1]</td>\n",
       "      <td>1.400000</td>\n",
       "    </tr>\n",
       "    <tr>\n",
       "      <th>51</th>\n",
       "      <td>51</td>\n",
       "      <td>[1, 2, 1, 1, 2]</td>\n",
       "      <td>1.400000</td>\n",
       "    </tr>\n",
       "    <tr>\n",
       "      <th>13</th>\n",
       "      <td>13</td>\n",
       "      <td>[1, 2, 1, 2, 1]</td>\n",
       "      <td>1.400000</td>\n",
       "    </tr>\n",
       "    <tr>\n",
       "      <th>4</th>\n",
       "      <td>4</td>\n",
       "      <td>[1, 1, 2, 1, 2]</td>\n",
       "      <td>1.400000</td>\n",
       "    </tr>\n",
       "    <tr>\n",
       "      <th>6</th>\n",
       "      <td>6</td>\n",
       "      <td>[1, 2, 1, 2, 1]</td>\n",
       "      <td>1.400000</td>\n",
       "    </tr>\n",
       "    <tr>\n",
       "      <th>47</th>\n",
       "      <td>47</td>\n",
       "      <td>[1, 1, 1, 2, 2, 1]</td>\n",
       "      <td>1.333333</td>\n",
       "    </tr>\n",
       "    <tr>\n",
       "      <th>52</th>\n",
       "      <td>52</td>\n",
       "      <td>[1, 1, 2, 1, 1, 2, 2, 2, 1, 1, 1, 1]</td>\n",
       "      <td>1.333333</td>\n",
       "    </tr>\n",
       "    <tr>\n",
       "      <th>56</th>\n",
       "      <td>56</td>\n",
       "      <td>[2, 1, 1, 1, 1]</td>\n",
       "      <td>1.200000</td>\n",
       "    </tr>\n",
       "    <tr>\n",
       "      <th>9</th>\n",
       "      <td>9</td>\n",
       "      <td>[1, 2, 1, 1, 1]</td>\n",
       "      <td>1.200000</td>\n",
       "    </tr>\n",
       "    <tr>\n",
       "      <th>81</th>\n",
       "      <td>81</td>\n",
       "      <td>[1, 2, 1, 1, 1]</td>\n",
       "      <td>1.200000</td>\n",
       "    </tr>\n",
       "    <tr>\n",
       "      <th>46</th>\n",
       "      <td>46</td>\n",
       "      <td>[2, 1, 1, 1, 1]</td>\n",
       "      <td>1.200000</td>\n",
       "    </tr>\n",
       "    <tr>\n",
       "      <th>62</th>\n",
       "      <td>62</td>\n",
       "      <td>[1, 1, 1, 2, 1, 1, 1, 2, 1, 1]</td>\n",
       "      <td>1.200000</td>\n",
       "    </tr>\n",
       "    <tr>\n",
       "      <th>61</th>\n",
       "      <td>61</td>\n",
       "      <td>[1, 1, 2, 1, 1, 1]</td>\n",
       "      <td>1.166667</td>\n",
       "    </tr>\n",
       "    <tr>\n",
       "      <th>8</th>\n",
       "      <td>8</td>\n",
       "      <td>[1, 1, 1, 1, 1, 1]</td>\n",
       "      <td>1.000000</td>\n",
       "    </tr>\n",
       "  </tbody>\n",
       "</table>\n",
       "</div>"
      ],
      "text/plain": [
       "    placeID                                             rating      mean\n",
       "32       32                                    [2, 2, 2, 2, 2]  2.000000\n",
       "36       36                                 [2, 2, 2, 2, 2, 2]  2.000000\n",
       "83       83                           [1, 2, 2, 2, 2, 2, 2, 2]  1.875000\n",
       "33       33                              [2, 2, 2, 2, 1, 2, 2]  1.857143\n",
       "19       19                                 [1, 2, 2, 2, 2, 2]  1.833333\n",
       "76       76                  [2, 2, 1, 2, 2, 2, 1, 2, 2, 2, 2]  1.818182\n",
       "65       65                                    [2, 2, 1, 2, 2]  1.800000\n",
       "63       63                                    [2, 2, 1, 2, 2]  1.800000\n",
       "41       41            [2, 2, 1, 1, 2, 1, 2, 2, 2, 2, 2, 2, 2]  1.769231\n",
       "22       22                           [1, 2, 2, 2, 2, 2, 1, 2]  1.750000\n",
       "85       86                  [2, 2, 2, 2, 1, 2, 1, 2, 2, 2, 1]  1.727273\n",
       "2         2                              [1, 1, 2, 2, 2, 2, 2]  1.714286\n",
       "40       40                              [2, 1, 2, 2, 1, 2, 2]  1.714286\n",
       "69       69                                 [2, 2, 1, 2, 2, 1]  1.666667\n",
       "60       60                                 [1, 2, 2, 2, 2, 1]  1.666667\n",
       "15       15            [2, 2, 2, 2, 2, 1, 1, 1, 2, 1, 1, 2, 2]  1.615385\n",
       "84       85  [1, 2, 1, 2, 2, 1, 1, 2, 2, 2, 1, 2, 2, 2, 2, ...  1.611111\n",
       "25       25                     [2, 2, 1, 1, 1, 2, 2, 1, 2, 2]  1.600000\n",
       "39       39                     [2, 1, 1, 2, 1, 2, 1, 2, 2, 2]  1.600000\n",
       "27       27                     [2, 2, 1, 1, 2, 1, 2, 2, 1, 2]  1.600000\n",
       "1         1  [1, 2, 2, 2, 2, 1, 1, 2, 2, 1, 1, 2, 1, 2, 1, ...  1.571429\n",
       "44       44                        [1, 2, 1, 2, 1, 2, 2, 2, 1]  1.555556\n",
       "86       87  [1, 1, 1, 2, 2, 1, 1, 1, 2, 1, 2, 2, 2, 1, 2, ...  1.520000\n",
       "90       92                                 [2, 1, 2, 2, 1, 1]  1.500000\n",
       "20       20                                 [1, 2, 1, 2, 1, 2]  1.500000\n",
       "23       23                           [2, 1, 2, 1, 2, 1, 1, 2]  1.500000\n",
       "77       77               [2, 2, 1, 1, 2, 1, 1, 2, 2, 2, 1, 1]  1.500000\n",
       "64       64                                 [2, 2, 1, 1, 2, 1]  1.500000\n",
       "18       18            [1, 2, 1, 1, 2, 1, 2, 1, 2, 2, 1, 2, 1]  1.461538\n",
       "24       24                  [2, 1, 2, 1, 1, 1, 2, 1, 2, 1, 2]  1.454545\n",
       "35       35   [2, 1, 1, 1, 2, 1, 2, 1, 2, 2, 1, 1, 2, 1, 1, 2]  1.437500\n",
       "17       17                              [1, 1, 1, 1, 2, 2, 2]  1.428571\n",
       "82       82               [2, 1, 1, 1, 2, 1, 2, 1, 1, 2, 2, 1]  1.416667\n",
       "26       26                                    [1, 2, 2, 1, 1]  1.400000\n",
       "29       29                                    [2, 1, 2, 1, 1]  1.400000\n",
       "51       51                                    [1, 2, 1, 1, 2]  1.400000\n",
       "13       13                                    [1, 2, 1, 2, 1]  1.400000\n",
       "4         4                                    [1, 1, 2, 1, 2]  1.400000\n",
       "6         6                                    [1, 2, 1, 2, 1]  1.400000\n",
       "47       47                                 [1, 1, 1, 2, 2, 1]  1.333333\n",
       "52       52               [1, 1, 2, 1, 1, 2, 2, 2, 1, 1, 1, 1]  1.333333\n",
       "56       56                                    [2, 1, 1, 1, 1]  1.200000\n",
       "9         9                                    [1, 2, 1, 1, 1]  1.200000\n",
       "81       81                                    [1, 2, 1, 1, 1]  1.200000\n",
       "46       46                                    [2, 1, 1, 1, 1]  1.200000\n",
       "62       62                     [1, 1, 1, 2, 1, 1, 1, 2, 1, 1]  1.200000\n",
       "61       61                                 [1, 1, 2, 1, 1, 1]  1.166667\n",
       "8         8                                 [1, 1, 1, 1, 1, 1]  1.000000"
      ]
     },
     "execution_count": 23,
     "metadata": {},
     "output_type": "execute_result"
    }
   ],
   "source": [
    "filteredListRatedRestaurantExcluding(train,excludingRate=1,min_ratings=5)"
   ]
  },
  {
   "cell_type": "code",
   "execution_count": 24,
   "metadata": {
    "scrolled": true
   },
   "outputs": [
    {
     "name": "stderr",
     "output_type": "stream",
     "text": [
      "/home/javier/anaconda3/lib/python3.7/site-packages/ipykernel_launcher.py:6: SettingWithCopyWarning: \n",
      "A value is trying to be set on a copy of a slice from a DataFrame.\n",
      "Try using .loc[row_indexer,col_indexer] = value instead\n",
      "\n",
      "See the caveats in the documentation: http://pandas.pydata.org/pandas-docs/stable/indexing.html#indexing-view-versus-copy\n",
      "  \n"
     ]
    },
    {
     "data": {
      "text/html": [
       "<div>\n",
       "<style scoped>\n",
       "    .dataframe tbody tr th:only-of-type {\n",
       "        vertical-align: middle;\n",
       "    }\n",
       "\n",
       "    .dataframe tbody tr th {\n",
       "        vertical-align: top;\n",
       "    }\n",
       "\n",
       "    .dataframe thead th {\n",
       "        text-align: right;\n",
       "    }\n",
       "</style>\n",
       "<table border=\"1\" class=\"dataframe\">\n",
       "  <thead>\n",
       "    <tr style=\"text-align: right;\">\n",
       "      <th></th>\n",
       "      <th>placeID</th>\n",
       "      <th>rating</th>\n",
       "      <th>mean</th>\n",
       "    </tr>\n",
       "  </thead>\n",
       "  <tbody>\n",
       "    <tr>\n",
       "      <th>76</th>\n",
       "      <td>76</td>\n",
       "      <td>[2, 2, 1, 2, 2, 2, 1, 2, 2, 2, 2]</td>\n",
       "      <td>1.818182</td>\n",
       "    </tr>\n",
       "    <tr>\n",
       "      <th>41</th>\n",
       "      <td>41</td>\n",
       "      <td>[2, 2, 1, 1, 2, 1, 2, 2, 2, 2, 2, 2, 2]</td>\n",
       "      <td>1.769231</td>\n",
       "    </tr>\n",
       "    <tr>\n",
       "      <th>85</th>\n",
       "      <td>86</td>\n",
       "      <td>[2, 2, 2, 2, 1, 2, 1, 2, 2, 2, 1]</td>\n",
       "      <td>1.727273</td>\n",
       "    </tr>\n",
       "    <tr>\n",
       "      <th>15</th>\n",
       "      <td>15</td>\n",
       "      <td>[2, 2, 2, 2, 2, 1, 1, 1, 2, 1, 1, 2, 2]</td>\n",
       "      <td>1.615385</td>\n",
       "    </tr>\n",
       "    <tr>\n",
       "      <th>84</th>\n",
       "      <td>85</td>\n",
       "      <td>[1, 2, 1, 2, 2, 1, 1, 2, 2, 2, 1, 2, 2, 2, 2, ...</td>\n",
       "      <td>1.611111</td>\n",
       "    </tr>\n",
       "    <tr>\n",
       "      <th>25</th>\n",
       "      <td>25</td>\n",
       "      <td>[2, 2, 1, 1, 1, 2, 2, 1, 2, 2]</td>\n",
       "      <td>1.600000</td>\n",
       "    </tr>\n",
       "    <tr>\n",
       "      <th>27</th>\n",
       "      <td>27</td>\n",
       "      <td>[2, 2, 1, 1, 2, 1, 2, 2, 1, 2]</td>\n",
       "      <td>1.600000</td>\n",
       "    </tr>\n",
       "    <tr>\n",
       "      <th>39</th>\n",
       "      <td>39</td>\n",
       "      <td>[2, 1, 1, 2, 1, 2, 1, 2, 2, 2]</td>\n",
       "      <td>1.600000</td>\n",
       "    </tr>\n",
       "    <tr>\n",
       "      <th>1</th>\n",
       "      <td>1</td>\n",
       "      <td>[1, 2, 2, 2, 2, 1, 1, 2, 2, 1, 1, 2, 1, 2, 1, ...</td>\n",
       "      <td>1.571429</td>\n",
       "    </tr>\n",
       "    <tr>\n",
       "      <th>86</th>\n",
       "      <td>87</td>\n",
       "      <td>[1, 1, 1, 2, 2, 1, 1, 1, 2, 1, 2, 2, 2, 1, 2, ...</td>\n",
       "      <td>1.520000</td>\n",
       "    </tr>\n",
       "    <tr>\n",
       "      <th>77</th>\n",
       "      <td>77</td>\n",
       "      <td>[2, 2, 1, 1, 2, 1, 1, 2, 2, 2, 1, 1]</td>\n",
       "      <td>1.500000</td>\n",
       "    </tr>\n",
       "    <tr>\n",
       "      <th>18</th>\n",
       "      <td>18</td>\n",
       "      <td>[1, 2, 1, 1, 2, 1, 2, 1, 2, 2, 1, 2, 1]</td>\n",
       "      <td>1.461538</td>\n",
       "    </tr>\n",
       "    <tr>\n",
       "      <th>24</th>\n",
       "      <td>24</td>\n",
       "      <td>[2, 1, 2, 1, 1, 1, 2, 1, 2, 1, 2]</td>\n",
       "      <td>1.454545</td>\n",
       "    </tr>\n",
       "    <tr>\n",
       "      <th>35</th>\n",
       "      <td>35</td>\n",
       "      <td>[2, 1, 1, 1, 2, 1, 2, 1, 2, 2, 1, 1, 2, 1, 1, 2]</td>\n",
       "      <td>1.437500</td>\n",
       "    </tr>\n",
       "    <tr>\n",
       "      <th>82</th>\n",
       "      <td>82</td>\n",
       "      <td>[2, 1, 1, 1, 2, 1, 2, 1, 1, 2, 2, 1]</td>\n",
       "      <td>1.416667</td>\n",
       "    </tr>\n",
       "    <tr>\n",
       "      <th>52</th>\n",
       "      <td>52</td>\n",
       "      <td>[1, 1, 2, 1, 1, 2, 2, 2, 1, 1, 1, 1]</td>\n",
       "      <td>1.333333</td>\n",
       "    </tr>\n",
       "    <tr>\n",
       "      <th>62</th>\n",
       "      <td>62</td>\n",
       "      <td>[1, 1, 1, 2, 1, 1, 1, 2, 1, 1]</td>\n",
       "      <td>1.200000</td>\n",
       "    </tr>\n",
       "  </tbody>\n",
       "</table>\n",
       "</div>"
      ],
      "text/plain": [
       "    placeID                                             rating      mean\n",
       "76       76                  [2, 2, 1, 2, 2, 2, 1, 2, 2, 2, 2]  1.818182\n",
       "41       41            [2, 2, 1, 1, 2, 1, 2, 2, 2, 2, 2, 2, 2]  1.769231\n",
       "85       86                  [2, 2, 2, 2, 1, 2, 1, 2, 2, 2, 1]  1.727273\n",
       "15       15            [2, 2, 2, 2, 2, 1, 1, 1, 2, 1, 1, 2, 2]  1.615385\n",
       "84       85  [1, 2, 1, 2, 2, 1, 1, 2, 2, 2, 1, 2, 2, 2, 2, ...  1.611111\n",
       "25       25                     [2, 2, 1, 1, 1, 2, 2, 1, 2, 2]  1.600000\n",
       "27       27                     [2, 2, 1, 1, 2, 1, 2, 2, 1, 2]  1.600000\n",
       "39       39                     [2, 1, 1, 2, 1, 2, 1, 2, 2, 2]  1.600000\n",
       "1         1  [1, 2, 2, 2, 2, 1, 1, 2, 2, 1, 1, 2, 1, 2, 1, ...  1.571429\n",
       "86       87  [1, 1, 1, 2, 2, 1, 1, 1, 2, 1, 2, 2, 2, 1, 2, ...  1.520000\n",
       "77       77               [2, 2, 1, 1, 2, 1, 1, 2, 2, 2, 1, 1]  1.500000\n",
       "18       18            [1, 2, 1, 1, 2, 1, 2, 1, 2, 2, 1, 2, 1]  1.461538\n",
       "24       24                  [2, 1, 2, 1, 1, 1, 2, 1, 2, 1, 2]  1.454545\n",
       "35       35   [2, 1, 1, 1, 2, 1, 2, 1, 2, 2, 1, 1, 2, 1, 1, 2]  1.437500\n",
       "82       82               [2, 1, 1, 1, 2, 1, 2, 1, 1, 2, 2, 1]  1.416667\n",
       "52       52               [1, 1, 2, 1, 1, 2, 2, 2, 1, 1, 1, 1]  1.333333\n",
       "62       62                     [1, 1, 1, 2, 1, 1, 1, 2, 1, 1]  1.200000"
      ]
     },
     "execution_count": 24,
     "metadata": {},
     "output_type": "execute_result"
    }
   ],
   "source": [
    "filteredListRatedRestaurantExcluding(train,excludingRate=1,min_ratings=10)"
   ]
  },
  {
   "cell_type": "markdown",
   "metadata": {},
   "source": [
    "## Metrics for recommender systems"
   ]
  },
  {
   "cell_type": "code",
   "execution_count": 25,
   "metadata": {},
   "outputs": [],
   "source": [
    "def recall_at_n(N, test, recommended, train=None):\n",
    "    \"\"\"\n",
    "    :param N: number of recommendations\n",
    "    :param test: list of movies seen by user in test\n",
    "    :param train: list of movies seen by user in train. This has to be removed from the recommended list \n",
    "    :param recommended: list of movies recommended\n",
    "    \n",
    "    :return the recall\n",
    "    \"\"\"\n",
    "    if train is not None: # Remove items in train\n",
    "        # Esta línea de abajo estaría mal!!! por qué? Respuesta: al usar \"set\", perdemos el orden en la recomendación\n",
    "        # rec_true =  set(recommended)- set(train)\n",
    "        \n",
    "        # Correct implementation\n",
    "        rec_true = []\n",
    "        for r in recommended:\n",
    "            if r not in train:\n",
    "                rec_true.append(r)\n",
    "        # Equivalent 1-line of code:\n",
    "        # rec_true = [r for r in recommended if r not in train]\n",
    "    else:\n",
    "        rec_true = recommended    \n",
    "    intersection = len(set(test) & set(rec_true[:N]))\n",
    "    return intersection / float(np.minimum(N, len(test)))"
   ]
  },
  {
   "cell_type": "code",
   "execution_count": 26,
   "metadata": {},
   "outputs": [
    {
     "name": "stdout",
     "output_type": "stream",
     "text": [
      "1.0\n",
      "0.5\n",
      "0.3333333333333333\n",
      "0.2\n",
      "0.2\n"
     ]
    }
   ],
   "source": [
    "seen = [135025,135028,135023,135021,135026]\n",
    "recommended = [135021,135024]\n",
    "print(recall_at_n(1, seen, recommended))\n",
    "print(recall_at_n(2, seen, recommended))\n",
    "print(recall_at_n(3, seen, recommended))\n",
    "print(recall_at_n(5, seen, recommended))\n",
    "print(recall_at_n(10, seen, recommended))"
   ]
  },
  {
   "cell_type": "markdown",
   "metadata": {},
   "source": [
    "# Now Merge Test and Train"
   ]
  },
  {
   "cell_type": "code",
   "execution_count": 27,
   "metadata": {},
   "outputs": [],
   "source": [
    "trainPlaceList = train.groupby('userID')['placeID'].apply(list).reset_index()"
   ]
  },
  {
   "cell_type": "code",
   "execution_count": 28,
   "metadata": {},
   "outputs": [],
   "source": [
    "testPlaceList = test.groupby('userID')['placeID'].apply(list).reset_index()"
   ]
  },
  {
   "cell_type": "code",
   "execution_count": 29,
   "metadata": {},
   "outputs": [],
   "source": [
    "joined = pd.merge(trainPlaceList, testPlaceList, how='inner', on='userID', suffixes=('_train', '_test')).set_index('userID')"
   ]
  },
  {
   "cell_type": "code",
   "execution_count": 30,
   "metadata": {},
   "outputs": [
    {
     "data": {
      "text/html": [
       "<div>\n",
       "<style scoped>\n",
       "    .dataframe tbody tr th:only-of-type {\n",
       "        vertical-align: middle;\n",
       "    }\n",
       "\n",
       "    .dataframe tbody tr th {\n",
       "        vertical-align: top;\n",
       "    }\n",
       "\n",
       "    .dataframe thead th {\n",
       "        text-align: right;\n",
       "    }\n",
       "</style>\n",
       "<table border=\"1\" class=\"dataframe\">\n",
       "  <thead>\n",
       "    <tr style=\"text-align: right;\">\n",
       "      <th></th>\n",
       "      <th>placeID_train</th>\n",
       "      <th>placeID_test</th>\n",
       "    </tr>\n",
       "    <tr>\n",
       "      <th>userID</th>\n",
       "      <th></th>\n",
       "      <th></th>\n",
       "    </tr>\n",
       "  </thead>\n",
       "  <tbody>\n",
       "    <tr>\n",
       "      <th>0</th>\n",
       "      <td>[69, 87]</td>\n",
       "      <td>[22, 1]</td>\n",
       "    </tr>\n",
       "    <tr>\n",
       "      <th>2</th>\n",
       "      <td>[25, 76, 15, 1, 27, 39, 65, 83, 33]</td>\n",
       "      <td>[12, 70]</td>\n",
       "    </tr>\n",
       "    <tr>\n",
       "      <th>4</th>\n",
       "      <td>[27, 71, 24, 85]</td>\n",
       "      <td>[18]</td>\n",
       "    </tr>\n",
       "    <tr>\n",
       "      <th>5</th>\n",
       "      <td>[54, 23, 62, 26, 76, 1, 44]</td>\n",
       "      <td>[6, 25, 65]</td>\n",
       "    </tr>\n",
       "    <tr>\n",
       "      <th>6</th>\n",
       "      <td>[62, 85, 24, 87, 22]</td>\n",
       "      <td>[9, 82]</td>\n",
       "    </tr>\n",
       "  </tbody>\n",
       "</table>\n",
       "</div>"
      ],
      "text/plain": [
       "                              placeID_train placeID_test\n",
       "userID                                                  \n",
       "0                                  [69, 87]      [22, 1]\n",
       "2       [25, 76, 15, 1, 27, 39, 65, 83, 33]     [12, 70]\n",
       "4                          [27, 71, 24, 85]         [18]\n",
       "5               [54, 23, 62, 26, 76, 1, 44]  [6, 25, 65]\n",
       "6                      [62, 85, 24, 87, 22]      [9, 82]"
      ]
     },
     "execution_count": 30,
     "metadata": {},
     "output_type": "execute_result"
    }
   ],
   "source": [
    "joined.head()"
   ]
  },
  {
   "cell_type": "code",
   "execution_count": 31,
   "metadata": {},
   "outputs": [
    {
     "data": {
      "text/plain": [
       "userID\n",
       "0    0.500000\n",
       "2    0.000000\n",
       "4    1.000000\n",
       "5    0.333333\n",
       "6    0.500000\n",
       "dtype: float64"
      ]
     },
     "execution_count": 31,
     "metadata": {},
     "output_type": "execute_result"
    }
   ],
   "source": [
    "# calculate the recall of the mostRatedMovies recommendation, for each user:\n",
    "joined.apply(lambda l: recall_at_n(N=15, test=l[1], recommended=mostRatedRestaurant[:], train=l[0]), axis=1).head()"
   ]
  },
  {
   "cell_type": "code",
   "execution_count": 32,
   "metadata": {},
   "outputs": [],
   "source": [
    "def apk(N, test, recommended, train=None):\n",
    "    \"\"\"\n",
    "    Computes the average precision at N given recommendations.\n",
    "    \n",
    "    :param N: number of recommendations\n",
    "    :param test: list of movies seen by user in test\n",
    "    :param train: list of movies seen by user in train. This has to be removed from the recommended list \n",
    "    :param recommended: list of movies recommended\n",
    "    \n",
    "    :return The average precision at N over the test set\n",
    "    \"\"\"\n",
    "    if train is not None: \n",
    "        rec_true = []\n",
    "        for r in recommended:\n",
    "            if r not in train:\n",
    "                rec_true.append(r)\n",
    "    else:\n",
    "        rec_true = recommended    \n",
    "    predicted = rec_true[:N] # top-k predictions\n",
    "    \n",
    "    score = 0.0 # This will store the numerator\n",
    "    num_hits = 0.0 # This will store the sum of rel(i)\n",
    "\n",
    "    for i,p in enumerate(predicted):\n",
    "        if p in test and p not in predicted[:i]:\n",
    "            num_hits += 1.0\n",
    "            score += num_hits/(i+1.0)\n",
    "    return score / min(len(test), N)"
   ]
  },
  {
   "cell_type": "code",
   "execution_count": 33,
   "metadata": {},
   "outputs": [
    {
     "name": "stdout",
     "output_type": "stream",
     "text": [
      "map@1=0.12\n",
      "map@10=0.14\n"
     ]
    }
   ],
   "source": [
    "topN = 1\n",
    "predictions = mostVisitedRestaurant[:]\n",
    "m1 = joined.apply(lambda l: \n",
    "             apk(topN, l[1], predictions, l[0]), axis=1).mean()\n",
    "print(\"map@%s=%.2f\" % (topN, m1))\n",
    "topN = 10\n",
    "m2 = joined.apply(lambda l: \n",
    "             apk(topN, l[1], predictions, l[0]), axis=1).mean()\n",
    "print(\"map@%s=%.2f\" % (topN, m2))"
   ]
  },
  {
   "cell_type": "code",
   "execution_count": 34,
   "metadata": {},
   "outputs": [
    {
     "name": "stdout",
     "output_type": "stream",
     "text": [
      "map@1=0.12\n",
      "map@10=0.13\n"
     ]
    }
   ],
   "source": [
    "topN = 1\n",
    "predictions = mostRatedRestaurant\n",
    "m1 = joined.apply(lambda l: \n",
    "             apk(topN, l[1], predictions, l[0]), axis=1).mean()\n",
    "print(\"map@%s=%.2f\" % (topN, m1))\n",
    "topN = 10\n",
    "m2 = joined.apply(lambda l: \n",
    "             apk(topN, l[1], predictions, l[0]), axis=1).mean()\n",
    "print(\"map@%s=%.2f\" % (topN, m2))"
   ]
  },
  {
   "cell_type": "code",
   "execution_count": 35,
   "metadata": {},
   "outputs": [
    {
     "name": "stdout",
     "output_type": "stream",
     "text": [
      "map@1=0.03\n",
      "map@10=0.04\n"
     ]
    }
   ],
   "source": [
    "topN = 1\n",
    "predictions = list(filteredListRatedRestaurant(train)['placeID'].values)\n",
    "m1 = joined.apply(lambda l: \n",
    "             apk(topN, l[1], predictions, l[0]), axis=1).mean()\n",
    "print(\"map@%s=%.2f\" % (topN, m1))\n",
    "topN = 10\n",
    "m2 = joined.apply(lambda l: \n",
    "             apk(topN, l[1], predictions, l[0]), axis=1).mean()\n",
    "print(\"map@%s=%.2f\" % (topN, m2))"
   ]
  },
  {
   "cell_type": "code",
   "execution_count": 36,
   "metadata": {},
   "outputs": [
    {
     "name": "stdout",
     "output_type": "stream",
     "text": [
      "map@1=0.02\n",
      "map@10=0.03\n"
     ]
    },
    {
     "name": "stderr",
     "output_type": "stream",
     "text": [
      "/home/javier/anaconda3/lib/python3.7/site-packages/ipykernel_launcher.py:5: SettingWithCopyWarning: \n",
      "A value is trying to be set on a copy of a slice from a DataFrame.\n",
      "Try using .loc[row_indexer,col_indexer] = value instead\n",
      "\n",
      "See the caveats in the documentation: http://pandas.pydata.org/pandas-docs/stable/indexing.html#indexing-view-versus-copy\n",
      "  \"\"\"\n"
     ]
    }
   ],
   "source": [
    "topN = 1\n",
    "predictions = list(filteredListRatedRestaurant(train,5)['placeID'].values)\n",
    "m1 = joined.apply(lambda l: \n",
    "             apk(topN, l[1], predictions, l[0]), axis=1).mean()\n",
    "print(\"map@%s=%.2f\" % (topN, m1))\n",
    "topN = 10\n",
    "m2 = joined.apply(lambda l: \n",
    "             apk(topN, l[1], predictions, l[0]), axis=1).mean()\n",
    "print(\"map@%s=%.2f\" % (topN, m2))"
   ]
  },
  {
   "cell_type": "code",
   "execution_count": 37,
   "metadata": {},
   "outputs": [
    {
     "name": "stdout",
     "output_type": "stream",
     "text": [
      "map@1=0.01\n",
      "map@10=0.05\n"
     ]
    },
    {
     "name": "stderr",
     "output_type": "stream",
     "text": [
      "/home/javier/anaconda3/lib/python3.7/site-packages/ipykernel_launcher.py:5: SettingWithCopyWarning: \n",
      "A value is trying to be set on a copy of a slice from a DataFrame.\n",
      "Try using .loc[row_indexer,col_indexer] = value instead\n",
      "\n",
      "See the caveats in the documentation: http://pandas.pydata.org/pandas-docs/stable/indexing.html#indexing-view-versus-copy\n",
      "  \"\"\"\n"
     ]
    }
   ],
   "source": [
    "topN = 1\n",
    "predictions = list(filteredListRatedRestaurant(train,10)['placeID'].values)\n",
    "m1 = joined.apply(lambda l: \n",
    "             apk(topN, l[1], predictions, l[0]), axis=1).mean()\n",
    "print(\"map@%s=%.2f\" % (topN, m1))\n",
    "topN = 10\n",
    "m2 = joined.apply(lambda l: \n",
    "             apk(topN, l[1], predictions, l[0]), axis=1).mean()\n",
    "print(\"map@%s=%.2f\" % (topN, m2))"
   ]
  },
  {
   "cell_type": "code",
   "execution_count": 38,
   "metadata": {},
   "outputs": [
    {
     "name": "stdout",
     "output_type": "stream",
     "text": [
      "map@1=0.00\n",
      "map@10=0.03\n"
     ]
    },
    {
     "name": "stderr",
     "output_type": "stream",
     "text": [
      "/home/javier/anaconda3/lib/python3.7/site-packages/ipykernel_launcher.py:6: SettingWithCopyWarning: \n",
      "A value is trying to be set on a copy of a slice from a DataFrame.\n",
      "Try using .loc[row_indexer,col_indexer] = value instead\n",
      "\n",
      "See the caveats in the documentation: http://pandas.pydata.org/pandas-docs/stable/indexing.html#indexing-view-versus-copy\n",
      "  \n"
     ]
    }
   ],
   "source": [
    "topN = 1\n",
    "predictions = list(filteredListRatedRestaurantExcluding(train,excludingRate=1,min_ratings=5)['placeID'].values)\n",
    "m1 = joined.apply(lambda l: \n",
    "             apk(topN, l[1], predictions, l[0]), axis=1).mean()\n",
    "print(\"map@%s=%.2f\" % (topN, m1))\n",
    "topN = 10\n",
    "m2 = joined.apply(lambda l: \n",
    "             apk(topN, l[1], predictions, l[0]), axis=1).mean()\n",
    "print(\"map@%s=%.2f\" % (topN, m2))"
   ]
  },
  {
   "cell_type": "code",
   "execution_count": 39,
   "metadata": {},
   "outputs": [
    {
     "name": "stdout",
     "output_type": "stream",
     "text": [
      "map@1=0.00\n",
      "map@10=0.03\n"
     ]
    }
   ],
   "source": [
    "topN = 1\n",
    "predictions = list(filteredListRatedRestaurantExcluding(train,excludingRate=1)['placeID'].values)\n",
    "m1 = joined.apply(lambda l: \n",
    "             apk(topN, l[1], predictions, l[0]), axis=1).mean()\n",
    "print(\"map@%s=%.2f\" % (topN, m1))\n",
    "topN = 10\n",
    "m2 = joined.apply(lambda l: \n",
    "             apk(topN, l[1], predictions, l[0]), axis=1).mean()\n",
    "print(\"map@%s=%.2f\" % (topN, m2))"
   ]
  },
  {
   "cell_type": "code",
   "execution_count": 40,
   "metadata": {},
   "outputs": [
    {
     "name": "stdout",
     "output_type": "stream",
     "text": [
      "map@1=0.07\n",
      "map@10=0.09\n"
     ]
    },
    {
     "name": "stderr",
     "output_type": "stream",
     "text": [
      "/home/javier/anaconda3/lib/python3.7/site-packages/ipykernel_launcher.py:6: SettingWithCopyWarning: \n",
      "A value is trying to be set on a copy of a slice from a DataFrame.\n",
      "Try using .loc[row_indexer,col_indexer] = value instead\n",
      "\n",
      "See the caveats in the documentation: http://pandas.pydata.org/pandas-docs/stable/indexing.html#indexing-view-versus-copy\n",
      "  \n"
     ]
    }
   ],
   "source": [
    "topN = 1\n",
    "predictions = list(filteredListRatedRestaurantExcluding(train,excludingRate=2,min_ratings=5)['placeID'].values)\n",
    "m1 = joined.apply(lambda l: \n",
    "             apk(topN, l[1], predictions, l[0]), axis=1).mean()\n",
    "print(\"map@%s=%.2f\" % (topN, m1))\n",
    "topN = 10\n",
    "m2 = joined.apply(lambda l: \n",
    "             apk(topN, l[1], predictions, l[0]), axis=1).mean()\n",
    "print(\"map@%s=%.2f\" % (topN, m2))"
   ]
  },
  {
   "cell_type": "markdown",
   "metadata": {},
   "source": [
    "# Co-occurrence Matrix¶"
   ]
  },
  {
   "cell_type": "code",
   "execution_count": 41,
   "metadata": {},
   "outputs": [],
   "source": [
    "# create a dictionary of movies per user\n",
    "restaurantPerUser = (train[train['rating']>1]\n",
    "                 .groupby('userID')['placeID']\n",
    "                 .apply(np.array)\n",
    "                 .to_dict()\n",
    "                 )"
   ]
  },
  {
   "cell_type": "code",
   "execution_count": 46,
   "metadata": {},
   "outputs": [
    {
     "data": {
      "text/plain": [
       "95"
      ]
     },
     "execution_count": 46,
     "metadata": {},
     "output_type": "execute_result"
    }
   ],
   "source": [
    "# calculate the number of items in train\n",
    "n_items = len(chefmozGeo_r['placeID'].unique())\n",
    "n_items"
   ]
  },
  {
   "cell_type": "code",
   "execution_count": 48,
   "metadata": {},
   "outputs": [],
   "source": [
    "# co-ocurrance matrix will have shape=[n_items,n_items]\n",
    "coMatrix = np.zeros((n_items, n_items)) # co-occurrence matrix\n",
    "for user,restaurant in restaurantPerUser.items():\n",
    "    for r in restaurant:\n",
    "        coMatrix[r, restaurant] += 1"
   ]
  },
  {
   "cell_type": "code",
   "execution_count": 91,
   "metadata": {},
   "outputs": [
    {
     "data": {
      "text/plain": [
       "12.0"
      ]
     },
     "execution_count": 91,
     "metadata": {},
     "output_type": "execute_result"
    }
   ],
   "source": []
  },
  {
   "cell_type": "code",
   "execution_count": 50,
   "metadata": {},
   "outputs": [
    {
     "data": {
      "image/png": "[encoded data removed]",
      "text/plain": [
       "<Figure size 1332x756 with 1 Axes>"
      ]
     },
     "metadata": {
      "needs_background": "light"
     },
     "output_type": "display_data"
    }
   ],
   "source": [
    "# visualize the matrix\n",
    "plt.matshow(coMatrix, fignum=1000, cmap=plt.cm.binary)\n",
    "plt.gcf().set_size_inches(18.5, 10.5)\n",
    "plt.show()"
   ]
  },
  {
   "cell_type": "code",
   "execution_count": 54,
   "metadata": {},
   "outputs": [
    {
     "data": {
      "image/png": "[encoded data removed]",
      "text/plain": [
       "<Figure size 1332x756 with 1 Axes>"
      ]
     },
     "metadata": {
      "needs_background": "light"
     },
     "output_type": "display_data"
    }
   ],
   "source": [
    "popular_indexing = mostRatedRestaurant\n",
    "coMatrix_sorted = coMatrix[:,popular_indexing]\n",
    "coMatrix_sorted_total = coMatrix_sorted[popular_indexing, :]\n",
    "log_scale = np.log(coMatrix_sorted_total+1.0)\n",
    "plt.matshow(log_scale, fignum=1000, cmap=plt.cm.binary)\n",
    "plt.gcf().set_size_inches(18.5, 10.5)\n",
    "plt.show()"
   ]
  },
  {
   "cell_type": "code",
   "execution_count": 115,
   "metadata": {},
   "outputs": [],
   "source": [
    "def co_occurrance_similarity(item_id, coocurrance, ntop=5):\n",
    "    \"\"\"\n",
    "    Returns the top-N most similar items to a given one, based on the coocurrance matrix\n",
    "    \n",
    "    :param item_id: id of input item\n",
    "    :param cooccurrance: 2-dim numpy array with the co-occurance matrix\n",
    "    :param ntop: number of items to be retrieved\n",
    "    \n",
    "    :return top-N most similar items to the given item_id\n",
    "    \"\"\"\n",
    "    similarItems = coocurrance[item_id, :]\n",
    "    # return indeces of most similar items in descendign order\n",
    "    mostSimilar = np.argsort(similarItems)[::-1]\n",
    "    # remove the item itslef, maybe it's not the first element\n",
    "    ##### mostSimilar = mostSimilar[1:ntop+1]\n",
    "    mostSimilar = list(mostSimilar)\n",
    "    mostSimilar.remove(item_id)\n",
    "    mostSimilar = np.array(mostSimilar)[:ntop]\n",
    "    \n",
    "    # return a numpy array with the index (first column) and the value (second column) of the most similar items\n",
    "    return np.stack((mostSimilar, similarItems[mostSimilar])).T"
   ]
  },
  {
   "cell_type": "code",
   "execution_count": 120,
   "metadata": {},
   "outputs": [
    {
     "data": {
      "text/plain": [
       "array([[87.,  4.],\n",
       "       [41.,  3.]])"
      ]
     },
     "execution_count": 120,
     "metadata": {},
     "output_type": "execute_result"
    }
   ],
   "source": [
    "# First column are indices, while second one is the frequency of co-ocurrance\n",
    "co_occurrance_similarity(1, coMatrix, 2)"
   ]
  },
  {
   "cell_type": "code",
   "execution_count": 121,
   "metadata": {},
   "outputs": [
    {
     "data": {
      "text/plain": [
       "array([[87.,  4.],\n",
       "       [41.,  3.],\n",
       "       [15.,  3.],\n",
       "       [22.,  3.],\n",
       "       [83.,  3.]])"
      ]
     },
     "execution_count": 121,
     "metadata": {},
     "output_type": "execute_result"
    }
   ],
   "source": [
    "co_occurrance_similarity(1, coMatrix, 5)"
   ]
  },
  {
   "cell_type": "code",
   "execution_count": 122,
   "metadata": {},
   "outputs": [
    {
     "data": {
      "text/plain": [
       "array([[87.,  4.],\n",
       "       [41.,  3.],\n",
       "       [15.,  3.],\n",
       "       [22.,  3.],\n",
       "       [83.,  3.],\n",
       "       [33.,  3.],\n",
       "       [86.,  2.],\n",
       "       [85.,  2.],\n",
       "       [25.,  2.],\n",
       "       [18.,  2.]])"
      ]
     },
     "execution_count": 122,
     "metadata": {},
     "output_type": "execute_result"
    }
   ],
   "source": [
    "co_occurrance_similarity(1, coMatrix, 10)"
   ]
  },
  {
   "cell_type": "code",
   "execution_count": 123,
   "metadata": {},
   "outputs": [
    {
     "data": {
      "text/plain": [
       "array([[ 1.,  1.],\n",
       "       [83.,  1.],\n",
       "       [23.,  1.],\n",
       "       [32.,  1.],\n",
       "       [94.,  0.]])"
      ]
     },
     "execution_count": 123,
     "metadata": {},
     "output_type": "execute_result"
    }
   ],
   "source": [
    "co_occurrance_similarity(49, coMatrix, 5)"
   ]
  },
  {
   "cell_type": "code",
   "execution_count": 124,
   "metadata": {},
   "outputs": [],
   "source": [
    "def co_occurrance_recommendation(items_id, cooccurrance, ntop=10):\n",
    "    \"\"\"\n",
    "    Obtain the list of ntop recommendations based on a list of items (user history of views)\n",
    "    \n",
    "    :param items_id: list of items ids\n",
    "    :param coocurrence: co-ocurrence matrix (numpy 2-dim array)\n",
    "    :param ntop: top-K items to be retrieved\n",
    "    \n",
    "    :return list of ntop items recommended\n",
    "    \"\"\"\n",
    "    # put together all the similar items and its value. For this, use np.vstack, wich stacks one array after \n",
    "    # another (row wise)\n",
    "    list_sim_items = np.vstack([co_occurrance_similarity(id_, cooccurrance, ntop) for id_ in items_id])\n",
    "    # Group by id and take the maximum frquency to remove duplicates\n",
    "    largest_freq = pd.DataFrame(list_sim_items, columns=['id', 'freq']).groupby('id').agg(max).reset_index()\n",
    "    \n",
    "    # sort by value in descending order\n",
    "    sorted_list = largest_freq.sort_values(by='freq', ascending=False)\n",
    "    \n",
    "    # get the top N\n",
    "    out = sorted_list.values[:ntop, 0]\n",
    "    return out"
   ]
  },
  {
   "cell_type": "code",
   "execution_count": 140,
   "metadata": {},
   "outputs": [
    {
     "data": {
      "text/html": [
       "<div>\n",
       "<style scoped>\n",
       "    .dataframe tbody tr th:only-of-type {\n",
       "        vertical-align: middle;\n",
       "    }\n",
       "\n",
       "    .dataframe tbody tr th {\n",
       "        vertical-align: top;\n",
       "    }\n",
       "\n",
       "    .dataframe thead th {\n",
       "        text-align: right;\n",
       "    }\n",
       "</style>\n",
       "<table border=\"1\" class=\"dataframe\">\n",
       "  <thead>\n",
       "    <tr style=\"text-align: right;\">\n",
       "      <th></th>\n",
       "      <th>userID</th>\n",
       "      <th>placeID</th>\n",
       "    </tr>\n",
       "  </thead>\n",
       "  <tbody>\n",
       "    <tr>\n",
       "      <th>0</th>\n",
       "      <td>0</td>\n",
       "      <td>[69]</td>\n",
       "    </tr>\n",
       "    <tr>\n",
       "      <th>1</th>\n",
       "      <td>1</td>\n",
       "      <td>[1, 15, 87, 2, 41, 27, 31, 33, 77]</td>\n",
       "    </tr>\n",
       "    <tr>\n",
       "      <th>2</th>\n",
       "      <td>2</td>\n",
       "      <td>[25, 76, 15, 1, 39, 65, 83, 33]</td>\n",
       "    </tr>\n",
       "    <tr>\n",
       "      <th>3</th>\n",
       "      <td>3</td>\n",
       "      <td>[85, 86, 32, 26, 63, 35, 2]</td>\n",
       "    </tr>\n",
       "    <tr>\n",
       "      <th>4</th>\n",
       "      <td>4</td>\n",
       "      <td>[27, 24, 85]</td>\n",
       "    </tr>\n",
       "  </tbody>\n",
       "</table>\n",
       "</div>"
      ],
      "text/plain": [
       "   userID                             placeID\n",
       "0       0                                [69]\n",
       "1       1  [1, 15, 87, 2, 41, 27, 31, 33, 77]\n",
       "2       2     [25, 76, 15, 1, 39, 65, 83, 33]\n",
       "3       3         [85, 86, 32, 26, 63, 35, 2]\n",
       "4       4                        [27, 24, 85]"
      ]
     },
     "execution_count": 140,
     "metadata": {},
     "output_type": "execute_result"
    }
   ],
   "source": [
    "# get users in train with their movies\n",
    "trainUsersGrouped = train[train['rating']>=1].groupby('userID')['placeID'].apply(list).reset_index()\n",
    "testUsersGrouped = test[test['rating']>=1].groupby('userID')['placeID'].apply(list).reset_index()\n",
    "trainUsersGrouped.head()"
   ]
  },
  {
   "cell_type": "code",
   "execution_count": 141,
   "metadata": {},
   "outputs": [
    {
     "data": {
      "text/plain": [
       "array([ 1., 87., 15., 41., 22.])"
      ]
     },
     "execution_count": 141,
     "metadata": {},
     "output_type": "execute_result"
    }
   ],
   "source": [
    "co_occurrance_recommendation([1, 15, 87, 2, 41, 27, 31, 33, 77],coMatrix,5)"
   ]
  },
  {
   "cell_type": "code",
   "execution_count": 142,
   "metadata": {},
   "outputs": [
    {
     "data": {
      "text/plain": [
       "0     [13.0, 41.0, 1.0, 18.0, 24.0]\n",
       "1     [1.0, 87.0, 15.0, 41.0, 22.0]\n",
       "2    [87.0, 83.0, 76.0, 39.0, 33.0]\n",
       "3     [85.0, 63.0, 32.0, 35.0, 2.0]\n",
       "4     [35.0, 2.0, 22.0, 41.0, 86.0]\n",
       "Name: placeID, dtype: object"
      ]
     },
     "execution_count": 142,
     "metadata": {},
     "output_type": "execute_result"
    }
   ],
   "source": [
    "Ntop = 5\n",
    "# Get the recommendations for all users using the apply method\n",
    "predictions = trainUsersGrouped['placeID'].apply(lambda x: co_occurrance_recommendation(x, coMatrix, Ntop))\n",
    "predictions.head()"
   ]
  },
  {
   "cell_type": "code",
   "execution_count": 143,
   "metadata": {},
   "outputs": [],
   "source": [
    "topN = 5\n",
    "# add a prediction column to train\n",
    "trainUsersGrouped['prediction'] = trainUsersGrouped['placeID'].apply(\n",
    "    lambda x: co_occurrance_recommendation(x, coMatrix, topN)\n",
    ")"
   ]
  },
  {
   "cell_type": "code",
   "execution_count": 144,
   "metadata": {},
   "outputs": [
    {
     "data": {
      "text/html": [
       "<div>\n",
       "<style scoped>\n",
       "    .dataframe tbody tr th:only-of-type {\n",
       "        vertical-align: middle;\n",
       "    }\n",
       "\n",
       "    .dataframe tbody tr th {\n",
       "        vertical-align: top;\n",
       "    }\n",
       "\n",
       "    .dataframe thead th {\n",
       "        text-align: right;\n",
       "    }\n",
       "</style>\n",
       "<table border=\"1\" class=\"dataframe\">\n",
       "  <thead>\n",
       "    <tr style=\"text-align: right;\">\n",
       "      <th></th>\n",
       "      <th>userID</th>\n",
       "      <th>placeID</th>\n",
       "      <th>prediction</th>\n",
       "    </tr>\n",
       "  </thead>\n",
       "  <tbody>\n",
       "    <tr>\n",
       "      <th>0</th>\n",
       "      <td>0</td>\n",
       "      <td>[69]</td>\n",
       "      <td>[13.0, 41.0, 1.0, 18.0, 24.0]</td>\n",
       "    </tr>\n",
       "    <tr>\n",
       "      <th>1</th>\n",
       "      <td>1</td>\n",
       "      <td>[1, 15, 87, 2, 41, 27, 31, 33, 77]</td>\n",
       "      <td>[1.0, 87.0, 15.0, 41.0, 22.0]</td>\n",
       "    </tr>\n",
       "    <tr>\n",
       "      <th>2</th>\n",
       "      <td>2</td>\n",
       "      <td>[25, 76, 15, 1, 39, 65, 83, 33]</td>\n",
       "      <td>[87.0, 83.0, 76.0, 39.0, 33.0]</td>\n",
       "    </tr>\n",
       "    <tr>\n",
       "      <th>3</th>\n",
       "      <td>3</td>\n",
       "      <td>[85, 86, 32, 26, 63, 35, 2]</td>\n",
       "      <td>[85.0, 63.0, 32.0, 35.0, 2.0]</td>\n",
       "    </tr>\n",
       "    <tr>\n",
       "      <th>4</th>\n",
       "      <td>4</td>\n",
       "      <td>[27, 24, 85]</td>\n",
       "      <td>[35.0, 2.0, 22.0, 41.0, 86.0]</td>\n",
       "    </tr>\n",
       "  </tbody>\n",
       "</table>\n",
       "</div>"
      ],
      "text/plain": [
       "   userID                             placeID                      prediction\n",
       "0       0                                [69]   [13.0, 41.0, 1.0, 18.0, 24.0]\n",
       "1       1  [1, 15, 87, 2, 41, 27, 31, 33, 77]   [1.0, 87.0, 15.0, 41.0, 22.0]\n",
       "2       2     [25, 76, 15, 1, 39, 65, 83, 33]  [87.0, 83.0, 76.0, 39.0, 33.0]\n",
       "3       3         [85, 86, 32, 26, 63, 35, 2]   [85.0, 63.0, 32.0, 35.0, 2.0]\n",
       "4       4                        [27, 24, 85]   [35.0, 2.0, 22.0, 41.0, 86.0]"
      ]
     },
     "execution_count": 144,
     "metadata": {},
     "output_type": "execute_result"
    }
   ],
   "source": [
    "trainUsersGrouped.head()"
   ]
  },
  {
   "cell_type": "code",
   "execution_count": 146,
   "metadata": {},
   "outputs": [],
   "source": [
    "joined = pd.merge(trainUsersGrouped, testUsersGrouped, how='inner', on='userID', suffixes=('_train', '_test'))"
   ]
  },
  {
   "cell_type": "code",
   "execution_count": 147,
   "metadata": {},
   "outputs": [
    {
     "data": {
      "text/html": [
       "<div>\n",
       "<style scoped>\n",
       "    .dataframe tbody tr th:only-of-type {\n",
       "        vertical-align: middle;\n",
       "    }\n",
       "\n",
       "    .dataframe tbody tr th {\n",
       "        vertical-align: top;\n",
       "    }\n",
       "\n",
       "    .dataframe thead th {\n",
       "        text-align: right;\n",
       "    }\n",
       "</style>\n",
       "<table border=\"1\" class=\"dataframe\">\n",
       "  <thead>\n",
       "    <tr style=\"text-align: right;\">\n",
       "      <th></th>\n",
       "      <th>userID</th>\n",
       "      <th>placeID_train</th>\n",
       "      <th>prediction</th>\n",
       "      <th>placeID_test</th>\n",
       "    </tr>\n",
       "  </thead>\n",
       "  <tbody>\n",
       "    <tr>\n",
       "      <th>0</th>\n",
       "      <td>0</td>\n",
       "      <td>[69]</td>\n",
       "      <td>[13.0, 41.0, 1.0, 18.0, 24.0]</td>\n",
       "      <td>[22, 1]</td>\n",
       "    </tr>\n",
       "    <tr>\n",
       "      <th>1</th>\n",
       "      <td>2</td>\n",
       "      <td>[25, 76, 15, 1, 39, 65, 83, 33]</td>\n",
       "      <td>[87.0, 83.0, 76.0, 39.0, 33.0]</td>\n",
       "      <td>[12, 70]</td>\n",
       "    </tr>\n",
       "    <tr>\n",
       "      <th>2</th>\n",
       "      <td>4</td>\n",
       "      <td>[27, 24, 85]</td>\n",
       "      <td>[35.0, 2.0, 22.0, 41.0, 86.0]</td>\n",
       "      <td>[18]</td>\n",
       "    </tr>\n",
       "    <tr>\n",
       "      <th>3</th>\n",
       "      <td>5</td>\n",
       "      <td>[54, 23, 62, 26, 76, 1, 44]</td>\n",
       "      <td>[87.0, 39.0, 83.0, 15.0, 41.0]</td>\n",
       "      <td>[6, 25, 65]</td>\n",
       "    </tr>\n",
       "    <tr>\n",
       "      <th>4</th>\n",
       "      <td>6</td>\n",
       "      <td>[62, 85, 24, 87, 22]</td>\n",
       "      <td>[1.0, 15.0, 76.0, 35.0, 2.0]</td>\n",
       "      <td>[82]</td>\n",
       "    </tr>\n",
       "  </tbody>\n",
       "</table>\n",
       "</div>"
      ],
      "text/plain": [
       "   userID                    placeID_train                      prediction  \\\n",
       "0       0                             [69]   [13.0, 41.0, 1.0, 18.0, 24.0]   \n",
       "1       2  [25, 76, 15, 1, 39, 65, 83, 33]  [87.0, 83.0, 76.0, 39.0, 33.0]   \n",
       "2       4                     [27, 24, 85]   [35.0, 2.0, 22.0, 41.0, 86.0]   \n",
       "3       5      [54, 23, 62, 26, 76, 1, 44]  [87.0, 39.0, 83.0, 15.0, 41.0]   \n",
       "4       6             [62, 85, 24, 87, 22]    [1.0, 15.0, 76.0, 35.0, 2.0]   \n",
       "\n",
       "  placeID_test  \n",
       "0      [22, 1]  \n",
       "1     [12, 70]  \n",
       "2         [18]  \n",
       "3  [6, 25, 65]  \n",
       "4         [82]  "
      ]
     },
     "execution_count": 147,
     "metadata": {},
     "output_type": "execute_result"
    }
   ],
   "source": [
    "joined.head()"
   ]
  },
  {
   "cell_type": "code",
   "execution_count": 157,
   "metadata": {},
   "outputs": [
    {
     "name": "stdout",
     "output_type": "stream",
     "text": [
      "recall@5=0.231\n"
     ]
    }
   ],
   "source": [
    "topN = 5\n",
    "recall = joined.apply(lambda l: \n",
    "             recall_at_n(N=topN, test=l[3], recommended=l[2], train=l[1]), axis=1).mean()\n",
    "print(\"recall@%s=%.3f\"%(topN, recall))"
   ]
  },
  {
   "cell_type": "code",
   "execution_count": 158,
   "metadata": {},
   "outputs": [],
   "source": [
    "# do the same for different top k values. It might be convenient to define a function!\n",
    "def evaluate_recall(topN, trainGrouped, testGrouped, coMatrix, popularity_baseline):\n",
    "    # add a prediction column to train\n",
    "    trainUsersGrouped['prediction'] = trainUsersGrouped['placeID'].apply(\n",
    "        lambda x: co_occurrance_recommendation(x, coMatrix, topN)\n",
    "    )\n",
    "    # join with test data\n",
    "    joined = pd.merge(trainUsersGrouped, testUsersGrouped, how='inner', on='userID', suffixes=('_train', '_test'))\n",
    "    # calculate average recall\n",
    "    recall = joined.apply(lambda l: \n",
    "                 recall_at_n(N=topN, test=l[3], recommended=l[2], train=l[1]), axis=1).mean()\n",
    "    print(\"Co-occurance model: recall@%s=%.3f\"%(topN, recall))\n",
    "    # calculate average recall for the baseline\n",
    "    recall_baseline = joined.apply(lambda l: \n",
    "                 recall_at_n(N=topN, test=l[3], recommended=popularity_baseline, train=l[1]), axis=1).mean()\n",
    "    print(\"Popularity model: recall@%s=%.3f\"%(topN, recall_baseline))    \n",
    "    return recall, recall_baseline"
   ]
  },
  {
   "cell_type": "code",
   "execution_count": 160,
   "metadata": {},
   "outputs": [
    {
     "name": "stdout",
     "output_type": "stream",
     "text": [
      "Co-occurance model: recall@3=0.179\n",
      "Popularity model: recall@3=0.144\n",
      "Co-occurance model: recall@10=0.367\n",
      "Popularity model: recall@10=0.238\n",
      "Co-occurance model: recall@30=0.688\n",
      "Popularity model: recall@30=0.500\n",
      "Co-occurance model: recall@50=0.831\n",
      "Popularity model: recall@50=0.688\n",
      "Co-occurance model: recall@100=1.000\n",
      "Popularity model: recall@100=1.000\n"
     ]
    }
   ],
   "source": [
    "for k in [3,10,30,50,100]:\n",
    "    evaluate_recall(k, trainUsersGrouped, testUsersGrouped, coMatrix, mostRatedRestaurant[:]);"
   ]
  },
  {
   "cell_type": "code",
   "execution_count": 161,
   "metadata": {},
   "outputs": [],
   "source": [
    "def evaluate_map(topN, trainGrouped, testGrouped, coMatrix, popularity_baseline):\n",
    "    # add a prediction column to train\n",
    "    trainUsersGrouped['prediction'] = trainUsersGrouped['placeID'].apply(\n",
    "        lambda x: co_occurrance_recommendation(x, coMatrix, topN)\n",
    "    )\n",
    "    # join with test data\n",
    "    joined = pd.merge(trainUsersGrouped, testUsersGrouped, how='inner', on='userID', suffixes=('_train', '_test'))\n",
    "    # calculate average recall\n",
    "    map_ = joined.apply(lambda l: \n",
    "             apk(N=topN, test=l[3], recommended=l[2], train=l[1]), axis=1).mean()\n",
    "    print(\"Co-occurance model: map@%s=%.3f\"%(topN, map_))\n",
    "    map_baseline = joined.apply(lambda l: \n",
    "                 apk(N=topN, test=l[3], recommended=popularity_baseline, train=l[1]), axis=1).mean()\n",
    "    print(\"Popularity model: map@%s=%.3f\"%(topN, map_baseline))\n",
    "    return map_, map_baseline"
   ]
  },
  {
   "cell_type": "code",
   "execution_count": 162,
   "metadata": {},
   "outputs": [
    {
     "name": "stdout",
     "output_type": "stream",
     "text": [
      "Co-occurance model: map@3=0.167\n",
      "Popularity model: map@3=0.097\n",
      "Co-occurance model: map@10=0.221\n",
      "Popularity model: map@10=0.118\n",
      "Co-occurance model: map@30=0.219\n",
      "Popularity model: map@30=0.140\n",
      "Co-occurance model: map@50=0.236\n",
      "Popularity model: map@50=0.147\n",
      "Co-occurance model: map@100=0.247\n",
      "Popularity model: map@100=0.153\n"
     ]
    }
   ],
   "source": [
    "for k in [3,10,30,50,100]:\n",
    "    evaluate_map(k, trainUsersGrouped, testUsersGrouped, coMatrix, mostRatedRestaurant[:]);"
   ]
  },
  {
   "cell_type": "code",
   "execution_count": null,
   "metadata": {},
   "outputs": [],
   "source": []
  }
 ],
 "metadata": {
  "kernelspec": {
   "display_name": "Python 3",
   "language": "python",
   "name": "python3"
  },
  "language_info": {
   "codemirror_mode": {
    "name": "ipython",
    "version": 3
   },
   "file_extension": ".py",
   "mimetype": "text/x-python",
   "name": "python",
   "nbconvert_exporter": "python",
   "pygments_lexer": "ipython3",
   "version": "3.7.0"
  }
 },
 "nbformat": 4,
 "nbformat_minor": 2
}

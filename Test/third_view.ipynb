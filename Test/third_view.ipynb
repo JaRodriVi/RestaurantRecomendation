{
 "cells": [
  {
   "cell_type": "code",
   "execution_count": 1,
   "metadata": {},
   "outputs": [],
   "source": [
    "import pandas as pd\n",
    "import numpy as np\n",
    "import seaborn as sns\n",
    "import matplotlib.pyplot as plt\n",
    "import sys\n",
    "sys.path.append(\"../library\")\n",
    "import RecSys as rs\n",
    "#patch = \"\" # For Google CoLab\n",
    "path = \"../data/\"\n",
    "\n",
    "import collections"
   ]
  },
  {
   "cell_type": "code",
   "execution_count": 2,
   "metadata": {},
   "outputs": [],
   "source": [
    "chefmozacccepts = pd.read_csv(path+\"chefmozaccepts.csv\")\n",
    "chefmozcuisine = pd.read_csv(path+\"chefmozcuisine.csv\")\n",
    "chefmozhours4 = pd.read_csv(path+\"chefmozhours4.csv\")\n",
    "chefmozparking = pd.read_csv(path+\"chefmozparking.csv\")\n",
    "geoplaces2 = pd.read_csv(path+\"geoplaces2.csv\")\n",
    "rating_final = pd.read_csv(path+\"rating_final.csv\")\n",
    "usercuisine = pd.read_csv(path+\"usercuisine.csv\")\n",
    "userpayment = pd.read_csv(path+\"userpayment.csv\")\n",
    "userprofile = pd.read_csv(path+\"userprofile.csv\")\n",
    "# This will contain the list of Datas that we will \n",
    "# use for the Recommendation System\n",
    "listOfData_r = [rating_final]\n",
    "\n",
    "# This doesn't make much sense, we can split the Clasification for have less dummy variables, \n",
    "# but we will try make the recomendation with full data\n",
    "chefmozacccepts['Rpayment_accepts'] = chefmozacccepts['Rpayment']\n",
    "chefmozacccepts['Rpayment_accepts'] = chefmozacccepts['Rpayment_accepts']\\\n",
    "             .replace(['VISA', 'MasterCard-Eurocard', 'American_Express',\n",
    "                       'bank_debit_cards','Discover', 'Carte_Blanche',\n",
    "                       'Diners_Club', 'Visa', 'Japan_Credit_Bureau'], ' credictCard')\n",
    "chefmozacccepts['Rpayment_accepts'] = chefmozacccepts['Rpayment_accepts']\\\n",
    "             .replace(['gift_certificates'], 'checks')\n",
    "chefmozacccepts['Rpayment_accepts'] = chefmozacccepts['Rpayment_accepts'].astype('category')\n",
    "\n",
    "chefmozcuisine['Rcuisine_Type'] = chefmozcuisine['Rcuisine']\n",
    "chefmozcuisine['Rcuisine_Type'] = chefmozcuisine['Rcuisine_Type'].replace(['French','Spanish','Italian','Seafood','Greek','Mediterranean','Portuguese','Lebanese', 'Moroccan','Israeli','Tapas','Basque','Tunisian','Turkish','North_African'], 'Mediterranean')\n",
    "chefmozcuisine['Rcuisine_Type'] = chefmozcuisine['Rcuisine_Type'].replace(['Latin_American','Mexican','Brazilian','Caribbean','Chilean','Filipino','Cuban','Hawaiian','Peruvian','Jamaican','Southern','Regional','Indigenous'], 'South_American')\n",
    "chefmozcuisine['Rcuisine_Type'] = chefmozcuisine['Rcuisine_Type'].replace(['Fast_Food','Hot_Dogs','Burgers','Deli-Sandwiches','Pizzeria'], 'Fast_Food')\n",
    "chefmozcuisine['Rcuisine_Type'] = chefmozcuisine['Rcuisine_Type'].replace(['Asian','Mongolian','Chinese','Japanese','Sushi','Vietnamese', 'Korean','Thai','Indian-Pakistani','Tibetan','Southeast_Asian','Burmese','Dim_Sum','Malaysian','Cambodian'], 'Asian')\n",
    "chefmozcuisine['Rcuisine_Type'] = chefmozcuisine['Rcuisine_Type'].replace(['German','Polish', 'Dutch-Belgian','Continental-European','Eastern_European','Irish','Hungarian','British','Romanian','Austrian','Scandinavian','Swiss','Russian-Ukrainian'], 'European')\n",
    "chefmozcuisine['Rcuisine_Type'] = chefmozcuisine['Rcuisine_Type'].replace(['Afghan','Armenian','Persian','Middle_Eastern'], 'Middle East')\n",
    "chefmozcuisine['Rcuisine_Type'] = chefmozcuisine['Rcuisine_Type'].replace(['African','Ethiopian'], 'African')\n",
    "chefmozcuisine['Rcuisine_Type'] = chefmozcuisine['Rcuisine_Type'].replace(['Breakfast-Brunch','Bagels','Juice'], 'Breakfast')\n",
    "chefmozcuisine['Rcuisine_Type'] = chefmozcuisine['Rcuisine_Type'].replace(['Bar_Pub_Brewery','Bar'], 'Bar')\n",
    "chefmozcuisine['Rcuisine_Type'] = chefmozcuisine['Rcuisine_Type'].replace(['Cafeteria','Cafe-Coffee_Shop','Tea_House'], 'Coffee_Shop')\n",
    "chefmozcuisine['Rcuisine_Type'] = chefmozcuisine['Rcuisine_Type'].replace(['Fine_Dining','Organic-Healthy','Vegetarian'], 'Healthy-Vegetarian')\n",
    "chefmozcuisine['Rcuisine_Type'] = chefmozcuisine['Rcuisine_Type'].replace(['American','California','Southwestern','Canadian','Cajun-Creole','Pacific_Northwest','Tex-Mex'], 'North_American')\n",
    "chefmozcuisine['Rcuisine_Type'] = chefmozcuisine['Rcuisine_Type'].replace(['Steaks','Barbecue'], 'Meat')\n",
    "chefmozcuisine['Rcuisine_Type'] = chefmozcuisine['Rcuisine_Type'].replace(['Dessert-Ice_Cream'], 'Ice_Cream')\n",
    "chefmozcuisine['Rcuisine_Type'] = chefmozcuisine['Rcuisine_Type'].replace(['Doughnuts','Bakery'], 'Bakery')\n",
    "chefmozcuisine['Rcuisine_Type'] = chefmozcuisine['Rcuisine_Type'].replace(['Contemporary','Fusion','Eclectic'], 'Contemporary')\n",
    "chefmozcuisine['Rcuisine_Type'] = chefmozcuisine['Rcuisine_Type'].replace(['Australian','Polynesian','Indonesian','Pacific_Rim'], 'Australian')\n",
    "\n",
    "chefmozhours4['days'] = chefmozhours4['days'].replace(['Mon;Tue;Wed;Thu;Fri;'],'Diary_Days')\n",
    "\n",
    "chefmozparking['parking'] = chefmozparking['parking_lot']\n",
    "chefmozparking['parking'] = chefmozparking['parking'].replace(['yes','public', 'valet parking','validated parking','fee'], 'yes')\n",
    "chefmozparking['parking'] = chefmozparking['parking'].replace(['none','street'], 'no')\n",
    "\n",
    "geoplaces2['have_smoking_area']=geoplaces2['smoking_area']\n",
    "geoplaces2['have_smoking_area']=geoplaces2['have_smoking_area'].replace(['only at bar', 'permitted', 'section'],'yes')\n",
    "geoplaces2['have_smoking_area']=geoplaces2['have_smoking_area'].replace(['none','not permitted'],'no')\n",
    "\n",
    "geoplaces2['accessibility'] = geoplaces2['accessibility']\n",
    "geoplaces2['accessibility'] = geoplaces2['accessibility'].replace(['completely', 'partially'],'yes_accessibility')\n",
    "\n",
    "geoplaces2['franchise']=geoplaces2['franchise'].replace('t','no')\n",
    "geoplaces2['franchise']=geoplaces2['franchise'].replace('f','yes')\n",
    "\n",
    "userpayment['Upayment_accepts'] = userpayment['Upayment']\n",
    "userpayment['Upayment_accepts'] = userpayment['Upayment_accepts']\\\n",
    "             .replace(['VISA', 'MasterCard-Eurocard', 'American_Express',\n",
    "                       'bank_debit_cards','Discover', 'Carte_Blanche',\n",
    "                       'Diners_Club', 'Visa', 'Japan_Credit_Bureau'], 'credictCard')\n",
    "userpayment['Upayment_accepts'] = userpayment['Upayment_accepts']\\\n",
    "             .replace(['gift_certificates'], 'checks')\n",
    "userpayment['Upayment_accepts'] = userpayment['Upayment_accepts'].astype('category')\n",
    "\n",
    "usercuisine['Rcuisine_Type'] = usercuisine['Rcuisine']\n",
    "usercuisine['Rcuisine_Type'] = usercuisine['Rcuisine_Type'].replace(['French','Spanish','Italian','Seafood','Greek','Mediterranean','Portuguese','Lebanese', 'Moroccan','Israeli','Tapas','Basque','Tunisian','Turkish','North_African'], 'Mediterranean')\n",
    "usercuisine['Rcuisine_Type'] = usercuisine['Rcuisine_Type'].replace(['Latin_American','Mexican','Brazilian','Caribbean','Chilean','Filipino','Cuban','Hawaiian','Peruvian','Jamaican','Southern','Regional','Indigenous'], 'South_American')\n",
    "usercuisine['Rcuisine_Type'] = usercuisine['Rcuisine_Type'].replace(['Fast_Food','Hot_Dogs','Burgers','Deli-Sandwiches','Pizzeria'], 'Fast_Food')\n",
    "usercuisine['Rcuisine_Type'] = usercuisine['Rcuisine_Type'].replace(['Asian','Mongolian','Chinese','Japanese','Sushi','Vietnamese', 'Korean','Thai','Indian-Pakistani','Tibetan','Southeast_Asian','Burmese','Dim_Sum','Malaysian','Cambodian'], 'Asian')\n",
    "usercuisine['Rcuisine_Type'] = usercuisine['Rcuisine_Type'].replace(['German','Polish', 'Dutch-Belgian','Continental-European','Eastern_European','Irish','Hungarian','British','Romanian','Austrian','Scandinavian','Swiss','Russian-Ukrainian'], 'European')\n",
    "usercuisine['Rcuisine_Type'] = usercuisine['Rcuisine_Type'].replace(['Afghan','Armenian','Persian','Middle_Eastern'], 'Middle East')\n",
    "usercuisine['Rcuisine_Type'] = usercuisine['Rcuisine_Type'].replace(['African','Ethiopian'], 'African')\n",
    "usercuisine['Rcuisine_Type'] = usercuisine['Rcuisine_Type'].replace(['Breakfast-Brunch','Bagels','Juice'], 'Breakfast')\n",
    "usercuisine['Rcuisine_Type'] = usercuisine['Rcuisine_Type'].replace(['Bar_Pub_Brewery','Bar'], 'Bar')\n",
    "usercuisine['Rcuisine_Type'] = usercuisine['Rcuisine_Type'].replace(['Cafeteria','Cafe-Coffee_Shop','Tea_House'], 'Coffee_Shop')\n",
    "usercuisine['Rcuisine_Type'] = usercuisine['Rcuisine_Type'].replace(['Fine_Dining','Organic-Healthy','Vegetarian'], 'Healthy-Vegetarian')\n",
    "usercuisine['Rcuisine_Type'] = usercuisine['Rcuisine_Type'].replace(['American','California','Southwestern','Canadian','Cajun-Creole','Pacific_Northwest','Tex-Mex'], 'North_American')\n",
    "usercuisine['Rcuisine_Type'] = usercuisine['Rcuisine_Type'].replace(['Steaks','Barbecue'], 'Meat')\n",
    "usercuisine['Rcuisine_Type'] = usercuisine['Rcuisine_Type'].replace(['Dessert-Ice_Cream'], 'Ice_Cream')\n",
    "usercuisine['Rcuisine_Type'] = usercuisine['Rcuisine_Type'].replace(['Doughnuts','Bakery'], 'Bakery')\n",
    "usercuisine['Rcuisine_Type'] = usercuisine['Rcuisine_Type'].replace(['Contemporary','Fusion','Eclectic'], 'Contemporary')\n",
    "usercuisine['Rcuisine_Type'] = usercuisine['Rcuisine_Type'].replace(['Australian','Polynesian','Indonesian','Pacific_Rim'], 'Australian')\n",
    "\n",
    "\n",
    "\n",
    "\n",
    "\n",
    "rs.replaceID(realID=132706,falseID=132584,ID='placeID',data=listOfData_r)"
   ]
  },
  {
   "cell_type": "code",
   "execution_count": 3,
   "metadata": {},
   "outputs": [],
   "source": [
    "listOfData = [chefmozacccepts,chefmozcuisine,chefmozhours4,\n",
    "              chefmozparking,geoplaces2,rating_final,\n",
    "              usercuisine,userpayment,userprofile]"
   ]
  },
  {
   "cell_type": "code",
   "execution_count": 4,
   "metadata": {},
   "outputs": [],
   "source": [
    "### We have to do the secondview clean"
   ]
  },
  {
   "cell_type": "code",
   "execution_count": 5,
   "metadata": {},
   "outputs": [],
   "source": [
    "rs.replaceID(realID=132706,falseID=132584,ID='placeID',data=listOfData_r)"
   ]
  },
  {
   "cell_type": "code",
   "execution_count": 6,
   "metadata": {},
   "outputs": [],
   "source": [
    "###############\n",
    "# Those will be the data that we will use for the model and app\n",
    "###############\n",
    "userProfile_r = userprofile[['userID', 'smoker', 'drink_level','dress_preference', \n",
    "                             'ambience', 'transport', 'marital_status','hijos', \n",
    "                             'religion', 'activity']]\n",
    "\n",
    "usercuisine_list = usercuisine.groupby('userID').apply(lambda x: list(x['Rcuisine_Type']))\n",
    "usercuisine_list = pd.DataFrame({'userID':usercuisine_list.index,'Rcuisine_Type':usercuisine_list.values})\n",
    "userProfile_r = userProfile_r.merge(usercuisine_list, how = 'left', on = 'userID')\n",
    "\n",
    "userpayment_list= userpayment.groupby('userID').apply(lambda x: list(x['Upayment_accepts']))\n",
    "userpayment_list = pd.DataFrame({'userID':userpayment_list.index,'Upayment_accepts':userpayment_list.values})\n",
    "userProfile_r = userProfile_r.merge(userpayment_list, how = 'left', on = 'userID')\n",
    "\n",
    "userGeo_r = userprofile[['userID', 'latitude', 'longitude']]\n",
    "\n",
    "userChefmozRelation_r = rating_final\n",
    "userChefmozRelation_r = userChefmozRelation_r.merge(userpayment, how='left', on='userID')\n",
    "userChefmozRelation_r = userChefmozRelation_r.merge(usercuisine, how='left', on='userID')\n",
    "\n",
    "chefmozProfile_r = geoplaces2[['placeID', 'alcohol', 'smoking_area','dress_code',\n",
    "                               'accessibility', 'price', 'Rambience', 'franchise',\n",
    "                               'area', 'other_services']]\n",
    "\n",
    "chefmozProfile_r= chefmozProfile_r.merge(chefmozacccepts, how = 'left', on = 'placeID')\n",
    "chefmozProfile_r= chefmozProfile_r.merge(chefmozcuisine, how = 'left', on = 'placeID')\n",
    "chefmozProfile_r= chefmozProfile_r.merge(chefmozhours4, how = 'left', on = 'placeID')\n",
    "chefmozProfile_r= chefmozProfile_r.merge(chefmozparking, how = 'left', on = 'placeID')\n",
    "\n",
    "chefmozGeo_r = geoplaces2[['placeID', 'latitude', 'longitude', 'the_geom_meter',\n",
    "                           'address', 'city', 'state', 'country', 'fax', 'zip']]\n",
    "\n",
    "listPlaceID2Drop = list(chefmozProfile_r[chefmozProfile_r[\"Rcuisine_Type\"]=='nan']['placeID'].values)\n",
    "rating_final = rating_final.drop(rating_final['placeID'].isin(listPlaceID2Drop).index)\n",
    "chefmozGeo_r = chefmozGeo_r.drop(chefmozGeo_r['placeID'].isin(listPlaceID2Drop).index)\n",
    "userChefmozRelation_r = userChefmozRelation_r.drop(userChefmozRelation_r['placeID'].isin(listPlaceID2Drop).index)\n",
    "chefmozProfile_r = chefmozProfile_r.drop(chefmozProfile_r['placeID'].isin(listPlaceID2Drop).index)"
   ]
  },
  {
   "cell_type": "code",
   "execution_count": 7,
   "metadata": {},
   "outputs": [],
   "source": [
    "l,df = rs.checkData(listOfData,'?')"
   ]
  },
  {
   "cell_type": "code",
   "execution_count": 8,
   "metadata": {},
   "outputs": [
    {
     "data": {
      "text/plain": [
       "[(4, 'address'),\n",
       " (4, 'city'),\n",
       " (4, 'state'),\n",
       " (4, 'country'),\n",
       " (4, 'fax'),\n",
       " (4, 'zip'),\n",
       " (4, 'url'),\n",
       " (8, 'smoker'),\n",
       " (8, 'dress_preference'),\n",
       " (8, 'ambience'),\n",
       " (8, 'transport'),\n",
       " (8, 'marital_status'),\n",
       " (8, 'hijos'),\n",
       " (8, 'activity'),\n",
       " (8, 'budget')]"
      ]
     },
     "execution_count": 8,
     "metadata": {},
     "output_type": "execute_result"
    }
   ],
   "source": [
    "l"
   ]
  },
  {
   "cell_type": "code",
   "execution_count": 9,
   "metadata": {},
   "outputs": [
    {
     "data": {
      "text/plain": [
       "True"
      ]
     },
     "execution_count": 9,
     "metadata": {},
     "output_type": "execute_result"
    }
   ],
   "source": [
    "len(userprofile['userID'].unique())==len(userprofile['userID'])"
   ]
  },
  {
   "cell_type": "code",
   "execution_count": 10,
   "metadata": {},
   "outputs": [
    {
     "data": {
      "text/plain": [
       "True"
      ]
     },
     "execution_count": 10,
     "metadata": {},
     "output_type": "execute_result"
    }
   ],
   "source": [
    "len(geoplaces2['placeID'].unique())==len(geoplaces2['placeID'])"
   ]
  },
  {
   "cell_type": "code",
   "execution_count": 11,
   "metadata": {},
   "outputs": [
    {
     "data": {
      "text/plain": [
       "False"
      ]
     },
     "execution_count": 11,
     "metadata": {},
     "output_type": "execute_result"
    }
   ],
   "source": [
    "len(chefmozparking['placeID'].unique())==len(chefmozparking['placeID'])"
   ]
  },
  {
   "cell_type": "code",
   "execution_count": 12,
   "metadata": {},
   "outputs": [
    {
     "data": {
      "text/html": [
       "<div>\n",
       "<style scoped>\n",
       "    .dataframe tbody tr th:only-of-type {\n",
       "        vertical-align: middle;\n",
       "    }\n",
       "\n",
       "    .dataframe tbody tr th {\n",
       "        vertical-align: top;\n",
       "    }\n",
       "\n",
       "    .dataframe thead th {\n",
       "        text-align: right;\n",
       "    }\n",
       "</style>\n",
       "<table border=\"1\" class=\"dataframe\">\n",
       "  <thead>\n",
       "    <tr style=\"text-align: right;\">\n",
       "      <th></th>\n",
       "      <th>placeID</th>\n",
       "      <th>parking_lot</th>\n",
       "      <th>parking</th>\n",
       "    </tr>\n",
       "  </thead>\n",
       "  <tbody>\n",
       "    <tr>\n",
       "      <th>615</th>\n",
       "      <td>132557</td>\n",
       "      <td>public</td>\n",
       "      <td>yes</td>\n",
       "    </tr>\n",
       "    <tr>\n",
       "      <th>616</th>\n",
       "      <td>132557</td>\n",
       "      <td>street</td>\n",
       "      <td>no</td>\n",
       "    </tr>\n",
       "    <tr>\n",
       "      <th>619</th>\n",
       "      <td>132531</td>\n",
       "      <td>public</td>\n",
       "      <td>yes</td>\n",
       "    </tr>\n",
       "    <tr>\n",
       "      <th>620</th>\n",
       "      <td>132531</td>\n",
       "      <td>street</td>\n",
       "      <td>no</td>\n",
       "    </tr>\n",
       "    <tr>\n",
       "      <th>621</th>\n",
       "      <td>132530</td>\n",
       "      <td>fee</td>\n",
       "      <td>yes</td>\n",
       "    </tr>\n",
       "  </tbody>\n",
       "</table>\n",
       "</div>"
      ],
      "text/plain": [
       "     placeID parking_lot parking\n",
       "615   132557      public     yes\n",
       "616   132557      street      no\n",
       "619   132531      public     yes\n",
       "620   132531      street      no\n",
       "621   132530         fee     yes"
      ]
     },
     "execution_count": 12,
     "metadata": {},
     "output_type": "execute_result"
    }
   ],
   "source": [
    "duplicate = [item for item, count in collections.Counter(chefmozparking['placeID']).items() if count > 1]\n",
    "chefmozparking[chefmozparking['placeID'].isin(duplicate)].head(5)"
   ]
  },
  {
   "cell_type": "code",
   "execution_count": 13,
   "metadata": {},
   "outputs": [
    {
     "data": {
      "text/plain": [
       "False"
      ]
     },
     "execution_count": 13,
     "metadata": {},
     "output_type": "execute_result"
    }
   ],
   "source": [
    "len(chefmozhours4['placeID'].unique())==len(chefmozhours4['placeID'])"
   ]
  },
  {
   "cell_type": "code",
   "execution_count": 14,
   "metadata": {},
   "outputs": [
    {
     "data": {
      "text/html": [
       "<div>\n",
       "<style scoped>\n",
       "    .dataframe tbody tr th:only-of-type {\n",
       "        vertical-align: middle;\n",
       "    }\n",
       "\n",
       "    .dataframe tbody tr th {\n",
       "        vertical-align: top;\n",
       "    }\n",
       "\n",
       "    .dataframe thead th {\n",
       "        text-align: right;\n",
       "    }\n",
       "</style>\n",
       "<table border=\"1\" class=\"dataframe\">\n",
       "  <thead>\n",
       "    <tr style=\"text-align: right;\">\n",
       "      <th></th>\n",
       "      <th>placeID</th>\n",
       "      <th>hours</th>\n",
       "      <th>days</th>\n",
       "    </tr>\n",
       "  </thead>\n",
       "  <tbody>\n",
       "    <tr>\n",
       "      <th>0</th>\n",
       "      <td>135111</td>\n",
       "      <td>00:00-23:30;</td>\n",
       "      <td>Diary_Days</td>\n",
       "    </tr>\n",
       "    <tr>\n",
       "      <th>1</th>\n",
       "      <td>135111</td>\n",
       "      <td>00:00-23:30;</td>\n",
       "      <td>Sat;</td>\n",
       "    </tr>\n",
       "    <tr>\n",
       "      <th>2</th>\n",
       "      <td>135111</td>\n",
       "      <td>00:00-23:30;</td>\n",
       "      <td>Sun;</td>\n",
       "    </tr>\n",
       "    <tr>\n",
       "      <th>3</th>\n",
       "      <td>135110</td>\n",
       "      <td>08:00-19:00;</td>\n",
       "      <td>Diary_Days</td>\n",
       "    </tr>\n",
       "    <tr>\n",
       "      <th>4</th>\n",
       "      <td>135110</td>\n",
       "      <td>00:00-00:00;</td>\n",
       "      <td>Sat;</td>\n",
       "    </tr>\n",
       "  </tbody>\n",
       "</table>\n",
       "</div>"
      ],
      "text/plain": [
       "   placeID         hours        days\n",
       "0   135111  00:00-23:30;  Diary_Days\n",
       "1   135111  00:00-23:30;        Sat;\n",
       "2   135111  00:00-23:30;        Sun;\n",
       "3   135110  08:00-19:00;  Diary_Days\n",
       "4   135110  00:00-00:00;        Sat;"
      ]
     },
     "execution_count": 14,
     "metadata": {},
     "output_type": "execute_result"
    }
   ],
   "source": [
    "duplicate = [item for item, count in collections.Counter(chefmozhours4['placeID']).items() if count > 1]\n",
    "chefmozhours4[chefmozhours4['placeID'].isin(duplicate)].head(5)"
   ]
  },
  {
   "cell_type": "code",
   "execution_count": 15,
   "metadata": {},
   "outputs": [
    {
     "data": {
      "text/plain": [
       "False"
      ]
     },
     "execution_count": 15,
     "metadata": {},
     "output_type": "execute_result"
    }
   ],
   "source": [
    "len(chefmozcuisine['placeID'].unique())==len(chefmozcuisine['placeID'])"
   ]
  },
  {
   "cell_type": "code",
   "execution_count": 16,
   "metadata": {},
   "outputs": [
    {
     "name": "stdout",
     "output_type": "stream",
     "text": [
      "[135103, 135102, 135101, 135100, 135099, 135098, 135097, 135092, 135091, 135086, 135073, 135071, 135053, 135052, 135043, 135041, 135032, 135030, 135029, 135026, 135020, 135007, 135004, 134997, 134990, 134983, 134982, 134976, 134972, 132962, 132917, 132867, 132866, 132852, 132851, 132774, 132773, 132555, 132531, 132530, 132527, 132521, 132493, 132491, 132483, 132474, 132449, 132443, 132442, 132439, 132419, 132417, 132413, 132392, 132341, 132333, 132329, 132328, 132319, 132318, 132317, 132312, 132302, 132296, 132289, 132284, 132273, 132258, 132255, 132253, 132246, 132244, 132243, 132240, 132238, 132237, 132235, 132228, 132226, 132223, 132217, 132216, 132214, 132207, 132187, 132186, 132184, 132182, 132177, 132171, 132166, 132161, 132155, 132147, 132137, 132128, 132126, 132125, 132109, 132108, 132101, 132100, 132031, 132030, 132028, 132024, 132023, 132012, 132010, 132005]\n"
     ]
    },
    {
     "data": {
      "text/html": [
       "<div>\n",
       "<style scoped>\n",
       "    .dataframe tbody tr th:only-of-type {\n",
       "        vertical-align: middle;\n",
       "    }\n",
       "\n",
       "    .dataframe tbody tr th {\n",
       "        vertical-align: top;\n",
       "    }\n",
       "\n",
       "    .dataframe thead th {\n",
       "        text-align: right;\n",
       "    }\n",
       "</style>\n",
       "<table border=\"1\" class=\"dataframe\">\n",
       "  <thead>\n",
       "    <tr style=\"text-align: right;\">\n",
       "      <th></th>\n",
       "      <th>placeID</th>\n",
       "      <th>Rcuisine</th>\n",
       "      <th>Rcuisine_Type</th>\n",
       "    </tr>\n",
       "  </thead>\n",
       "  <tbody>\n",
       "    <tr>\n",
       "      <th>6</th>\n",
       "      <td>135103</td>\n",
       "      <td>Burgers</td>\n",
       "      <td>Fast_Food</td>\n",
       "    </tr>\n",
       "    <tr>\n",
       "      <th>7</th>\n",
       "      <td>135103</td>\n",
       "      <td>Dessert-Ice_Cream</td>\n",
       "      <td>Ice_Cream</td>\n",
       "    </tr>\n",
       "    <tr>\n",
       "      <th>8</th>\n",
       "      <td>135103</td>\n",
       "      <td>Fast_Food</td>\n",
       "      <td>Fast_Food</td>\n",
       "    </tr>\n",
       "    <tr>\n",
       "      <th>9</th>\n",
       "      <td>135103</td>\n",
       "      <td>Hot_Dogs</td>\n",
       "      <td>Fast_Food</td>\n",
       "    </tr>\n",
       "    <tr>\n",
       "      <th>10</th>\n",
       "      <td>135102</td>\n",
       "      <td>Latin_American</td>\n",
       "      <td>South_American</td>\n",
       "    </tr>\n",
       "  </tbody>\n",
       "</table>\n",
       "</div>"
      ],
      "text/plain": [
       "    placeID           Rcuisine   Rcuisine_Type\n",
       "6    135103            Burgers       Fast_Food\n",
       "7    135103  Dessert-Ice_Cream       Ice_Cream\n",
       "8    135103          Fast_Food       Fast_Food\n",
       "9    135103           Hot_Dogs       Fast_Food\n",
       "10   135102     Latin_American  South_American"
      ]
     },
     "execution_count": 16,
     "metadata": {},
     "output_type": "execute_result"
    }
   ],
   "source": [
    "duplicate = [item for item, count in collections.Counter(chefmozcuisine['placeID']).items() if count > 1]\n",
    "print(duplicate)\n",
    "chefmozcuisine[chefmozcuisine['placeID'].isin(duplicate)].head(5)"
   ]
  },
  {
   "cell_type": "code",
   "execution_count": 17,
   "metadata": {},
   "outputs": [
    {
     "data": {
      "text/plain": [
       "False"
      ]
     },
     "execution_count": 17,
     "metadata": {},
     "output_type": "execute_result"
    }
   ],
   "source": [
    "len(chefmozacccepts['placeID'].unique())==len(chefmozacccepts['placeID'])"
   ]
  },
  {
   "cell_type": "code",
   "execution_count": 18,
   "metadata": {},
   "outputs": [
    {
     "name": "stdout",
     "output_type": "stream",
     "text": [
      "[135110, 135107, 135106, 135104, 135103, 135102, 135099, 135098, 135097, 135093, 135091, 135089, 135086, 135084, 135081, 135080, 135079, 135078, 135076, 135074, 135073, 135072, 135071, 135068, 135067, 135066, 135065, 135064, 135061, 135058, 135057, 135055, 135054, 135053, 135052, 135050, 135048, 135047, 135046, 135045, 135040, 135037, 135035, 135034, 135033, 135032, 135031, 135029, 135028, 135027, 135025, 135024, 135018, 135008, 135007, 135006, 135004, 135002, 135001, 134994, 134993, 134992, 134991, 134989, 134988, 134985, 134984, 134983, 134978, 134977, 134976, 134975, 134974, 134973, 134972, 134971, 134970, 133043, 133033, 133030, 133027, 133026, 132958, 132957, 132956, 132955, 132954, 132953, 132947, 132931, 132927, 132917, 132900, 132892, 132888, 132887, 132886, 132880, 132875, 132873, 132872, 132863, 132862, 132861, 132860, 132859, 132857, 132854, 132835, 132826, 132824, 132820, 132811, 132808, 132807, 132806, 132804, 132802, 132801, 132799, 132797, 132796, 132795, 132793, 132792, 132791, 132790, 132789, 132788, 132787, 132786, 132785, 132784, 132783, 132782, 132781, 132779, 132777, 132776, 132774, 132771, 132768, 132767, 132761, 132760, 132756, 132755, 132751, 132750, 132747, 132736, 132735, 132734, 132733, 132726, 132724, 132723, 132720, 132706, 132700, 132699, 132697, 132693, 132692, 132691, 132689, 132688, 132687, 132686, 132685, 132684, 132683, 132682, 132629, 132626, 132625, 132624, 132623, 132619, 132617, 132612, 132606, 132598, 132592, 132591, 132589, 132585, 132583, 132582, 132577, 132576, 132575, 132574, 132573, 132545, 132544, 132535, 132533, 132531, 132530, 132527, 132521, 132509, 132493, 132483, 132482, 132446, 132444, 132443, 132442, 132439, 132438, 132437, 132436, 132432, 132414, 132413, 132409, 132399, 132396, 132392, 132387, 132367, 132364, 132361, 132355, 132353, 132348, 132347, 132343, 132342, 132333, 132319, 132318, 132302, 132297, 132296, 132293, 132289, 132244, 132243, 132237, 132233, 132232, 132231, 132230, 132215, 132213, 132212, 132211, 132207, 132206, 132204, 132201, 132187, 132184, 132182, 132177, 132165, 132164, 132161, 132160, 132159, 132111, 132109, 132107, 132106, 132031, 132030, 132026, 132024, 132023, 132019, 132012, 132002]\n"
     ]
    },
    {
     "data": {
      "text/html": [
       "<div>\n",
       "<style scoped>\n",
       "    .dataframe tbody tr th:only-of-type {\n",
       "        vertical-align: middle;\n",
       "    }\n",
       "\n",
       "    .dataframe tbody tr th {\n",
       "        vertical-align: top;\n",
       "    }\n",
       "\n",
       "    .dataframe thead th {\n",
       "        text-align: right;\n",
       "    }\n",
       "</style>\n",
       "<table border=\"1\" class=\"dataframe\">\n",
       "  <thead>\n",
       "    <tr style=\"text-align: right;\">\n",
       "      <th></th>\n",
       "      <th>placeID</th>\n",
       "      <th>Rpayment</th>\n",
       "      <th>Rpayment_accepts</th>\n",
       "    </tr>\n",
       "  </thead>\n",
       "  <tbody>\n",
       "    <tr>\n",
       "      <th>0</th>\n",
       "      <td>135110</td>\n",
       "      <td>cash</td>\n",
       "      <td>cash</td>\n",
       "    </tr>\n",
       "    <tr>\n",
       "      <th>1</th>\n",
       "      <td>135110</td>\n",
       "      <td>VISA</td>\n",
       "      <td>credictCard</td>\n",
       "    </tr>\n",
       "    <tr>\n",
       "      <th>2</th>\n",
       "      <td>135110</td>\n",
       "      <td>MasterCard-Eurocard</td>\n",
       "      <td>credictCard</td>\n",
       "    </tr>\n",
       "    <tr>\n",
       "      <th>3</th>\n",
       "      <td>135110</td>\n",
       "      <td>American_Express</td>\n",
       "      <td>credictCard</td>\n",
       "    </tr>\n",
       "    <tr>\n",
       "      <th>4</th>\n",
       "      <td>135110</td>\n",
       "      <td>bank_debit_cards</td>\n",
       "      <td>credictCard</td>\n",
       "    </tr>\n",
       "  </tbody>\n",
       "</table>\n",
       "</div>"
      ],
      "text/plain": [
       "   placeID             Rpayment Rpayment_accepts\n",
       "0   135110                 cash             cash\n",
       "1   135110                 VISA      credictCard\n",
       "2   135110  MasterCard-Eurocard      credictCard\n",
       "3   135110     American_Express      credictCard\n",
       "4   135110     bank_debit_cards      credictCard"
      ]
     },
     "execution_count": 18,
     "metadata": {},
     "output_type": "execute_result"
    }
   ],
   "source": [
    "duplicate = [item for item, count in collections.Counter(chefmozacccepts['placeID']).items() if count > 1]\n",
    "print(duplicate)\n",
    "chefmozacccepts[chefmozacccepts['placeID'].isin(duplicate)].head(5)"
   ]
  },
  {
   "cell_type": "code",
   "execution_count": 19,
   "metadata": {},
   "outputs": [
    {
     "data": {
      "text/html": [
       "<div>\n",
       "<style scoped>\n",
       "    .dataframe tbody tr th:only-of-type {\n",
       "        vertical-align: middle;\n",
       "    }\n",
       "\n",
       "    .dataframe tbody tr th {\n",
       "        vertical-align: top;\n",
       "    }\n",
       "\n",
       "    .dataframe thead th {\n",
       "        text-align: right;\n",
       "    }\n",
       "</style>\n",
       "<table border=\"1\" class=\"dataframe\">\n",
       "  <thead>\n",
       "    <tr style=\"text-align: right;\">\n",
       "      <th></th>\n",
       "      <th>placeID</th>\n",
       "      <th>alcohol</th>\n",
       "      <th>smoking_area</th>\n",
       "      <th>dress_code</th>\n",
       "      <th>accessibility</th>\n",
       "      <th>price</th>\n",
       "      <th>Rambience</th>\n",
       "      <th>franchise</th>\n",
       "      <th>area</th>\n",
       "      <th>other_services</th>\n",
       "      <th>Rpayment</th>\n",
       "      <th>Rpayment_accepts</th>\n",
       "      <th>Rcuisine</th>\n",
       "      <th>Rcuisine_Type</th>\n",
       "      <th>hours</th>\n",
       "      <th>days</th>\n",
       "      <th>parking_lot</th>\n",
       "      <th>parking</th>\n",
       "    </tr>\n",
       "  </thead>\n",
       "  <tbody>\n",
       "  </tbody>\n",
       "</table>\n",
       "</div>"
      ],
      "text/plain": [
       "Empty DataFrame\n",
       "Columns: [placeID, alcohol, smoking_area, dress_code, accessibility, price, Rambience, franchise, area, other_services, Rpayment, Rpayment_accepts, Rcuisine, Rcuisine_Type, hours, days, parking_lot, parking]\n",
       "Index: []"
      ]
     },
     "execution_count": 19,
     "metadata": {},
     "output_type": "execute_result"
    }
   ],
   "source": [
    "chefmozProfile_r[chefmozProfile_r['placeID']==132584]"
   ]
  },
  {
   "cell_type": "code",
   "execution_count": 20,
   "metadata": {},
   "outputs": [
    {
     "data": {
      "text/html": [
       "<div>\n",
       "<style scoped>\n",
       "    .dataframe tbody tr th:only-of-type {\n",
       "        vertical-align: middle;\n",
       "    }\n",
       "\n",
       "    .dataframe tbody tr th {\n",
       "        vertical-align: top;\n",
       "    }\n",
       "\n",
       "    .dataframe thead th {\n",
       "        text-align: right;\n",
       "    }\n",
       "</style>\n",
       "<table border=\"1\" class=\"dataframe\">\n",
       "  <thead>\n",
       "    <tr style=\"text-align: right;\">\n",
       "      <th></th>\n",
       "      <th>placeID</th>\n",
       "      <th>alcohol</th>\n",
       "      <th>smoking_area</th>\n",
       "      <th>dress_code</th>\n",
       "      <th>accessibility</th>\n",
       "      <th>price</th>\n",
       "      <th>Rambience</th>\n",
       "      <th>franchise</th>\n",
       "      <th>area</th>\n",
       "      <th>other_services</th>\n",
       "      <th>Rpayment</th>\n",
       "      <th>Rpayment_accepts</th>\n",
       "      <th>Rcuisine</th>\n",
       "      <th>Rcuisine_Type</th>\n",
       "      <th>hours</th>\n",
       "      <th>days</th>\n",
       "      <th>parking_lot</th>\n",
       "      <th>parking</th>\n",
       "    </tr>\n",
       "  </thead>\n",
       "  <tbody>\n",
       "  </tbody>\n",
       "</table>\n",
       "</div>"
      ],
      "text/plain": [
       "Empty DataFrame\n",
       "Columns: [placeID, alcohol, smoking_area, dress_code, accessibility, price, Rambience, franchise, area, other_services, Rpayment, Rpayment_accepts, Rcuisine, Rcuisine_Type, hours, days, parking_lot, parking]\n",
       "Index: []"
      ]
     },
     "execution_count": 20,
     "metadata": {},
     "output_type": "execute_result"
    }
   ],
   "source": [
    "chefmozProfile_r[chefmozProfile_r['placeID']==132706]"
   ]
  },
  {
   "cell_type": "code",
   "execution_count": 21,
   "metadata": {},
   "outputs": [
    {
     "data": {
      "text/html": [
       "<div>\n",
       "<style scoped>\n",
       "    .dataframe tbody tr th:only-of-type {\n",
       "        vertical-align: middle;\n",
       "    }\n",
       "\n",
       "    .dataframe tbody tr th {\n",
       "        vertical-align: top;\n",
       "    }\n",
       "\n",
       "    .dataframe thead th {\n",
       "        text-align: right;\n",
       "    }\n",
       "</style>\n",
       "<table border=\"1\" class=\"dataframe\">\n",
       "  <thead>\n",
       "    <tr style=\"text-align: right;\">\n",
       "      <th></th>\n",
       "      <th>placeID</th>\n",
       "      <th>latitude</th>\n",
       "      <th>longitude</th>\n",
       "      <th>the_geom_meter</th>\n",
       "      <th>address</th>\n",
       "      <th>city</th>\n",
       "      <th>state</th>\n",
       "      <th>country</th>\n",
       "      <th>fax</th>\n",
       "      <th>zip</th>\n",
       "    </tr>\n",
       "  </thead>\n",
       "  <tbody>\n",
       "  </tbody>\n",
       "</table>\n",
       "</div>"
      ],
      "text/plain": [
       "Empty DataFrame\n",
       "Columns: [placeID, latitude, longitude, the_geom_meter, address, city, state, country, fax, zip]\n",
       "Index: []"
      ]
     },
     "execution_count": 21,
     "metadata": {},
     "output_type": "execute_result"
    }
   ],
   "source": [
    "chefmozGeo_r[chefmozGeo_r['placeID']==132706]"
   ]
  },
  {
   "cell_type": "code",
   "execution_count": 22,
   "metadata": {},
   "outputs": [
    {
     "data": {
      "text/html": [
       "<div>\n",
       "<style scoped>\n",
       "    .dataframe tbody tr th:only-of-type {\n",
       "        vertical-align: middle;\n",
       "    }\n",
       "\n",
       "    .dataframe tbody tr th {\n",
       "        vertical-align: top;\n",
       "    }\n",
       "\n",
       "    .dataframe thead th {\n",
       "        text-align: right;\n",
       "    }\n",
       "</style>\n",
       "<table border=\"1\" class=\"dataframe\">\n",
       "  <thead>\n",
       "    <tr style=\"text-align: right;\">\n",
       "      <th></th>\n",
       "      <th>placeID</th>\n",
       "      <th>latitude</th>\n",
       "      <th>longitude</th>\n",
       "      <th>the_geom_meter</th>\n",
       "      <th>address</th>\n",
       "      <th>city</th>\n",
       "      <th>state</th>\n",
       "      <th>country</th>\n",
       "      <th>fax</th>\n",
       "      <th>zip</th>\n",
       "    </tr>\n",
       "  </thead>\n",
       "  <tbody>\n",
       "  </tbody>\n",
       "</table>\n",
       "</div>"
      ],
      "text/plain": [
       "Empty DataFrame\n",
       "Columns: [placeID, latitude, longitude, the_geom_meter, address, city, state, country, fax, zip]\n",
       "Index: []"
      ]
     },
     "execution_count": 22,
     "metadata": {},
     "output_type": "execute_result"
    }
   ],
   "source": [
    "chefmozGeo_r[chefmozGeo_r['placeID']==132584]"
   ]
  },
  {
   "cell_type": "code",
   "execution_count": 23,
   "metadata": {},
   "outputs": [
    {
     "data": {
      "text/html": [
       "<div>\n",
       "<style scoped>\n",
       "    .dataframe tbody tr th:only-of-type {\n",
       "        vertical-align: middle;\n",
       "    }\n",
       "\n",
       "    .dataframe tbody tr th {\n",
       "        vertical-align: top;\n",
       "    }\n",
       "\n",
       "    .dataframe thead th {\n",
       "        text-align: right;\n",
       "    }\n",
       "</style>\n",
       "<table border=\"1\" class=\"dataframe\">\n",
       "  <thead>\n",
       "    <tr style=\"text-align: right;\">\n",
       "      <th></th>\n",
       "      <th>placeID</th>\n",
       "      <th>alcohol</th>\n",
       "      <th>smoking_area</th>\n",
       "      <th>dress_code</th>\n",
       "      <th>accessibility</th>\n",
       "      <th>price</th>\n",
       "      <th>Rambience</th>\n",
       "      <th>franchise</th>\n",
       "      <th>area</th>\n",
       "      <th>other_services</th>\n",
       "      <th>Rpayment</th>\n",
       "      <th>Rpayment_accepts</th>\n",
       "      <th>Rcuisine</th>\n",
       "      <th>Rcuisine_Type</th>\n",
       "      <th>hours</th>\n",
       "      <th>days</th>\n",
       "      <th>parking_lot</th>\n",
       "      <th>parking</th>\n",
       "    </tr>\n",
       "  </thead>\n",
       "  <tbody>\n",
       "  </tbody>\n",
       "</table>\n",
       "</div>"
      ],
      "text/plain": [
       "Empty DataFrame\n",
       "Columns: [placeID, alcohol, smoking_area, dress_code, accessibility, price, Rambience, franchise, area, other_services, Rpayment, Rpayment_accepts, Rcuisine, Rcuisine_Type, hours, days, parking_lot, parking]\n",
       "Index: []"
      ]
     },
     "execution_count": 23,
     "metadata": {},
     "output_type": "execute_result"
    }
   ],
   "source": [
    "chefmozProfile_r[chefmozProfile_r['placeID']==132706]"
   ]
  },
  {
   "cell_type": "code",
   "execution_count": 24,
   "metadata": {},
   "outputs": [
    {
     "ename": "Exception",
     "evalue": "Data must be 1-dimensional",
     "output_type": "error",
     "traceback": [
      "\u001b[0;31m---------------------------------------------------------------------------\u001b[0m",
      "\u001b[0;31mException\u001b[0m                                 Traceback (most recent call last)",
      "\u001b[0;32m<ipython-input-24-b10fe8170e28>\u001b[0m in \u001b[0;36m<module>\u001b[0;34m()\u001b[0m\n\u001b[0;32m----> 1\u001b[0;31m \u001b[0mchefmozProfile_r\u001b[0m \u001b[0;34m=\u001b[0m \u001b[0mrs\u001b[0m\u001b[0;34m.\u001b[0m\u001b[0munionData\u001b[0m\u001b[0;34m(\u001b[0m\u001b[0mchefmozProfile_r\u001b[0m\u001b[0;34m,\u001b[0m\u001b[0;34m'placeID'\u001b[0m\u001b[0;34m)\u001b[0m\u001b[0;34m\u001b[0m\u001b[0m\n\u001b[0m",
      "\u001b[0;32m~/Repo/RestaurantRecomendation/library/RecSys.py\u001b[0m in \u001b[0;36munionData\u001b[0;34m(data, column)\u001b[0m\n\u001b[1;32m     55\u001b[0m     \u001b[0;32mfor\u001b[0m \u001b[0mcol\u001b[0m \u001b[0;32min\u001b[0m \u001b[0mcolumns\u001b[0m\u001b[0;34m:\u001b[0m\u001b[0;34m\u001b[0m\u001b[0m\n\u001b[1;32m     56\u001b[0m         \u001b[0mdata_list\u001b[0m \u001b[0;34m=\u001b[0m \u001b[0mdata\u001b[0m\u001b[0;34m.\u001b[0m\u001b[0mgroupby\u001b[0m\u001b[0;34m(\u001b[0m\u001b[0mcolumn\u001b[0m\u001b[0;34m)\u001b[0m\u001b[0;34m.\u001b[0m\u001b[0mapply\u001b[0m\u001b[0;34m(\u001b[0m\u001b[0;32mlambda\u001b[0m \u001b[0mx\u001b[0m\u001b[0;34m:\u001b[0m \u001b[0;34m';'\u001b[0m\u001b[0;34m.\u001b[0m\u001b[0mjoin\u001b[0m\u001b[0;34m(\u001b[0m\u001b[0mmap\u001b[0m\u001b[0;34m(\u001b[0m\u001b[0;32mlambda\u001b[0m \u001b[0my\u001b[0m\u001b[0;34m:\u001b[0m \u001b[0mstr\u001b[0m\u001b[0;34m(\u001b[0m\u001b[0my\u001b[0m\u001b[0;34m)\u001b[0m\u001b[0;34m,\u001b[0m\u001b[0mlist\u001b[0m\u001b[0;34m(\u001b[0m\u001b[0mx\u001b[0m\u001b[0;34m[\u001b[0m\u001b[0mcol\u001b[0m\u001b[0;34m]\u001b[0m\u001b[0;34m.\u001b[0m\u001b[0mdrop_duplicates\u001b[0m\u001b[0;34m(\u001b[0m\u001b[0;34m)\u001b[0m\u001b[0;34m)\u001b[0m\u001b[0;34m)\u001b[0m\u001b[0;34m)\u001b[0m\u001b[0;34m)\u001b[0m\u001b[0;34m\u001b[0m\u001b[0m\n\u001b[0;32m---> 57\u001b[0;31m         \u001b[0mdata_list\u001b[0m \u001b[0;34m=\u001b[0m \u001b[0mpd\u001b[0m\u001b[0;34m.\u001b[0m\u001b[0mDataFrame\u001b[0m\u001b[0;34m(\u001b[0m\u001b[0;34m{\u001b[0m\u001b[0mcolumn\u001b[0m\u001b[0;34m:\u001b[0m\u001b[0mdata_list\u001b[0m\u001b[0;34m.\u001b[0m\u001b[0mindex\u001b[0m\u001b[0;34m,\u001b[0m\u001b[0mcol\u001b[0m\u001b[0;34m:\u001b[0m\u001b[0mdata_list\u001b[0m\u001b[0;34m.\u001b[0m\u001b[0mvalues\u001b[0m\u001b[0;34m}\u001b[0m\u001b[0;34m)\u001b[0m\u001b[0;34m\u001b[0m\u001b[0m\n\u001b[0m\u001b[1;32m     58\u001b[0m         \u001b[0mdataRe\u001b[0m \u001b[0;34m=\u001b[0m \u001b[0mdataRe\u001b[0m\u001b[0;34m.\u001b[0m\u001b[0mmerge\u001b[0m\u001b[0;34m(\u001b[0m\u001b[0mdata_list\u001b[0m\u001b[0;34m,\u001b[0m \u001b[0mhow\u001b[0m \u001b[0;34m=\u001b[0m \u001b[0;34m'left'\u001b[0m\u001b[0;34m,\u001b[0m \u001b[0mon\u001b[0m \u001b[0;34m=\u001b[0m \u001b[0mcolumn\u001b[0m\u001b[0;34m)\u001b[0m\u001b[0;34m\u001b[0m\u001b[0m\n\u001b[1;32m     59\u001b[0m     \u001b[0mdataRe\u001b[0m\u001b[0;34m=\u001b[0m\u001b[0mdataRe\u001b[0m\u001b[0;34m.\u001b[0m\u001b[0mdrop_duplicates\u001b[0m\u001b[0;34m(\u001b[0m\u001b[0mcolumn\u001b[0m\u001b[0;34m)\u001b[0m\u001b[0;34m\u001b[0m\u001b[0m\n",
      "\u001b[0;32m~/anaconda3/lib/python3.7/site-packages/pandas/core/frame.py\u001b[0m in \u001b[0;36m__init__\u001b[0;34m(self, data, index, columns, dtype, copy)\u001b[0m\n\u001b[1;32m    346\u001b[0m                                  dtype=dtype, copy=copy)\n\u001b[1;32m    347\u001b[0m         \u001b[0;32melif\u001b[0m \u001b[0misinstance\u001b[0m\u001b[0;34m(\u001b[0m\u001b[0mdata\u001b[0m\u001b[0;34m,\u001b[0m \u001b[0mdict\u001b[0m\u001b[0;34m)\u001b[0m\u001b[0;34m:\u001b[0m\u001b[0;34m\u001b[0m\u001b[0m\n\u001b[0;32m--> 348\u001b[0;31m             \u001b[0mmgr\u001b[0m \u001b[0;34m=\u001b[0m \u001b[0mself\u001b[0m\u001b[0;34m.\u001b[0m\u001b[0m_init_dict\u001b[0m\u001b[0;34m(\u001b[0m\u001b[0mdata\u001b[0m\u001b[0;34m,\u001b[0m \u001b[0mindex\u001b[0m\u001b[0;34m,\u001b[0m \u001b[0mcolumns\u001b[0m\u001b[0;34m,\u001b[0m \u001b[0mdtype\u001b[0m\u001b[0;34m=\u001b[0m\u001b[0mdtype\u001b[0m\u001b[0;34m)\u001b[0m\u001b[0;34m\u001b[0m\u001b[0m\n\u001b[0m\u001b[1;32m    349\u001b[0m         \u001b[0;32melif\u001b[0m \u001b[0misinstance\u001b[0m\u001b[0;34m(\u001b[0m\u001b[0mdata\u001b[0m\u001b[0;34m,\u001b[0m \u001b[0mma\u001b[0m\u001b[0;34m.\u001b[0m\u001b[0mMaskedArray\u001b[0m\u001b[0;34m)\u001b[0m\u001b[0;34m:\u001b[0m\u001b[0;34m\u001b[0m\u001b[0m\n\u001b[1;32m    350\u001b[0m             \u001b[0;32mimport\u001b[0m \u001b[0mnumpy\u001b[0m\u001b[0;34m.\u001b[0m\u001b[0mma\u001b[0m\u001b[0;34m.\u001b[0m\u001b[0mmrecords\u001b[0m \u001b[0;32mas\u001b[0m \u001b[0mmrecords\u001b[0m\u001b[0;34m\u001b[0m\u001b[0m\n",
      "\u001b[0;32m~/anaconda3/lib/python3.7/site-packages/pandas/core/frame.py\u001b[0m in \u001b[0;36m_init_dict\u001b[0;34m(self, data, index, columns, dtype)\u001b[0m\n\u001b[1;32m    457\u001b[0m             \u001b[0marrays\u001b[0m \u001b[0;34m=\u001b[0m \u001b[0;34m[\u001b[0m\u001b[0mdata\u001b[0m\u001b[0;34m[\u001b[0m\u001b[0mk\u001b[0m\u001b[0;34m]\u001b[0m \u001b[0;32mfor\u001b[0m \u001b[0mk\u001b[0m \u001b[0;32min\u001b[0m \u001b[0mkeys\u001b[0m\u001b[0;34m]\u001b[0m\u001b[0;34m\u001b[0m\u001b[0m\n\u001b[1;32m    458\u001b[0m \u001b[0;34m\u001b[0m\u001b[0m\n\u001b[0;32m--> 459\u001b[0;31m         \u001b[0;32mreturn\u001b[0m \u001b[0m_arrays_to_mgr\u001b[0m\u001b[0;34m(\u001b[0m\u001b[0marrays\u001b[0m\u001b[0;34m,\u001b[0m \u001b[0mdata_names\u001b[0m\u001b[0;34m,\u001b[0m \u001b[0mindex\u001b[0m\u001b[0;34m,\u001b[0m \u001b[0mcolumns\u001b[0m\u001b[0;34m,\u001b[0m \u001b[0mdtype\u001b[0m\u001b[0;34m=\u001b[0m\u001b[0mdtype\u001b[0m\u001b[0;34m)\u001b[0m\u001b[0;34m\u001b[0m\u001b[0m\n\u001b[0m\u001b[1;32m    460\u001b[0m \u001b[0;34m\u001b[0m\u001b[0m\n\u001b[1;32m    461\u001b[0m     \u001b[0;32mdef\u001b[0m \u001b[0m_init_ndarray\u001b[0m\u001b[0;34m(\u001b[0m\u001b[0mself\u001b[0m\u001b[0;34m,\u001b[0m \u001b[0mvalues\u001b[0m\u001b[0;34m,\u001b[0m \u001b[0mindex\u001b[0m\u001b[0;34m,\u001b[0m \u001b[0mcolumns\u001b[0m\u001b[0;34m,\u001b[0m \u001b[0mdtype\u001b[0m\u001b[0;34m=\u001b[0m\u001b[0;32mNone\u001b[0m\u001b[0;34m,\u001b[0m \u001b[0mcopy\u001b[0m\u001b[0;34m=\u001b[0m\u001b[0;32mFalse\u001b[0m\u001b[0;34m)\u001b[0m\u001b[0;34m:\u001b[0m\u001b[0;34m\u001b[0m\u001b[0m\n",
      "\u001b[0;32m~/anaconda3/lib/python3.7/site-packages/pandas/core/frame.py\u001b[0m in \u001b[0;36m_arrays_to_mgr\u001b[0;34m(arrays, arr_names, index, columns, dtype)\u001b[0m\n\u001b[1;32m   7357\u001b[0m \u001b[0;34m\u001b[0m\u001b[0m\n\u001b[1;32m   7358\u001b[0m     \u001b[0;31m# don't force copy because getting jammed in an ndarray anyway\u001b[0m\u001b[0;34m\u001b[0m\u001b[0;34m\u001b[0m\u001b[0m\n\u001b[0;32m-> 7359\u001b[0;31m     \u001b[0marrays\u001b[0m \u001b[0;34m=\u001b[0m \u001b[0m_homogenize\u001b[0m\u001b[0;34m(\u001b[0m\u001b[0marrays\u001b[0m\u001b[0;34m,\u001b[0m \u001b[0mindex\u001b[0m\u001b[0;34m,\u001b[0m \u001b[0mdtype\u001b[0m\u001b[0;34m)\u001b[0m\u001b[0;34m\u001b[0m\u001b[0m\n\u001b[0m\u001b[1;32m   7360\u001b[0m \u001b[0;34m\u001b[0m\u001b[0m\n\u001b[1;32m   7361\u001b[0m     \u001b[0;31m# from BlockManager perspective\u001b[0m\u001b[0;34m\u001b[0m\u001b[0;34m\u001b[0m\u001b[0m\n",
      "\u001b[0;32m~/anaconda3/lib/python3.7/site-packages/pandas/core/frame.py\u001b[0m in \u001b[0;36m_homogenize\u001b[0;34m(data, index, dtype)\u001b[0m\n\u001b[1;32m   7667\u001b[0m                 \u001b[0mv\u001b[0m \u001b[0;34m=\u001b[0m \u001b[0mlib\u001b[0m\u001b[0;34m.\u001b[0m\u001b[0mfast_multiget\u001b[0m\u001b[0;34m(\u001b[0m\u001b[0mv\u001b[0m\u001b[0;34m,\u001b[0m \u001b[0moindex\u001b[0m\u001b[0;34m.\u001b[0m\u001b[0mvalues\u001b[0m\u001b[0;34m,\u001b[0m \u001b[0mdefault\u001b[0m\u001b[0;34m=\u001b[0m\u001b[0mnp\u001b[0m\u001b[0;34m.\u001b[0m\u001b[0mnan\u001b[0m\u001b[0;34m)\u001b[0m\u001b[0;34m\u001b[0m\u001b[0m\n\u001b[1;32m   7668\u001b[0m             v = _sanitize_array(v, index, dtype=dtype, copy=False,\n\u001b[0;32m-> 7669\u001b[0;31m                                 raise_cast_failure=False)\n\u001b[0m\u001b[1;32m   7670\u001b[0m \u001b[0;34m\u001b[0m\u001b[0m\n\u001b[1;32m   7671\u001b[0m         \u001b[0mhomogenized\u001b[0m\u001b[0;34m.\u001b[0m\u001b[0mappend\u001b[0m\u001b[0;34m(\u001b[0m\u001b[0mv\u001b[0m\u001b[0;34m)\u001b[0m\u001b[0;34m\u001b[0m\u001b[0m\n",
      "\u001b[0;32m~/anaconda3/lib/python3.7/site-packages/pandas/core/series.py\u001b[0m in \u001b[0;36m_sanitize_array\u001b[0;34m(data, index, dtype, copy, raise_cast_failure)\u001b[0m\n\u001b[1;32m   4163\u001b[0m     \u001b[0;32melif\u001b[0m \u001b[0msubarr\u001b[0m\u001b[0;34m.\u001b[0m\u001b[0mndim\u001b[0m \u001b[0;34m>\u001b[0m \u001b[0;36m1\u001b[0m\u001b[0;34m:\u001b[0m\u001b[0;34m\u001b[0m\u001b[0m\n\u001b[1;32m   4164\u001b[0m         \u001b[0;32mif\u001b[0m \u001b[0misinstance\u001b[0m\u001b[0;34m(\u001b[0m\u001b[0mdata\u001b[0m\u001b[0;34m,\u001b[0m \u001b[0mnp\u001b[0m\u001b[0;34m.\u001b[0m\u001b[0mndarray\u001b[0m\u001b[0;34m)\u001b[0m\u001b[0;34m:\u001b[0m\u001b[0;34m\u001b[0m\u001b[0m\n\u001b[0;32m-> 4165\u001b[0;31m             \u001b[0;32mraise\u001b[0m \u001b[0mException\u001b[0m\u001b[0;34m(\u001b[0m\u001b[0;34m'Data must be 1-dimensional'\u001b[0m\u001b[0;34m)\u001b[0m\u001b[0;34m\u001b[0m\u001b[0m\n\u001b[0m\u001b[1;32m   4166\u001b[0m         \u001b[0;32melse\u001b[0m\u001b[0;34m:\u001b[0m\u001b[0;34m\u001b[0m\u001b[0m\n\u001b[1;32m   4167\u001b[0m             \u001b[0msubarr\u001b[0m \u001b[0;34m=\u001b[0m \u001b[0mcom\u001b[0m\u001b[0;34m.\u001b[0m\u001b[0m_asarray_tuplesafe\u001b[0m\u001b[0;34m(\u001b[0m\u001b[0mdata\u001b[0m\u001b[0;34m,\u001b[0m \u001b[0mdtype\u001b[0m\u001b[0;34m=\u001b[0m\u001b[0mdtype\u001b[0m\u001b[0;34m)\u001b[0m\u001b[0;34m\u001b[0m\u001b[0m\n",
      "\u001b[0;31mException\u001b[0m: Data must be 1-dimensional"
     ]
    }
   ],
   "source": [
    "chefmozProfile_r = rs.unionData(chefmozProfile_r,'placeID')"
   ]
  },
  {
   "cell_type": "code",
   "execution_count": null,
   "metadata": {},
   "outputs": [],
   "source": [
    "chefmozProfile_r.columns"
   ]
  },
  {
   "cell_type": "code",
   "execution_count": null,
   "metadata": {},
   "outputs": [],
   "source": [
    "columns = ['alcohol', 'smoking_area', 'dress_code', 'accessibility',\n",
    "       'price', 'Rambience', 'franchise', 'area', 'other_services', 'Rpayment',\n",
    "       'Rpayment_accepts', 'Rcuisine', 'Rcuisine_Type', 'hours', 'days',\n",
    "       'parking_lot', 'parking']\n",
    "for col in columns:\n",
    "    for i in chefmozProfile_r[col]:\n",
    "            print(col)"
   ]
  },
  {
   "cell_type": "code",
   "execution_count": null,
   "metadata": {},
   "outputs": [],
   "source": [
    "chefmozProfile_r['alcohol']"
   ]
  },
  {
   "cell_type": "code",
   "execution_count": null,
   "metadata": {},
   "outputs": [],
   "source": [
    "columns = ['alcohol', 'smoking_area', 'dress_code', 'accessibility',\n",
    "       'price', 'Rambience', 'franchise', 'area', 'other_services', 'Rpayment',\n",
    "       'Rpayment_accepts', 'Rcuisine', 'Rcuisine_Type', 'hours', 'days',\n",
    "       'parking_lot', 'parking']\n",
    "for col in columns:\n",
    "    print(col)\n",
    "    print(chefmozProfile_r[col].unique())"
   ]
  },
  {
   "cell_type": "code",
   "execution_count": null,
   "metadata": {},
   "outputs": [],
   "source": [
    "userProfile_r.head()"
   ]
  },
  {
   "cell_type": "code",
   "execution_count": null,
   "metadata": {},
   "outputs": [],
   "source": [
    "chefmozProfile_r.head()"
   ]
  },
  {
   "cell_type": "code",
   "execution_count": null,
   "metadata": {},
   "outputs": [],
   "source": [
    "listPlaceID2Drop = list(chefmozProfile_r[chefmozProfile_r[\"Rcuisine_Type\"]=='nan']['placeID'].values)"
   ]
  },
  {
   "cell_type": "code",
   "execution_count": null,
   "metadata": {},
   "outputs": [],
   "source": [
    "chefmozcuisine[chefmozcuisine['placeID']==135040]"
   ]
  },
  {
   "cell_type": "code",
   "execution_count": null,
   "metadata": {},
   "outputs": [],
   "source": [
    "geoplaces2[geoplaces2['placeID'].isin(l)]"
   ]
  },
  {
   "cell_type": "code",
   "execution_count": null,
   "metadata": {},
   "outputs": [],
   "source": [
    "rating_final[rating_final['placeID']==135040]"
   ]
  },
  {
   "cell_type": "code",
   "execution_count": null,
   "metadata": {},
   "outputs": [],
   "source": [
    "rating_final = rating_final.drop(rating_final['placeID'].isin(listPlaceID2Drop).index)\n",
    "geoplaces2 = geoplaces2.drop(geoplaces2['placeID'].isin(listPlaceID2Drop).index)\n",
    "rating_final = rating_final.drop(rating_final['placeID'].isin(listPlaceID2Drop).index)\n",
    "rating_final = rating_final.drop(rating_final['placeID'].isin(listPlaceID2Drop).index)\n",
    "rating_final = rating_final.drop(rating_final['placeID'].isin(listPlaceID2Drop).index)"
   ]
  },
  {
   "cell_type": "code",
   "execution_count": null,
   "metadata": {},
   "outputs": [],
   "source": [
    "rating_final[rating_final['placeID'].isin(listPlaceID2Drop)]"
   ]
  },
  {
   "cell_type": "code",
   "execution_count": null,
   "metadata": {},
   "outputs": [],
   "source": []
  }
 ],
 "metadata": {
  "kernelspec": {
   "display_name": "Python 3",
   "language": "python",
   "name": "python3"
  },
  "language_info": {
   "codemirror_mode": {
    "name": "ipython",
    "version": 3
   },
   "file_extension": ".py",
   "mimetype": "text/x-python",
   "name": "python",
   "nbconvert_exporter": "python",
   "pygments_lexer": "ipython3",
   "version": "3.7.0"
  }
 },
 "nbformat": 4,
 "nbformat_minor": 2
}

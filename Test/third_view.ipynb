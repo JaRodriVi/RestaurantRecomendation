{
 "cells": [
  {
   "cell_type": "code",
   "execution_count": 1,
   "metadata": {},
   "outputs": [],
   "source": [
    "import pandas as pd\n",
    "import numpy as np\n",
    "import seaborn as sns\n",
    "import matplotlib.pyplot as plt\n",
    "import sys\n",
    "sys.path.append(\"../library\")\n",
    "import RecSys as rs\n",
    "#patch = \"\" # For Google CoLab\n",
    "path = \"../data/\""
   ]
  },
  {
   "cell_type": "code",
   "execution_count": 59,
   "metadata": {},
   "outputs": [],
   "source": [
    "chefmozacccepts = pd.read_csv(path+\"chefmozaccepts.csv\")\n",
    "chefmozcuisine = pd.read_csv(path+\"chefmozcuisine.csv\")\n",
    "chefmozhours4 = pd.read_csv(path+\"chefmozhours4.csv\")\n",
    "chefmozparking = pd.read_csv(path+\"chefmozparking.csv\")\n",
    "geoplaces2 = pd.read_csv(path+\"geoplaces2.csv\")\n",
    "rating_final = pd.read_csv(path+\"rating_final.csv\")\n",
    "usercuisine = pd.read_csv(path+\"usercuisine.csv\")\n",
    "userpayment = pd.read_csv(path+\"userpayment.csv\")\n",
    "userprofile = pd.read_csv(path+\"userprofile.csv\")\n",
    "# This will contain the list of Datas that we will \n",
    "# use for the Recommendation System\n",
    "listOfData_r = [rating_final]"
   ]
  },
  {
   "cell_type": "code",
   "execution_count": 60,
   "metadata": {},
   "outputs": [],
   "source": [
    "listOfData = [chefmozacccepts,chefmozcuisine,chefmozhours4,\n",
    "              chefmozparking,geoplaces2,rating_final,\n",
    "              usercuisine,userpayment,userprofile]"
   ]
  },
  {
   "cell_type": "code",
   "execution_count": 61,
   "metadata": {},
   "outputs": [],
   "source": [
    "### We have to do the secondview clean"
   ]
  },
  {
   "cell_type": "code",
   "execution_count": 62,
   "metadata": {},
   "outputs": [],
   "source": [
    "rs.replaceID(realID=132706,falseID=132584,ID='placeID',data=listOfData_r)"
   ]
  },
  {
   "cell_type": "code",
   "execution_count": 63,
   "metadata": {},
   "outputs": [],
   "source": [
    "###############\n",
    "# Those will be the data that we will use for the model and app\n",
    "###############\n",
    "userProfile_r = userprofile[['userID', 'smoker', 'drink_level','dress_preference', \n",
    "                             'ambience', 'transport', 'marital_status','hijos', \n",
    "                             'religion', 'activity']]\n",
    "usercuisine_list = usercuisine.groupby('userID').apply(lambda x: list(x['Rcuisine']))\n",
    "usercuisine_list = pd.DataFrame({'userID':usercuisine_list.index,'Rcuisine':usercuisine_list.values})\n",
    "userProfile_r = userProfile_r.merge(usercuisine_list, how = 'left', on = 'userID')\n",
    "userpayment_list= userpayment.groupby('userID').apply(lambda x: list(x['Upayment']))\n",
    "userpayment_list = pd.DataFrame({'userID':userpayment_list.index,'Upayment':userpayment_list.values})\n",
    "userProfile_r = userProfile_r.merge(userpayment_list, how = 'left', on = 'userID')\n",
    "\n",
    "userGeo_r = userprofile[['userID', 'latitude', 'longitude']]\n",
    "\n",
    "userChefmozRelation_r = rating_final\n",
    "userChefmozRelation_r = userChefmozRelation_r.merge(userpayment, how='left', on='userID')\n",
    "userChefmozRelation_r = userChefmozRelation_r.merge(usercuisine, how='left', on='userID')\n",
    "\n",
    "chefmozProfile_r = geoplaces2[['placeID', 'alcohol', 'smoking_area','dress_code',\n",
    "                               'accessibility', 'price', 'Rambience', 'franchise',\n",
    "                               'area', 'other_services']]\n",
    "chefmozProfile_r= chefmozProfile_r.merge(chefmozacccepts, how = 'left', on = 'placeID')\n",
    "chefmozProfile_r= chefmozProfile_r.merge(chefmozcuisine, how = 'left', on = 'placeID')\n",
    "chefmozProfile_r= chefmozProfile_r.merge(chefmozhours4, how = 'left', on = 'placeID')\n",
    "chefmozProfile_r= chefmozProfile_r.merge(chefmozparking, how = 'left', on = 'placeID')\n",
    "\n",
    "chefmozGeo_r = geoplaces2[['placeID', 'latitude', 'longitude', 'the_geom_meter',\n",
    "                           'address', 'city', 'state', 'country', 'fax', 'zip']]"
   ]
  },
  {
   "cell_type": "code",
   "execution_count": 64,
   "metadata": {},
   "outputs": [],
   "source": [
    "l,df = rs.checkData(listOfData,'?')"
   ]
  },
  {
   "cell_type": "code",
   "execution_count": 66,
   "metadata": {},
   "outputs": [
    {
     "data": {
      "text/plain": [
       "[(4, 'address'),\n",
       " (4, 'city'),\n",
       " (4, 'state'),\n",
       " (4, 'country'),\n",
       " (4, 'fax'),\n",
       " (4, 'zip'),\n",
       " (4, 'url'),\n",
       " (8, 'smoker'),\n",
       " (8, 'dress_preference'),\n",
       " (8, 'ambience'),\n",
       " (8, 'transport'),\n",
       " (8, 'marital_status'),\n",
       " (8, 'hijos'),\n",
       " (8, 'activity'),\n",
       " (8, 'budget')]"
      ]
     },
     "execution_count": 66,
     "metadata": {},
     "output_type": "execute_result"
    }
   ],
   "source": [
    "l"
   ]
  },
  {
   "cell_type": "code",
   "execution_count": 71,
   "metadata": {},
   "outputs": [
    {
     "data": {
      "text/plain": [
       "True"
      ]
     },
     "execution_count": 71,
     "metadata": {},
     "output_type": "execute_result"
    }
   ],
   "source": [
    "len(userprofile['userID'].unique())==len(userprofile['userID'])"
   ]
  },
  {
   "cell_type": "code",
   "execution_count": 72,
   "metadata": {},
   "outputs": [
    {
     "data": {
      "text/plain": [
       "True"
      ]
     },
     "execution_count": 72,
     "metadata": {},
     "output_type": "execute_result"
    }
   ],
   "source": [
    "len(geoplaces2['placeID'].unique())==len(geoplaces2['placeID'])"
   ]
  },
  {
   "cell_type": "code",
   "execution_count": 73,
   "metadata": {},
   "outputs": [
    {
     "data": {
      "text/plain": [
       "False"
      ]
     },
     "execution_count": 73,
     "metadata": {},
     "output_type": "execute_result"
    }
   ],
   "source": [
    "len(chefmozparking['placeID'].unique())==len(chefmozparking['placeID'])"
   ]
  },
  {
   "cell_type": "code",
   "execution_count": 92,
   "metadata": {},
   "outputs": [
    {
     "data": {
      "text/html": [
       "<div>\n",
       "<style scoped>\n",
       "    .dataframe tbody tr th:only-of-type {\n",
       "        vertical-align: middle;\n",
       "    }\n",
       "\n",
       "    .dataframe tbody tr th {\n",
       "        vertical-align: top;\n",
       "    }\n",
       "\n",
       "    .dataframe thead th {\n",
       "        text-align: right;\n",
       "    }\n",
       "</style>\n",
       "<table border=\"1\" class=\"dataframe\">\n",
       "  <thead>\n",
       "    <tr style=\"text-align: right;\">\n",
       "      <th></th>\n",
       "      <th>placeID</th>\n",
       "      <th>parking_lot</th>\n",
       "    </tr>\n",
       "  </thead>\n",
       "  <tbody>\n",
       "    <tr>\n",
       "      <th>615</th>\n",
       "      <td>132557</td>\n",
       "      <td>public</td>\n",
       "    </tr>\n",
       "    <tr>\n",
       "      <th>616</th>\n",
       "      <td>132557</td>\n",
       "      <td>street</td>\n",
       "    </tr>\n",
       "    <tr>\n",
       "      <th>619</th>\n",
       "      <td>132531</td>\n",
       "      <td>public</td>\n",
       "    </tr>\n",
       "    <tr>\n",
       "      <th>620</th>\n",
       "      <td>132531</td>\n",
       "      <td>street</td>\n",
       "    </tr>\n",
       "    <tr>\n",
       "      <th>621</th>\n",
       "      <td>132530</td>\n",
       "      <td>fee</td>\n",
       "    </tr>\n",
       "  </tbody>\n",
       "</table>\n",
       "</div>"
      ],
      "text/plain": [
       "     placeID parking_lot\n",
       "615   132557      public\n",
       "616   132557      street\n",
       "619   132531      public\n",
       "620   132531      street\n",
       "621   132530         fee"
      ]
     },
     "execution_count": 92,
     "metadata": {},
     "output_type": "execute_result"
    }
   ],
   "source": [
    "import collections\n",
    "duplicate = [item for item, count in collections.Counter(chefmozparking['placeID']).items() if count > 1]\n",
    "chefmozparking[chefmozparking['placeID'].isin(duplicate)].head(5)"
   ]
  },
  {
   "cell_type": "code",
   "execution_count": 93,
   "metadata": {},
   "outputs": [
    {
     "data": {
      "text/plain": [
       "False"
      ]
     },
     "execution_count": 93,
     "metadata": {},
     "output_type": "execute_result"
    }
   ],
   "source": [
    "len(chefmozhours4['placeID'].unique())==len(chefmozhours4['placeID'])"
   ]
  },
  {
   "cell_type": "code",
   "execution_count": 95,
   "metadata": {},
   "outputs": [
    {
     "data": {
      "text/html": [
       "<div>\n",
       "<style scoped>\n",
       "    .dataframe tbody tr th:only-of-type {\n",
       "        vertical-align: middle;\n",
       "    }\n",
       "\n",
       "    .dataframe tbody tr th {\n",
       "        vertical-align: top;\n",
       "    }\n",
       "\n",
       "    .dataframe thead th {\n",
       "        text-align: right;\n",
       "    }\n",
       "</style>\n",
       "<table border=\"1\" class=\"dataframe\">\n",
       "  <thead>\n",
       "    <tr style=\"text-align: right;\">\n",
       "      <th></th>\n",
       "      <th>placeID</th>\n",
       "      <th>hours</th>\n",
       "      <th>days</th>\n",
       "    </tr>\n",
       "  </thead>\n",
       "  <tbody>\n",
       "    <tr>\n",
       "      <th>0</th>\n",
       "      <td>135111</td>\n",
       "      <td>00:00-23:30;</td>\n",
       "      <td>Mon;Tue;Wed;Thu;Fri;</td>\n",
       "    </tr>\n",
       "    <tr>\n",
       "      <th>1</th>\n",
       "      <td>135111</td>\n",
       "      <td>00:00-23:30;</td>\n",
       "      <td>Sat;</td>\n",
       "    </tr>\n",
       "    <tr>\n",
       "      <th>2</th>\n",
       "      <td>135111</td>\n",
       "      <td>00:00-23:30;</td>\n",
       "      <td>Sun;</td>\n",
       "    </tr>\n",
       "    <tr>\n",
       "      <th>3</th>\n",
       "      <td>135110</td>\n",
       "      <td>08:00-19:00;</td>\n",
       "      <td>Mon;Tue;Wed;Thu;Fri;</td>\n",
       "    </tr>\n",
       "    <tr>\n",
       "      <th>4</th>\n",
       "      <td>135110</td>\n",
       "      <td>00:00-00:00;</td>\n",
       "      <td>Sat;</td>\n",
       "    </tr>\n",
       "  </tbody>\n",
       "</table>\n",
       "</div>"
      ],
      "text/plain": [
       "   placeID         hours                  days\n",
       "0   135111  00:00-23:30;  Mon;Tue;Wed;Thu;Fri;\n",
       "1   135111  00:00-23:30;                  Sat;\n",
       "2   135111  00:00-23:30;                  Sun;\n",
       "3   135110  08:00-19:00;  Mon;Tue;Wed;Thu;Fri;\n",
       "4   135110  00:00-00:00;                  Sat;"
      ]
     },
     "execution_count": 95,
     "metadata": {},
     "output_type": "execute_result"
    }
   ],
   "source": [
    "import collections\n",
    "duplicate = [item for item, count in collections.Counter(chefmozhours4['placeID']).items() if count > 1]\n",
    "chefmozhours4[chefmozhours4['placeID'].isin(duplicate)].head(5)"
   ]
  },
  {
   "cell_type": "code",
   "execution_count": 96,
   "metadata": {},
   "outputs": [
    {
     "data": {
      "text/plain": [
       "False"
      ]
     },
     "execution_count": 96,
     "metadata": {},
     "output_type": "execute_result"
    }
   ],
   "source": [
    "len(chefmozcuisine['placeID'].unique())==len(chefmozcuisine['placeID'])"
   ]
  },
  {
   "cell_type": "code",
   "execution_count": 97,
   "metadata": {},
   "outputs": [
    {
     "name": "stdout",
     "output_type": "stream",
     "text": [
      "[135103, 135102, 135101, 135100, 135099, 135098, 135097, 135092, 135091, 135086, 135073, 135071, 135053, 135052, 135043, 135041, 135032, 135030, 135029, 135026, 135020, 135007, 135004, 134997, 134990, 134983, 134982, 134976, 134972, 132962, 132917, 132867, 132866, 132852, 132851, 132774, 132773, 132555, 132531, 132530, 132527, 132521, 132493, 132491, 132483, 132474, 132449, 132443, 132442, 132439, 132419, 132417, 132413, 132392, 132341, 132333, 132329, 132328, 132319, 132318, 132317, 132312, 132302, 132296, 132289, 132284, 132273, 132258, 132255, 132253, 132246, 132244, 132243, 132240, 132238, 132237, 132235, 132228, 132226, 132223, 132217, 132216, 132214, 132207, 132187, 132186, 132184, 132182, 132177, 132171, 132166, 132161, 132155, 132147, 132137, 132128, 132126, 132125, 132109, 132108, 132101, 132100, 132031, 132030, 132028, 132024, 132023, 132012, 132010, 132005]\n"
     ]
    },
    {
     "data": {
      "text/html": [
       "<div>\n",
       "<style scoped>\n",
       "    .dataframe tbody tr th:only-of-type {\n",
       "        vertical-align: middle;\n",
       "    }\n",
       "\n",
       "    .dataframe tbody tr th {\n",
       "        vertical-align: top;\n",
       "    }\n",
       "\n",
       "    .dataframe thead th {\n",
       "        text-align: right;\n",
       "    }\n",
       "</style>\n",
       "<table border=\"1\" class=\"dataframe\">\n",
       "  <thead>\n",
       "    <tr style=\"text-align: right;\">\n",
       "      <th></th>\n",
       "      <th>placeID</th>\n",
       "      <th>Rcuisine</th>\n",
       "    </tr>\n",
       "  </thead>\n",
       "  <tbody>\n",
       "    <tr>\n",
       "      <th>6</th>\n",
       "      <td>135103</td>\n",
       "      <td>Burgers</td>\n",
       "    </tr>\n",
       "    <tr>\n",
       "      <th>7</th>\n",
       "      <td>135103</td>\n",
       "      <td>Dessert-Ice_Cream</td>\n",
       "    </tr>\n",
       "    <tr>\n",
       "      <th>8</th>\n",
       "      <td>135103</td>\n",
       "      <td>Fast_Food</td>\n",
       "    </tr>\n",
       "    <tr>\n",
       "      <th>9</th>\n",
       "      <td>135103</td>\n",
       "      <td>Hot_Dogs</td>\n",
       "    </tr>\n",
       "    <tr>\n",
       "      <th>10</th>\n",
       "      <td>135102</td>\n",
       "      <td>Latin_American</td>\n",
       "    </tr>\n",
       "  </tbody>\n",
       "</table>\n",
       "</div>"
      ],
      "text/plain": [
       "    placeID           Rcuisine\n",
       "6    135103            Burgers\n",
       "7    135103  Dessert-Ice_Cream\n",
       "8    135103          Fast_Food\n",
       "9    135103           Hot_Dogs\n",
       "10   135102     Latin_American"
      ]
     },
     "execution_count": 97,
     "metadata": {},
     "output_type": "execute_result"
    }
   ],
   "source": [
    "import collections\n",
    "duplicate = [item for item, count in collections.Counter(chefmozcuisine['placeID']).items() if count > 1]\n",
    "print(duplicate)\n",
    "chefmozcuisine[chefmozcuisine['placeID'].isin(duplicate)].head(5)"
   ]
  },
  {
   "cell_type": "code",
   "execution_count": 98,
   "metadata": {},
   "outputs": [
    {
     "data": {
      "text/plain": [
       "False"
      ]
     },
     "execution_count": 98,
     "metadata": {},
     "output_type": "execute_result"
    }
   ],
   "source": [
    "len(chefmozacccepts['placeID'].unique())==len(chefmozacccepts['placeID'])"
   ]
  },
  {
   "cell_type": "code",
   "execution_count": 99,
   "metadata": {},
   "outputs": [
    {
     "name": "stdout",
     "output_type": "stream",
     "text": [
      "[135110, 135107, 135106, 135104, 135103, 135102, 135099, 135098, 135097, 135093, 135091, 135089, 135086, 135084, 135081, 135080, 135079, 135078, 135076, 135074, 135073, 135072, 135071, 135068, 135067, 135066, 135065, 135064, 135061, 135058, 135057, 135055, 135054, 135053, 135052, 135050, 135048, 135047, 135046, 135045, 135040, 135037, 135035, 135034, 135033, 135032, 135031, 135029, 135028, 135027, 135025, 135024, 135018, 135008, 135007, 135006, 135004, 135002, 135001, 134994, 134993, 134992, 134991, 134989, 134988, 134985, 134984, 134983, 134978, 134977, 134976, 134975, 134974, 134973, 134972, 134971, 134970, 133043, 133033, 133030, 133027, 133026, 132958, 132957, 132956, 132955, 132954, 132953, 132947, 132931, 132927, 132917, 132900, 132892, 132888, 132887, 132886, 132880, 132875, 132873, 132872, 132863, 132862, 132861, 132860, 132859, 132857, 132854, 132835, 132826, 132824, 132820, 132811, 132808, 132807, 132806, 132804, 132802, 132801, 132799, 132797, 132796, 132795, 132793, 132792, 132791, 132790, 132789, 132788, 132787, 132786, 132785, 132784, 132783, 132782, 132781, 132779, 132777, 132776, 132774, 132771, 132768, 132767, 132761, 132760, 132756, 132755, 132751, 132750, 132747, 132736, 132735, 132734, 132733, 132726, 132724, 132723, 132720, 132706, 132700, 132699, 132697, 132693, 132692, 132691, 132689, 132688, 132687, 132686, 132685, 132684, 132683, 132682, 132629, 132626, 132625, 132624, 132623, 132619, 132617, 132612, 132606, 132598, 132592, 132591, 132589, 132585, 132583, 132582, 132577, 132576, 132575, 132574, 132573, 132545, 132544, 132535, 132533, 132531, 132530, 132527, 132521, 132509, 132493, 132483, 132482, 132446, 132444, 132443, 132442, 132439, 132438, 132437, 132436, 132432, 132414, 132413, 132409, 132399, 132396, 132392, 132387, 132367, 132364, 132361, 132355, 132353, 132348, 132347, 132343, 132342, 132333, 132319, 132318, 132302, 132297, 132296, 132293, 132289, 132244, 132243, 132237, 132233, 132232, 132231, 132230, 132215, 132213, 132212, 132211, 132207, 132206, 132204, 132201, 132187, 132184, 132182, 132177, 132165, 132164, 132161, 132160, 132159, 132111, 132109, 132107, 132106, 132031, 132030, 132026, 132024, 132023, 132019, 132012, 132002]\n"
     ]
    },
    {
     "data": {
      "text/html": [
       "<div>\n",
       "<style scoped>\n",
       "    .dataframe tbody tr th:only-of-type {\n",
       "        vertical-align: middle;\n",
       "    }\n",
       "\n",
       "    .dataframe tbody tr th {\n",
       "        vertical-align: top;\n",
       "    }\n",
       "\n",
       "    .dataframe thead th {\n",
       "        text-align: right;\n",
       "    }\n",
       "</style>\n",
       "<table border=\"1\" class=\"dataframe\">\n",
       "  <thead>\n",
       "    <tr style=\"text-align: right;\">\n",
       "      <th></th>\n",
       "      <th>placeID</th>\n",
       "      <th>Rpayment</th>\n",
       "    </tr>\n",
       "  </thead>\n",
       "  <tbody>\n",
       "    <tr>\n",
       "      <th>0</th>\n",
       "      <td>135110</td>\n",
       "      <td>cash</td>\n",
       "    </tr>\n",
       "    <tr>\n",
       "      <th>1</th>\n",
       "      <td>135110</td>\n",
       "      <td>VISA</td>\n",
       "    </tr>\n",
       "    <tr>\n",
       "      <th>2</th>\n",
       "      <td>135110</td>\n",
       "      <td>MasterCard-Eurocard</td>\n",
       "    </tr>\n",
       "    <tr>\n",
       "      <th>3</th>\n",
       "      <td>135110</td>\n",
       "      <td>American_Express</td>\n",
       "    </tr>\n",
       "    <tr>\n",
       "      <th>4</th>\n",
       "      <td>135110</td>\n",
       "      <td>bank_debit_cards</td>\n",
       "    </tr>\n",
       "  </tbody>\n",
       "</table>\n",
       "</div>"
      ],
      "text/plain": [
       "   placeID             Rpayment\n",
       "0   135110                 cash\n",
       "1   135110                 VISA\n",
       "2   135110  MasterCard-Eurocard\n",
       "3   135110     American_Express\n",
       "4   135110     bank_debit_cards"
      ]
     },
     "execution_count": 99,
     "metadata": {},
     "output_type": "execute_result"
    }
   ],
   "source": [
    "import collections\n",
    "duplicate = [item for item, count in collections.Counter(chefmozacccepts['placeID']).items() if count > 1]\n",
    "print(duplicate)\n",
    "chefmozacccepts[chefmozacccepts['placeID'].isin(duplicate)].head(5)"
   ]
  },
  {
   "cell_type": "code",
   "execution_count": null,
   "metadata": {},
   "outputs": [],
   "source": []
  }
 ],
 "metadata": {
  "kernelspec": {
   "display_name": "Python 3",
   "language": "python",
   "name": "python3"
  },
  "language_info": {
   "codemirror_mode": {
    "name": "ipython",
    "version": 3
   },
   "file_extension": ".py",
   "mimetype": "text/x-python",
   "name": "python",
   "nbconvert_exporter": "python",
   "pygments_lexer": "ipython3",
   "version": "3.7.0"
  }
 },
 "nbformat": 4,
 "nbformat_minor": 2
}

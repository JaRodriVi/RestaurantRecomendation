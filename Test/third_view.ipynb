{
 "cells": [
  {
   "cell_type": "code",
   "execution_count": 1,
   "metadata": {},
   "outputs": [],
   "source": [
    "import pandas as pd\n",
    "import numpy as np\n",
    "import seaborn as sns\n",
    "import matplotlib.pyplot as plt\n",
    "import sys\n",
    "sys.path.append(\"../library\")\n",
    "import RecSys as rs\n",
    "#patch = \"\" # For Google CoLab\n",
    "path = \"../data/\""
   ]
  },
  {
   "cell_type": "code",
   "execution_count": 2,
   "metadata": {},
   "outputs": [],
   "source": [
    "chefmozacccepts = pd.read_csv(path+\"chefmozaccepts.csv\")\n",
    "chefmozcuisine = pd.read_csv(path+\"chefmozcuisine.csv\")\n",
    "chefmozhours4 = pd.read_csv(path+\"chefmozhours4.csv\")\n",
    "chefmozparking = pd.read_csv(path+\"chefmozparking.csv\")\n",
    "geoplaces2 = pd.read_csv(path+\"geoplaces2.csv\")\n",
    "rating_final = pd.read_csv(path+\"rating_final.csv\")\n",
    "usercuisine = pd.read_csv(path+\"usercuisine.csv\")\n",
    "userpayment = pd.read_csv(path+\"userpayment.csv\")\n",
    "userprofile = pd.read_csv(path+\"userprofile.csv\")\n",
    "# This will contain the list of Datas that we will \n",
    "# use for the Recommendation System\n",
    "listOfData_r = [rating_final]"
   ]
  },
  {
   "cell_type": "code",
   "execution_count": 3,
   "metadata": {},
   "outputs": [],
   "source": [
    "listOfData = [chefmozacccepts,chefmozcuisine,chefmozhours4,\n",
    "              chefmozparking,geoplaces2,rating_final,\n",
    "              usercuisine,userpayment,userprofile]"
   ]
  },
  {
   "cell_type": "code",
   "execution_count": 4,
   "metadata": {},
   "outputs": [],
   "source": [
    "### We have to do the secondview clean"
   ]
  },
  {
   "cell_type": "code",
   "execution_count": 5,
   "metadata": {},
   "outputs": [],
   "source": [
    "rs.replaceID(realID=132706,falseID=132584,ID='placeID',data=listOfData_r)"
   ]
  },
  {
   "cell_type": "code",
   "execution_count": 6,
   "metadata": {},
   "outputs": [],
   "source": [
    "###############\n",
    "# Those will be the data that we will use for the model and app\n",
    "###############\n",
    "userProfile_r = userprofile[['userID', 'smoker', 'drink_level','dress_preference', \n",
    "                             'ambience', 'transport', 'marital_status','hijos', \n",
    "                             'religion', 'activity']]\n",
    "usercuisine_list = usercuisine.groupby('userID').apply(lambda x: list(x['Rcuisine']))\n",
    "usercuisine_list = pd.DataFrame({'userID':usercuisine_list.index,'Rcuisine':usercuisine_list.values})\n",
    "userProfile_r = userProfile_r.merge(usercuisine_list, how = 'left', on = 'userID')\n",
    "userpayment_list= userpayment.groupby('userID').apply(lambda x: list(x['Upayment']))\n",
    "userpayment_list = pd.DataFrame({'userID':userpayment_list.index,'Upayment':userpayment_list.values})\n",
    "userProfile_r = userProfile_r.merge(userpayment_list, how = 'left', on = 'userID')\n",
    "\n",
    "userGeo_r = userprofile[['userID', 'latitude', 'longitude']]\n",
    "\n",
    "userChefmozRelation_r = rating_final\n",
    "userChefmozRelation_r = userChefmozRelation_r.merge(userpayment, how='left', on='userID')\n",
    "userChefmozRelation_r = userChefmozRelation_r.merge(usercuisine, how='left', on='userID')\n",
    "\n",
    "chefmozProfile_r = geoplaces2[['placeID', 'alcohol', 'smoking_area','dress_code',\n",
    "                               'accessibility', 'price', 'Rambience', 'franchise',\n",
    "                               'area', 'other_services']]\n",
    "chefmozProfile_r= chefmozProfile_r.merge(chefmozacccepts, how = 'left', on = 'placeID')\n",
    "chefmozProfile_r= chefmozProfile_r.merge(chefmozcuisine, how = 'left', on = 'placeID')\n",
    "chefmozProfile_r= chefmozProfile_r.merge(chefmozhours4, how = 'left', on = 'placeID')\n",
    "chefmozProfile_r= chefmozProfile_r.merge(chefmozparking, how = 'left', on = 'placeID')\n",
    "\n",
    "chefmozGeo_r = geoplaces2[['placeID', 'latitude', 'longitude', 'the_geom_meter',\n",
    "                           'address', 'city', 'state', 'country', 'fax', 'zip']]"
   ]
  },
  {
   "cell_type": "code",
   "execution_count": 23,
   "metadata": {},
   "outputs": [],
   "source": [
    "l,df = rs.checkData(listOfData,'?')"
   ]
  },
  {
   "cell_type": "code",
   "execution_count": 24,
   "metadata": {},
   "outputs": [
    {
     "data": {
      "text/plain": [
       "[(4, 'address'),\n",
       " (4, 'city'),\n",
       " (4, 'state'),\n",
       " (4, 'country'),\n",
       " (4, 'fax'),\n",
       " (4, 'zip'),\n",
       " (4, 'url'),\n",
       " (8, 'smoker'),\n",
       " (8, 'dress_preference'),\n",
       " (8, 'ambience'),\n",
       " (8, 'transport'),\n",
       " (8, 'marital_status'),\n",
       " (8, 'hijos'),\n",
       " (8, 'activity'),\n",
       " (8, 'budget')]"
      ]
     },
     "execution_count": 24,
     "metadata": {},
     "output_type": "execute_result"
    }
   ],
   "source": [
    "l"
   ]
  },
  {
   "cell_type": "code",
   "execution_count": 9,
   "metadata": {},
   "outputs": [
    {
     "data": {
      "text/plain": [
       "dtype('O')"
      ]
     },
     "execution_count": 9,
     "metadata": {},
     "output_type": "execute_result"
    }
   ],
   "source": [
    "userprofile['userID'].dtype"
   ]
  },
  {
   "cell_type": "code",
   "execution_count": 10,
   "metadata": {},
   "outputs": [
    {
     "data": {
      "text/plain": [
       "str"
      ]
     },
     "execution_count": 10,
     "metadata": {},
     "output_type": "execute_result"
    }
   ],
   "source": [
    "type('?')"
   ]
  },
  {
   "cell_type": "code",
   "execution_count": 11,
   "metadata": {},
   "outputs": [
    {
     "data": {
      "text/plain": [
       "userID               object\n",
       "latitude            float64\n",
       "longitude           float64\n",
       "smoker               object\n",
       "drink_level          object\n",
       "dress_preference     object\n",
       "ambience             object\n",
       "transport            object\n",
       "marital_status       object\n",
       "hijos                object\n",
       "birth_year            int64\n",
       "interest             object\n",
       "personality          object\n",
       "religion             object\n",
       "activity             object\n",
       "color                object\n",
       "weight                int64\n",
       "budget               object\n",
       "height              float64\n",
       "dtype: object"
      ]
     },
     "execution_count": 11,
     "metadata": {},
     "output_type": "execute_result"
    }
   ],
   "source": [
    "userprofile.dtypes"
   ]
  },
  {
   "cell_type": "code",
   "execution_count": null,
   "metadata": {},
   "outputs": [],
   "source": []
  }
 ],
 "metadata": {
  "kernelspec": {
   "display_name": "Python 3",
   "language": "python",
   "name": "python3"
  },
  "language_info": {
   "codemirror_mode": {
    "name": "ipython",
    "version": 3
   },
   "file_extension": ".py",
   "mimetype": "text/x-python",
   "name": "python",
   "nbconvert_exporter": "python",
   "pygments_lexer": "ipython3",
   "version": "3.7.0"
  }
 },
 "nbformat": 4,
 "nbformat_minor": 2
}

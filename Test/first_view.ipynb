{
 "cells": [
  {
   "cell_type": "code",
   "execution_count": 1,
   "metadata": {
    "colab": {
     "base_uri": "https://localhost:8080/",
     "height": 427,
     "resources": {
      "http://localhost:8080/nbextensions/google.colab/files.js": {
       "data": "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",
       "headers": [
        [
         "content-type",
         "application/javascript"
        ]
       ],
       "ok": true,
       "status": 200,
       "status_text": ""
      }
     }
    },
    "colab_type": "code",
    "id": "rTV9o5NQapF7",
    "outputId": "ea371873-dee0-47ee-c7c6-e9a71f6e0125"
   },
   "outputs": [],
   "source": [
    "#from google.colab import files\n",
    "\n",
    "#uploaded = files.upload()"
   ]
  },
  {
   "cell_type": "code",
   "execution_count": 2,
   "metadata": {
    "colab": {
     "base_uri": "https://localhost:8080/",
     "height": 72
    },
    "colab_type": "code",
    "id": "TuC4zGDrdwqP",
    "outputId": "a3ae7dfb-5821-45cc-f6e0-927668d659ce"
   },
   "outputs": [
    {
     "name": "stdout",
     "output_type": "stream",
     "text": [
      "first_view.ipynb  second_view.ipynb  third_view.ipynb\r\n"
     ]
    }
   ],
   "source": [
    "! ls"
   ]
  },
  {
   "cell_type": "code",
   "execution_count": 3,
   "metadata": {
    "colab": {},
    "colab_type": "code",
    "id": "ADp6uUrGa1aC"
   },
   "outputs": [],
   "source": [
    "import pandas as pd\n",
    "import numpy as np\n",
    "import seaborn as sns\n",
    "import matplotlib as plt\n",
    "#patch = \"\" # For Google CoLab\n",
    "path = \"../data/\""
   ]
  },
  {
   "cell_type": "code",
   "execution_count": 4,
   "metadata": {
    "colab": {},
    "colab_type": "code",
    "id": "3ppO3gkxq4ON"
   },
   "outputs": [],
   "source": [
    "chefmozacccepts = pd.read_csv(path+\"chefmozaccepts.csv\")\n",
    "chefmozcuisine = pd.read_csv(path+\"chefmozcuisine.csv\")\n",
    "chefmozhours4 = pd.read_csv(path+\"chefmozhours4.csv\")\n",
    "chefmozparking = pd.read_csv(path+\"chefmozparking.csv\")\n",
    "geoplaces2 = pd.read_csv(path+\"geoplaces2.csv\")\n",
    "rating_final = pd.read_csv(path+\"rating_final.csv\")\n",
    "usercuisine = pd.read_csv(path+\"usercuisine.csv\")\n",
    "userpayment = pd.read_csv(path+\"userpayment.csv\")\n",
    "userprofile = pd.read_csv(path+\"userprofile.csv\")"
   ]
  },
  {
   "cell_type": "markdown",
   "metadata": {
    "colab_type": "text",
    "id": "l6oREHi54bHh"
   },
   "source": [
    "## Chefmozaccepts\n",
    "placeID: ID of the restaurant.\n",
    "\n",
    "Rpayment: type of pay that the restaurant accept"
   ]
  },
  {
   "cell_type": "code",
   "execution_count": 5,
   "metadata": {
    "colab": {
     "base_uri": "https://localhost:8080/",
     "height": 35
    },
    "colab_type": "code",
    "id": "JlLncEVN87NA",
    "outputId": "7728cd32-d27c-44d4-a1e1-32ca83a637cc"
   },
   "outputs": [
    {
     "data": {
      "text/plain": [
       "(1314, 2)"
      ]
     },
     "execution_count": 5,
     "metadata": {},
     "output_type": "execute_result"
    }
   ],
   "source": [
    "chefmozacccepts.shape"
   ]
  },
  {
   "cell_type": "code",
   "execution_count": 6,
   "metadata": {
    "colab": {
     "base_uri": "https://localhost:8080/",
     "height": 198
    },
    "colab_type": "code",
    "id": "LBqQEJ2k4C1w",
    "outputId": "ee3a056a-f0db-4246-c8af-688e51014520"
   },
   "outputs": [
    {
     "data": {
      "text/html": [
       "<div>\n",
       "<style scoped>\n",
       "    .dataframe tbody tr th:only-of-type {\n",
       "        vertical-align: middle;\n",
       "    }\n",
       "\n",
       "    .dataframe tbody tr th {\n",
       "        vertical-align: top;\n",
       "    }\n",
       "\n",
       "    .dataframe thead th {\n",
       "        text-align: right;\n",
       "    }\n",
       "</style>\n",
       "<table border=\"1\" class=\"dataframe\">\n",
       "  <thead>\n",
       "    <tr style=\"text-align: right;\">\n",
       "      <th></th>\n",
       "      <th>placeID</th>\n",
       "      <th>Rpayment</th>\n",
       "    </tr>\n",
       "  </thead>\n",
       "  <tbody>\n",
       "    <tr>\n",
       "      <th>393</th>\n",
       "      <td>132956</td>\n",
       "      <td>cash</td>\n",
       "    </tr>\n",
       "    <tr>\n",
       "      <th>752</th>\n",
       "      <td>132742</td>\n",
       "      <td>cash</td>\n",
       "    </tr>\n",
       "    <tr>\n",
       "      <th>72</th>\n",
       "      <td>135076</td>\n",
       "      <td>cash</td>\n",
       "    </tr>\n",
       "    <tr>\n",
       "      <th>354</th>\n",
       "      <td>132994</td>\n",
       "      <td>cash</td>\n",
       "    </tr>\n",
       "    <tr>\n",
       "      <th>589</th>\n",
       "      <td>132820</td>\n",
       "      <td>cash</td>\n",
       "    </tr>\n",
       "  </tbody>\n",
       "</table>\n",
       "</div>"
      ],
      "text/plain": [
       "     placeID Rpayment\n",
       "393   132956     cash\n",
       "752   132742     cash\n",
       "72    135076     cash\n",
       "354   132994     cash\n",
       "589   132820     cash"
      ]
     },
     "execution_count": 6,
     "metadata": {},
     "output_type": "execute_result"
    }
   ],
   "source": [
    "chefmozacccepts.sample(5)"
   ]
  },
  {
   "cell_type": "code",
   "execution_count": 7,
   "metadata": {
    "colab": {
     "base_uri": "https://localhost:8080/",
     "height": 90
    },
    "colab_type": "code",
    "id": "O3rew_adEiqM",
    "outputId": "25521a18-63ee-4778-d1f9-4d240e89cf4a"
   },
   "outputs": [
    {
     "data": {
      "text/plain": [
       "array(['cash', 'VISA', 'MasterCard-Eurocard', 'American_Express',\n",
       "       'bank_debit_cards', 'checks', 'Discover', 'Carte_Blanche',\n",
       "       'Diners_Club', 'Visa', 'Japan_Credit_Bureau', 'gift_certificates'],\n",
       "      dtype=object)"
      ]
     },
     "execution_count": 7,
     "metadata": {},
     "output_type": "execute_result"
    }
   ],
   "source": [
    "chefmozacccepts['Rpayment'].unique()"
   ]
  },
  {
   "cell_type": "code",
   "execution_count": 8,
   "metadata": {
    "colab": {
     "base_uri": "https://localhost:8080/",
     "height": 35
    },
    "colab_type": "code",
    "id": "BLC30mtW4F_8",
    "outputId": "7fab539f-a584-4beb-86b8-22a74966fd15"
   },
   "outputs": [
    {
     "data": {
      "text/plain": [
       "12"
      ]
     },
     "execution_count": 8,
     "metadata": {},
     "output_type": "execute_result"
    }
   ],
   "source": [
    "chefmozacccepts['Rpayment'].unique().size"
   ]
  },
  {
   "cell_type": "markdown",
   "metadata": {
    "colab_type": "text",
    "id": "mHpLZaZ6lX2O"
   },
   "source": [
    "We have 12 type of payment, maybe we have to only use 2 or 3 of them, like cash, credictCard and checks."
   ]
  },
  {
   "cell_type": "code",
   "execution_count": 9,
   "metadata": {
    "colab": {},
    "colab_type": "code",
    "id": "qCU1091M8gGu"
   },
   "outputs": [],
   "source": [
    "chefmozacccepts['Rpayment_accepts'] = chefmozacccepts['Rpayment']\n",
    "chefmozacccepts['Rpayment_accepts'] = chefmozacccepts['Rpayment_accepts']\\\n",
    "             .replace(['VISA', 'MasterCard-Eurocard', 'American_Express',\n",
    "                       'bank_debit_cards','Discover', 'Carte_Blanche',\n",
    "                       'Diners_Club', 'Visa', 'Japan_Credit_Bureau'], ' credictCard')\n",
    "chefmozacccepts['Rpayment_accepts'] = chefmozacccepts['Rpayment_accepts']\\\n",
    "             .replace(['gift_certificates'], 'checks')"
   ]
  },
  {
   "cell_type": "code",
   "execution_count": 10,
   "metadata": {
    "colab": {},
    "colab_type": "code",
    "id": "4s9FxMtVrK-k"
   },
   "outputs": [],
   "source": [
    "chefmozacccepts['Rpayment_accepts'] = chefmozacccepts['Rpayment_accepts'].astype('category')"
   ]
  },
  {
   "cell_type": "code",
   "execution_count": 11,
   "metadata": {},
   "outputs": [
    {
     "data": {
      "text/html": [
       "<div>\n",
       "<style scoped>\n",
       "    .dataframe tbody tr th:only-of-type {\n",
       "        vertical-align: middle;\n",
       "    }\n",
       "\n",
       "    .dataframe tbody tr th {\n",
       "        vertical-align: top;\n",
       "    }\n",
       "\n",
       "    .dataframe thead th {\n",
       "        text-align: right;\n",
       "    }\n",
       "</style>\n",
       "<table border=\"1\" class=\"dataframe\">\n",
       "  <thead>\n",
       "    <tr style=\"text-align: right;\">\n",
       "      <th></th>\n",
       "      <th>placeID</th>\n",
       "      <th>Rpayment</th>\n",
       "      <th>Rpayment_accepts</th>\n",
       "    </tr>\n",
       "  </thead>\n",
       "  <tbody>\n",
       "    <tr>\n",
       "      <th>990</th>\n",
       "      <td>132576</td>\n",
       "      <td>cash</td>\n",
       "      <td>cash</td>\n",
       "    </tr>\n",
       "    <tr>\n",
       "      <th>1111</th>\n",
       "      <td>132364</td>\n",
       "      <td>Visa</td>\n",
       "      <td>credictCard</td>\n",
       "    </tr>\n",
       "    <tr>\n",
       "      <th>1229</th>\n",
       "      <td>132187</td>\n",
       "      <td>American_Express</td>\n",
       "      <td>credictCard</td>\n",
       "    </tr>\n",
       "    <tr>\n",
       "      <th>699</th>\n",
       "      <td>132774</td>\n",
       "      <td>VISA</td>\n",
       "      <td>credictCard</td>\n",
       "    </tr>\n",
       "    <tr>\n",
       "      <th>723</th>\n",
       "      <td>132758</td>\n",
       "      <td>cash</td>\n",
       "      <td>cash</td>\n",
       "    </tr>\n",
       "    <tr>\n",
       "      <th>890</th>\n",
       "      <td>132658</td>\n",
       "      <td>cash</td>\n",
       "      <td>cash</td>\n",
       "    </tr>\n",
       "    <tr>\n",
       "      <th>493</th>\n",
       "      <td>132886</td>\n",
       "      <td>cash</td>\n",
       "      <td>cash</td>\n",
       "    </tr>\n",
       "    <tr>\n",
       "      <th>1062</th>\n",
       "      <td>132442</td>\n",
       "      <td>American_Express</td>\n",
       "      <td>credictCard</td>\n",
       "    </tr>\n",
       "    <tr>\n",
       "      <th>783</th>\n",
       "      <td>132725</td>\n",
       "      <td>cash</td>\n",
       "      <td>cash</td>\n",
       "    </tr>\n",
       "    <tr>\n",
       "      <th>1128</th>\n",
       "      <td>132344</td>\n",
       "      <td>Visa</td>\n",
       "      <td>credictCard</td>\n",
       "    </tr>\n",
       "  </tbody>\n",
       "</table>\n",
       "</div>"
      ],
      "text/plain": [
       "      placeID          Rpayment Rpayment_accepts\n",
       "990    132576              cash             cash\n",
       "1111   132364              Visa      credictCard\n",
       "1229   132187  American_Express      credictCard\n",
       "699    132774              VISA      credictCard\n",
       "723    132758              cash             cash\n",
       "890    132658              cash             cash\n",
       "493    132886              cash             cash\n",
       "1062   132442  American_Express      credictCard\n",
       "783    132725              cash             cash\n",
       "1128   132344              Visa      credictCard"
      ]
     },
     "execution_count": 11,
     "metadata": {},
     "output_type": "execute_result"
    }
   ],
   "source": [
    "chefmozacccepts.sample(10)"
   ]
  },
  {
   "cell_type": "markdown",
   "metadata": {
    "colab_type": "text",
    "id": "9nhrJlwtvE-A"
   },
   "source": [
    "## Chefmozcuisine\n",
    "\n",
    "placeID: ID of the restaurant.\n",
    "\n",
    "Rcuisine: The region of the food that they cook."
   ]
  },
  {
   "cell_type": "code",
   "execution_count": 12,
   "metadata": {
    "colab": {
     "base_uri": "https://localhost:8080/",
     "height": 198
    },
    "colab_type": "code",
    "id": "zbr_OQeivO1_",
    "outputId": "99df0952-726c-4ecc-8452-a929225cd5d9"
   },
   "outputs": [
    {
     "data": {
      "text/html": [
       "<div>\n",
       "<style scoped>\n",
       "    .dataframe tbody tr th:only-of-type {\n",
       "        vertical-align: middle;\n",
       "    }\n",
       "\n",
       "    .dataframe tbody tr th {\n",
       "        vertical-align: top;\n",
       "    }\n",
       "\n",
       "    .dataframe thead th {\n",
       "        text-align: right;\n",
       "    }\n",
       "</style>\n",
       "<table border=\"1\" class=\"dataframe\">\n",
       "  <thead>\n",
       "    <tr style=\"text-align: right;\">\n",
       "      <th></th>\n",
       "      <th>placeID</th>\n",
       "      <th>Rcuisine</th>\n",
       "    </tr>\n",
       "  </thead>\n",
       "  <tbody>\n",
       "    <tr>\n",
       "      <th>836</th>\n",
       "      <td>132138</td>\n",
       "      <td>Bakery</td>\n",
       "    </tr>\n",
       "    <tr>\n",
       "      <th>835</th>\n",
       "      <td>132145</td>\n",
       "      <td>Deli-Sandwiches</td>\n",
       "    </tr>\n",
       "    <tr>\n",
       "      <th>156</th>\n",
       "      <td>133000</td>\n",
       "      <td>Family</td>\n",
       "    </tr>\n",
       "    <tr>\n",
       "      <th>713</th>\n",
       "      <td>132289</td>\n",
       "      <td>French</td>\n",
       "    </tr>\n",
       "    <tr>\n",
       "      <th>806</th>\n",
       "      <td>132182</td>\n",
       "      <td>Italian</td>\n",
       "    </tr>\n",
       "  </tbody>\n",
       "</table>\n",
       "</div>"
      ],
      "text/plain": [
       "     placeID         Rcuisine\n",
       "836   132138           Bakery\n",
       "835   132145  Deli-Sandwiches\n",
       "156   133000           Family\n",
       "713   132289           French\n",
       "806   132182          Italian"
      ]
     },
     "execution_count": 12,
     "metadata": {},
     "output_type": "execute_result"
    }
   ],
   "source": [
    "chefmozcuisine.sample(5)"
   ]
  },
  {
   "cell_type": "code",
   "execution_count": 13,
   "metadata": {
    "colab": {
     "base_uri": "https://localhost:8080/",
     "height": 254
    },
    "colab_type": "code",
    "id": "NgLpiz2IvRM3",
    "outputId": "aff1d47c-43b8-40c3-ca90-0cad9a7a34c5"
   },
   "outputs": [
    {
     "data": {
      "text/plain": [
       "array(['Spanish', 'Italian', 'Latin_American', 'Mexican', 'Fast_Food',\n",
       "       'Burgers', 'Dessert-Ice_Cream', 'Hot_Dogs', 'Steaks', 'Asian',\n",
       "       'International', 'Mongolian', 'Vegetarian', 'Brazilian',\n",
       "       'Cafe-Coffee_Shop', 'Cafeteria', 'Contemporary', 'Deli-Sandwiches',\n",
       "       'Diner', 'Japanese', 'Sushi', 'Seafood', 'Chinese', 'Bar',\n",
       "       'Bar_Pub_Brewery', 'Pizzeria', 'Mediterranean', 'American',\n",
       "       'Family', 'Caribbean', 'African', 'Breakfast-Brunch', 'Regional',\n",
       "       'Afghan', 'Bakery', 'Game', 'Armenian', 'Vietnamese', 'Korean',\n",
       "       'Thai', 'Barbecue', 'Polish', 'Dutch-Belgian', 'French', 'German',\n",
       "       'Southwestern', 'Persian', 'Ethiopian', 'Juice', 'Soup',\n",
       "       'Continental-European', 'Greek', 'Southern', 'Eastern_European',\n",
       "       'California', 'Bagels', 'Turkish', 'Organic-Healthy',\n",
       "       'Fine_Dining'], dtype=object)"
      ]
     },
     "execution_count": 13,
     "metadata": {},
     "output_type": "execute_result"
    }
   ],
   "source": [
    "chefmozcuisine['Rcuisine'].unique()"
   ]
  },
  {
   "cell_type": "code",
   "execution_count": 14,
   "metadata": {
    "colab": {},
    "colab_type": "code",
    "id": "3SBDnTr-wl-w"
   },
   "outputs": [],
   "source": [
    "# This doesn't make much sense, we can split the Clasification for have less dummy variables, but we will try make the recomendation with full data\n",
    "chefmozcuisine['Rcuisine_Type'] = chefmozcuisine['Rcuisine']\n",
    "chefmozcuisine['Rcuisine_Type'] = chefmozcuisine['Rcuisine_Type'].replace(['Spanish','Italian','Seafood','Greek','Mediterranean'], 'Mediterranean')\n",
    "chefmozcuisine['Rcuisine_Type'] = chefmozcuisine['Rcuisine_Type'].replace(['Latin_American','Mexican','Brazilian','Caribbean'], 'South_American')\n",
    "chefmozcuisine['Rcuisine_Type'] = chefmozcuisine['Rcuisine_Type'].replace(['Fast_Food','Hot_Dogs','Burgers','Deli-Sandwiches','Pizzeria'], 'Fast_Food')\n",
    "chefmozcuisine['Rcuisine_Type'] = chefmozcuisine['Rcuisine_Type'].replace(['Asian','Mongolian','Chinese','Japanese','Sushi','Vietnamese', 'Korean','Thai'], 'Asian')\n",
    "chefmozcuisine['Rcuisine_Type'] = chefmozcuisine['Rcuisine_Type'].replace(['French', 'German','Polish', 'Dutch-Belgian','Continental-European','Eastern_European'], 'European')\n",
    "chefmozcuisine['Rcuisine_Type'] = chefmozcuisine['Rcuisine_Type'].replace(['Afghan','Armenian','Persian','Turkish'], 'Turkish')\n",
    "chefmozcuisine['Rcuisine_Type'] = chefmozcuisine['Rcuisine_Type'].replace(['African','Ethiopian'], 'African')\n",
    "chefmozcuisine['Rcuisine_Type'] = chefmozcuisine['Rcuisine_Type'].replace(['Breakfast-Brunch','Bagels','Juice'], 'Breakfast')\n",
    "chefmozcuisine['Rcuisine_Type'] = chefmozcuisine['Rcuisine_Type'].replace(['Bar_Pub_Brewery','Bar'], 'Bar')\n",
    "chefmozcuisine['Rcuisine_Type'] = chefmozcuisine['Rcuisine_Type'].replace(['Cafeteria','Cafe-Coffee_Shop',''], 'Coffee_Shop')\n",
    "chefmozcuisine['Rcuisine_Type'] = chefmozcuisine['Rcuisine_Type'].replace(['Fine_Dining','Organic-Healthy','Vegetarian'], 'Healthy-Vegetarian')\n",
    "chefmozcuisine['Rcuisine_Type'] = chefmozcuisine['Rcuisine_Type'].replace(['American','California','Southwestern'], 'American')\n",
    "chefmozcuisine['Rcuisine_Type'] = chefmozcuisine['Rcuisine_Type'].replace(['Steaks','Barbecue'], 'Meat')\n",
    "chefmozcuisine['Rcuisine_Type'] = chefmozcuisine['Rcuisine_Type'].replace(['Dessert-Ice_Cream'], 'Ice_Cream')\n",
    "chefmozcuisine['Rcuisine_Type'] = chefmozcuisine['Rcuisine_Type'].replace(['Southern'], 'Regional')"
   ]
  },
  {
   "cell_type": "code",
   "execution_count": 15,
   "metadata": {
    "colab": {
     "base_uri": "https://localhost:8080/",
     "height": 108
    },
    "colab_type": "code",
    "id": "tqFEXLgtMnl7",
    "outputId": "56f101a2-59a3-4993-b414-bbfed4a17272"
   },
   "outputs": [
    {
     "data": {
      "text/plain": [
       "array(['Mediterranean', 'South_American', 'Fast_Food', 'Ice_Cream',\n",
       "       'Meat', 'Asian', 'International', 'Healthy-Vegetarian',\n",
       "       'Coffee_Shop', 'Contemporary', 'Diner', 'Bar', 'American',\n",
       "       'Family', 'African', 'Breakfast', 'Regional', 'Turkish', 'Bakery',\n",
       "       'Game', 'European', 'Soup'], dtype=object)"
      ]
     },
     "execution_count": 15,
     "metadata": {},
     "output_type": "execute_result"
    }
   ],
   "source": [
    "chefmozcuisine['Rcuisine_Type'].unique()"
   ]
  },
  {
   "cell_type": "code",
   "execution_count": 16,
   "metadata": {
    "colab": {
     "base_uri": "https://localhost:8080/",
     "height": 198
    },
    "colab_type": "code",
    "id": "9tDW0982SOVD",
    "outputId": "7fda5ac7-9ad7-4065-8546-bad5760e6cfc"
   },
   "outputs": [
    {
     "data": {
      "text/html": [
       "<div>\n",
       "<style scoped>\n",
       "    .dataframe tbody tr th:only-of-type {\n",
       "        vertical-align: middle;\n",
       "    }\n",
       "\n",
       "    .dataframe tbody tr th {\n",
       "        vertical-align: top;\n",
       "    }\n",
       "\n",
       "    .dataframe thead th {\n",
       "        text-align: right;\n",
       "    }\n",
       "</style>\n",
       "<table border=\"1\" class=\"dataframe\">\n",
       "  <thead>\n",
       "    <tr style=\"text-align: right;\">\n",
       "      <th></th>\n",
       "      <th>placeID</th>\n",
       "      <th>Rcuisine</th>\n",
       "      <th>Rcuisine_Type</th>\n",
       "    </tr>\n",
       "  </thead>\n",
       "  <tbody>\n",
       "    <tr>\n",
       "      <th>277</th>\n",
       "      <td>132851</td>\n",
       "      <td>Game</td>\n",
       "      <td>Game</td>\n",
       "    </tr>\n",
       "    <tr>\n",
       "      <th>735</th>\n",
       "      <td>132255</td>\n",
       "      <td>Game</td>\n",
       "      <td>Game</td>\n",
       "    </tr>\n",
       "  </tbody>\n",
       "</table>\n",
       "</div>"
      ],
      "text/plain": [
       "     placeID Rcuisine Rcuisine_Type\n",
       "277   132851     Game          Game\n",
       "735   132255     Game          Game"
      ]
     },
     "execution_count": 16,
     "metadata": {},
     "output_type": "execute_result"
    }
   ],
   "source": [
    "chefmozcuisine[chefmozcuisine['Rcuisine_Type']=='Game']"
   ]
  },
  {
   "cell_type": "markdown",
   "metadata": {
    "colab_type": "text",
    "id": "OnWOVoOHVG3K"
   },
   "source": [
    "## chefmozhours4\n",
    "\n",
    "placeID: ID of the restaurant.\n",
    "\n",
    "hours: Hours that they open\n",
    "\n",
    "days Days that they open"
   ]
  },
  {
   "cell_type": "code",
   "execution_count": 17,
   "metadata": {
    "colab": {
     "base_uri": "https://localhost:8080/",
     "height": 198
    },
    "colab_type": "code",
    "id": "5af3LfRYU9B3",
    "outputId": "ec2889cf-098f-46dc-a6e8-f7e1e25d7777"
   },
   "outputs": [
    {
     "data": {
      "text/html": [
       "<div>\n",
       "<style scoped>\n",
       "    .dataframe tbody tr th:only-of-type {\n",
       "        vertical-align: middle;\n",
       "    }\n",
       "\n",
       "    .dataframe tbody tr th {\n",
       "        vertical-align: top;\n",
       "    }\n",
       "\n",
       "    .dataframe thead th {\n",
       "        text-align: right;\n",
       "    }\n",
       "</style>\n",
       "<table border=\"1\" class=\"dataframe\">\n",
       "  <thead>\n",
       "    <tr style=\"text-align: right;\">\n",
       "      <th></th>\n",
       "      <th>placeID</th>\n",
       "      <th>hours</th>\n",
       "      <th>days</th>\n",
       "    </tr>\n",
       "  </thead>\n",
       "  <tbody>\n",
       "    <tr>\n",
       "      <th>1201</th>\n",
       "      <td>132774</td>\n",
       "      <td>07:00-22:00;</td>\n",
       "      <td>Sat;</td>\n",
       "    </tr>\n",
       "    <tr>\n",
       "      <th>1817</th>\n",
       "      <td>132535</td>\n",
       "      <td>12:00-17:00;16:00-22:00;</td>\n",
       "      <td>Mon;Tue;Wed;Thu;Fri;</td>\n",
       "    </tr>\n",
       "    <tr>\n",
       "      <th>685</th>\n",
       "      <td>132948</td>\n",
       "      <td>08:00-12:00;</td>\n",
       "      <td>Sat;</td>\n",
       "    </tr>\n",
       "    <tr>\n",
       "      <th>1212</th>\n",
       "      <td>132770</td>\n",
       "      <td>12:00-18:30;</td>\n",
       "      <td>Mon;Tue;Wed;Thu;Fri;</td>\n",
       "    </tr>\n",
       "    <tr>\n",
       "      <th>2274</th>\n",
       "      <td>132115</td>\n",
       "      <td>13:30-22:30;22:00;</td>\n",
       "      <td>Sun;</td>\n",
       "    </tr>\n",
       "  </tbody>\n",
       "</table>\n",
       "</div>"
      ],
      "text/plain": [
       "      placeID                     hours                  days\n",
       "1201   132774              07:00-22:00;                  Sat;\n",
       "1817   132535  12:00-17:00;16:00-22:00;  Mon;Tue;Wed;Thu;Fri;\n",
       "685    132948              08:00-12:00;                  Sat;\n",
       "1212   132770              12:00-18:30;  Mon;Tue;Wed;Thu;Fri;\n",
       "2274   132115        13:30-22:30;22:00;                  Sun;"
      ]
     },
     "execution_count": 17,
     "metadata": {},
     "output_type": "execute_result"
    }
   ],
   "source": [
    "chefmozhours4.sample(5)"
   ]
  },
  {
   "cell_type": "code",
   "execution_count": 18,
   "metadata": {
    "colab": {
     "base_uri": "https://localhost:8080/",
     "height": 35
    },
    "colab_type": "code",
    "id": "SAuLHpVyVIHM",
    "outputId": "7453ecd5-3dd3-402a-fbc3-db0293d94487"
   },
   "outputs": [
    {
     "data": {
      "text/plain": [
       "array(['Mon;Tue;Wed;Thu;Fri;', 'Sat;', 'Sun;'], dtype=object)"
      ]
     },
     "execution_count": 18,
     "metadata": {},
     "output_type": "execute_result"
    }
   ],
   "source": [
    "chefmozhours4['days'].unique()"
   ]
  },
  {
   "cell_type": "code",
   "execution_count": 19,
   "metadata": {
    "colab": {},
    "colab_type": "code",
    "id": "E05G6FEJVmKR"
   },
   "outputs": [],
   "source": [
    "chefmozhours4['days'] = chefmozhours4['days'].replace(['Mon;Tue;Wed;Thu;Fri;'],'Diary_Days')"
   ]
  },
  {
   "cell_type": "code",
   "execution_count": 20,
   "metadata": {
    "colab": {
     "base_uri": "https://localhost:8080/",
     "height": 35
    },
    "colab_type": "code",
    "id": "Zw0r7rhhV1-R",
    "outputId": "671d46fa-e723-4445-84ed-7d00cdd1d5f9"
   },
   "outputs": [
    {
     "data": {
      "text/plain": [
       "array(['Diary_Days', 'Sat;', 'Sun;'], dtype=object)"
      ]
     },
     "execution_count": 20,
     "metadata": {},
     "output_type": "execute_result"
    }
   ],
   "source": [
    "chefmozhours4['days'].unique()"
   ]
  },
  {
   "cell_type": "markdown",
   "metadata": {
    "colab_type": "text",
    "id": "8oiuYuu9WCn1"
   },
   "source": [
    "## chefmozparking\n",
    "\n",
    "placeID:  ID of the restaurant.\n",
    "\n",
    "parking_lot: The type of parking that they has"
   ]
  },
  {
   "cell_type": "code",
   "execution_count": 21,
   "metadata": {
    "colab": {
     "base_uri": "https://localhost:8080/",
     "height": 348
    },
    "colab_type": "code",
    "id": "DEWcEdehV23Y",
    "outputId": "b622c8aa-cf8a-45f3-f820-067c9b69e930"
   },
   "outputs": [
    {
     "data": {
      "text/html": [
       "<div>\n",
       "<style scoped>\n",
       "    .dataframe tbody tr th:only-of-type {\n",
       "        vertical-align: middle;\n",
       "    }\n",
       "\n",
       "    .dataframe tbody tr th {\n",
       "        vertical-align: top;\n",
       "    }\n",
       "\n",
       "    .dataframe thead th {\n",
       "        text-align: right;\n",
       "    }\n",
       "</style>\n",
       "<table border=\"1\" class=\"dataframe\">\n",
       "  <thead>\n",
       "    <tr style=\"text-align: right;\">\n",
       "      <th></th>\n",
       "      <th>placeID</th>\n",
       "      <th>parking_lot</th>\n",
       "    </tr>\n",
       "  </thead>\n",
       "  <tbody>\n",
       "    <tr>\n",
       "      <th>472</th>\n",
       "      <td>132703</td>\n",
       "      <td>none</td>\n",
       "    </tr>\n",
       "    <tr>\n",
       "      <th>49</th>\n",
       "      <td>135058</td>\n",
       "      <td>public</td>\n",
       "    </tr>\n",
       "    <tr>\n",
       "      <th>136</th>\n",
       "      <td>134971</td>\n",
       "      <td>yes</td>\n",
       "    </tr>\n",
       "    <tr>\n",
       "      <th>684</th>\n",
       "      <td>132161</td>\n",
       "      <td>street</td>\n",
       "    </tr>\n",
       "    <tr>\n",
       "      <th>448</th>\n",
       "      <td>132727</td>\n",
       "      <td>yes</td>\n",
       "    </tr>\n",
       "    <tr>\n",
       "      <th>596</th>\n",
       "      <td>132578</td>\n",
       "      <td>none</td>\n",
       "    </tr>\n",
       "    <tr>\n",
       "      <th>494</th>\n",
       "      <td>132681</td>\n",
       "      <td>public</td>\n",
       "    </tr>\n",
       "    <tr>\n",
       "      <th>104</th>\n",
       "      <td>135003</td>\n",
       "      <td>yes</td>\n",
       "    </tr>\n",
       "    <tr>\n",
       "      <th>202</th>\n",
       "      <td>132977</td>\n",
       "      <td>none</td>\n",
       "    </tr>\n",
       "    <tr>\n",
       "      <th>284</th>\n",
       "      <td>132893</td>\n",
       "      <td>none</td>\n",
       "    </tr>\n",
       "  </tbody>\n",
       "</table>\n",
       "</div>"
      ],
      "text/plain": [
       "     placeID parking_lot\n",
       "472   132703        none\n",
       "49    135058      public\n",
       "136   134971         yes\n",
       "684   132161      street\n",
       "448   132727         yes\n",
       "596   132578        none\n",
       "494   132681      public\n",
       "104   135003         yes\n",
       "202   132977        none\n",
       "284   132893        none"
      ]
     },
     "execution_count": 21,
     "metadata": {},
     "output_type": "execute_result"
    }
   ],
   "source": [
    "chefmozparking.sample(10)"
   ]
  },
  {
   "cell_type": "code",
   "execution_count": 22,
   "metadata": {
    "colab": {
     "base_uri": "https://localhost:8080/",
     "height": 54
    },
    "colab_type": "code",
    "id": "Z3jkpfWIWFJp",
    "outputId": "f65c4cc7-a93b-47d1-911b-2ccbe2f8aa74"
   },
   "outputs": [
    {
     "data": {
      "text/plain": [
       "array(['public', 'none', 'yes', 'valet parking', 'fee', 'street',\n",
       "       'validated parking'], dtype=object)"
      ]
     },
     "execution_count": 22,
     "metadata": {},
     "output_type": "execute_result"
    }
   ],
   "source": [
    "chefmozparking['parking_lot'].unique()"
   ]
  },
  {
   "cell_type": "code",
   "execution_count": 23,
   "metadata": {
    "colab": {},
    "colab_type": "code",
    "id": "mTtZrRPdY1UU"
   },
   "outputs": [],
   "source": [
    "chefmozparking['parking'] = chefmozparking['parking_lot']\n",
    "chefmozparking['parking'] = chefmozparking['parking'].replace(['yes','public', 'valet parking','validated parking','fee'], 'yes')\n",
    "chefmozparking['parking'] = chefmozparking['parking'].replace(['none','street'], 'no')"
   ]
  },
  {
   "cell_type": "code",
   "execution_count": 24,
   "metadata": {},
   "outputs": [
    {
     "data": {
      "text/plain": [
       "array(['yes', 'no'], dtype=object)"
      ]
     },
     "execution_count": 24,
     "metadata": {},
     "output_type": "execute_result"
    }
   ],
   "source": [
    "chefmozparking['parking'].unique()"
   ]
  },
  {
   "cell_type": "markdown",
   "metadata": {
    "colab_type": "text",
    "id": "LRa7Mjgj7WEN"
   },
   "source": [
    "## geoplaces2\n",
    "\n",
    "placeID: ID of the restaurant.\n",
    "\n",
    "latitude and longitude: The location of the restaurant\n",
    "\n",
    "the_geom_meter:\n",
    "\n",
    "name: Name of the restaurant\n",
    "\n",
    "address: The Address of the Restaurant\n",
    "\n",
    "city: City\n",
    "\n",
    "state: State\n",
    "\n",
    "country: Country\n",
    "\n",
    "fax: ?\n",
    "\n",
    "zip: The ZIP of the restaurant (CP in Spain)\n",
    "\n",
    "alcohol: Type of alcohol that they serve\n",
    "\n",
    "smoking_area: If they have a smoke zone\n",
    "\n",
    "dress_code: If they has dress code or not\n",
    "\n",
    "accessibility: I think it was if the restaurant have handicapped access\n",
    "\n",
    "price: what type of price has the restaurant\n",
    "\n",
    "url: web url\n",
    "\n",
    "Rambience: ambience (familiar, quiet, noisy, etc)\n",
    "\n",
    "franchise: if the restaurant is or not a franchise\n",
    "\n",
    "area:\n",
    "\n",
    "other_services:"
   ]
  },
  {
   "cell_type": "code",
   "execution_count": 25,
   "metadata": {
    "colab": {
     "base_uri": "https://localhost:8080/",
     "height": 385
    },
    "colab_type": "code",
    "id": "NEhbppmOZfPW",
    "outputId": "70466319-f4bd-41d4-acf6-03f9f1f4208b"
   },
   "outputs": [
    {
     "data": {
      "text/html": [
       "<div>\n",
       "<style scoped>\n",
       "    .dataframe tbody tr th:only-of-type {\n",
       "        vertical-align: middle;\n",
       "    }\n",
       "\n",
       "    .dataframe tbody tr th {\n",
       "        vertical-align: top;\n",
       "    }\n",
       "\n",
       "    .dataframe thead th {\n",
       "        text-align: right;\n",
       "    }\n",
       "</style>\n",
       "<table border=\"1\" class=\"dataframe\">\n",
       "  <thead>\n",
       "    <tr style=\"text-align: right;\">\n",
       "      <th></th>\n",
       "      <th>placeID</th>\n",
       "      <th>latitude</th>\n",
       "      <th>longitude</th>\n",
       "      <th>the_geom_meter</th>\n",
       "      <th>name</th>\n",
       "      <th>address</th>\n",
       "      <th>city</th>\n",
       "      <th>state</th>\n",
       "      <th>country</th>\n",
       "      <th>fax</th>\n",
       "      <th>...</th>\n",
       "      <th>alcohol</th>\n",
       "      <th>smoking_area</th>\n",
       "      <th>dress_code</th>\n",
       "      <th>accessibility</th>\n",
       "      <th>price</th>\n",
       "      <th>url</th>\n",
       "      <th>Rambience</th>\n",
       "      <th>franchise</th>\n",
       "      <th>area</th>\n",
       "      <th>other_services</th>\n",
       "    </tr>\n",
       "  </thead>\n",
       "  <tbody>\n",
       "    <tr>\n",
       "      <th>122</th>\n",
       "      <td>132663</td>\n",
       "      <td>23.752511</td>\n",
       "      <td>-99.166954</td>\n",
       "      <td>0101000020957F0000FDF8D26EE08157C1FEDB6A1FDB4E...</td>\n",
       "      <td>tacos abi</td>\n",
       "      <td>?</td>\n",
       "      <td>victoria</td>\n",
       "      <td>tamaulipas</td>\n",
       "      <td>mexico</td>\n",
       "      <td>?</td>\n",
       "      <td>...</td>\n",
       "      <td>No_Alcohol_Served</td>\n",
       "      <td>none</td>\n",
       "      <td>informal</td>\n",
       "      <td>completely</td>\n",
       "      <td>low</td>\n",
       "      <td>?</td>\n",
       "      <td>familiar</td>\n",
       "      <td>f</td>\n",
       "      <td>closed</td>\n",
       "      <td>none</td>\n",
       "    </tr>\n",
       "    <tr>\n",
       "      <th>23</th>\n",
       "      <td>132851</td>\n",
       "      <td>22.136872</td>\n",
       "      <td>-100.934574</td>\n",
       "      <td>0101000020957F0000C74DE39C7F4B58C1061F29171498...</td>\n",
       "      <td>KFC</td>\n",
       "      <td>?</td>\n",
       "      <td>San Luis Potosi</td>\n",
       "      <td>San Luis Potosi</td>\n",
       "      <td>Mexico</td>\n",
       "      <td>?</td>\n",
       "      <td>...</td>\n",
       "      <td>No_Alcohol_Served</td>\n",
       "      <td>not permitted</td>\n",
       "      <td>informal</td>\n",
       "      <td>completely</td>\n",
       "      <td>low</td>\n",
       "      <td>?</td>\n",
       "      <td>familiar</td>\n",
       "      <td>f</td>\n",
       "      <td>closed</td>\n",
       "      <td>none</td>\n",
       "    </tr>\n",
       "    <tr>\n",
       "      <th>42</th>\n",
       "      <td>135046</td>\n",
       "      <td>22.141282</td>\n",
       "      <td>-101.002958</td>\n",
       "      <td>0101000020957F000011DFB4E3EE4858C13F78758452AB...</td>\n",
       "      <td>Restaurante El Reyecito</td>\n",
       "      <td>Agricultura 595 del Valle</td>\n",
       "      <td>San Luis Potosi</td>\n",
       "      <td>SLP</td>\n",
       "      <td>Mexico</td>\n",
       "      <td>?</td>\n",
       "      <td>...</td>\n",
       "      <td>No_Alcohol_Served</td>\n",
       "      <td>none</td>\n",
       "      <td>informal</td>\n",
       "      <td>no_accessibility</td>\n",
       "      <td>medium</td>\n",
       "      <td>reyecito.com</td>\n",
       "      <td>familiar</td>\n",
       "      <td>f</td>\n",
       "      <td>closed</td>\n",
       "      <td>none</td>\n",
       "    </tr>\n",
       "    <tr>\n",
       "      <th>86</th>\n",
       "      <td>132740</td>\n",
       "      <td>23.752197</td>\n",
       "      <td>-99.166632</td>\n",
       "      <td>0101000020957F000027A30471EE8157C1AC17D61EC84E...</td>\n",
       "      <td>Carreton de Flautas y Migadas</td>\n",
       "      <td>?</td>\n",
       "      <td>Ciudad Victoria</td>\n",
       "      <td>Tamaulipas</td>\n",
       "      <td>Mexico</td>\n",
       "      <td>?</td>\n",
       "      <td>...</td>\n",
       "      <td>No_Alcohol_Served</td>\n",
       "      <td>permitted</td>\n",
       "      <td>informal</td>\n",
       "      <td>completely</td>\n",
       "      <td>low</td>\n",
       "      <td>?</td>\n",
       "      <td>familiar</td>\n",
       "      <td>f</td>\n",
       "      <td>open</td>\n",
       "      <td>none</td>\n",
       "    </tr>\n",
       "    <tr>\n",
       "      <th>45</th>\n",
       "      <td>132925</td>\n",
       "      <td>22.153500</td>\n",
       "      <td>-100.976243</td>\n",
       "      <td>0101000020957F00001EF62687CD4758C1BE336F4EFAA2...</td>\n",
       "      <td>el pueblito</td>\n",
       "      <td>?</td>\n",
       "      <td>?</td>\n",
       "      <td>?</td>\n",
       "      <td>?</td>\n",
       "      <td>?</td>\n",
       "      <td>...</td>\n",
       "      <td>Wine-Beer</td>\n",
       "      <td>not permitted</td>\n",
       "      <td>informal</td>\n",
       "      <td>completely</td>\n",
       "      <td>medium</td>\n",
       "      <td>?</td>\n",
       "      <td>familiar</td>\n",
       "      <td>f</td>\n",
       "      <td>closed</td>\n",
       "      <td>none</td>\n",
       "    </tr>\n",
       "  </tbody>\n",
       "</table>\n",
       "<p>5 rows × 21 columns</p>\n",
       "</div>"
      ],
      "text/plain": [
       "     placeID   latitude   longitude  \\\n",
       "122   132663  23.752511  -99.166954   \n",
       "23    132851  22.136872 -100.934574   \n",
       "42    135046  22.141282 -101.002958   \n",
       "86    132740  23.752197  -99.166632   \n",
       "45    132925  22.153500 -100.976243   \n",
       "\n",
       "                                        the_geom_meter  \\\n",
       "122  0101000020957F0000FDF8D26EE08157C1FEDB6A1FDB4E...   \n",
       "23   0101000020957F0000C74DE39C7F4B58C1061F29171498...   \n",
       "42   0101000020957F000011DFB4E3EE4858C13F78758452AB...   \n",
       "86   0101000020957F000027A30471EE8157C1AC17D61EC84E...   \n",
       "45   0101000020957F00001EF62687CD4758C1BE336F4EFAA2...   \n",
       "\n",
       "                              name                    address  \\\n",
       "122                      tacos abi                          ?   \n",
       "23                             KFC                          ?   \n",
       "42         Restaurante El Reyecito  Agricultura 595 del Valle   \n",
       "86   Carreton de Flautas y Migadas                          ?   \n",
       "45                     el pueblito                          ?   \n",
       "\n",
       "                city            state country fax      ...        \\\n",
       "122         victoria       tamaulipas  mexico   ?      ...         \n",
       "23   San Luis Potosi  San Luis Potosi  Mexico   ?      ...         \n",
       "42   San Luis Potosi              SLP  Mexico   ?      ...         \n",
       "86   Ciudad Victoria       Tamaulipas  Mexico   ?      ...         \n",
       "45                 ?                ?       ?   ?      ...         \n",
       "\n",
       "               alcohol   smoking_area dress_code     accessibility   price  \\\n",
       "122  No_Alcohol_Served           none   informal        completely     low   \n",
       "23   No_Alcohol_Served  not permitted   informal        completely     low   \n",
       "42   No_Alcohol_Served           none   informal  no_accessibility  medium   \n",
       "86   No_Alcohol_Served      permitted   informal        completely     low   \n",
       "45           Wine-Beer  not permitted   informal        completely  medium   \n",
       "\n",
       "              url Rambience franchise    area other_services  \n",
       "122             ?  familiar         f  closed           none  \n",
       "23              ?  familiar         f  closed           none  \n",
       "42   reyecito.com  familiar         f  closed           none  \n",
       "86              ?  familiar         f    open           none  \n",
       "45              ?  familiar         f  closed           none  \n",
       "\n",
       "[5 rows x 21 columns]"
      ]
     },
     "execution_count": 25,
     "metadata": {},
     "output_type": "execute_result"
    }
   ],
   "source": [
    "geoplaces2.sample(5)"
   ]
  },
  {
   "cell_type": "code",
   "execution_count": 26,
   "metadata": {
    "colab": {
     "base_uri": "https://localhost:8080/",
     "height": 108
    },
    "colab_type": "code",
    "id": "9Ekz6k107bcn",
    "outputId": "b17ebda3-4ca9-4a15-ac52-96399be6719e"
   },
   "outputs": [
    {
     "data": {
      "text/plain": [
       "Index(['placeID', 'latitude', 'longitude', 'the_geom_meter', 'name', 'address',\n",
       "       'city', 'state', 'country', 'fax', 'zip', 'alcohol', 'smoking_area',\n",
       "       'dress_code', 'accessibility', 'price', 'url', 'Rambience', 'franchise',\n",
       "       'area', 'other_services'],\n",
       "      dtype='object')"
      ]
     },
     "execution_count": 26,
     "metadata": {},
     "output_type": "execute_result"
    }
   ],
   "source": [
    "geoplaces2.columns"
   ]
  },
  {
   "cell_type": "code",
   "execution_count": 27,
   "metadata": {
    "colab": {
     "base_uri": "https://localhost:8080/",
     "height": 35
    },
    "colab_type": "code",
    "id": "a_YsJLcs7kVQ",
    "outputId": "c57dcf78-6285-4f88-e22d-e1b60a88bcba"
   },
   "outputs": [
    {
     "data": {
      "text/plain": [
       "array(['familiar', 'quiet'], dtype=object)"
      ]
     },
     "execution_count": 27,
     "metadata": {},
     "output_type": "execute_result"
    }
   ],
   "source": [
    "geoplaces2['Rambience'].unique()"
   ]
  },
  {
   "cell_type": "code",
   "execution_count": 28,
   "metadata": {},
   "outputs": [
    {
     "data": {
      "text/plain": [
       "array(['No_Alcohol_Served', 'Wine-Beer', 'Full_Bar'], dtype=object)"
      ]
     },
     "execution_count": 28,
     "metadata": {},
     "output_type": "execute_result"
    }
   ],
   "source": [
    "geoplaces2['alcohol'].unique()"
   ]
  },
  {
   "cell_type": "code",
   "execution_count": 29,
   "metadata": {},
   "outputs": [
    {
     "data": {
      "text/plain": [
       "array(['none', 'only at bar', 'permitted', 'section', 'not permitted'],\n",
       "      dtype=object)"
      ]
     },
     "execution_count": 29,
     "metadata": {},
     "output_type": "execute_result"
    }
   ],
   "source": [
    "geoplaces2['smoking_area'].unique()"
   ]
  },
  {
   "cell_type": "code",
   "execution_count": 30,
   "metadata": {},
   "outputs": [],
   "source": [
    "geoplaces2['have_smoking_area']=geoplaces2['smoking_area']\n",
    "geoplaces2['have_smoking_area']=geoplaces2['have_smoking_area'].replace(['only at bar', 'permitted', 'section'],'yes')\n",
    "geoplaces2['have_smoking_area']=geoplaces2['have_smoking_area'].replace(['none','not permitted'],'no')"
   ]
  },
  {
   "cell_type": "code",
   "execution_count": 31,
   "metadata": {},
   "outputs": [
    {
     "data": {
      "text/plain": [
       "array(['no', 'yes'], dtype=object)"
      ]
     },
     "execution_count": 31,
     "metadata": {},
     "output_type": "execute_result"
    }
   ],
   "source": [
    "geoplaces2['have_smoking_area'].unique()"
   ]
  },
  {
   "cell_type": "code",
   "execution_count": 32,
   "metadata": {},
   "outputs": [
    {
     "data": {
      "text/plain": [
       "array(['informal', 'casual', 'formal'], dtype=object)"
      ]
     },
     "execution_count": 32,
     "metadata": {},
     "output_type": "execute_result"
    }
   ],
   "source": [
    "geoplaces2['dress_code'].unique()"
   ]
  },
  {
   "cell_type": "code",
   "execution_count": 33,
   "metadata": {},
   "outputs": [
    {
     "data": {
      "text/plain": [
       "array(['no_accessibility', 'completely', 'partially'], dtype=object)"
      ]
     },
     "execution_count": 33,
     "metadata": {},
     "output_type": "execute_result"
    }
   ],
   "source": [
    "geoplaces2['accessibility'].unique()"
   ]
  },
  {
   "cell_type": "code",
   "execution_count": 34,
   "metadata": {},
   "outputs": [],
   "source": [
    "geoplaces2['accessibility'] = geoplaces2['accessibility']\n",
    "geoplaces2['accessibility'] = geoplaces2['accessibility'].replace(['completely', 'partially'],'yes_accessibility')"
   ]
  },
  {
   "cell_type": "code",
   "execution_count": 35,
   "metadata": {},
   "outputs": [
    {
     "data": {
      "text/plain": [
       "array(['medium', 'low', 'high'], dtype=object)"
      ]
     },
     "execution_count": 35,
     "metadata": {},
     "output_type": "execute_result"
    }
   ],
   "source": [
    "geoplaces2['price'].unique()"
   ]
  },
  {
   "cell_type": "code",
   "execution_count": 36,
   "metadata": {},
   "outputs": [
    {
     "data": {
      "text/plain": [
       "array(['yes', 'no'], dtype=object)"
      ]
     },
     "execution_count": 36,
     "metadata": {},
     "output_type": "execute_result"
    }
   ],
   "source": [
    "geoplaces2['franchise']=geoplaces2['franchise'].replace('t','no')\n",
    "geoplaces2['franchise']=geoplaces2['franchise'].replace('f','yes')\n",
    "geoplaces2['franchise'].unique()"
   ]
  },
  {
   "cell_type": "code",
   "execution_count": 37,
   "metadata": {},
   "outputs": [
    {
     "data": {
      "text/plain": [
       "array(['none', 'Internet', 'variety'], dtype=object)"
      ]
     },
     "execution_count": 37,
     "metadata": {},
     "output_type": "execute_result"
    }
   ],
   "source": [
    "geoplaces2['other_services'].unique()"
   ]
  },
  {
   "cell_type": "code",
   "execution_count": 38,
   "metadata": {},
   "outputs": [
    {
     "data": {
      "text/plain": [
       "array(['closed', 'open'], dtype=object)"
      ]
     },
     "execution_count": 38,
     "metadata": {},
     "output_type": "execute_result"
    }
   ],
   "source": [
    "geoplaces2['area'].unique()"
   ]
  },
  {
   "cell_type": "code",
   "execution_count": 39,
   "metadata": {
    "colab": {},
    "colab_type": "code",
    "id": "1SPQVjF_iE-b"
   },
   "outputs": [],
   "source": [
    "rNamesDict = geoplaces2.set_index(\"placeID\").to_dict().get('name')"
   ]
  },
  {
   "cell_type": "code",
   "execution_count": 40,
   "metadata": {
    "colab": {
     "base_uri": "https://localhost:8080/",
     "height": 35
    },
    "colab_type": "code",
    "id": "P5mLn_MxilNa",
    "outputId": "6d909023-d2d8-48ed-ccd6-e18519d6aa01"
   },
   "outputs": [
    {
     "data": {
      "text/plain": [
       "'puesto de gorditas'"
      ]
     },
     "execution_count": 40,
     "metadata": {},
     "output_type": "execute_result"
    }
   ],
   "source": [
    "rNamesDict[132560]"
   ]
  },
  {
   "cell_type": "markdown",
   "metadata": {
    "colab_type": "text",
    "id": "qVgtGPJXJ91q"
   },
   "source": [
    "## rating_final"
   ]
  },
  {
   "cell_type": "code",
   "execution_count": 41,
   "metadata": {
    "colab": {
     "base_uri": "https://localhost:8080/",
     "height": 198
    },
    "colab_type": "code",
    "id": "xznDpB758mMb",
    "outputId": "d3493699-a6e2-4b5a-a2de-637436cf9a56"
   },
   "outputs": [
    {
     "data": {
      "text/html": [
       "<div>\n",
       "<style scoped>\n",
       "    .dataframe tbody tr th:only-of-type {\n",
       "        vertical-align: middle;\n",
       "    }\n",
       "\n",
       "    .dataframe tbody tr th {\n",
       "        vertical-align: top;\n",
       "    }\n",
       "\n",
       "    .dataframe thead th {\n",
       "        text-align: right;\n",
       "    }\n",
       "</style>\n",
       "<table border=\"1\" class=\"dataframe\">\n",
       "  <thead>\n",
       "    <tr style=\"text-align: right;\">\n",
       "      <th></th>\n",
       "      <th>userID</th>\n",
       "      <th>placeID</th>\n",
       "      <th>rating</th>\n",
       "      <th>food_rating</th>\n",
       "      <th>service_rating</th>\n",
       "    </tr>\n",
       "  </thead>\n",
       "  <tbody>\n",
       "    <tr>\n",
       "      <th>0</th>\n",
       "      <td>U1077</td>\n",
       "      <td>135085</td>\n",
       "      <td>2</td>\n",
       "      <td>2</td>\n",
       "      <td>2</td>\n",
       "    </tr>\n",
       "    <tr>\n",
       "      <th>1</th>\n",
       "      <td>U1077</td>\n",
       "      <td>135038</td>\n",
       "      <td>2</td>\n",
       "      <td>2</td>\n",
       "      <td>1</td>\n",
       "    </tr>\n",
       "    <tr>\n",
       "      <th>2</th>\n",
       "      <td>U1077</td>\n",
       "      <td>132825</td>\n",
       "      <td>2</td>\n",
       "      <td>2</td>\n",
       "      <td>2</td>\n",
       "    </tr>\n",
       "    <tr>\n",
       "      <th>3</th>\n",
       "      <td>U1077</td>\n",
       "      <td>135060</td>\n",
       "      <td>1</td>\n",
       "      <td>2</td>\n",
       "      <td>2</td>\n",
       "    </tr>\n",
       "    <tr>\n",
       "      <th>4</th>\n",
       "      <td>U1068</td>\n",
       "      <td>135104</td>\n",
       "      <td>1</td>\n",
       "      <td>1</td>\n",
       "      <td>2</td>\n",
       "    </tr>\n",
       "  </tbody>\n",
       "</table>\n",
       "</div>"
      ],
      "text/plain": [
       "  userID  placeID  rating  food_rating  service_rating\n",
       "0  U1077   135085       2            2               2\n",
       "1  U1077   135038       2            2               1\n",
       "2  U1077   132825       2            2               2\n",
       "3  U1077   135060       1            2               2\n",
       "4  U1068   135104       1            1               2"
      ]
     },
     "execution_count": 41,
     "metadata": {},
     "output_type": "execute_result"
    }
   ],
   "source": [
    "rating_final.head(5)"
   ]
  },
  {
   "cell_type": "code",
   "execution_count": 42,
   "metadata": {
    "colab": {},
    "colab_type": "code",
    "id": "aUTZosyoq9oP"
   },
   "outputs": [],
   "source": [
    "rating_final['goodRating?'] = np.nan\n",
    "rating_final['ratingMean'] = 0.00"
   ]
  },
  {
   "cell_type": "code",
   "execution_count": 43,
   "metadata": {
    "colab": {
     "base_uri": "https://localhost:8080/",
     "height": 290
    },
    "colab_type": "code",
    "id": "n5e-Qwy5KBAY",
    "outputId": "76c38a83-d08f-4540-add6-dde3ed62b669"
   },
   "outputs": [
    {
     "name": "stderr",
     "output_type": "stream",
     "text": [
      "/home/javier/anaconda3/lib/python3.7/site-packages/ipykernel_launcher.py:7: SettingWithCopyWarning: \n",
      "A value is trying to be set on a copy of a slice from a DataFrame\n",
      "\n",
      "See the caveats in the documentation: http://pandas.pydata.org/pandas-docs/stable/indexing.html#indexing-view-versus-copy\n",
      "  import sys\n",
      "/home/javier/anaconda3/lib/python3.7/site-packages/pandas/core/indexing.py:189: SettingWithCopyWarning: \n",
      "A value is trying to be set on a copy of a slice from a DataFrame\n",
      "\n",
      "See the caveats in the documentation: http://pandas.pydata.org/pandas-docs/stable/indexing.html#indexing-view-versus-copy\n",
      "  self._setitem_with_indexer(indexer, value)\n",
      "/home/javier/anaconda3/lib/python3.7/site-packages/ipykernel_launcher.py:8: SettingWithCopyWarning: \n",
      "A value is trying to be set on a copy of a slice from a DataFrame\n",
      "\n",
      "See the caveats in the documentation: http://pandas.pydata.org/pandas-docs/stable/indexing.html#indexing-view-versus-copy\n",
      "  \n"
     ]
    }
   ],
   "source": [
    "import math\n",
    "for i in range(len(rating_final)):\n",
    "    sumarating = [rating_final['food_rating'][i],rating_final['service_rating'][i]]\n",
    "    sumaratingMean = np.mean(sumarating)\n",
    "    sumaratingRound = math.ceil(sumaratingMean)\n",
    "    \n",
    "    rating_final['goodRating?'][i] = rating_final['rating'][i]==sumaratingRound\n",
    "    rating_final['ratingMean'][i] = sumaratingMean"
   ]
  },
  {
   "cell_type": "code",
   "execution_count": 44,
   "metadata": {
    "colab": {
     "base_uri": "https://localhost:8080/",
     "height": 198
    },
    "colab_type": "code",
    "id": "w6hjaIFmds1S",
    "outputId": "6a570d75-66dd-496d-f0f1-2e85c5ddfbc4"
   },
   "outputs": [
    {
     "data": {
      "text/html": [
       "<div>\n",
       "<style scoped>\n",
       "    .dataframe tbody tr th:only-of-type {\n",
       "        vertical-align: middle;\n",
       "    }\n",
       "\n",
       "    .dataframe tbody tr th {\n",
       "        vertical-align: top;\n",
       "    }\n",
       "\n",
       "    .dataframe thead th {\n",
       "        text-align: right;\n",
       "    }\n",
       "</style>\n",
       "<table border=\"1\" class=\"dataframe\">\n",
       "  <thead>\n",
       "    <tr style=\"text-align: right;\">\n",
       "      <th></th>\n",
       "      <th>userID</th>\n",
       "      <th>placeID</th>\n",
       "      <th>rating</th>\n",
       "      <th>food_rating</th>\n",
       "      <th>service_rating</th>\n",
       "      <th>goodRating?</th>\n",
       "      <th>ratingMean</th>\n",
       "    </tr>\n",
       "  </thead>\n",
       "  <tbody>\n",
       "    <tr>\n",
       "      <th>288</th>\n",
       "      <td>U1124</td>\n",
       "      <td>135057</td>\n",
       "      <td>1</td>\n",
       "      <td>1</td>\n",
       "      <td>1</td>\n",
       "      <td>True</td>\n",
       "      <td>1.0</td>\n",
       "    </tr>\n",
       "    <tr>\n",
       "      <th>1119</th>\n",
       "      <td>U1050</td>\n",
       "      <td>132740</td>\n",
       "      <td>0</td>\n",
       "      <td>2</td>\n",
       "      <td>0</td>\n",
       "      <td>False</td>\n",
       "      <td>1.0</td>\n",
       "    </tr>\n",
       "    <tr>\n",
       "      <th>289</th>\n",
       "      <td>U1124</td>\n",
       "      <td>135039</td>\n",
       "      <td>1</td>\n",
       "      <td>1</td>\n",
       "      <td>1</td>\n",
       "      <td>True</td>\n",
       "      <td>1.0</td>\n",
       "    </tr>\n",
       "    <tr>\n",
       "      <th>32</th>\n",
       "      <td>U1031</td>\n",
       "      <td>132665</td>\n",
       "      <td>0</td>\n",
       "      <td>0</td>\n",
       "      <td>0</td>\n",
       "      <td>True</td>\n",
       "      <td>0.0</td>\n",
       "    </tr>\n",
       "    <tr>\n",
       "      <th>435</th>\n",
       "      <td>U1037</td>\n",
       "      <td>135054</td>\n",
       "      <td>2</td>\n",
       "      <td>1</td>\n",
       "      <td>1</td>\n",
       "      <td>False</td>\n",
       "      <td>1.0</td>\n",
       "    </tr>\n",
       "  </tbody>\n",
       "</table>\n",
       "</div>"
      ],
      "text/plain": [
       "     userID  placeID  rating  food_rating  service_rating goodRating?  \\\n",
       "288   U1124   135057       1            1               1        True   \n",
       "1119  U1050   132740       0            2               0       False   \n",
       "289   U1124   135039       1            1               1        True   \n",
       "32    U1031   132665       0            0               0        True   \n",
       "435   U1037   135054       2            1               1       False   \n",
       "\n",
       "      ratingMean  \n",
       "288          1.0  \n",
       "1119         1.0  \n",
       "289          1.0  \n",
       "32           0.0  \n",
       "435          1.0  "
      ]
     },
     "execution_count": 44,
     "metadata": {},
     "output_type": "execute_result"
    }
   ],
   "source": [
    "rating_final.sample(5)"
   ]
  },
  {
   "cell_type": "code",
   "execution_count": 45,
   "metadata": {
    "colab": {
     "base_uri": "https://localhost:8080/",
     "height": 198
    },
    "colab_type": "code",
    "id": "lhEcyEtUJb3s",
    "outputId": "dfc0cc0a-9b7d-48d9-8697-7464748e473b"
   },
   "outputs": [
    {
     "data": {
      "text/html": [
       "<div>\n",
       "<style scoped>\n",
       "    .dataframe tbody tr th:only-of-type {\n",
       "        vertical-align: middle;\n",
       "    }\n",
       "\n",
       "    .dataframe tbody tr th {\n",
       "        vertical-align: top;\n",
       "    }\n",
       "\n",
       "    .dataframe thead th {\n",
       "        text-align: right;\n",
       "    }\n",
       "</style>\n",
       "<table border=\"1\" class=\"dataframe\">\n",
       "  <thead>\n",
       "    <tr style=\"text-align: right;\">\n",
       "      <th></th>\n",
       "      <th>userID</th>\n",
       "      <th>placeID</th>\n",
       "      <th>rating</th>\n",
       "      <th>food_rating</th>\n",
       "      <th>service_rating</th>\n",
       "      <th>goodRating?</th>\n",
       "      <th>ratingMean</th>\n",
       "    </tr>\n",
       "  </thead>\n",
       "  <tbody>\n",
       "    <tr>\n",
       "      <th>3</th>\n",
       "      <td>U1077</td>\n",
       "      <td>135060</td>\n",
       "      <td>1</td>\n",
       "      <td>2</td>\n",
       "      <td>2</td>\n",
       "      <td>False</td>\n",
       "      <td>2.0</td>\n",
       "    </tr>\n",
       "    <tr>\n",
       "      <th>4</th>\n",
       "      <td>U1068</td>\n",
       "      <td>135104</td>\n",
       "      <td>1</td>\n",
       "      <td>1</td>\n",
       "      <td>2</td>\n",
       "      <td>False</td>\n",
       "      <td>1.5</td>\n",
       "    </tr>\n",
       "    <tr>\n",
       "      <th>11</th>\n",
       "      <td>U1067</td>\n",
       "      <td>132732</td>\n",
       "      <td>1</td>\n",
       "      <td>2</td>\n",
       "      <td>2</td>\n",
       "      <td>False</td>\n",
       "      <td>2.0</td>\n",
       "    </tr>\n",
       "    <tr>\n",
       "      <th>14</th>\n",
       "      <td>U1067</td>\n",
       "      <td>132560</td>\n",
       "      <td>1</td>\n",
       "      <td>0</td>\n",
       "      <td>0</td>\n",
       "      <td>False</td>\n",
       "      <td>0.0</td>\n",
       "    </tr>\n",
       "    <tr>\n",
       "      <th>15</th>\n",
       "      <td>U1103</td>\n",
       "      <td>132584</td>\n",
       "      <td>1</td>\n",
       "      <td>2</td>\n",
       "      <td>1</td>\n",
       "      <td>False</td>\n",
       "      <td>1.5</td>\n",
       "    </tr>\n",
       "  </tbody>\n",
       "</table>\n",
       "</div>"
      ],
      "text/plain": [
       "   userID  placeID  rating  food_rating  service_rating goodRating?  \\\n",
       "3   U1077   135060       1            2               2       False   \n",
       "4   U1068   135104       1            1               2       False   \n",
       "11  U1067   132732       1            2               2       False   \n",
       "14  U1067   132560       1            0               0       False   \n",
       "15  U1103   132584       1            2               1       False   \n",
       "\n",
       "    ratingMean  \n",
       "3          2.0  \n",
       "4          1.5  \n",
       "11         2.0  \n",
       "14         0.0  \n",
       "15         1.5  "
      ]
     },
     "execution_count": 45,
     "metadata": {},
     "output_type": "execute_result"
    }
   ],
   "source": [
    "rating_final[rating_final['goodRating?']==False].head()"
   ]
  },
  {
   "cell_type": "code",
   "execution_count": 46,
   "metadata": {
    "colab": {
     "base_uri": "https://localhost:8080/",
     "height": 35
    },
    "colab_type": "code",
    "id": "TlIegOTDJouz",
    "outputId": "7cc310ca-11d0-4e82-81da-6e4d51aff462"
   },
   "outputs": [
    {
     "data": {
      "text/plain": [
       "307"
      ]
     },
     "execution_count": 46,
     "metadata": {},
     "output_type": "execute_result"
    }
   ],
   "source": [
    "len(rating_final[rating_final['goodRating?']==False])"
   ]
  },
  {
   "cell_type": "markdown",
   "metadata": {
    "colab_type": "text",
    "id": "JwisvtmzKVyg"
   },
   "source": [
    " ## usercuisine"
   ]
  },
  {
   "cell_type": "code",
   "execution_count": 47,
   "metadata": {
    "colab": {
     "base_uri": "https://localhost:8080/",
     "height": 198
    },
    "colab_type": "code",
    "id": "L7PLHvJJKYN4",
    "outputId": "7a2ae616-ebc1-48a5-e03b-c170bcdf950a"
   },
   "outputs": [
    {
     "data": {
      "text/html": [
       "<div>\n",
       "<style scoped>\n",
       "    .dataframe tbody tr th:only-of-type {\n",
       "        vertical-align: middle;\n",
       "    }\n",
       "\n",
       "    .dataframe tbody tr th {\n",
       "        vertical-align: top;\n",
       "    }\n",
       "\n",
       "    .dataframe thead th {\n",
       "        text-align: right;\n",
       "    }\n",
       "</style>\n",
       "<table border=\"1\" class=\"dataframe\">\n",
       "  <thead>\n",
       "    <tr style=\"text-align: right;\">\n",
       "      <th></th>\n",
       "      <th>userID</th>\n",
       "      <th>Rcuisine</th>\n",
       "    </tr>\n",
       "  </thead>\n",
       "  <tbody>\n",
       "    <tr>\n",
       "      <th>307</th>\n",
       "      <td>U1135</td>\n",
       "      <td>Tibetan</td>\n",
       "    </tr>\n",
       "    <tr>\n",
       "      <th>311</th>\n",
       "      <td>U1135</td>\n",
       "      <td>Mexican</td>\n",
       "    </tr>\n",
       "    <tr>\n",
       "      <th>20</th>\n",
       "      <td>U1008</td>\n",
       "      <td>Latin_American</td>\n",
       "    </tr>\n",
       "    <tr>\n",
       "      <th>258</th>\n",
       "      <td>U1135</td>\n",
       "      <td>Tex-Mex</td>\n",
       "    </tr>\n",
       "    <tr>\n",
       "      <th>97</th>\n",
       "      <td>U1055</td>\n",
       "      <td>Breakfast-Brunch</td>\n",
       "    </tr>\n",
       "  </tbody>\n",
       "</table>\n",
       "</div>"
      ],
      "text/plain": [
       "    userID          Rcuisine\n",
       "307  U1135           Tibetan\n",
       "311  U1135           Mexican\n",
       "20   U1008    Latin_American\n",
       "258  U1135           Tex-Mex\n",
       "97   U1055  Breakfast-Brunch"
      ]
     },
     "execution_count": 47,
     "metadata": {},
     "output_type": "execute_result"
    }
   ],
   "source": [
    "usercuisine.sample(5)"
   ]
  },
  {
   "cell_type": "code",
   "execution_count": 48,
   "metadata": {},
   "outputs": [
    {
     "data": {
      "text/plain": [
       "array(['American', 'Mexican', 'Bakery', 'Breakfast-Brunch', 'Japanese',\n",
       "       'Contemporary', 'Bagels', 'Cafe-Coffee_Shop',\n",
       "       'Continental-European', 'Cafeteria', 'Family', 'Juice', 'Hawaiian',\n",
       "       'Hot_Dogs', 'Latin_American', 'Korean', 'Italian', 'Diner',\n",
       "       'Fast_Food', 'Deli-Sandwiches', 'Regional', 'Fusion', 'Portuguese',\n",
       "       'Indian-Pakistani', 'Eastern_European', 'Lebanese', 'Moroccan',\n",
       "       'Barbecue', 'Polynesian', 'Polish', 'Chinese', 'Pizzeria',\n",
       "       'Burgers', 'Afghan', 'Middle_Eastern', 'Mongolian', 'Bar', 'Cuban',\n",
       "       'Tex-Mex', 'Spanish', 'Soup', 'Sushi', 'Game', 'Doughnuts',\n",
       "       'Australian', 'Asian', 'Dessert-Ice_Cream', 'Seafood', 'Turkish',\n",
       "       'Organic-Healthy', 'Steaks', 'Mediterranean', 'British',\n",
       "       'Austrian', 'Israeli', 'Russian-Ukrainian', 'Malaysian',\n",
       "       'Vegetarian', 'Peruvian', 'Tapas', 'Eclectic', 'African', 'Basque',\n",
       "       'Canadian', 'Irish', 'Southwestern', 'Tea_House', 'International',\n",
       "       'Pacific_Northwest', 'German', 'Persian', 'Ethiopian', 'Romanian',\n",
       "       'Cambodian', 'Pacific_Rim', 'Tunisian', 'Filipino', 'Dim_Sum',\n",
       "       'Greek', 'Thai', 'Swiss', 'Cajun-Creole', 'Armenian', 'Indigenous',\n",
       "       'Bar_Pub_Brewery', 'Caribbean', 'Indonesian', 'Hungarian',\n",
       "       'Dutch-Belgian', 'Kosher', 'Fine_Dining', 'Jamaican', 'Tibetan',\n",
       "       'Southeast_Asian', 'Burmese', 'California', 'Scandinavian',\n",
       "       'Chilean', 'North_African', 'Vietnamese', 'French', 'Brazilian',\n",
       "       'Southern'], dtype=object)"
      ]
     },
     "execution_count": 48,
     "metadata": {},
     "output_type": "execute_result"
    }
   ],
   "source": [
    "usercuisine['Rcuisine'].unique()"
   ]
  },
  {
   "cell_type": "code",
   "execution_count": 49,
   "metadata": {},
   "outputs": [],
   "source": [
    "usercuisine['Rcuisine_Type'] = usercuisine['Rcuisine']\n",
    "usercuisine['Rcuisine_Type'] = usercuisine['Rcuisine_Type'].replace(['French','Spanish','Italian','Seafood','Greek','Mediterranean','Portuguese','Lebanese', 'Moroccan','Israeli','Tapas','Basque','Tunisian','Turkish','North_African'], 'Mediterranean')\n",
    "usercuisine['Rcuisine_Type'] = usercuisine['Rcuisine_Type'].replace(['Latin_American','Mexican','Brazilian','Caribbean','Chilean','Filipino','Cuban','Hawaiian','Peruvian','Jamaican','Southern','Regional','Indigenous'], 'South_American')\n",
    "usercuisine['Rcuisine_Type'] = usercuisine['Rcuisine_Type'].replace(['Fast_Food','Hot_Dogs','Burgers','Deli-Sandwiches','Pizzeria'], 'Fast_Food')\n",
    "usercuisine['Rcuisine_Type'] = usercuisine['Rcuisine_Type'].replace(['Asian','Mongolian','Chinese','Japanese','Sushi','Vietnamese', 'Korean','Thai','Indian-Pakistani','Tibetan','Southeast_Asian','Burmese','Dim_Sum','Malaysian','Cambodian'], 'Asian')\n",
    "usercuisine['Rcuisine_Type'] = usercuisine['Rcuisine_Type'].replace(['German','Polish', 'Dutch-Belgian','Continental-European','Eastern_European','Irish','Hungarian','British','Romanian','Austrian','Scandinavian','Swiss','Russian-Ukrainian'], 'European')\n",
    "usercuisine['Rcuisine_Type'] = usercuisine['Rcuisine_Type'].replace(['Afghan','Armenian','Persian','Middle_Eastern'], 'Middle East')\n",
    "usercuisine['Rcuisine_Type'] = usercuisine['Rcuisine_Type'].replace(['African','Ethiopian'], 'African')\n",
    "usercuisine['Rcuisine_Type'] = usercuisine['Rcuisine_Type'].replace(['Breakfast-Brunch','Bagels','Juice'], 'Breakfast')\n",
    "usercuisine['Rcuisine_Type'] = usercuisine['Rcuisine_Type'].replace(['Bar_Pub_Brewery','Bar'], 'Bar')\n",
    "usercuisine['Rcuisine_Type'] = usercuisine['Rcuisine_Type'].replace(['Cafeteria','Cafe-Coffee_Shop','Tea_House'], 'Coffee_Shop')\n",
    "usercuisine['Rcuisine_Type'] = usercuisine['Rcuisine_Type'].replace(['Fine_Dining','Organic-Healthy','Vegetarian'], 'Healthy-Vegetarian')\n",
    "usercuisine['Rcuisine_Type'] = usercuisine['Rcuisine_Type'].replace(['American','California','Southwestern','Canadian','Cajun-Creole','Pacific_Northwest','Tex-Mex'], 'North_American')\n",
    "usercuisine['Rcuisine_Type'] = usercuisine['Rcuisine_Type'].replace(['Steaks','Barbecue'], 'Meat')\n",
    "usercuisine['Rcuisine_Type'] = usercuisine['Rcuisine_Type'].replace(['Dessert-Ice_Cream'], 'Ice_Cream')\n",
    "usercuisine['Rcuisine_Type'] = usercuisine['Rcuisine_Type'].replace(['Doughnuts','Bakery'], 'Bakery')\n",
    "usercuisine['Rcuisine_Type'] = usercuisine['Rcuisine_Type'].replace(['Contemporary','Fusion','Eclectic'], 'Contemporary')\n",
    "usercuisine['Rcuisine_Type'] = usercuisine['Rcuisine_Type'].replace(['Australian','Polynesian','Indonesian','Pacific_Rim'], 'Australian')"
   ]
  },
  {
   "cell_type": "code",
   "execution_count": 50,
   "metadata": {},
   "outputs": [
    {
     "name": "stdout",
     "output_type": "stream",
     "text": [
      "103\n",
      "23\n"
     ]
    }
   ],
   "source": [
    "print(len(usercuisine['Rcuisine'].unique()))\n",
    "print(len(usercuisine['Rcuisine_Type'].unique()))"
   ]
  },
  {
   "cell_type": "markdown",
   "metadata": {
    "colab_type": "text",
    "id": "fP2Q9AkLKmcr"
   },
   "source": [
    "## userpayment"
   ]
  },
  {
   "cell_type": "code",
   "execution_count": 51,
   "metadata": {
    "colab": {
     "base_uri": "https://localhost:8080/",
     "height": 198
    },
    "colab_type": "code",
    "id": "8PkHPFhCKnqp",
    "outputId": "44b5ff96-56a2-48ae-ad36-90bf1c947493"
   },
   "outputs": [
    {
     "data": {
      "text/html": [
       "<div>\n",
       "<style scoped>\n",
       "    .dataframe tbody tr th:only-of-type {\n",
       "        vertical-align: middle;\n",
       "    }\n",
       "\n",
       "    .dataframe tbody tr th {\n",
       "        vertical-align: top;\n",
       "    }\n",
       "\n",
       "    .dataframe thead th {\n",
       "        text-align: right;\n",
       "    }\n",
       "</style>\n",
       "<table border=\"1\" class=\"dataframe\">\n",
       "  <thead>\n",
       "    <tr style=\"text-align: right;\">\n",
       "      <th></th>\n",
       "      <th>userID</th>\n",
       "      <th>Upayment</th>\n",
       "    </tr>\n",
       "  </thead>\n",
       "  <tbody>\n",
       "    <tr>\n",
       "      <th>101</th>\n",
       "      <td>U1078</td>\n",
       "      <td>VISA</td>\n",
       "    </tr>\n",
       "    <tr>\n",
       "      <th>3</th>\n",
       "      <td>U1004</td>\n",
       "      <td>cash</td>\n",
       "    </tr>\n",
       "    <tr>\n",
       "      <th>82</th>\n",
       "      <td>U1066</td>\n",
       "      <td>bank_debit_cards</td>\n",
       "    </tr>\n",
       "    <tr>\n",
       "      <th>168</th>\n",
       "      <td>U1131</td>\n",
       "      <td>cash</td>\n",
       "    </tr>\n",
       "    <tr>\n",
       "      <th>15</th>\n",
       "      <td>U1013</td>\n",
       "      <td>cash</td>\n",
       "    </tr>\n",
       "  </tbody>\n",
       "</table>\n",
       "</div>"
      ],
      "text/plain": [
       "    userID          Upayment\n",
       "101  U1078              VISA\n",
       "3    U1004              cash\n",
       "82   U1066  bank_debit_cards\n",
       "168  U1131              cash\n",
       "15   U1013              cash"
      ]
     },
     "execution_count": 51,
     "metadata": {},
     "output_type": "execute_result"
    }
   ],
   "source": [
    "userpayment.sample(5)"
   ]
  },
  {
   "cell_type": "code",
   "execution_count": 52,
   "metadata": {
    "colab": {},
    "colab_type": "code",
    "id": "6MgS2_W8Kowq"
   },
   "outputs": [],
   "source": [
    "userpayment['Upayment_accepts'] = userpayment['Upayment']\n",
    "userpayment['Upayment_accepts'] = userpayment['Upayment_accepts']\\\n",
    "             .replace(['VISA', 'MasterCard-Eurocard', 'American_Express',\n",
    "                       'bank_debit_cards','Discover', 'Carte_Blanche',\n",
    "                       'Diners_Club', 'Visa', 'Japan_Credit_Bureau'], ' credictCard')\n",
    "userpayment['Upayment_accepts'] = userpayment['Upayment_accepts']\\\n",
    "             .replace(['gift_certificates'], 'checks')\n",
    "userpayment['Upayment_accepts'] = userpayment['Upayment_accepts'].astype('category')"
   ]
  },
  {
   "cell_type": "code",
   "execution_count": 53,
   "metadata": {},
   "outputs": [
    {
     "data": {
      "text/plain": [
       "array(['cash', 'bank_debit_cards', 'MasterCard-Eurocard', 'VISA',\n",
       "       'American_Express'], dtype=object)"
      ]
     },
     "execution_count": 53,
     "metadata": {},
     "output_type": "execute_result"
    }
   ],
   "source": [
    "userpayment['Upayment'].unique()"
   ]
  },
  {
   "cell_type": "code",
   "execution_count": 54,
   "metadata": {},
   "outputs": [
    {
     "data": {
      "text/plain": [
       "[cash, credictCard]\n",
       "Categories (2, object): [cash, credictCard]"
      ]
     },
     "execution_count": 54,
     "metadata": {},
     "output_type": "execute_result"
    }
   ],
   "source": [
    "userpayment['Upayment_accepts'].unique()"
   ]
  },
  {
   "cell_type": "markdown",
   "metadata": {
    "colab_type": "text",
    "id": "5Zu4zjPYKu_a"
   },
   "source": [
    "## userprofile"
   ]
  },
  {
   "cell_type": "code",
   "execution_count": 55,
   "metadata": {
    "colab": {
     "base_uri": "https://localhost:8080/",
     "height": 270
    },
    "colab_type": "code",
    "id": "4zp_lIWQKwAK",
    "outputId": "86c060df-7cdb-41ae-c0a8-89028d50f194"
   },
   "outputs": [
    {
     "data": {
      "text/html": [
       "<div>\n",
       "<style scoped>\n",
       "    .dataframe tbody tr th:only-of-type {\n",
       "        vertical-align: middle;\n",
       "    }\n",
       "\n",
       "    .dataframe tbody tr th {\n",
       "        vertical-align: top;\n",
       "    }\n",
       "\n",
       "    .dataframe thead th {\n",
       "        text-align: right;\n",
       "    }\n",
       "</style>\n",
       "<table border=\"1\" class=\"dataframe\">\n",
       "  <thead>\n",
       "    <tr style=\"text-align: right;\">\n",
       "      <th></th>\n",
       "      <th>userID</th>\n",
       "      <th>latitude</th>\n",
       "      <th>longitude</th>\n",
       "      <th>smoker</th>\n",
       "      <th>drink_level</th>\n",
       "      <th>dress_preference</th>\n",
       "      <th>ambience</th>\n",
       "      <th>transport</th>\n",
       "      <th>marital_status</th>\n",
       "      <th>hijos</th>\n",
       "      <th>birth_year</th>\n",
       "      <th>interest</th>\n",
       "      <th>personality</th>\n",
       "      <th>religion</th>\n",
       "      <th>activity</th>\n",
       "      <th>color</th>\n",
       "      <th>weight</th>\n",
       "      <th>budget</th>\n",
       "      <th>height</th>\n",
       "    </tr>\n",
       "  </thead>\n",
       "  <tbody>\n",
       "    <tr>\n",
       "      <th>121</th>\n",
       "      <td>U1122</td>\n",
       "      <td>22.169601</td>\n",
       "      <td>-100.991821</td>\n",
       "      <td>?</td>\n",
       "      <td>abstemious</td>\n",
       "      <td>?</td>\n",
       "      <td>?</td>\n",
       "      <td>?</td>\n",
       "      <td>?</td>\n",
       "      <td>?</td>\n",
       "      <td>1930</td>\n",
       "      <td>none</td>\n",
       "      <td>hard-worker</td>\n",
       "      <td>none</td>\n",
       "      <td>?</td>\n",
       "      <td>yellow</td>\n",
       "      <td>40</td>\n",
       "      <td>?</td>\n",
       "      <td>1.20</td>\n",
       "    </tr>\n",
       "    <tr>\n",
       "      <th>43</th>\n",
       "      <td>U1044</td>\n",
       "      <td>18.952980</td>\n",
       "      <td>-99.260789</td>\n",
       "      <td>true</td>\n",
       "      <td>social drinker</td>\n",
       "      <td>informal</td>\n",
       "      <td>family</td>\n",
       "      <td>car owner</td>\n",
       "      <td>married</td>\n",
       "      <td>kids</td>\n",
       "      <td>1969</td>\n",
       "      <td>variety</td>\n",
       "      <td>thrifty-protector</td>\n",
       "      <td>Catholic</td>\n",
       "      <td>professional</td>\n",
       "      <td>orange</td>\n",
       "      <td>85</td>\n",
       "      <td>medium</td>\n",
       "      <td>1.73</td>\n",
       "    </tr>\n",
       "    <tr>\n",
       "      <th>5</th>\n",
       "      <td>U1006</td>\n",
       "      <td>22.150000</td>\n",
       "      <td>-100.983000</td>\n",
       "      <td>true</td>\n",
       "      <td>social drinker</td>\n",
       "      <td>no preference</td>\n",
       "      <td>friends</td>\n",
       "      <td>car owner</td>\n",
       "      <td>single</td>\n",
       "      <td>independent</td>\n",
       "      <td>1989</td>\n",
       "      <td>variety</td>\n",
       "      <td>hard-worker</td>\n",
       "      <td>none</td>\n",
       "      <td>student</td>\n",
       "      <td>blue</td>\n",
       "      <td>75</td>\n",
       "      <td>medium</td>\n",
       "      <td>1.80</td>\n",
       "    </tr>\n",
       "    <tr>\n",
       "      <th>45</th>\n",
       "      <td>U1046</td>\n",
       "      <td>22.144415</td>\n",
       "      <td>-100.933097</td>\n",
       "      <td>false</td>\n",
       "      <td>social drinker</td>\n",
       "      <td>no preference</td>\n",
       "      <td>friends</td>\n",
       "      <td>car owner</td>\n",
       "      <td>single</td>\n",
       "      <td>independent</td>\n",
       "      <td>1990</td>\n",
       "      <td>retro</td>\n",
       "      <td>hard-worker</td>\n",
       "      <td>Catholic</td>\n",
       "      <td>student</td>\n",
       "      <td>black</td>\n",
       "      <td>82</td>\n",
       "      <td>medium</td>\n",
       "      <td>1.84</td>\n",
       "    </tr>\n",
       "    <tr>\n",
       "      <th>56</th>\n",
       "      <td>U1057</td>\n",
       "      <td>22.196624</td>\n",
       "      <td>-100.912170</td>\n",
       "      <td>true</td>\n",
       "      <td>casual drinker</td>\n",
       "      <td>formal</td>\n",
       "      <td>friends</td>\n",
       "      <td>public</td>\n",
       "      <td>single</td>\n",
       "      <td>independent</td>\n",
       "      <td>1989</td>\n",
       "      <td>technology</td>\n",
       "      <td>hunter-ostentatious</td>\n",
       "      <td>Catholic</td>\n",
       "      <td>student</td>\n",
       "      <td>yellow</td>\n",
       "      <td>69</td>\n",
       "      <td>medium</td>\n",
       "      <td>1.83</td>\n",
       "    </tr>\n",
       "  </tbody>\n",
       "</table>\n",
       "</div>"
      ],
      "text/plain": [
       "    userID   latitude   longitude smoker     drink_level dress_preference  \\\n",
       "121  U1122  22.169601 -100.991821      ?      abstemious                ?   \n",
       "43   U1044  18.952980  -99.260789   true  social drinker         informal   \n",
       "5    U1006  22.150000 -100.983000   true  social drinker    no preference   \n",
       "45   U1046  22.144415 -100.933097  false  social drinker    no preference   \n",
       "56   U1057  22.196624 -100.912170   true  casual drinker           formal   \n",
       "\n",
       "    ambience  transport marital_status        hijos  birth_year    interest  \\\n",
       "121        ?          ?              ?            ?        1930        none   \n",
       "43    family  car owner        married         kids        1969     variety   \n",
       "5    friends  car owner         single  independent        1989     variety   \n",
       "45   friends  car owner         single  independent        1990       retro   \n",
       "56   friends     public         single  independent        1989  technology   \n",
       "\n",
       "             personality  religion      activity   color  weight  budget  \\\n",
       "121          hard-worker      none             ?  yellow      40       ?   \n",
       "43     thrifty-protector  Catholic  professional  orange      85  medium   \n",
       "5            hard-worker      none       student    blue      75  medium   \n",
       "45           hard-worker  Catholic       student   black      82  medium   \n",
       "56   hunter-ostentatious  Catholic       student  yellow      69  medium   \n",
       "\n",
       "     height  \n",
       "121    1.20  \n",
       "43     1.73  \n",
       "5      1.80  \n",
       "45     1.84  \n",
       "56     1.83  "
      ]
     },
     "execution_count": 55,
     "metadata": {},
     "output_type": "execute_result"
    }
   ],
   "source": [
    "userprofile.sample(5)"
   ]
  },
  {
   "cell_type": "code",
   "execution_count": 56,
   "metadata": {
    "colab": {
     "base_uri": "https://localhost:8080/",
     "height": 35
    },
    "colab_type": "code",
    "id": "KIE-7gKNKxLB",
    "outputId": "42d7b8d9-c100-4455-d6fc-5927f5941655"
   },
   "outputs": [
    {
     "data": {
      "text/plain": [
       "array(['independent', 'kids', '?', 'dependent'], dtype=object)"
      ]
     },
     "execution_count": 56,
     "metadata": {},
     "output_type": "execute_result"
    }
   ],
   "source": [
    "userprofile['hijos'].unique()"
   ]
  },
  {
   "cell_type": "code",
   "execution_count": 57,
   "metadata": {
    "colab": {
     "base_uri": "https://localhost:8080/",
     "height": 316
    },
    "colab_type": "code",
    "id": "AkNjVPTyZGMn",
    "outputId": "f32756ea-477f-4b57-be21-a1d66219cf35"
   },
   "outputs": [
    {
     "data": {
      "text/html": [
       "<div>\n",
       "<style scoped>\n",
       "    .dataframe tbody tr th:only-of-type {\n",
       "        vertical-align: middle;\n",
       "    }\n",
       "\n",
       "    .dataframe tbody tr th {\n",
       "        vertical-align: top;\n",
       "    }\n",
       "\n",
       "    .dataframe thead th {\n",
       "        text-align: right;\n",
       "    }\n",
       "</style>\n",
       "<table border=\"1\" class=\"dataframe\">\n",
       "  <thead>\n",
       "    <tr style=\"text-align: right;\">\n",
       "      <th></th>\n",
       "      <th>userID</th>\n",
       "      <th>latitude</th>\n",
       "      <th>longitude</th>\n",
       "      <th>smoker</th>\n",
       "      <th>drink_level</th>\n",
       "      <th>dress_preference</th>\n",
       "      <th>ambience</th>\n",
       "      <th>transport</th>\n",
       "      <th>marital_status</th>\n",
       "      <th>hijos</th>\n",
       "      <th>...</th>\n",
       "      <th>Upayment_accepts</th>\n",
       "      <th>Rcuisine</th>\n",
       "      <th>Rcuisine_Type</th>\n",
       "      <th>placeID</th>\n",
       "      <th>rating</th>\n",
       "      <th>food_rating</th>\n",
       "      <th>service_rating</th>\n",
       "      <th>goodRating?</th>\n",
       "      <th>ratingMean</th>\n",
       "      <th>name</th>\n",
       "    </tr>\n",
       "  </thead>\n",
       "  <tbody>\n",
       "    <tr>\n",
       "      <th>2278</th>\n",
       "      <td>U1108</td>\n",
       "      <td>22.143524</td>\n",
       "      <td>-100.987562</td>\n",
       "      <td>false</td>\n",
       "      <td>abstemious</td>\n",
       "      <td>informal</td>\n",
       "      <td>solitary</td>\n",
       "      <td>public</td>\n",
       "      <td>single</td>\n",
       "      <td>independent</td>\n",
       "      <td>...</td>\n",
       "      <td>credictCard</td>\n",
       "      <td>Burgers</td>\n",
       "      <td>Fast_Food</td>\n",
       "      <td>132723</td>\n",
       "      <td>2</td>\n",
       "      <td>2</td>\n",
       "      <td>2</td>\n",
       "      <td>True</td>\n",
       "      <td>2.0</td>\n",
       "      <td>Gordas de morales</td>\n",
       "    </tr>\n",
       "    <tr>\n",
       "      <th>1197</th>\n",
       "      <td>U1066</td>\n",
       "      <td>18.890695</td>\n",
       "      <td>-99.157104</td>\n",
       "      <td>false</td>\n",
       "      <td>abstemious</td>\n",
       "      <td>informal</td>\n",
       "      <td>solitary</td>\n",
       "      <td>public</td>\n",
       "      <td>single</td>\n",
       "      <td>?</td>\n",
       "      <td>...</td>\n",
       "      <td>credictCard</td>\n",
       "      <td>Mexican</td>\n",
       "      <td>South_American</td>\n",
       "      <td>135013</td>\n",
       "      <td>1</td>\n",
       "      <td>2</td>\n",
       "      <td>2</td>\n",
       "      <td>False</td>\n",
       "      <td>2.0</td>\n",
       "      <td>Giovannis</td>\n",
       "    </tr>\n",
       "    <tr>\n",
       "      <th>1159</th>\n",
       "      <td>U1062</td>\n",
       "      <td>22.195826</td>\n",
       "      <td>-101.006317</td>\n",
       "      <td>false</td>\n",
       "      <td>casual drinker</td>\n",
       "      <td>informal</td>\n",
       "      <td>friends</td>\n",
       "      <td>car owner</td>\n",
       "      <td>single</td>\n",
       "      <td>independent</td>\n",
       "      <td>...</td>\n",
       "      <td>credictCard</td>\n",
       "      <td>Mexican</td>\n",
       "      <td>South_American</td>\n",
       "      <td>135052</td>\n",
       "      <td>0</td>\n",
       "      <td>0</td>\n",
       "      <td>0</td>\n",
       "      <td>True</td>\n",
       "      <td>0.0</td>\n",
       "      <td>La Cantina Restaurante</td>\n",
       "    </tr>\n",
       "    <tr>\n",
       "      <th>3558</th>\n",
       "      <td>U1135</td>\n",
       "      <td>22.170396</td>\n",
       "      <td>-100.949936</td>\n",
       "      <td>false</td>\n",
       "      <td>casual drinker</td>\n",
       "      <td>informal</td>\n",
       "      <td>family</td>\n",
       "      <td>on foot</td>\n",
       "      <td>single</td>\n",
       "      <td>kids</td>\n",
       "      <td>...</td>\n",
       "      <td>cash</td>\n",
       "      <td>American</td>\n",
       "      <td>North_American</td>\n",
       "      <td>135106</td>\n",
       "      <td>0</td>\n",
       "      <td>0</td>\n",
       "      <td>0</td>\n",
       "      <td>True</td>\n",
       "      <td>0.0</td>\n",
       "      <td>El Rinc�n de San Francisco</td>\n",
       "    </tr>\n",
       "    <tr>\n",
       "      <th>12</th>\n",
       "      <td>U1002</td>\n",
       "      <td>22.150087</td>\n",
       "      <td>-100.983325</td>\n",
       "      <td>false</td>\n",
       "      <td>abstemious</td>\n",
       "      <td>informal</td>\n",
       "      <td>family</td>\n",
       "      <td>public</td>\n",
       "      <td>single</td>\n",
       "      <td>independent</td>\n",
       "      <td>...</td>\n",
       "      <td>cash</td>\n",
       "      <td>Mexican</td>\n",
       "      <td>South_American</td>\n",
       "      <td>132825</td>\n",
       "      <td>2</td>\n",
       "      <td>2</td>\n",
       "      <td>0</td>\n",
       "      <td>False</td>\n",
       "      <td>1.0</td>\n",
       "      <td>puesto de tacos</td>\n",
       "    </tr>\n",
       "  </tbody>\n",
       "</table>\n",
       "<p>5 rows × 30 columns</p>\n",
       "</div>"
      ],
      "text/plain": [
       "     userID   latitude   longitude smoker     drink_level dress_preference  \\\n",
       "2278  U1108  22.143524 -100.987562  false      abstemious         informal   \n",
       "1197  U1066  18.890695  -99.157104  false      abstemious         informal   \n",
       "1159  U1062  22.195826 -101.006317  false  casual drinker         informal   \n",
       "3558  U1135  22.170396 -100.949936  false  casual drinker         informal   \n",
       "12    U1002  22.150087 -100.983325  false      abstemious         informal   \n",
       "\n",
       "      ambience  transport marital_status        hijos  \\\n",
       "2278  solitary     public         single  independent   \n",
       "1197  solitary     public         single            ?   \n",
       "1159   friends  car owner         single  independent   \n",
       "3558    family    on foot         single         kids   \n",
       "12      family     public         single  independent   \n",
       "\n",
       "                 ...              Upayment_accepts  Rcuisine   Rcuisine_Type  \\\n",
       "2278             ...                   credictCard   Burgers       Fast_Food   \n",
       "1197             ...                   credictCard   Mexican  South_American   \n",
       "1159             ...                   credictCard   Mexican  South_American   \n",
       "3558             ...                          cash  American  North_American   \n",
       "12               ...                          cash   Mexican  South_American   \n",
       "\n",
       "     placeID rating food_rating  service_rating goodRating?  ratingMean  \\\n",
       "2278  132723      2           2               2        True         2.0   \n",
       "1197  135013      1           2               2       False         2.0   \n",
       "1159  135052      0           0               0        True         0.0   \n",
       "3558  135106      0           0               0        True         0.0   \n",
       "12    132825      2           2               0       False         1.0   \n",
       "\n",
       "                            name  \n",
       "2278           Gordas de morales  \n",
       "1197                   Giovannis  \n",
       "1159      La Cantina Restaurante  \n",
       "3558  El Rinc�n de San Francisco  \n",
       "12               puesto de tacos  \n",
       "\n",
       "[5 rows x 30 columns]"
      ]
     },
     "execution_count": 57,
     "metadata": {},
     "output_type": "execute_result"
    }
   ],
   "source": [
    "## We can join all data table of user, to do a fullUserInformation, with this maybe we can see all table better.\n",
    "fullUserInformation = userprofile.merge(userpayment, on = 'userID', how ='left')\n",
    "fullUserInformation = fullUserInformation.merge(usercuisine,on='userID', how = 'left')\n",
    "fullUserInformation = fullUserInformation.merge(rating_final,on='userID', how = 'left')\n",
    "fullUserInformation = fullUserInformation.merge(geoplaces2[['placeID','name']],on = 'placeID',how ='left')\n",
    "fullUserInformation.sample(5)"
   ]
  },
  {
   "cell_type": "code",
   "execution_count": 58,
   "metadata": {
    "colab": {},
    "colab_type": "code",
    "id": "tQ8CYic8VfGs"
   },
   "outputs": [],
   "source": [
    "#-------------------------------------------------------------------------------\n",
    "#-------------------------------------------------------------------------------\n",
    "#-------------------------------------------------------------------------------\n",
    "#-------------------------------------------------------------------------------\n",
    "#-------------------------------------------------------------------------------\n",
    "#-------------------------------------------------------------------------------\n",
    "#-------------------------------------------------------------------------------"
   ]
  },
  {
   "cell_type": "code",
   "execution_count": 59,
   "metadata": {
    "colab": {},
    "colab_type": "code",
    "id": "JMUbK9rThNCD"
   },
   "outputs": [],
   "source": [
    "rRatingR = fullUserInformation.groupby(['placeID','name'])['rating'].agg(['median','mean','sum'])\n",
    "rRatingMean = fullUserInformation.groupby(['placeID','name'])['ratingMean'].agg(['median','mean','sum'])\n",
    "rRatingFood = fullUserInformation.groupby(['placeID','name'])['food_rating'].agg(['median','mean','sum'])\n",
    "rRatingService = fullUserInformation.groupby(['placeID','name'])['service_rating'].agg(['median','mean','sum'])"
   ]
  },
  {
   "cell_type": "code",
   "execution_count": 60,
   "metadata": {
    "colab": {},
    "colab_type": "code",
    "id": "i7_hEFzwhiUF"
   },
   "outputs": [],
   "source": [
    "rRatingSortRSum = rRatingR.sort_values(['sum'], ascending=False).reset_index().reset_index().rename(index=str, columns={\"index\": \"RankRSum\"})\n",
    "rRatingSortRMedian = rRatingR.sort_values(['median'], ascending=False).reset_index().reset_index().rename(index=str, columns={\"index\": \"RankRMedian\"})\n",
    "rRatingSortRMSum = rRatingMean.sort_values(['sum'], ascending=False).reset_index().reset_index().rename(index=str, columns={\"index\": \"RankRMSum\"})\n",
    "rRatingSortRMMedian = rRatingMean.sort_values(['median'], ascending=False).reset_index().reset_index().rename(index=str, columns={\"index\": \"RankRMMedian\"})\n",
    "rRatingSortFSum = rRatingFood.sort_values(['sum'], ascending=False).reset_index().reset_index().rename(index=str, columns={\"index\": \"RankFSum\"})\n",
    "rRatingSortFMedian = rRatingFood.sort_values(['median'], ascending=False).reset_index().reset_index().rename(index=str, columns={\"index\": \"RankFMedian\"})\n",
    "rRatingSortSSum = rRatingService.sort_values(['sum'], ascending=False).reset_index().reset_index().rename(index=str, columns={\"index\": \"RankRSum\"}).head()\n",
    "rRatingSortSMedian = rRatingService.sort_values(['median'], ascending=False).reset_index().reset_index().rename(index=str, columns={\"index\": \"RankSMedian\"})"
   ]
  },
  {
   "cell_type": "code",
   "execution_count": null,
   "metadata": {},
   "outputs": [],
   "source": []
  }
 ],
 "metadata": {
  "accelerator": "GPU",
  "colab": {
   "collapsed_sections": [],
   "name": "TFM.ipynb",
   "provenance": [],
   "version": "0.3.2"
  },
  "kernelspec": {
   "display_name": "Python 3",
   "language": "python",
   "name": "python3"
  },
  "language_info": {
   "codemirror_mode": {
    "name": "ipython",
    "version": 3
   },
   "file_extension": ".py",
   "mimetype": "text/x-python",
   "name": "python",
   "nbconvert_exporter": "python",
   "pygments_lexer": "ipython3",
   "version": "3.7.0"
  }
 },
 "nbformat": 4,
 "nbformat_minor": 1
}

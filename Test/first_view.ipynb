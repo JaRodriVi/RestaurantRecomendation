{
  "nbformat": 4,
  "nbformat_minor": 0,
  "metadata": {
    "colab": {
      "name": "TFM.ipynb",
      "version": "0.3.2",
      "provenance": [],
      "collapsed_sections": []
    },
    "kernelspec": {
      "name": "python3",
      "display_name": "Python 3"
    },
    "accelerator": "GPU"
  },
  "cells": [
    {
      "metadata": {
        "id": "rTV9o5NQapF7",
        "colab_type": "code",
        "colab": {
          "resources": {
            "http://localhost:8080/nbextensions/google.colab/files.js": {
              "data": "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",
              "ok": true,
              "headers": [
                [
                  "content-type",
                  "application/javascript"
                ]
              ],
              "status": 200,
              "status_text": ""
            }
          },
          "base_uri": "https://localhost:8080/",
          "height": 427
        },
        "outputId": "ea371873-dee0-47ee-c7c6-e9a71f6e0125"
      },
      "cell_type": "code",
      "source": [
        "from google.colab import files\n",
        "\n",
        "uploaded = files.upload()"
      ],
      "execution_count": 1,
      "outputs": [
        {
          "output_type": "display_data",
          "data": {
            "text/html": [
              "\n",
              "     <input type=\"file\" id=\"files-1ea19ebe-ed62-44dd-8799-8af90d7f9158\" name=\"files[]\" multiple disabled />\n",
              "     <output id=\"result-1ea19ebe-ed62-44dd-8799-8af90d7f9158\">\n",
              "      Upload widget is only available when the cell has been executed in the\n",
              "      current browser session. Please rerun this cell to enable.\n",
              "      </output>\n",
              "      <script src=\"/nbextensions/google.colab/files.js\"></script> "
            ],
            "text/plain": [
              "<IPython.core.display.HTML object>"
            ]
          },
          "metadata": {
            "tags": []
          }
        },
        {
          "output_type": "stream",
          "text": [
            "Saving chefmozaccepts.csv to chefmozaccepts.csv\n",
            "Saving chefmozcuisine.csv to chefmozcuisine.csv\n",
            "Saving chefmozhours4.csv to chefmozhours4.csv\n",
            "Saving chefmozparking.csv to chefmozparking.csv\n",
            "Saving geoplaces2.csv to geoplaces2.csv\n",
            "Saving rating_final.csv to rating_final.csv\n",
            "Saving README to README\n",
            "Saving ReadMe.rtf to ReadMe.rtf\n",
            "Saving usercuisine.csv to usercuisine.csv\n",
            "Saving userpayment.csv to userpayment.csv\n",
            "Saving userprofile.csv to userprofile.csv\n"
          ],
          "name": "stdout"
        }
      ]
    },
    {
      "metadata": {
        "id": "TuC4zGDrdwqP",
        "colab_type": "code",
        "colab": {
          "base_uri": "https://localhost:8080/",
          "height": 72
        },
        "outputId": "a3ae7dfb-5821-45cc-f6e0-927668d659ce"
      },
      "cell_type": "code",
      "source": [
        "! ls"
      ],
      "execution_count": 118,
      "outputs": [
        {
          "output_type": "stream",
          "text": [
            "chefmozaccepts.csv  chefmozparking.csv\tREADME\t     usercuisine.csv\n",
            "chefmozcuisine.csv  geoplaces2.csv\tReadMe.rtf   userpayment.csv\n",
            "chefmozhours4.csv   rating_final.csv\tsample_data  userprofile.csv\n"
          ],
          "name": "stdout"
        }
      ]
    },
    {
      "metadata": {
        "id": "ADp6uUrGa1aC",
        "colab_type": "code",
        "colab": {}
      },
      "cell_type": "code",
      "source": [
        "import pandas as pd\n",
        "import numpy as np\n",
        "import seaborn as sns\n",
        "import matplotlib as plt"
      ],
      "execution_count": 0,
      "outputs": []
    },
    {
      "metadata": {
        "id": "3ppO3gkxq4ON",
        "colab_type": "code",
        "colab": {}
      },
      "cell_type": "code",
      "source": [
        "chefmozacccepts = pd.read_csv(\"chefmozaccepts.csv\")\n",
        "chefmozcuisine = pd.read_csv(\"chefmozcuisine.csv\")\n",
        "chefmozhours4 = pd.read_csv(\"chefmozhours4.csv\")\n",
        "chefmozparking = pd.read_csv(\"chefmozparking.csv\")\n",
        "geoplaces2 = pd.read_csv(\"geoplaces2.csv\")\n",
        "rating_final = pd.read_csv(\"rating_final.csv\")\n",
        "usercuisine = pd.read_csv(\"usercuisine.csv\")\n",
        "userpayment = pd.read_csv(\"userpayment.csv\")\n",
        "userprofile = pd.read_csv(\"userprofile.csv\")"
      ],
      "execution_count": 0,
      "outputs": []
    },
    {
      "metadata": {
        "id": "l6oREHi54bHh",
        "colab_type": "text"
      },
      "cell_type": "markdown",
      "source": [
        "## Chefmozaccepts\n",
        "placeID: ID of the restaurant.\n",
        "\n",
        "Rpayment: type of pay that the restaurant accept"
      ]
    },
    {
      "metadata": {
        "id": "JlLncEVN87NA",
        "colab_type": "code",
        "colab": {
          "base_uri": "https://localhost:8080/",
          "height": 35
        },
        "outputId": "7728cd32-d27c-44d4-a1e1-32ca83a637cc"
      },
      "cell_type": "code",
      "source": [
        "chefmozacccepts.shape"
      ],
      "execution_count": 121,
      "outputs": [
        {
          "output_type": "execute_result",
          "data": {
            "text/plain": [
              "(1314, 2)"
            ]
          },
          "metadata": {
            "tags": []
          },
          "execution_count": 121
        }
      ]
    },
    {
      "metadata": {
        "id": "LBqQEJ2k4C1w",
        "colab_type": "code",
        "colab": {
          "base_uri": "https://localhost:8080/",
          "height": 198
        },
        "outputId": "ee3a056a-f0db-4246-c8af-688e51014520"
      },
      "cell_type": "code",
      "source": [
        "chefmozacccepts.sample(5)"
      ],
      "execution_count": 122,
      "outputs": [
        {
          "output_type": "execute_result",
          "data": {
            "text/html": [
              "<div>\n",
              "<style scoped>\n",
              "    .dataframe tbody tr th:only-of-type {\n",
              "        vertical-align: middle;\n",
              "    }\n",
              "\n",
              "    .dataframe tbody tr th {\n",
              "        vertical-align: top;\n",
              "    }\n",
              "\n",
              "    .dataframe thead th {\n",
              "        text-align: right;\n",
              "    }\n",
              "</style>\n",
              "<table border=\"1\" class=\"dataframe\">\n",
              "  <thead>\n",
              "    <tr style=\"text-align: right;\">\n",
              "      <th></th>\n",
              "      <th>placeID</th>\n",
              "      <th>Rpayment</th>\n",
              "    </tr>\n",
              "  </thead>\n",
              "  <tbody>\n",
              "    <tr>\n",
              "      <th>656</th>\n",
              "      <td>132789</td>\n",
              "      <td>bank_debit_cards</td>\n",
              "    </tr>\n",
              "    <tr>\n",
              "      <th>718</th>\n",
              "      <td>132761</td>\n",
              "      <td>VISA</td>\n",
              "    </tr>\n",
              "    <tr>\n",
              "      <th>706</th>\n",
              "      <td>132769</td>\n",
              "      <td>cash</td>\n",
              "    </tr>\n",
              "    <tr>\n",
              "      <th>227</th>\n",
              "      <td>135008</td>\n",
              "      <td>cash</td>\n",
              "    </tr>\n",
              "    <tr>\n",
              "      <th>1098</th>\n",
              "      <td>132396</td>\n",
              "      <td>Japan_Credit_Bureau</td>\n",
              "    </tr>\n",
              "  </tbody>\n",
              "</table>\n",
              "</div>"
            ],
            "text/plain": [
              "      placeID             Rpayment\n",
              "656    132789     bank_debit_cards\n",
              "718    132761                 VISA\n",
              "706    132769                 cash\n",
              "227    135008                 cash\n",
              "1098   132396  Japan_Credit_Bureau"
            ]
          },
          "metadata": {
            "tags": []
          },
          "execution_count": 122
        }
      ]
    },
    {
      "metadata": {
        "id": "O3rew_adEiqM",
        "colab_type": "code",
        "colab": {
          "base_uri": "https://localhost:8080/",
          "height": 90
        },
        "outputId": "25521a18-63ee-4778-d1f9-4d240e89cf4a"
      },
      "cell_type": "code",
      "source": [
        "chefmozacccepts['Rpayment'].unique()"
      ],
      "execution_count": 123,
      "outputs": [
        {
          "output_type": "execute_result",
          "data": {
            "text/plain": [
              "array(['cash', 'VISA', 'MasterCard-Eurocard', 'American_Express',\n",
              "       'bank_debit_cards', 'checks', 'Discover', 'Carte_Blanche',\n",
              "       'Diners_Club', 'Visa', 'Japan_Credit_Bureau', 'gift_certificates'],\n",
              "      dtype=object)"
            ]
          },
          "metadata": {
            "tags": []
          },
          "execution_count": 123
        }
      ]
    },
    {
      "metadata": {
        "id": "BLC30mtW4F_8",
        "colab_type": "code",
        "colab": {
          "base_uri": "https://localhost:8080/",
          "height": 35
        },
        "outputId": "7fab539f-a584-4beb-86b8-22a74966fd15"
      },
      "cell_type": "code",
      "source": [
        "chefmozacccepts['Rpayment'].unique().size"
      ],
      "execution_count": 124,
      "outputs": [
        {
          "output_type": "execute_result",
          "data": {
            "text/plain": [
              "12"
            ]
          },
          "metadata": {
            "tags": []
          },
          "execution_count": 124
        }
      ]
    },
    {
      "metadata": {
        "id": "mHpLZaZ6lX2O",
        "colab_type": "text"
      },
      "cell_type": "markdown",
      "source": [
        "We have 12 type of payment, maybe we have to only use 2 or 3 of them, like cash, credictCard and checks."
      ]
    },
    {
      "metadata": {
        "id": "qCU1091M8gGu",
        "colab_type": "code",
        "colab": {}
      },
      "cell_type": "code",
      "source": [
        "chefmozacccepts['Rpayment_accepts'] = chefmozacccepts['Rpayment']\n",
        "chefmozacccepts['Rpayment_accepts'] = chefmozacccepts['Rpayment_accepts']\\\n",
        "             .replace(['VISA', 'MasterCard-Eurocard', 'American_Express',\n",
        "                       'bank_debit_cards','Discover', 'Carte_Blanche',\n",
        "                       'Diners_Club', 'Visa', 'Japan_Credit_Bureau'], ' credictCard')\n",
        "chefmozacccepts['Rpayment_accepts'] = chefmozacccepts['Rpayment_accepts']\\\n",
        "             .replace(['gift_certificates'], 'checks')"
      ],
      "execution_count": 0,
      "outputs": []
    },
    {
      "metadata": {
        "id": "4s9FxMtVrK-k",
        "colab_type": "code",
        "colab": {}
      },
      "cell_type": "code",
      "source": [
        "chefmozacccepts['Rpayment_accepts'] = chefmozacccepts['Rpayment_accepts'].astype('category')"
      ],
      "execution_count": 0,
      "outputs": []
    },
    {
      "metadata": {
        "id": "9nhrJlwtvE-A",
        "colab_type": "text"
      },
      "cell_type": "markdown",
      "source": [
        "## Chefmozcuisine\n",
        "\n",
        "placeID: ID of the restaurant.\n",
        "\n",
        "Rcuisine: The region of the food that they cook."
      ]
    },
    {
      "metadata": {
        "id": "zbr_OQeivO1_",
        "colab_type": "code",
        "colab": {
          "base_uri": "https://localhost:8080/",
          "height": 198
        },
        "outputId": "99df0952-726c-4ecc-8452-a929225cd5d9"
      },
      "cell_type": "code",
      "source": [
        "chefmozcuisine.sample(5)"
      ],
      "execution_count": 127,
      "outputs": [
        {
          "output_type": "execute_result",
          "data": {
            "text/html": [
              "<div>\n",
              "<style scoped>\n",
              "    .dataframe tbody tr th:only-of-type {\n",
              "        vertical-align: middle;\n",
              "    }\n",
              "\n",
              "    .dataframe tbody tr th {\n",
              "        vertical-align: top;\n",
              "    }\n",
              "\n",
              "    .dataframe thead th {\n",
              "        text-align: right;\n",
              "    }\n",
              "</style>\n",
              "<table border=\"1\" class=\"dataframe\">\n",
              "  <thead>\n",
              "    <tr style=\"text-align: right;\">\n",
              "      <th></th>\n",
              "      <th>placeID</th>\n",
              "      <th>Rcuisine</th>\n",
              "    </tr>\n",
              "  </thead>\n",
              "  <tbody>\n",
              "    <tr>\n",
              "      <th>881</th>\n",
              "      <td>132031</td>\n",
              "      <td>Fine_Dining</td>\n",
              "    </tr>\n",
              "    <tr>\n",
              "      <th>232</th>\n",
              "      <td>132903</td>\n",
              "      <td>Mexican</td>\n",
              "    </tr>\n",
              "    <tr>\n",
              "      <th>803</th>\n",
              "      <td>132186</td>\n",
              "      <td>Italian</td>\n",
              "    </tr>\n",
              "    <tr>\n",
              "      <th>338</th>\n",
              "      <td>132773</td>\n",
              "      <td>Mexican</td>\n",
              "    </tr>\n",
              "    <tr>\n",
              "      <th>632</th>\n",
              "      <td>132396</td>\n",
              "      <td>International</td>\n",
              "    </tr>\n",
              "  </tbody>\n",
              "</table>\n",
              "</div>"
            ],
            "text/plain": [
              "     placeID       Rcuisine\n",
              "881   132031    Fine_Dining\n",
              "232   132903        Mexican\n",
              "803   132186        Italian\n",
              "338   132773        Mexican\n",
              "632   132396  International"
            ]
          },
          "metadata": {
            "tags": []
          },
          "execution_count": 127
        }
      ]
    },
    {
      "metadata": {
        "id": "NgLpiz2IvRM3",
        "colab_type": "code",
        "colab": {
          "base_uri": "https://localhost:8080/",
          "height": 254
        },
        "outputId": "aff1d47c-43b8-40c3-ca90-0cad9a7a34c5"
      },
      "cell_type": "code",
      "source": [
        "chefmozcuisine['Rcuisine'].unique()"
      ],
      "execution_count": 128,
      "outputs": [
        {
          "output_type": "execute_result",
          "data": {
            "text/plain": [
              "array(['Spanish', 'Italian', 'Latin_American', 'Mexican', 'Fast_Food',\n",
              "       'Burgers', 'Dessert-Ice_Cream', 'Hot_Dogs', 'Steaks', 'Asian',\n",
              "       'International', 'Mongolian', 'Vegetarian', 'Brazilian',\n",
              "       'Cafe-Coffee_Shop', 'Cafeteria', 'Contemporary', 'Deli-Sandwiches',\n",
              "       'Diner', 'Japanese', 'Sushi', 'Seafood', 'Chinese', 'Bar',\n",
              "       'Bar_Pub_Brewery', 'Pizzeria', 'Mediterranean', 'American',\n",
              "       'Family', 'Caribbean', 'African', 'Breakfast-Brunch', 'Regional',\n",
              "       'Afghan', 'Bakery', 'Game', 'Armenian', 'Vietnamese', 'Korean',\n",
              "       'Thai', 'Barbecue', 'Polish', 'Dutch-Belgian', 'French', 'German',\n",
              "       'Southwestern', 'Persian', 'Ethiopian', 'Juice', 'Soup',\n",
              "       'Continental-European', 'Greek', 'Southern', 'Eastern_European',\n",
              "       'California', 'Bagels', 'Turkish', 'Organic-Healthy',\n",
              "       'Fine_Dining'], dtype=object)"
            ]
          },
          "metadata": {
            "tags": []
          },
          "execution_count": 128
        }
      ]
    },
    {
      "metadata": {
        "id": "3SBDnTr-wl-w",
        "colab_type": "code",
        "colab": {}
      },
      "cell_type": "code",
      "source": [
        "# This doesn't make much sense, we can split the Clasification for have less dummy variables, but we will try make the recomendation with full data\n",
        "chefmozcuisine['Rcuisine_Type'] = chefmozcuisine['Rcuisine']\n",
        "chefmozcuisine['Rcuisine_Type'] = chefmozcuisine['Rcuisine_Type'].replace(['Spanish','Italian','Seafood','Greek','Mediterranean'], 'Mediterranean')\n",
        "chefmozcuisine['Rcuisine_Type'] = chefmozcuisine['Rcuisine_Type'].replace(['Latin_American','Mexican','Brazilian','Caribbean'], 'South_American')\n",
        "chefmozcuisine['Rcuisine_Type'] = chefmozcuisine['Rcuisine_Type'].replace(['Fast_Food','Hot_Dogs','Burgers','Deli-Sandwiches','Pizzeria'], 'Fast_Food')\n",
        "chefmozcuisine['Rcuisine_Type'] = chefmozcuisine['Rcuisine_Type'].replace(['Asian','Mongolian','Chinese','Japanese','Sushi','Vietnamese', 'Korean','Thai'], 'Asian')\n",
        "chefmozcuisine['Rcuisine_Type'] = chefmozcuisine['Rcuisine_Type'].replace(['French', 'German','Polish', 'Dutch-Belgian','Continental-European','Eastern_European'], 'European')\n",
        "chefmozcuisine['Rcuisine_Type'] = chefmozcuisine['Rcuisine_Type'].replace(['Afghan','Armenian','Persian','Turkish'], 'Turkish')\n",
        "chefmozcuisine['Rcuisine_Type'] = chefmozcuisine['Rcuisine_Type'].replace(['African','Ethiopian'], 'African')\n",
        "chefmozcuisine['Rcuisine_Type'] = chefmozcuisine['Rcuisine_Type'].replace(['Breakfast-Brunch','Bagels'], 'Breakfast')\n",
        "chefmozcuisine['Rcuisine_Type'] = chefmozcuisine['Rcuisine_Type'].replace(['Bar_Pub_Brewery','Bar'], 'Bar')\n",
        "chefmozcuisine['Rcuisine_Type'] = chefmozcuisine['Rcuisine_Type'].replace(['Cafeteria','Cafe-Coffee_Shop',''], 'Cafeteria')\n",
        "chefmozcuisine['Rcuisine_Type'] = chefmozcuisine['Rcuisine_Type'].replace(['Fine_Dining','Organic-Healthy','Vegetarian'], 'Healthy')\n",
        "chefmozcuisine['Rcuisine_Type'] = chefmozcuisine['Rcuisine_Type'].replace(['American','California','Southwestern'], 'American')"
      ],
      "execution_count": 0,
      "outputs": []
    },
    {
      "metadata": {
        "id": "tqFEXLgtMnl7",
        "colab_type": "code",
        "colab": {
          "base_uri": "https://localhost:8080/",
          "height": 108
        },
        "outputId": "56f101a2-59a3-4993-b414-bbfed4a17272"
      },
      "cell_type": "code",
      "source": [
        "chefmozcuisine['Rcuisine_Type'].unique()"
      ],
      "execution_count": 130,
      "outputs": [
        {
          "output_type": "execute_result",
          "data": {
            "text/plain": [
              "array(['Mediterranean', 'South_American', 'Fast_Food',\n",
              "       'Dessert-Ice_Cream', 'Steaks', 'Asian', 'International', 'Healthy',\n",
              "       'Cafeteria', 'Contemporary', 'Diner', 'Bar', 'American', 'Family',\n",
              "       'African', 'Breakfast', 'Regional', 'Turkish', 'Bakery', 'Game',\n",
              "       'Barbecue', 'European', 'Juice', 'Soup', 'Southern'], dtype=object)"
            ]
          },
          "metadata": {
            "tags": []
          },
          "execution_count": 130
        }
      ]
    },
    {
      "metadata": {
        "id": "9tDW0982SOVD",
        "colab_type": "code",
        "colab": {
          "base_uri": "https://localhost:8080/",
          "height": 198
        },
        "outputId": "7fda5ac7-9ad7-4065-8546-bad5760e6cfc"
      },
      "cell_type": "code",
      "source": [
        "chefmozcuisine.sample(5)"
      ],
      "execution_count": 131,
      "outputs": [
        {
          "output_type": "execute_result",
          "data": {
            "text/html": [
              "<div>\n",
              "<style scoped>\n",
              "    .dataframe tbody tr th:only-of-type {\n",
              "        vertical-align: middle;\n",
              "    }\n",
              "\n",
              "    .dataframe tbody tr th {\n",
              "        vertical-align: top;\n",
              "    }\n",
              "\n",
              "    .dataframe thead th {\n",
              "        text-align: right;\n",
              "    }\n",
              "</style>\n",
              "<table border=\"1\" class=\"dataframe\">\n",
              "  <thead>\n",
              "    <tr style=\"text-align: right;\">\n",
              "      <th></th>\n",
              "      <th>placeID</th>\n",
              "      <th>Rcuisine</th>\n",
              "      <th>Rcuisine_Type</th>\n",
              "    </tr>\n",
              "  </thead>\n",
              "  <tbody>\n",
              "    <tr>\n",
              "      <th>780</th>\n",
              "      <td>132217</td>\n",
              "      <td>Italian</td>\n",
              "      <td>Mediterranean</td>\n",
              "    </tr>\n",
              "    <tr>\n",
              "      <th>594</th>\n",
              "      <td>132447</td>\n",
              "      <td>International</td>\n",
              "      <td>International</td>\n",
              "    </tr>\n",
              "    <tr>\n",
              "      <th>170</th>\n",
              "      <td>132968</td>\n",
              "      <td>Bar</td>\n",
              "      <td>Bar</td>\n",
              "    </tr>\n",
              "    <tr>\n",
              "      <th>357</th>\n",
              "      <td>132752</td>\n",
              "      <td>Cafeteria</td>\n",
              "      <td>Cafeteria</td>\n",
              "    </tr>\n",
              "    <tr>\n",
              "      <th>518</th>\n",
              "      <td>132550</td>\n",
              "      <td>Italian</td>\n",
              "      <td>Mediterranean</td>\n",
              "    </tr>\n",
              "  </tbody>\n",
              "</table>\n",
              "</div>"
            ],
            "text/plain": [
              "     placeID       Rcuisine  Rcuisine_Type\n",
              "780   132217        Italian  Mediterranean\n",
              "594   132447  International  International\n",
              "170   132968            Bar            Bar\n",
              "357   132752      Cafeteria      Cafeteria\n",
              "518   132550        Italian  Mediterranean"
            ]
          },
          "metadata": {
            "tags": []
          },
          "execution_count": 131
        }
      ]
    },
    {
      "metadata": {
        "id": "OnWOVoOHVG3K",
        "colab_type": "text"
      },
      "cell_type": "markdown",
      "source": [
        "## chefmozhours4\n",
        "\n",
        "placeID: ID of the restaurant.\n",
        "\n",
        "hours: Hours that they open\n",
        "\n",
        "days Days that they open"
      ]
    },
    {
      "metadata": {
        "id": "5af3LfRYU9B3",
        "colab_type": "code",
        "colab": {
          "base_uri": "https://localhost:8080/",
          "height": 198
        },
        "outputId": "ec2889cf-098f-46dc-a6e8-f7e1e25d7777"
      },
      "cell_type": "code",
      "source": [
        "chefmozhours4.sample(5)"
      ],
      "execution_count": 132,
      "outputs": [
        {
          "output_type": "execute_result",
          "data": {
            "text/html": [
              "<div>\n",
              "<style scoped>\n",
              "    .dataframe tbody tr th:only-of-type {\n",
              "        vertical-align: middle;\n",
              "    }\n",
              "\n",
              "    .dataframe tbody tr th {\n",
              "        vertical-align: top;\n",
              "    }\n",
              "\n",
              "    .dataframe thead th {\n",
              "        text-align: right;\n",
              "    }\n",
              "</style>\n",
              "<table border=\"1\" class=\"dataframe\">\n",
              "  <thead>\n",
              "    <tr style=\"text-align: right;\">\n",
              "      <th></th>\n",
              "      <th>placeID</th>\n",
              "      <th>hours</th>\n",
              "      <th>days</th>\n",
              "    </tr>\n",
              "  </thead>\n",
              "  <tbody>\n",
              "    <tr>\n",
              "      <th>182</th>\n",
              "      <td>135047</td>\n",
              "      <td>08:00-22:00;</td>\n",
              "      <td>Sun;</td>\n",
              "    </tr>\n",
              "    <tr>\n",
              "      <th>631</th>\n",
              "      <td>132968</td>\n",
              "      <td>15:00-23:30;</td>\n",
              "      <td>Sat;</td>\n",
              "    </tr>\n",
              "    <tr>\n",
              "      <th>119</th>\n",
              "      <td>135068</td>\n",
              "      <td>00:00-00:00;</td>\n",
              "      <td>Sun;</td>\n",
              "    </tr>\n",
              "    <tr>\n",
              "      <th>2230</th>\n",
              "      <td>132157</td>\n",
              "      <td>21:30-13:00;</td>\n",
              "      <td>Sun;</td>\n",
              "    </tr>\n",
              "    <tr>\n",
              "      <th>350</th>\n",
              "      <td>134991</td>\n",
              "      <td>08:00-18:00;</td>\n",
              "      <td>Sun;</td>\n",
              "    </tr>\n",
              "  </tbody>\n",
              "</table>\n",
              "</div>"
            ],
            "text/plain": [
              "      placeID         hours  days\n",
              "182    135047  08:00-22:00;  Sun;\n",
              "631    132968  15:00-23:30;  Sat;\n",
              "119    135068  00:00-00:00;  Sun;\n",
              "2230   132157  21:30-13:00;  Sun;\n",
              "350    134991  08:00-18:00;  Sun;"
            ]
          },
          "metadata": {
            "tags": []
          },
          "execution_count": 132
        }
      ]
    },
    {
      "metadata": {
        "id": "SAuLHpVyVIHM",
        "colab_type": "code",
        "colab": {
          "base_uri": "https://localhost:8080/",
          "height": 35
        },
        "outputId": "7453ecd5-3dd3-402a-fbc3-db0293d94487"
      },
      "cell_type": "code",
      "source": [
        "chefmozhours4['days'].unique()"
      ],
      "execution_count": 133,
      "outputs": [
        {
          "output_type": "execute_result",
          "data": {
            "text/plain": [
              "array(['Mon;Tue;Wed;Thu;Fri;', 'Sat;', 'Sun;'], dtype=object)"
            ]
          },
          "metadata": {
            "tags": []
          },
          "execution_count": 133
        }
      ]
    },
    {
      "metadata": {
        "id": "E05G6FEJVmKR",
        "colab_type": "code",
        "colab": {}
      },
      "cell_type": "code",
      "source": [
        "chefmozhours4['days'] = chefmozhours4['days'].replace(['Mon;Tue;Wed;Thu;Fri;'],'Diary_Days')"
      ],
      "execution_count": 0,
      "outputs": []
    },
    {
      "metadata": {
        "id": "Zw0r7rhhV1-R",
        "colab_type": "code",
        "colab": {
          "base_uri": "https://localhost:8080/",
          "height": 35
        },
        "outputId": "671d46fa-e723-4445-84ed-7d00cdd1d5f9"
      },
      "cell_type": "code",
      "source": [
        "chefmozhours4['days'].unique()"
      ],
      "execution_count": 135,
      "outputs": [
        {
          "output_type": "execute_result",
          "data": {
            "text/plain": [
              "array(['Diary_Days', 'Sat;', 'Sun;'], dtype=object)"
            ]
          },
          "metadata": {
            "tags": []
          },
          "execution_count": 135
        }
      ]
    },
    {
      "metadata": {
        "id": "8oiuYuu9WCn1",
        "colab_type": "text"
      },
      "cell_type": "markdown",
      "source": [
        "## chefmozparking\n",
        "\n",
        "placeID:  ID of the restaurant.\n",
        "\n",
        "parking_lot: The type of parking that they has"
      ]
    },
    {
      "metadata": {
        "id": "DEWcEdehV23Y",
        "colab_type": "code",
        "colab": {
          "base_uri": "https://localhost:8080/",
          "height": 348
        },
        "outputId": "b622c8aa-cf8a-45f3-f820-067c9b69e930"
      },
      "cell_type": "code",
      "source": [
        "chefmozparking.sample(10)"
      ],
      "execution_count": 136,
      "outputs": [
        {
          "output_type": "execute_result",
          "data": {
            "text/html": [
              "<div>\n",
              "<style scoped>\n",
              "    .dataframe tbody tr th:only-of-type {\n",
              "        vertical-align: middle;\n",
              "    }\n",
              "\n",
              "    .dataframe tbody tr th {\n",
              "        vertical-align: top;\n",
              "    }\n",
              "\n",
              "    .dataframe thead th {\n",
              "        text-align: right;\n",
              "    }\n",
              "</style>\n",
              "<table border=\"1\" class=\"dataframe\">\n",
              "  <thead>\n",
              "    <tr style=\"text-align: right;\">\n",
              "      <th></th>\n",
              "      <th>placeID</th>\n",
              "      <th>parking_lot</th>\n",
              "    </tr>\n",
              "  </thead>\n",
              "  <tbody>\n",
              "    <tr>\n",
              "      <th>171</th>\n",
              "      <td>133013</td>\n",
              "      <td>none</td>\n",
              "    </tr>\n",
              "    <tr>\n",
              "      <th>223</th>\n",
              "      <td>132956</td>\n",
              "      <td>none</td>\n",
              "    </tr>\n",
              "    <tr>\n",
              "      <th>63</th>\n",
              "      <td>135044</td>\n",
              "      <td>none</td>\n",
              "    </tr>\n",
              "    <tr>\n",
              "      <th>672</th>\n",
              "      <td>132237</td>\n",
              "      <td>yes</td>\n",
              "    </tr>\n",
              "    <tr>\n",
              "      <th>56</th>\n",
              "      <td>135051</td>\n",
              "      <td>none</td>\n",
              "    </tr>\n",
              "    <tr>\n",
              "      <th>683</th>\n",
              "      <td>132164</td>\n",
              "      <td>fee</td>\n",
              "    </tr>\n",
              "    <tr>\n",
              "      <th>579</th>\n",
              "      <td>132595</td>\n",
              "      <td>none</td>\n",
              "    </tr>\n",
              "    <tr>\n",
              "      <th>556</th>\n",
              "      <td>132618</td>\n",
              "      <td>public</td>\n",
              "    </tr>\n",
              "    <tr>\n",
              "      <th>345</th>\n",
              "      <td>132832</td>\n",
              "      <td>none</td>\n",
              "    </tr>\n",
              "    <tr>\n",
              "      <th>670</th>\n",
              "      <td>132243</td>\n",
              "      <td>validated parking</td>\n",
              "    </tr>\n",
              "  </tbody>\n",
              "</table>\n",
              "</div>"
            ],
            "text/plain": [
              "     placeID        parking_lot\n",
              "171   133013               none\n",
              "223   132956               none\n",
              "63    135044               none\n",
              "672   132237                yes\n",
              "56    135051               none\n",
              "683   132164                fee\n",
              "579   132595               none\n",
              "556   132618             public\n",
              "345   132832               none\n",
              "670   132243  validated parking"
            ]
          },
          "metadata": {
            "tags": []
          },
          "execution_count": 136
        }
      ]
    },
    {
      "metadata": {
        "id": "Z3jkpfWIWFJp",
        "colab_type": "code",
        "colab": {
          "base_uri": "https://localhost:8080/",
          "height": 54
        },
        "outputId": "f65c4cc7-a93b-47d1-911b-2ccbe2f8aa74"
      },
      "cell_type": "code",
      "source": [
        "chefmozparking['parking_lot'].unique()"
      ],
      "execution_count": 137,
      "outputs": [
        {
          "output_type": "execute_result",
          "data": {
            "text/plain": [
              "array(['public', 'none', 'yes', 'valet parking', 'fee', 'street',\n",
              "       'validated parking'], dtype=object)"
            ]
          },
          "metadata": {
            "tags": []
          },
          "execution_count": 137
        }
      ]
    },
    {
      "metadata": {
        "id": "mTtZrRPdY1UU",
        "colab_type": "code",
        "colab": {}
      },
      "cell_type": "code",
      "source": [
        "chefmozparking['parking'] = chefmozparking['parking_lot']\n",
        "chefmozparking['parking'] = chefmozparking['parking'].replace(['yes','public', 'valet parking','validated parking','fee'], 'yes')\n",
        "chefmozparking['parking'] = chefmozparking['parking'].replace(['none','street'], 'yes')"
      ],
      "execution_count": 0,
      "outputs": []
    },
    {
      "metadata": {
        "id": "LRa7Mjgj7WEN",
        "colab_type": "text"
      },
      "cell_type": "markdown",
      "source": [
        "## geoplaces2\n",
        "\n",
        "placeID: ID of the restaurant.\n",
        "\n",
        "latitude and longitude: The location of the restaurant\n",
        "\n",
        "the_geom_meter:\n",
        "\n",
        "name: Name of the restaurant\n",
        "\n",
        "address: The Address of the Restaurant\n",
        "\n",
        "city: City\n",
        "\n",
        "state: State\n",
        "\n",
        "country: Country\n",
        "\n",
        "fax: ?\n",
        "\n",
        "zip: The ZIP of the restaurant (CP in Spain)\n",
        "\n",
        "alcohol: Type of alcohol that they serve\n",
        "\n",
        "smoking_area: If they have a smoke zone\n",
        "\n",
        "dress_code: If they has dress code or not\n",
        "\n",
        "accessibility: I think it was if the restaurant have handicapped access\n",
        "\n",
        "price: what type of price has the restaurant\n",
        "\n",
        "url: web url\n",
        "\n",
        "Rambience: ambience (familiar, quiet, noisy, etc)\n",
        "\n",
        "franchise: if the restaurant is or not a franchise\n",
        "\n",
        "area:\n",
        "\n",
        "other_services:"
      ]
    },
    {
      "metadata": {
        "id": "NEhbppmOZfPW",
        "colab_type": "code",
        "colab": {
          "base_uri": "https://localhost:8080/",
          "height": 385
        },
        "outputId": "70466319-f4bd-41d4-acf6-03f9f1f4208b"
      },
      "cell_type": "code",
      "source": [
        "geoplaces2.sample(5)"
      ],
      "execution_count": 150,
      "outputs": [
        {
          "output_type": "execute_result",
          "data": {
            "text/html": [
              "<div>\n",
              "<style scoped>\n",
              "    .dataframe tbody tr th:only-of-type {\n",
              "        vertical-align: middle;\n",
              "    }\n",
              "\n",
              "    .dataframe tbody tr th {\n",
              "        vertical-align: top;\n",
              "    }\n",
              "\n",
              "    .dataframe thead th {\n",
              "        text-align: right;\n",
              "    }\n",
              "</style>\n",
              "<table border=\"1\" class=\"dataframe\">\n",
              "  <thead>\n",
              "    <tr style=\"text-align: right;\">\n",
              "      <th></th>\n",
              "      <th>placeID</th>\n",
              "      <th>latitude</th>\n",
              "      <th>longitude</th>\n",
              "      <th>the_geom_meter</th>\n",
              "      <th>name</th>\n",
              "      <th>address</th>\n",
              "      <th>city</th>\n",
              "      <th>state</th>\n",
              "      <th>country</th>\n",
              "      <th>fax</th>\n",
              "      <th>...</th>\n",
              "      <th>alcohol</th>\n",
              "      <th>smoking_area</th>\n",
              "      <th>dress_code</th>\n",
              "      <th>accessibility</th>\n",
              "      <th>price</th>\n",
              "      <th>url</th>\n",
              "      <th>Rambience</th>\n",
              "      <th>franchise</th>\n",
              "      <th>area</th>\n",
              "      <th>other_services</th>\n",
              "    </tr>\n",
              "  </thead>\n",
              "  <tbody>\n",
              "    <tr>\n",
              "      <th>49</th>\n",
              "      <td>135063</td>\n",
              "      <td>22.156724</td>\n",
              "      <td>-100.975556</td>\n",
              "      <td>0101000020957F000054B1A10F544758C15BD6A12797A2...</td>\n",
              "      <td>Restaurante Alhondiga</td>\n",
              "      <td>Alhondiga 62 Centro</td>\n",
              "      <td>San Luis Potosi</td>\n",
              "      <td>SLP</td>\n",
              "      <td>Mexico</td>\n",
              "      <td>?</td>\n",
              "      <td>...</td>\n",
              "      <td>No_Alcohol_Served</td>\n",
              "      <td>none</td>\n",
              "      <td>informal</td>\n",
              "      <td>no_accessibility</td>\n",
              "      <td>medium</td>\n",
              "      <td>?</td>\n",
              "      <td>familiar</td>\n",
              "      <td>f</td>\n",
              "      <td>closed</td>\n",
              "      <td>none</td>\n",
              "    </tr>\n",
              "    <tr>\n",
              "      <th>12</th>\n",
              "      <td>135065</td>\n",
              "      <td>22.149580</td>\n",
              "      <td>-100.999557</td>\n",
              "      <td>0101000020957F000094A6A8E3C14758C17435E6D1DBA9...</td>\n",
              "      <td>El angel Restaurante</td>\n",
              "      <td>Venustiano Carranza 1625 Jardin</td>\n",
              "      <td>San Luis Potosi</td>\n",
              "      <td>SLP</td>\n",
              "      <td>Mexico</td>\n",
              "      <td>?</td>\n",
              "      <td>...</td>\n",
              "      <td>Wine-Beer</td>\n",
              "      <td>section</td>\n",
              "      <td>informal</td>\n",
              "      <td>no_accessibility</td>\n",
              "      <td>high</td>\n",
              "      <td>?</td>\n",
              "      <td>familiar</td>\n",
              "      <td>f</td>\n",
              "      <td>closed</td>\n",
              "      <td>none</td>\n",
              "    </tr>\n",
              "    <tr>\n",
              "      <th>71</th>\n",
              "      <td>135016</td>\n",
              "      <td>18.869347</td>\n",
              "      <td>-99.209944</td>\n",
              "      <td>0101000020957F0000FC8866CF17785AC14CD7055B0251...</td>\n",
              "      <td>Arrachela Grill</td>\n",
              "      <td>69 Tres De Mayo</td>\n",
              "      <td>Cuernavaca</td>\n",
              "      <td>Morelos</td>\n",
              "      <td>Mexico</td>\n",
              "      <td>?</td>\n",
              "      <td>...</td>\n",
              "      <td>No_Alcohol_Served</td>\n",
              "      <td>none</td>\n",
              "      <td>informal</td>\n",
              "      <td>no_accessibility</td>\n",
              "      <td>medium</td>\n",
              "      <td>?</td>\n",
              "      <td>familiar</td>\n",
              "      <td>f</td>\n",
              "      <td>closed</td>\n",
              "      <td>none</td>\n",
              "    </tr>\n",
              "    <tr>\n",
              "      <th>63</th>\n",
              "      <td>135051</td>\n",
              "      <td>22.151189</td>\n",
              "      <td>-100.977058</td>\n",
              "      <td>0101000020957F0000D6537C4C224858C1DED7F6EB58A3...</td>\n",
              "      <td>Restaurante Versalles</td>\n",
              "      <td>Francisco I. Madero 145 Centro</td>\n",
              "      <td>San Luis Potosi</td>\n",
              "      <td>SLP</td>\n",
              "      <td>Mexico</td>\n",
              "      <td>?</td>\n",
              "      <td>...</td>\n",
              "      <td>No_Alcohol_Served</td>\n",
              "      <td>section</td>\n",
              "      <td>informal</td>\n",
              "      <td>no_accessibility</td>\n",
              "      <td>low</td>\n",
              "      <td>?</td>\n",
              "      <td>familiar</td>\n",
              "      <td>f</td>\n",
              "      <td>closed</td>\n",
              "      <td>none</td>\n",
              "    </tr>\n",
              "    <tr>\n",
              "      <th>13</th>\n",
              "      <td>135076</td>\n",
              "      <td>22.181017</td>\n",
              "      <td>-100.973614</td>\n",
              "      <td>0101000020957F00005657121FAA4358C1A8030D5598A0...</td>\n",
              "      <td>Restaurante Pueblo Bonito</td>\n",
              "      <td>Mexico 2015 Providencia</td>\n",
              "      <td>San Luis Potosi</td>\n",
              "      <td>SLP</td>\n",
              "      <td>Mexico</td>\n",
              "      <td>?</td>\n",
              "      <td>...</td>\n",
              "      <td>Wine-Beer</td>\n",
              "      <td>none</td>\n",
              "      <td>informal</td>\n",
              "      <td>no_accessibility</td>\n",
              "      <td>high</td>\n",
              "      <td>?</td>\n",
              "      <td>familiar</td>\n",
              "      <td>f</td>\n",
              "      <td>closed</td>\n",
              "      <td>none</td>\n",
              "    </tr>\n",
              "  </tbody>\n",
              "</table>\n",
              "<p>5 rows × 21 columns</p>\n",
              "</div>"
            ],
            "text/plain": [
              "    placeID   latitude   longitude  \\\n",
              "49   135063  22.156724 -100.975556   \n",
              "12   135065  22.149580 -100.999557   \n",
              "71   135016  18.869347  -99.209944   \n",
              "63   135051  22.151189 -100.977058   \n",
              "13   135076  22.181017 -100.973614   \n",
              "\n",
              "                                       the_geom_meter  \\\n",
              "49  0101000020957F000054B1A10F544758C15BD6A12797A2...   \n",
              "12  0101000020957F000094A6A8E3C14758C17435E6D1DBA9...   \n",
              "71  0101000020957F0000FC8866CF17785AC14CD7055B0251...   \n",
              "63  0101000020957F0000D6537C4C224858C1DED7F6EB58A3...   \n",
              "13  0101000020957F00005657121FAA4358C1A8030D5598A0...   \n",
              "\n",
              "                         name                          address  \\\n",
              "49      Restaurante Alhondiga              Alhondiga 62 Centro   \n",
              "12       El angel Restaurante  Venustiano Carranza 1625 Jardin   \n",
              "71            Arrachela Grill                  69 Tres De Mayo   \n",
              "63      Restaurante Versalles   Francisco I. Madero 145 Centro   \n",
              "13  Restaurante Pueblo Bonito          Mexico 2015 Providencia   \n",
              "\n",
              "               city    state country fax      ...                  alcohol  \\\n",
              "49  San Luis Potosi      SLP  Mexico   ?      ...        No_Alcohol_Served   \n",
              "12  San Luis Potosi      SLP  Mexico   ?      ...                Wine-Beer   \n",
              "71       Cuernavaca  Morelos  Mexico   ?      ...        No_Alcohol_Served   \n",
              "63  San Luis Potosi      SLP  Mexico   ?      ...        No_Alcohol_Served   \n",
              "13  San Luis Potosi      SLP  Mexico   ?      ...                Wine-Beer   \n",
              "\n",
              "   smoking_area dress_code     accessibility   price url Rambience franchise  \\\n",
              "49         none   informal  no_accessibility  medium   ?  familiar         f   \n",
              "12      section   informal  no_accessibility    high   ?  familiar         f   \n",
              "71         none   informal  no_accessibility  medium   ?  familiar         f   \n",
              "63      section   informal  no_accessibility     low   ?  familiar         f   \n",
              "13         none   informal  no_accessibility    high   ?  familiar         f   \n",
              "\n",
              "      area other_services  \n",
              "49  closed           none  \n",
              "12  closed           none  \n",
              "71  closed           none  \n",
              "63  closed           none  \n",
              "13  closed           none  \n",
              "\n",
              "[5 rows x 21 columns]"
            ]
          },
          "metadata": {
            "tags": []
          },
          "execution_count": 150
        }
      ]
    },
    {
      "metadata": {
        "id": "9Ekz6k107bcn",
        "colab_type": "code",
        "colab": {
          "base_uri": "https://localhost:8080/",
          "height": 108
        },
        "outputId": "b17ebda3-4ca9-4a15-ac52-96399be6719e"
      },
      "cell_type": "code",
      "source": [
        "geoplaces2.columns"
      ],
      "execution_count": 152,
      "outputs": [
        {
          "output_type": "execute_result",
          "data": {
            "text/plain": [
              "Index(['placeID', 'latitude', 'longitude', 'the_geom_meter', 'name', 'address',\n",
              "       'city', 'state', 'country', 'fax', 'zip', 'alcohol', 'smoking_area',\n",
              "       'dress_code', 'accessibility', 'price', 'url', 'Rambience', 'franchise',\n",
              "       'area', 'other_services'],\n",
              "      dtype='object')"
            ]
          },
          "metadata": {
            "tags": []
          },
          "execution_count": 152
        }
      ]
    },
    {
      "metadata": {
        "id": "a_YsJLcs7kVQ",
        "colab_type": "code",
        "colab": {
          "base_uri": "https://localhost:8080/",
          "height": 35
        },
        "outputId": "c57dcf78-6285-4f88-e22d-e1b60a88bcba"
      },
      "cell_type": "code",
      "source": [
        "geoplaces2['Rambience'].unique()"
      ],
      "execution_count": 153,
      "outputs": [
        {
          "output_type": "execute_result",
          "data": {
            "text/plain": [
              "array(['familiar', 'quiet'], dtype=object)"
            ]
          },
          "metadata": {
            "tags": []
          },
          "execution_count": 153
        }
      ]
    },
    {
      "metadata": {
        "id": "1SPQVjF_iE-b",
        "colab_type": "code",
        "colab": {}
      },
      "cell_type": "code",
      "source": [
        "rNamesDict = geoplaces2.set_index(\"placeID\").to_dict().get('name')"
      ],
      "execution_count": 0,
      "outputs": []
    },
    {
      "metadata": {
        "id": "P5mLn_MxilNa",
        "colab_type": "code",
        "colab": {
          "base_uri": "https://localhost:8080/",
          "height": 35
        },
        "outputId": "6d909023-d2d8-48ed-ccd6-e18519d6aa01"
      },
      "cell_type": "code",
      "source": [
        "rNamesDict[132560]"
      ],
      "execution_count": 155,
      "outputs": [
        {
          "output_type": "execute_result",
          "data": {
            "text/plain": [
              "'puesto de gorditas'"
            ]
          },
          "metadata": {
            "tags": []
          },
          "execution_count": 155
        }
      ]
    },
    {
      "metadata": {
        "id": "qVgtGPJXJ91q",
        "colab_type": "text"
      },
      "cell_type": "markdown",
      "source": [
        "## rating_final"
      ]
    },
    {
      "metadata": {
        "id": "xznDpB758mMb",
        "colab_type": "code",
        "colab": {
          "base_uri": "https://localhost:8080/",
          "height": 198
        },
        "outputId": "d3493699-a6e2-4b5a-a2de-637436cf9a56"
      },
      "cell_type": "code",
      "source": [
        "rating_final.head(5)"
      ],
      "execution_count": 156,
      "outputs": [
        {
          "output_type": "execute_result",
          "data": {
            "text/html": [
              "<div>\n",
              "<style scoped>\n",
              "    .dataframe tbody tr th:only-of-type {\n",
              "        vertical-align: middle;\n",
              "    }\n",
              "\n",
              "    .dataframe tbody tr th {\n",
              "        vertical-align: top;\n",
              "    }\n",
              "\n",
              "    .dataframe thead th {\n",
              "        text-align: right;\n",
              "    }\n",
              "</style>\n",
              "<table border=\"1\" class=\"dataframe\">\n",
              "  <thead>\n",
              "    <tr style=\"text-align: right;\">\n",
              "      <th></th>\n",
              "      <th>userID</th>\n",
              "      <th>placeID</th>\n",
              "      <th>rating</th>\n",
              "      <th>food_rating</th>\n",
              "      <th>service_rating</th>\n",
              "      <th>goodRating?</th>\n",
              "      <th>ratingMean</th>\n",
              "    </tr>\n",
              "  </thead>\n",
              "  <tbody>\n",
              "    <tr>\n",
              "      <th>0</th>\n",
              "      <td>U1077</td>\n",
              "      <td>135085</td>\n",
              "      <td>2</td>\n",
              "      <td>2</td>\n",
              "      <td>2</td>\n",
              "      <td>True</td>\n",
              "      <td>2.0</td>\n",
              "    </tr>\n",
              "    <tr>\n",
              "      <th>1</th>\n",
              "      <td>U1077</td>\n",
              "      <td>135038</td>\n",
              "      <td>2</td>\n",
              "      <td>2</td>\n",
              "      <td>1</td>\n",
              "      <td>True</td>\n",
              "      <td>1.5</td>\n",
              "    </tr>\n",
              "    <tr>\n",
              "      <th>2</th>\n",
              "      <td>U1077</td>\n",
              "      <td>132825</td>\n",
              "      <td>2</td>\n",
              "      <td>2</td>\n",
              "      <td>2</td>\n",
              "      <td>True</td>\n",
              "      <td>2.0</td>\n",
              "    </tr>\n",
              "    <tr>\n",
              "      <th>3</th>\n",
              "      <td>U1077</td>\n",
              "      <td>135060</td>\n",
              "      <td>1</td>\n",
              "      <td>2</td>\n",
              "      <td>2</td>\n",
              "      <td>False</td>\n",
              "      <td>2.0</td>\n",
              "    </tr>\n",
              "    <tr>\n",
              "      <th>4</th>\n",
              "      <td>U1068</td>\n",
              "      <td>135104</td>\n",
              "      <td>1</td>\n",
              "      <td>1</td>\n",
              "      <td>2</td>\n",
              "      <td>False</td>\n",
              "      <td>1.5</td>\n",
              "    </tr>\n",
              "  </tbody>\n",
              "</table>\n",
              "</div>"
            ],
            "text/plain": [
              "  userID  placeID  rating  food_rating  service_rating goodRating?  ratingMean\n",
              "0  U1077   135085       2            2               2        True         2.0\n",
              "1  U1077   135038       2            2               1        True         1.5\n",
              "2  U1077   132825       2            2               2        True         2.0\n",
              "3  U1077   135060       1            2               2       False         2.0\n",
              "4  U1068   135104       1            1               2       False         1.5"
            ]
          },
          "metadata": {
            "tags": []
          },
          "execution_count": 156
        }
      ]
    },
    {
      "metadata": {
        "id": "aUTZosyoq9oP",
        "colab_type": "code",
        "colab": {}
      },
      "cell_type": "code",
      "source": [
        "rating_final['goodRating?'] = np.nan\n",
        "rating_final['ratingMean'] = 0.00"
      ],
      "execution_count": 0,
      "outputs": []
    },
    {
      "metadata": {
        "id": "n5e-Qwy5KBAY",
        "colab_type": "code",
        "colab": {
          "base_uri": "https://localhost:8080/",
          "height": 290
        },
        "outputId": "76c38a83-d08f-4540-add6-dde3ed62b669"
      },
      "cell_type": "code",
      "source": [
        "import math\n",
        "for i in range(len(rating_final)):\n",
        "    sumarating = [rating_final['food_rating'][i],rating_final['service_rating'][i]]\n",
        "    sumaratingMean = np.mean(sumarating)\n",
        "    sumaratingRound = math.ceil(sumaratingMean)\n",
        "    \n",
        "    rating_final['goodRating?'][i] = rating_final['rating'][i]==sumaratingRound\n",
        "    rating_final['ratingMean'][i] = sumaratingMean"
      ],
      "execution_count": 158,
      "outputs": [
        {
          "output_type": "stream",
          "text": [
            "/usr/local/lib/python3.6/dist-packages/ipykernel_launcher.py:8: SettingWithCopyWarning: \n",
            "A value is trying to be set on a copy of a slice from a DataFrame\n",
            "\n",
            "See the caveats in the documentation: http://pandas.pydata.org/pandas-docs/stable/indexing.html#indexing-view-versus-copy\n",
            "  \n",
            "/usr/local/lib/python3.6/dist-packages/pandas/core/indexing.py:194: SettingWithCopyWarning: \n",
            "A value is trying to be set on a copy of a slice from a DataFrame\n",
            "\n",
            "See the caveats in the documentation: http://pandas.pydata.org/pandas-docs/stable/indexing.html#indexing-view-versus-copy\n",
            "  self._setitem_with_indexer(indexer, value)\n",
            "/usr/local/lib/python3.6/dist-packages/ipykernel_launcher.py:9: SettingWithCopyWarning: \n",
            "A value is trying to be set on a copy of a slice from a DataFrame\n",
            "\n",
            "See the caveats in the documentation: http://pandas.pydata.org/pandas-docs/stable/indexing.html#indexing-view-versus-copy\n",
            "  if __name__ == '__main__':\n"
          ],
          "name": "stderr"
        }
      ]
    },
    {
      "metadata": {
        "id": "w6hjaIFmds1S",
        "colab_type": "code",
        "colab": {
          "base_uri": "https://localhost:8080/",
          "height": 198
        },
        "outputId": "6a570d75-66dd-496d-f0f1-2e85c5ddfbc4"
      },
      "cell_type": "code",
      "source": [
        "rating_final.sample(5)"
      ],
      "execution_count": 159,
      "outputs": [
        {
          "output_type": "execute_result",
          "data": {
            "text/html": [
              "<div>\n",
              "<style scoped>\n",
              "    .dataframe tbody tr th:only-of-type {\n",
              "        vertical-align: middle;\n",
              "    }\n",
              "\n",
              "    .dataframe tbody tr th {\n",
              "        vertical-align: top;\n",
              "    }\n",
              "\n",
              "    .dataframe thead th {\n",
              "        text-align: right;\n",
              "    }\n",
              "</style>\n",
              "<table border=\"1\" class=\"dataframe\">\n",
              "  <thead>\n",
              "    <tr style=\"text-align: right;\">\n",
              "      <th></th>\n",
              "      <th>userID</th>\n",
              "      <th>placeID</th>\n",
              "      <th>rating</th>\n",
              "      <th>food_rating</th>\n",
              "      <th>service_rating</th>\n",
              "      <th>goodRating?</th>\n",
              "      <th>ratingMean</th>\n",
              "    </tr>\n",
              "  </thead>\n",
              "  <tbody>\n",
              "    <tr>\n",
              "      <th>853</th>\n",
              "      <td>U1027</td>\n",
              "      <td>132872</td>\n",
              "      <td>1</td>\n",
              "      <td>1</td>\n",
              "      <td>1</td>\n",
              "      <td>True</td>\n",
              "      <td>1.0</td>\n",
              "    </tr>\n",
              "    <tr>\n",
              "      <th>690</th>\n",
              "      <td>U1001</td>\n",
              "      <td>135039</td>\n",
              "      <td>1</td>\n",
              "      <td>1</td>\n",
              "      <td>1</td>\n",
              "      <td>True</td>\n",
              "      <td>1.0</td>\n",
              "    </tr>\n",
              "    <tr>\n",
              "      <th>1149</th>\n",
              "      <td>U1130</td>\n",
              "      <td>132706</td>\n",
              "      <td>1</td>\n",
              "      <td>2</td>\n",
              "      <td>1</td>\n",
              "      <td>False</td>\n",
              "      <td>1.5</td>\n",
              "    </tr>\n",
              "    <tr>\n",
              "      <th>345</th>\n",
              "      <td>U1116</td>\n",
              "      <td>135060</td>\n",
              "      <td>0</td>\n",
              "      <td>0</td>\n",
              "      <td>0</td>\n",
              "      <td>True</td>\n",
              "      <td>0.0</td>\n",
              "    </tr>\n",
              "    <tr>\n",
              "      <th>167</th>\n",
              "      <td>U1055</td>\n",
              "      <td>135051</td>\n",
              "      <td>1</td>\n",
              "      <td>2</td>\n",
              "      <td>2</td>\n",
              "      <td>False</td>\n",
              "      <td>2.0</td>\n",
              "    </tr>\n",
              "  </tbody>\n",
              "</table>\n",
              "</div>"
            ],
            "text/plain": [
              "     userID  placeID  rating  food_rating  service_rating goodRating?  \\\n",
              "853   U1027   132872       1            1               1        True   \n",
              "690   U1001   135039       1            1               1        True   \n",
              "1149  U1130   132706       1            2               1       False   \n",
              "345   U1116   135060       0            0               0        True   \n",
              "167   U1055   135051       1            2               2       False   \n",
              "\n",
              "      ratingMean  \n",
              "853          1.0  \n",
              "690          1.0  \n",
              "1149         1.5  \n",
              "345          0.0  \n",
              "167          2.0  "
            ]
          },
          "metadata": {
            "tags": []
          },
          "execution_count": 159
        }
      ]
    },
    {
      "metadata": {
        "id": "lhEcyEtUJb3s",
        "colab_type": "code",
        "colab": {
          "base_uri": "https://localhost:8080/",
          "height": 198
        },
        "outputId": "dfc0cc0a-9b7d-48d9-8697-7464748e473b"
      },
      "cell_type": "code",
      "source": [
        "rating_final[rating_final['goodRating?']==False].head()"
      ],
      "execution_count": 160,
      "outputs": [
        {
          "output_type": "execute_result",
          "data": {
            "text/html": [
              "<div>\n",
              "<style scoped>\n",
              "    .dataframe tbody tr th:only-of-type {\n",
              "        vertical-align: middle;\n",
              "    }\n",
              "\n",
              "    .dataframe tbody tr th {\n",
              "        vertical-align: top;\n",
              "    }\n",
              "\n",
              "    .dataframe thead th {\n",
              "        text-align: right;\n",
              "    }\n",
              "</style>\n",
              "<table border=\"1\" class=\"dataframe\">\n",
              "  <thead>\n",
              "    <tr style=\"text-align: right;\">\n",
              "      <th></th>\n",
              "      <th>userID</th>\n",
              "      <th>placeID</th>\n",
              "      <th>rating</th>\n",
              "      <th>food_rating</th>\n",
              "      <th>service_rating</th>\n",
              "      <th>goodRating?</th>\n",
              "      <th>ratingMean</th>\n",
              "    </tr>\n",
              "  </thead>\n",
              "  <tbody>\n",
              "    <tr>\n",
              "      <th>3</th>\n",
              "      <td>U1077</td>\n",
              "      <td>135060</td>\n",
              "      <td>1</td>\n",
              "      <td>2</td>\n",
              "      <td>2</td>\n",
              "      <td>False</td>\n",
              "      <td>2.0</td>\n",
              "    </tr>\n",
              "    <tr>\n",
              "      <th>4</th>\n",
              "      <td>U1068</td>\n",
              "      <td>135104</td>\n",
              "      <td>1</td>\n",
              "      <td>1</td>\n",
              "      <td>2</td>\n",
              "      <td>False</td>\n",
              "      <td>1.5</td>\n",
              "    </tr>\n",
              "    <tr>\n",
              "      <th>11</th>\n",
              "      <td>U1067</td>\n",
              "      <td>132732</td>\n",
              "      <td>1</td>\n",
              "      <td>2</td>\n",
              "      <td>2</td>\n",
              "      <td>False</td>\n",
              "      <td>2.0</td>\n",
              "    </tr>\n",
              "    <tr>\n",
              "      <th>14</th>\n",
              "      <td>U1067</td>\n",
              "      <td>132560</td>\n",
              "      <td>1</td>\n",
              "      <td>0</td>\n",
              "      <td>0</td>\n",
              "      <td>False</td>\n",
              "      <td>0.0</td>\n",
              "    </tr>\n",
              "    <tr>\n",
              "      <th>15</th>\n",
              "      <td>U1103</td>\n",
              "      <td>132584</td>\n",
              "      <td>1</td>\n",
              "      <td>2</td>\n",
              "      <td>1</td>\n",
              "      <td>False</td>\n",
              "      <td>1.5</td>\n",
              "    </tr>\n",
              "  </tbody>\n",
              "</table>\n",
              "</div>"
            ],
            "text/plain": [
              "   userID  placeID  rating  food_rating  service_rating goodRating?  \\\n",
              "3   U1077   135060       1            2               2       False   \n",
              "4   U1068   135104       1            1               2       False   \n",
              "11  U1067   132732       1            2               2       False   \n",
              "14  U1067   132560       1            0               0       False   \n",
              "15  U1103   132584       1            2               1       False   \n",
              "\n",
              "    ratingMean  \n",
              "3          2.0  \n",
              "4          1.5  \n",
              "11         2.0  \n",
              "14         0.0  \n",
              "15         1.5  "
            ]
          },
          "metadata": {
            "tags": []
          },
          "execution_count": 160
        }
      ]
    },
    {
      "metadata": {
        "id": "TlIegOTDJouz",
        "colab_type": "code",
        "colab": {
          "base_uri": "https://localhost:8080/",
          "height": 35
        },
        "outputId": "7cc310ca-11d0-4e82-81da-6e4d51aff462"
      },
      "cell_type": "code",
      "source": [
        "len(rating_final[rating_final['goodRating?']==False])"
      ],
      "execution_count": 161,
      "outputs": [
        {
          "output_type": "execute_result",
          "data": {
            "text/plain": [
              "307"
            ]
          },
          "metadata": {
            "tags": []
          },
          "execution_count": 161
        }
      ]
    },
    {
      "metadata": {
        "id": "JwisvtmzKVyg",
        "colab_type": "text"
      },
      "cell_type": "markdown",
      "source": [
        " ## usercuisine"
      ]
    },
    {
      "metadata": {
        "id": "L7PLHvJJKYN4",
        "colab_type": "code",
        "colab": {
          "base_uri": "https://localhost:8080/",
          "height": 198
        },
        "outputId": "7a2ae616-ebc1-48a5-e03b-c170bcdf950a"
      },
      "cell_type": "code",
      "source": [
        "usercuisine.sample(5)"
      ],
      "execution_count": 162,
      "outputs": [
        {
          "output_type": "execute_result",
          "data": {
            "text/html": [
              "<div>\n",
              "<style scoped>\n",
              "    .dataframe tbody tr th:only-of-type {\n",
              "        vertical-align: middle;\n",
              "    }\n",
              "\n",
              "    .dataframe tbody tr th {\n",
              "        vertical-align: top;\n",
              "    }\n",
              "\n",
              "    .dataframe thead th {\n",
              "        text-align: right;\n",
              "    }\n",
              "</style>\n",
              "<table border=\"1\" class=\"dataframe\">\n",
              "  <thead>\n",
              "    <tr style=\"text-align: right;\">\n",
              "      <th></th>\n",
              "      <th>userID</th>\n",
              "      <th>Rcuisine</th>\n",
              "    </tr>\n",
              "  </thead>\n",
              "  <tbody>\n",
              "    <tr>\n",
              "      <th>238</th>\n",
              "      <td>U1135</td>\n",
              "      <td>Malaysian</td>\n",
              "    </tr>\n",
              "    <tr>\n",
              "      <th>83</th>\n",
              "      <td>U1044</td>\n",
              "      <td>Mexican</td>\n",
              "    </tr>\n",
              "    <tr>\n",
              "      <th>264</th>\n",
              "      <td>U1135</td>\n",
              "      <td>Indian-Pakistani</td>\n",
              "    </tr>\n",
              "    <tr>\n",
              "      <th>254</th>\n",
              "      <td>U1135</td>\n",
              "      <td>Irish</td>\n",
              "    </tr>\n",
              "    <tr>\n",
              "      <th>98</th>\n",
              "      <td>U1056</td>\n",
              "      <td>Mexican</td>\n",
              "    </tr>\n",
              "  </tbody>\n",
              "</table>\n",
              "</div>"
            ],
            "text/plain": [
              "    userID          Rcuisine\n",
              "238  U1135         Malaysian\n",
              "83   U1044           Mexican\n",
              "264  U1135  Indian-Pakistani\n",
              "254  U1135             Irish\n",
              "98   U1056           Mexican"
            ]
          },
          "metadata": {
            "tags": []
          },
          "execution_count": 162
        }
      ]
    },
    {
      "metadata": {
        "id": "novgICJtKZZp",
        "colab_type": "code",
        "colab": {}
      },
      "cell_type": "code",
      "source": [
        ""
      ],
      "execution_count": 0,
      "outputs": []
    },
    {
      "metadata": {
        "id": "fP2Q9AkLKmcr",
        "colab_type": "text"
      },
      "cell_type": "markdown",
      "source": [
        "## userpayment"
      ]
    },
    {
      "metadata": {
        "id": "8PkHPFhCKnqp",
        "colab_type": "code",
        "colab": {
          "base_uri": "https://localhost:8080/",
          "height": 198
        },
        "outputId": "44b5ff96-56a2-48ae-ad36-90bf1c947493"
      },
      "cell_type": "code",
      "source": [
        "userpayment.sample(5)"
      ],
      "execution_count": 163,
      "outputs": [
        {
          "output_type": "execute_result",
          "data": {
            "text/html": [
              "<div>\n",
              "<style scoped>\n",
              "    .dataframe tbody tr th:only-of-type {\n",
              "        vertical-align: middle;\n",
              "    }\n",
              "\n",
              "    .dataframe tbody tr th {\n",
              "        vertical-align: top;\n",
              "    }\n",
              "\n",
              "    .dataframe thead th {\n",
              "        text-align: right;\n",
              "    }\n",
              "</style>\n",
              "<table border=\"1\" class=\"dataframe\">\n",
              "  <thead>\n",
              "    <tr style=\"text-align: right;\">\n",
              "      <th></th>\n",
              "      <th>userID</th>\n",
              "      <th>Upayment</th>\n",
              "    </tr>\n",
              "  </thead>\n",
              "  <tbody>\n",
              "    <tr>\n",
              "      <th>15</th>\n",
              "      <td>U1013</td>\n",
              "      <td>cash</td>\n",
              "    </tr>\n",
              "    <tr>\n",
              "      <th>170</th>\n",
              "      <td>U1133</td>\n",
              "      <td>bank_debit_cards</td>\n",
              "    </tr>\n",
              "    <tr>\n",
              "      <th>74</th>\n",
              "      <td>U1061</td>\n",
              "      <td>cash</td>\n",
              "    </tr>\n",
              "    <tr>\n",
              "      <th>49</th>\n",
              "      <td>U1041</td>\n",
              "      <td>VISA</td>\n",
              "    </tr>\n",
              "    <tr>\n",
              "      <th>59</th>\n",
              "      <td>U1048</td>\n",
              "      <td>cash</td>\n",
              "    </tr>\n",
              "  </tbody>\n",
              "</table>\n",
              "</div>"
            ],
            "text/plain": [
              "    userID          Upayment\n",
              "15   U1013              cash\n",
              "170  U1133  bank_debit_cards\n",
              "74   U1061              cash\n",
              "49   U1041              VISA\n",
              "59   U1048              cash"
            ]
          },
          "metadata": {
            "tags": []
          },
          "execution_count": 163
        }
      ]
    },
    {
      "metadata": {
        "id": "6MgS2_W8Kowq",
        "colab_type": "code",
        "colab": {}
      },
      "cell_type": "code",
      "source": [
        ""
      ],
      "execution_count": 0,
      "outputs": []
    },
    {
      "metadata": {
        "id": "5Zu4zjPYKu_a",
        "colab_type": "text"
      },
      "cell_type": "markdown",
      "source": [
        "## userprofile"
      ]
    },
    {
      "metadata": {
        "id": "4zp_lIWQKwAK",
        "colab_type": "code",
        "colab": {
          "base_uri": "https://localhost:8080/",
          "height": 270
        },
        "outputId": "86c060df-7cdb-41ae-c0a8-89028d50f194"
      },
      "cell_type": "code",
      "source": [
        "userprofile.sample(5)"
      ],
      "execution_count": 164,
      "outputs": [
        {
          "output_type": "execute_result",
          "data": {
            "text/html": [
              "<div>\n",
              "<style scoped>\n",
              "    .dataframe tbody tr th:only-of-type {\n",
              "        vertical-align: middle;\n",
              "    }\n",
              "\n",
              "    .dataframe tbody tr th {\n",
              "        vertical-align: top;\n",
              "    }\n",
              "\n",
              "    .dataframe thead th {\n",
              "        text-align: right;\n",
              "    }\n",
              "</style>\n",
              "<table border=\"1\" class=\"dataframe\">\n",
              "  <thead>\n",
              "    <tr style=\"text-align: right;\">\n",
              "      <th></th>\n",
              "      <th>userID</th>\n",
              "      <th>latitude</th>\n",
              "      <th>longitude</th>\n",
              "      <th>smoker</th>\n",
              "      <th>drink_level</th>\n",
              "      <th>dress_preference</th>\n",
              "      <th>ambience</th>\n",
              "      <th>transport</th>\n",
              "      <th>marital_status</th>\n",
              "      <th>hijos</th>\n",
              "      <th>birth_year</th>\n",
              "      <th>interest</th>\n",
              "      <th>personality</th>\n",
              "      <th>religion</th>\n",
              "      <th>activity</th>\n",
              "      <th>color</th>\n",
              "      <th>weight</th>\n",
              "      <th>budget</th>\n",
              "      <th>height</th>\n",
              "    </tr>\n",
              "  </thead>\n",
              "  <tbody>\n",
              "    <tr>\n",
              "      <th>55</th>\n",
              "      <td>U1056</td>\n",
              "      <td>22.168997</td>\n",
              "      <td>-100.974376</td>\n",
              "      <td>false</td>\n",
              "      <td>social drinker</td>\n",
              "      <td>informal</td>\n",
              "      <td>family</td>\n",
              "      <td>on foot</td>\n",
              "      <td>single</td>\n",
              "      <td>independent</td>\n",
              "      <td>1930</td>\n",
              "      <td>none</td>\n",
              "      <td>hard-worker</td>\n",
              "      <td>Catholic</td>\n",
              "      <td>student</td>\n",
              "      <td>yellow</td>\n",
              "      <td>61</td>\n",
              "      <td>medium</td>\n",
              "      <td>1.62</td>\n",
              "    </tr>\n",
              "    <tr>\n",
              "      <th>15</th>\n",
              "      <td>U1016</td>\n",
              "      <td>22.156247</td>\n",
              "      <td>-100.977402</td>\n",
              "      <td>false</td>\n",
              "      <td>casual drinker</td>\n",
              "      <td>informal</td>\n",
              "      <td>friends</td>\n",
              "      <td>on foot</td>\n",
              "      <td>single</td>\n",
              "      <td>independent</td>\n",
              "      <td>1991</td>\n",
              "      <td>eco-friendly</td>\n",
              "      <td>thrifty-protector</td>\n",
              "      <td>Catholic</td>\n",
              "      <td>student</td>\n",
              "      <td>green</td>\n",
              "      <td>70</td>\n",
              "      <td>medium</td>\n",
              "      <td>1.67</td>\n",
              "    </tr>\n",
              "    <tr>\n",
              "      <th>109</th>\n",
              "      <td>U1110</td>\n",
              "      <td>18.871678</td>\n",
              "      <td>-99.183263</td>\n",
              "      <td>false</td>\n",
              "      <td>abstemious</td>\n",
              "      <td>no preference</td>\n",
              "      <td>family</td>\n",
              "      <td>car owner</td>\n",
              "      <td>single</td>\n",
              "      <td>independent</td>\n",
              "      <td>1993</td>\n",
              "      <td>variety</td>\n",
              "      <td>thrifty-protector</td>\n",
              "      <td>Catholic</td>\n",
              "      <td>student</td>\n",
              "      <td>red</td>\n",
              "      <td>85</td>\n",
              "      <td>medium</td>\n",
              "      <td>1.75</td>\n",
              "    </tr>\n",
              "    <tr>\n",
              "      <th>70</th>\n",
              "      <td>U1071</td>\n",
              "      <td>22.154339</td>\n",
              "      <td>-100.975342</td>\n",
              "      <td>false</td>\n",
              "      <td>abstemious</td>\n",
              "      <td>formal</td>\n",
              "      <td>friends</td>\n",
              "      <td>car owner</td>\n",
              "      <td>single</td>\n",
              "      <td>independent</td>\n",
              "      <td>1930</td>\n",
              "      <td>none</td>\n",
              "      <td>hunter-ostentatious</td>\n",
              "      <td>none</td>\n",
              "      <td>student</td>\n",
              "      <td>blue</td>\n",
              "      <td>40</td>\n",
              "      <td>high</td>\n",
              "      <td>1.73</td>\n",
              "    </tr>\n",
              "    <tr>\n",
              "      <th>122</th>\n",
              "      <td>U1123</td>\n",
              "      <td>23.753112</td>\n",
              "      <td>-99.168567</td>\n",
              "      <td>false</td>\n",
              "      <td>abstemious</td>\n",
              "      <td>informal</td>\n",
              "      <td>family</td>\n",
              "      <td>?</td>\n",
              "      <td>single</td>\n",
              "      <td>independent</td>\n",
              "      <td>1987</td>\n",
              "      <td>technology</td>\n",
              "      <td>hard-worker</td>\n",
              "      <td>Catholic</td>\n",
              "      <td>student</td>\n",
              "      <td>green</td>\n",
              "      <td>110</td>\n",
              "      <td>medium</td>\n",
              "      <td>1.75</td>\n",
              "    </tr>\n",
              "  </tbody>\n",
              "</table>\n",
              "</div>"
            ],
            "text/plain": [
              "    userID   latitude   longitude smoker     drink_level dress_preference  \\\n",
              "55   U1056  22.168997 -100.974376  false  social drinker         informal   \n",
              "15   U1016  22.156247 -100.977402  false  casual drinker         informal   \n",
              "109  U1110  18.871678  -99.183263  false      abstemious    no preference   \n",
              "70   U1071  22.154339 -100.975342  false      abstemious           formal   \n",
              "122  U1123  23.753112  -99.168567  false      abstemious         informal   \n",
              "\n",
              "    ambience  transport marital_status        hijos  birth_year      interest  \\\n",
              "55    family    on foot         single  independent        1930          none   \n",
              "15   friends    on foot         single  independent        1991  eco-friendly   \n",
              "109   family  car owner         single  independent        1993       variety   \n",
              "70   friends  car owner         single  independent        1930          none   \n",
              "122   family          ?         single  independent        1987    technology   \n",
              "\n",
              "             personality  religion activity   color  weight  budget  height  \n",
              "55           hard-worker  Catholic  student  yellow      61  medium    1.62  \n",
              "15     thrifty-protector  Catholic  student   green      70  medium    1.67  \n",
              "109    thrifty-protector  Catholic  student     red      85  medium    1.75  \n",
              "70   hunter-ostentatious      none  student    blue      40    high    1.73  \n",
              "122          hard-worker  Catholic  student   green     110  medium    1.75  "
            ]
          },
          "metadata": {
            "tags": []
          },
          "execution_count": 164
        }
      ]
    },
    {
      "metadata": {
        "id": "KIE-7gKNKxLB",
        "colab_type": "code",
        "colab": {
          "base_uri": "https://localhost:8080/",
          "height": 35
        },
        "outputId": "42d7b8d9-c100-4455-d6fc-5927f5941655"
      },
      "cell_type": "code",
      "source": [
        "userprofile['hijos'].unique()"
      ],
      "execution_count": 165,
      "outputs": [
        {
          "output_type": "execute_result",
          "data": {
            "text/plain": [
              "array(['independent', 'kids', '?', 'dependent'], dtype=object)"
            ]
          },
          "metadata": {
            "tags": []
          },
          "execution_count": 165
        }
      ]
    },
    {
      "metadata": {
        "id": "AkNjVPTyZGMn",
        "colab_type": "code",
        "colab": {
          "base_uri": "https://localhost:8080/",
          "height": 316
        },
        "outputId": "f32756ea-477f-4b57-be21-a1d66219cf35"
      },
      "cell_type": "code",
      "source": [
        "## We can join all data table of user, to do a fullUserInformation, with this maybe we can see all table better.\n",
        "fullUserInformation = userprofile.merge(userpayment, on = 'userID', how ='left')\n",
        "fullUserInformation = fullUserInformation.merge(usercuisine,on='userID', how = 'left')\n",
        "fullUserInformation = fullUserInformation.merge(rating_final,on='userID', how = 'left')\n",
        "fullUserInformation = fullUserInformation.merge(geoplaces2[['placeID','name']],on = 'placeID',how ='left')\n",
        "fullUserInformation.sample(5)"
      ],
      "execution_count": 166,
      "outputs": [
        {
          "output_type": "execute_result",
          "data": {
            "text/html": [
              "<div>\n",
              "<style scoped>\n",
              "    .dataframe tbody tr th:only-of-type {\n",
              "        vertical-align: middle;\n",
              "    }\n",
              "\n",
              "    .dataframe tbody tr th {\n",
              "        vertical-align: top;\n",
              "    }\n",
              "\n",
              "    .dataframe thead th {\n",
              "        text-align: right;\n",
              "    }\n",
              "</style>\n",
              "<table border=\"1\" class=\"dataframe\">\n",
              "  <thead>\n",
              "    <tr style=\"text-align: right;\">\n",
              "      <th></th>\n",
              "      <th>userID</th>\n",
              "      <th>latitude</th>\n",
              "      <th>longitude</th>\n",
              "      <th>smoker</th>\n",
              "      <th>drink_level</th>\n",
              "      <th>dress_preference</th>\n",
              "      <th>ambience</th>\n",
              "      <th>transport</th>\n",
              "      <th>marital_status</th>\n",
              "      <th>hijos</th>\n",
              "      <th>...</th>\n",
              "      <th>height</th>\n",
              "      <th>Upayment</th>\n",
              "      <th>Rcuisine</th>\n",
              "      <th>placeID</th>\n",
              "      <th>rating</th>\n",
              "      <th>food_rating</th>\n",
              "      <th>service_rating</th>\n",
              "      <th>goodRating?</th>\n",
              "      <th>ratingMean</th>\n",
              "      <th>name</th>\n",
              "    </tr>\n",
              "  </thead>\n",
              "  <tbody>\n",
              "    <tr>\n",
              "      <th>3283</th>\n",
              "      <td>U1135</td>\n",
              "      <td>22.170396</td>\n",
              "      <td>-100.949936</td>\n",
              "      <td>false</td>\n",
              "      <td>casual drinker</td>\n",
              "      <td>informal</td>\n",
              "      <td>family</td>\n",
              "      <td>on foot</td>\n",
              "      <td>single</td>\n",
              "      <td>kids</td>\n",
              "      <td>...</td>\n",
              "      <td>1.54</td>\n",
              "      <td>cash</td>\n",
              "      <td>Pacific_Northwest</td>\n",
              "      <td>135058</td>\n",
              "      <td>0</td>\n",
              "      <td>0</td>\n",
              "      <td>0</td>\n",
              "      <td>True</td>\n",
              "      <td>0.0</td>\n",
              "      <td>Restaurante Tiberius</td>\n",
              "    </tr>\n",
              "    <tr>\n",
              "      <th>448</th>\n",
              "      <td>U1016</td>\n",
              "      <td>22.156247</td>\n",
              "      <td>-100.977402</td>\n",
              "      <td>false</td>\n",
              "      <td>casual drinker</td>\n",
              "      <td>informal</td>\n",
              "      <td>friends</td>\n",
              "      <td>on foot</td>\n",
              "      <td>single</td>\n",
              "      <td>independent</td>\n",
              "      <td>...</td>\n",
              "      <td>1.67</td>\n",
              "      <td>cash</td>\n",
              "      <td>Cafe-Coffee_Shop</td>\n",
              "      <td>135045</td>\n",
              "      <td>2</td>\n",
              "      <td>2</td>\n",
              "      <td>2</td>\n",
              "      <td>True</td>\n",
              "      <td>2.0</td>\n",
              "      <td>Restaurante la Gran Via</td>\n",
              "    </tr>\n",
              "    <tr>\n",
              "      <th>1964</th>\n",
              "      <td>U1108</td>\n",
              "      <td>22.143524</td>\n",
              "      <td>-100.987562</td>\n",
              "      <td>false</td>\n",
              "      <td>abstemious</td>\n",
              "      <td>informal</td>\n",
              "      <td>solitary</td>\n",
              "      <td>public</td>\n",
              "      <td>single</td>\n",
              "      <td>independent</td>\n",
              "      <td>...</td>\n",
              "      <td>1.81</td>\n",
              "      <td>VISA</td>\n",
              "      <td>Cafeteria</td>\n",
              "      <td>135028</td>\n",
              "      <td>1</td>\n",
              "      <td>1</td>\n",
              "      <td>1</td>\n",
              "      <td>True</td>\n",
              "      <td>1.0</td>\n",
              "      <td>La Virreina</td>\n",
              "    </tr>\n",
              "    <tr>\n",
              "      <th>4122</th>\n",
              "      <td>U1136</td>\n",
              "      <td>22.149607</td>\n",
              "      <td>-100.997235</td>\n",
              "      <td>true</td>\n",
              "      <td>social drinker</td>\n",
              "      <td>no preference</td>\n",
              "      <td>friends</td>\n",
              "      <td>car owner</td>\n",
              "      <td>single</td>\n",
              "      <td>independent</td>\n",
              "      <td>...</td>\n",
              "      <td>1.60</td>\n",
              "      <td>cash</td>\n",
              "      <td>Mexican</td>\n",
              "      <td>135064</td>\n",
              "      <td>1</td>\n",
              "      <td>1</td>\n",
              "      <td>1</td>\n",
              "      <td>True</td>\n",
              "      <td>1.0</td>\n",
              "      <td>Restaurante El Chivero S.A. de C.V.</td>\n",
              "    </tr>\n",
              "    <tr>\n",
              "      <th>277</th>\n",
              "      <td>U1008</td>\n",
              "      <td>22.122989</td>\n",
              "      <td>-100.923811</td>\n",
              "      <td>false</td>\n",
              "      <td>social drinker</td>\n",
              "      <td>formal</td>\n",
              "      <td>solitary</td>\n",
              "      <td>public</td>\n",
              "      <td>single</td>\n",
              "      <td>independent</td>\n",
              "      <td>...</td>\n",
              "      <td>1.72</td>\n",
              "      <td>cash</td>\n",
              "      <td>Cafeteria</td>\n",
              "      <td>132866</td>\n",
              "      <td>1</td>\n",
              "      <td>1</td>\n",
              "      <td>1</td>\n",
              "      <td>True</td>\n",
              "      <td>1.0</td>\n",
              "      <td>Chaires</td>\n",
              "    </tr>\n",
              "  </tbody>\n",
              "</table>\n",
              "<p>5 rows × 28 columns</p>\n",
              "</div>"
            ],
            "text/plain": [
              "     userID   latitude   longitude smoker     drink_level dress_preference  \\\n",
              "3283  U1135  22.170396 -100.949936  false  casual drinker         informal   \n",
              "448   U1016  22.156247 -100.977402  false  casual drinker         informal   \n",
              "1964  U1108  22.143524 -100.987562  false      abstemious         informal   \n",
              "4122  U1136  22.149607 -100.997235   true  social drinker    no preference   \n",
              "277   U1008  22.122989 -100.923811  false  social drinker           formal   \n",
              "\n",
              "      ambience  transport marital_status        hijos  \\\n",
              "3283    family    on foot         single         kids   \n",
              "448    friends    on foot         single  independent   \n",
              "1964  solitary     public         single  independent   \n",
              "4122   friends  car owner         single  independent   \n",
              "277   solitary     public         single  independent   \n",
              "\n",
              "                     ...                   height Upayment           Rcuisine  \\\n",
              "3283                 ...                     1.54     cash  Pacific_Northwest   \n",
              "448                  ...                     1.67     cash   Cafe-Coffee_Shop   \n",
              "1964                 ...                     1.81     VISA          Cafeteria   \n",
              "4122                 ...                     1.60     cash            Mexican   \n",
              "277                  ...                     1.72     cash          Cafeteria   \n",
              "\n",
              "     placeID rating food_rating  service_rating goodRating?  ratingMean  \\\n",
              "3283  135058      0           0               0        True         0.0   \n",
              "448   135045      2           2               2        True         2.0   \n",
              "1964  135028      1           1               1        True         1.0   \n",
              "4122  135064      1           1               1        True         1.0   \n",
              "277   132866      1           1               1        True         1.0   \n",
              "\n",
              "                                     name  \n",
              "3283                 Restaurante Tiberius  \n",
              "448               Restaurante la Gran Via  \n",
              "1964                          La Virreina  \n",
              "4122  Restaurante El Chivero S.A. de C.V.  \n",
              "277                               Chaires  \n",
              "\n",
              "[5 rows x 28 columns]"
            ]
          },
          "metadata": {
            "tags": []
          },
          "execution_count": 166
        }
      ]
    },
    {
      "metadata": {
        "id": "tQ8CYic8VfGs",
        "colab_type": "code",
        "colab": {}
      },
      "cell_type": "code",
      "source": [
        "#-------------------------------------------------------------------------------\n",
        "#-------------------------------------------------------------------------------\n",
        "#-------------------------------------------------------------------------------\n",
        "#-------------------------------------------------------------------------------\n",
        "#-------------------------------------------------------------------------------\n",
        "#-------------------------------------------------------------------------------\n",
        "#-------------------------------------------------------------------------------"
      ],
      "execution_count": 0,
      "outputs": []
    },
    {
      "metadata": {
        "id": "JMUbK9rThNCD",
        "colab_type": "code",
        "colab": {}
      },
      "cell_type": "code",
      "source": [
        "rRatingR = fullUserInformation.groupby(['placeID','name'])['rating'].agg(['median','mean','sum'])\n",
        "rRatingMean = fullUserInformation.groupby(['placeID','name'])['ratingMean'].agg(['median','mean','sum'])\n",
        "rRatingFood = fullUserInformation.groupby(['placeID','name'])['food_rating'].agg(['median','mean','sum'])\n",
        "rRatingService = fullUserInformation.groupby(['placeID','name'])['service_rating'].agg(['median','mean','sum'])"
      ],
      "execution_count": 0,
      "outputs": []
    },
    {
      "metadata": {
        "id": "LvwSPewRshl_",
        "colab_type": "code",
        "colab": {
          "base_uri": "https://localhost:8080/",
          "height": 198
        },
        "outputId": "d86b7915-f4fa-49b6-9a46-8a2a537ff686"
      },
      "cell_type": "code",
      "source": [
        "rRating.head()"
      ],
      "execution_count": 169,
      "outputs": [
        {
          "output_type": "execute_result",
          "data": {
            "text/html": [
              "<div>\n",
              "<style scoped>\n",
              "    .dataframe tbody tr th:only-of-type {\n",
              "        vertical-align: middle;\n",
              "    }\n",
              "\n",
              "    .dataframe tbody tr th {\n",
              "        vertical-align: top;\n",
              "    }\n",
              "\n",
              "    .dataframe thead th {\n",
              "        text-align: right;\n",
              "    }\n",
              "</style>\n",
              "<table border=\"1\" class=\"dataframe\">\n",
              "  <thead>\n",
              "    <tr style=\"text-align: right;\">\n",
              "      <th></th>\n",
              "      <th>RankRSum</th>\n",
              "      <th>placeID</th>\n",
              "      <th>name</th>\n",
              "      <th>median_R</th>\n",
              "      <th>mean_R</th>\n",
              "      <th>sum_R</th>\n",
              "      <th>RankRMedian</th>\n",
              "      <th>median_RM</th>\n",
              "      <th>mean_RM</th>\n",
              "      <th>sum_RM</th>\n",
              "    </tr>\n",
              "  </thead>\n",
              "  <tbody>\n",
              "    <tr>\n",
              "      <th>0</th>\n",
              "      <td>0</td>\n",
              "      <td>135032</td>\n",
              "      <td>Cafeteria y Restaurant El Pacifico</td>\n",
              "      <td>1.0</td>\n",
              "      <td>0.982833</td>\n",
              "      <td>229</td>\n",
              "      <td>51</td>\n",
              "      <td>1.0</td>\n",
              "      <td>0.982833</td>\n",
              "      <td>229</td>\n",
              "    </tr>\n",
              "    <tr>\n",
              "      <th>1</th>\n",
              "      <td>1</td>\n",
              "      <td>135085</td>\n",
              "      <td>Tortas Locas Hipocampo</td>\n",
              "      <td>0.5</td>\n",
              "      <td>0.692661</td>\n",
              "      <td>151</td>\n",
              "      <td>106</td>\n",
              "      <td>0.5</td>\n",
              "      <td>0.692661</td>\n",
              "      <td>151</td>\n",
              "    </tr>\n",
              "    <tr>\n",
              "      <th>2</th>\n",
              "      <td>2</td>\n",
              "      <td>135075</td>\n",
              "      <td>Mariscos El Pescador</td>\n",
              "      <td>2.0</td>\n",
              "      <td>1.914286</td>\n",
              "      <td>134</td>\n",
              "      <td>33</td>\n",
              "      <td>2.0</td>\n",
              "      <td>1.914286</td>\n",
              "      <td>134</td>\n",
              "    </tr>\n",
              "    <tr>\n",
              "      <th>3</th>\n",
              "      <td>3</td>\n",
              "      <td>132723</td>\n",
              "      <td>Gordas de morales</td>\n",
              "      <td>2.0</td>\n",
              "      <td>1.893939</td>\n",
              "      <td>125</td>\n",
              "      <td>29</td>\n",
              "      <td>2.0</td>\n",
              "      <td>1.893939</td>\n",
              "      <td>125</td>\n",
              "    </tr>\n",
              "    <tr>\n",
              "      <th>4</th>\n",
              "      <td>4</td>\n",
              "      <td>135074</td>\n",
              "      <td>Restaurante la Parroquia Potosina</td>\n",
              "      <td>2.0</td>\n",
              "      <td>1.982456</td>\n",
              "      <td>113</td>\n",
              "      <td>34</td>\n",
              "      <td>2.0</td>\n",
              "      <td>1.982456</td>\n",
              "      <td>113</td>\n",
              "    </tr>\n",
              "  </tbody>\n",
              "</table>\n",
              "</div>"
            ],
            "text/plain": [
              "   RankRSum  placeID                                name  median_R    mean_R  \\\n",
              "0         0   135032  Cafeteria y Restaurant El Pacifico       1.0  0.982833   \n",
              "1         1   135085              Tortas Locas Hipocampo       0.5  0.692661   \n",
              "2         2   135075                Mariscos El Pescador       2.0  1.914286   \n",
              "3         3   132723                   Gordas de morales       2.0  1.893939   \n",
              "4         4   135074   Restaurante la Parroquia Potosina       2.0  1.982456   \n",
              "\n",
              "   sum_R  RankRMedian  median_RM   mean_RM  sum_RM  \n",
              "0    229           51        1.0  0.982833     229  \n",
              "1    151          106        0.5  0.692661     151  \n",
              "2    134           33        2.0  1.914286     134  \n",
              "3    125           29        2.0  1.893939     125  \n",
              "4    113           34        2.0  1.982456     113  "
            ]
          },
          "metadata": {
            "tags": []
          },
          "execution_count": 169
        }
      ]
    },
    {
      "metadata": {
        "id": "i7_hEFzwhiUF",
        "colab_type": "code",
        "colab": {}
      },
      "cell_type": "code",
      "source": [
        "rRatingSortRSum = rRatingR.sort_values(['sum'], ascending=False).reset_index().reset_index().rename(index=str, columns={\"index\": \"RankRSum\"})\n",
        "rRatingSortRMedian = rRatingR.sort_values(['median'], ascending=False).reset_index().reset_index().rename(index=str, columns={\"index\": \"RankRMedian\"})\n",
        "rRatingSortRMSum = rRatingMean.sort_values(['sum'], ascending=False).reset_index().reset_index().rename(index=str, columns={\"index\": \"RankRMSum\"})\n",
        "rRatingSortRMMedian = rRatingMean.sort_values(['median'], ascending=False).reset_index().reset_index().rename(index=str, columns={\"index\": \"RankRMMedian\"})\n",
        "rRatingSortFSum = rRatingFood.sort_values(['sum'], ascending=False).reset_index().reset_index().rename(index=str, columns={\"index\": \"RankFSum\"})\n",
        "rRatingSortFMedian = rRatingFood.sort_values(['median'], ascending=False).reset_index().reset_index().rename(index=str, columns={\"index\": \"RankFMedian\"})\n",
        "rRatingSortSSum = rRatingService.sort_values(['sum'], ascending=False).reset_index().reset_index().rename(index=str, columns={\"index\": \"RankRSum\"}).head()\n",
        "rRatingSortSMedian = rRatingService.sort_values(['median'], ascending=False).reset_index().reset_index().rename(index=str, columns={\"index\": \"RankSMedian\"})"
      ],
      "execution_count": 0,
      "outputs": []
    },
    {
      "metadata": {
        "id": "GucSUYItwC4U",
        "colab_type": "code",
        "colab": {}
      },
      "cell_type": "code",
      "source": [
        ""
      ],
      "execution_count": 0,
      "outputs": []
    }
  ]
}
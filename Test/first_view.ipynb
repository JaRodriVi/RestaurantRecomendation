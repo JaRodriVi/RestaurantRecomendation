{
  "nbformat": 4,
  "nbformat_minor": 0,
  "metadata": {
    "colab": {
      "name": "TFM.ipynb",
      "version": "0.3.2",
      "provenance": [],
      "collapsed_sections": []
    },
    "kernelspec": {
      "name": "python3",
      "display_name": "Python 3"
    },
    "accelerator": "GPU"
  },
  "cells": [
    {
      "metadata": {
        "id": "rTV9o5NQapF7",
        "colab_type": "code",
        "colab": {
          "resources": {
            "http://localhost:8080/nbextensions/google.colab/files.js": {
              "data": "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",
              "ok": true,
              "headers": [
                [
                  "content-type",
                  "application/javascript"
                ]
              ],
              "status": 200,
              "status_text": ""
            }
          },
          "base_uri": "https://localhost:8080/",
          "height": 412
        },
        "outputId": "ecd99b26-70fe-4370-d79d-eebcac9f6991"
      },
      "cell_type": "code",
      "source": [
        "from google.colab import files\n",
        "\n",
        "uploaded = files.upload()"
      ],
      "execution_count": 1,
      "outputs": [
        {
          "output_type": "display_data",
          "data": {
            "text/html": [
              "\n",
              "     <input type=\"file\" id=\"files-7acbe0e3-f2b3-4cae-9da4-072c5d19947b\" name=\"files[]\" multiple disabled />\n",
              "     <output id=\"result-7acbe0e3-f2b3-4cae-9da4-072c5d19947b\">\n",
              "      Upload widget is only available when the cell has been executed in the\n",
              "      current browser session. Please rerun this cell to enable.\n",
              "      </output>\n",
              "      <script src=\"/nbextensions/google.colab/files.js\"></script> "
            ],
            "text/plain": [
              "<IPython.core.display.HTML object>"
            ]
          },
          "metadata": {
            "tags": []
          }
        },
        {
          "output_type": "stream",
          "text": [
            "Saving chefmozaccepts.csv to chefmozaccepts.csv\n",
            "Saving chefmozcuisine.csv to chefmozcuisine.csv\n",
            "Saving chefmozhours4.csv to chefmozhours4.csv\n",
            "Saving chefmozparking.csv to chefmozparking.csv\n",
            "Saving geoplaces2.csv to geoplaces2.csv\n",
            "Saving rating_final.csv to rating_final.csv\n",
            "Saving README to README\n",
            "Saving ReadMe.rtf to ReadMe.rtf\n",
            "Saving usercuisine.csv to usercuisine.csv\n",
            "Saving userpayment.csv to userpayment.csv\n",
            "Saving userprofile.csv to userprofile.csv\n"
          ],
          "name": "stdout"
        }
      ]
    },
    {
      "metadata": {
        "id": "TuC4zGDrdwqP",
        "colab_type": "code",
        "colab": {
          "base_uri": "https://localhost:8080/",
          "height": 68
        },
        "outputId": "89a5a310-1f3d-48e3-845b-84d5c3f08d05"
      },
      "cell_type": "code",
      "source": [
        "! ls"
      ],
      "execution_count": 2,
      "outputs": [
        {
          "output_type": "stream",
          "text": [
            "chefmozaccepts.csv  chefmozparking.csv\tREADME\t     usercuisine.csv\n",
            "chefmozcuisine.csv  geoplaces2.csv\tReadMe.rtf   userpayment.csv\n",
            "chefmozhours4.csv   rating_final.csv\tsample_data  userprofile.csv\n"
          ],
          "name": "stdout"
        }
      ]
    },
    {
      "metadata": {
        "id": "ADp6uUrGa1aC",
        "colab_type": "code",
        "colab": {}
      },
      "cell_type": "code",
      "source": [
        "import pandas as pd\n",
        "import numpy as np\n",
        "import seaborn as sns\n",
        "import matplotlib as plt"
      ],
      "execution_count": 0,
      "outputs": []
    },
    {
      "metadata": {
        "id": "3ppO3gkxq4ON",
        "colab_type": "code",
        "colab": {}
      },
      "cell_type": "code",
      "source": [
        "chefmozacccepts = pd.read_csv(\"chefmozaccepts.csv\")\n",
        "chefmozcuisine = pd.read_csv(\"chefmozcuisine.csv\")\n",
        "chefmozhours4 = pd.read_csv(\"chefmozhours4.csv\")\n",
        "chefmozparking = pd.read_csv(\"chefmozparking.csv\")\n",
        "geoplaces2 = pd.read_csv(\"geoplaces2.csv\")\n",
        "rating_final = pd.read_csv(\"rating_final.csv\")\n",
        "usercuisine = pd.read_csv(\"usercuisine.csv\")\n",
        "userpayment = pd.read_csv(\"userpayment.csv\")\n",
        "userprofile = pd.read_csv(\"userprofile.csv\")"
      ],
      "execution_count": 0,
      "outputs": []
    },
    {
      "metadata": {
        "id": "l6oREHi54bHh",
        "colab_type": "text"
      },
      "cell_type": "markdown",
      "source": [
        "## Chefmozaccepts\n",
        "placeID: ID of the restaurant.\n",
        "\n",
        "Rpayment: type of pay that the restaurant accept"
      ]
    },
    {
      "metadata": {
        "id": "JlLncEVN87NA",
        "colab_type": "code",
        "colab": {
          "base_uri": "https://localhost:8080/",
          "height": 34
        },
        "outputId": "707c2d92-4877-483c-ce76-1d9582894e12"
      },
      "cell_type": "code",
      "source": [
        "chefmozacccepts.shape"
      ],
      "execution_count": 4,
      "outputs": [
        {
          "output_type": "execute_result",
          "data": {
            "text/plain": [
              "(1314, 2)"
            ]
          },
          "metadata": {
            "tags": []
          },
          "execution_count": 4
        }
      ]
    },
    {
      "metadata": {
        "id": "LBqQEJ2k4C1w",
        "colab_type": "code",
        "colab": {
          "base_uri": "https://localhost:8080/",
          "height": 204
        },
        "outputId": "170c2a87-74b0-4c87-b9d2-2103ba8071a7"
      },
      "cell_type": "code",
      "source": [
        "chefmozacccepts.sample(5)"
      ],
      "execution_count": 5,
      "outputs": [
        {
          "output_type": "execute_result",
          "data": {
            "text/html": [
              "<div>\n",
              "<style scoped>\n",
              "    .dataframe tbody tr th:only-of-type {\n",
              "        vertical-align: middle;\n",
              "    }\n",
              "\n",
              "    .dataframe tbody tr th {\n",
              "        vertical-align: top;\n",
              "    }\n",
              "\n",
              "    .dataframe thead th {\n",
              "        text-align: right;\n",
              "    }\n",
              "</style>\n",
              "<table border=\"1\" class=\"dataframe\">\n",
              "  <thead>\n",
              "    <tr style=\"text-align: right;\">\n",
              "      <th></th>\n",
              "      <th>placeID</th>\n",
              "      <th>Rpayment</th>\n",
              "    </tr>\n",
              "  </thead>\n",
              "  <tbody>\n",
              "    <tr>\n",
              "      <th>822</th>\n",
              "      <td>132699</td>\n",
              "      <td>cash</td>\n",
              "    </tr>\n",
              "    <tr>\n",
              "      <th>616</th>\n",
              "      <td>132802</td>\n",
              "      <td>American_Express</td>\n",
              "    </tr>\n",
              "    <tr>\n",
              "      <th>738</th>\n",
              "      <td>132751</td>\n",
              "      <td>bank_debit_cards</td>\n",
              "    </tr>\n",
              "    <tr>\n",
              "      <th>1298</th>\n",
              "      <td>132023</td>\n",
              "      <td>American_Express</td>\n",
              "    </tr>\n",
              "    <tr>\n",
              "      <th>668</th>\n",
              "      <td>132785</td>\n",
              "      <td>cash</td>\n",
              "    </tr>\n",
              "  </tbody>\n",
              "</table>\n",
              "</div>"
            ],
            "text/plain": [
              "      placeID          Rpayment\n",
              "822    132699              cash\n",
              "616    132802  American_Express\n",
              "738    132751  bank_debit_cards\n",
              "1298   132023  American_Express\n",
              "668    132785              cash"
            ]
          },
          "metadata": {
            "tags": []
          },
          "execution_count": 5
        }
      ]
    },
    {
      "metadata": {
        "id": "O3rew_adEiqM",
        "colab_type": "code",
        "colab": {
          "base_uri": "https://localhost:8080/",
          "height": 85
        },
        "outputId": "07439850-7d97-4afd-828f-1b3de7c51103"
      },
      "cell_type": "code",
      "source": [
        "chefmozacccepts['Rpayment'].unique()"
      ],
      "execution_count": 6,
      "outputs": [
        {
          "output_type": "execute_result",
          "data": {
            "text/plain": [
              "array(['cash', 'VISA', 'MasterCard-Eurocard', 'American_Express',\n",
              "       'bank_debit_cards', 'checks', 'Discover', 'Carte_Blanche',\n",
              "       'Diners_Club', 'Visa', 'Japan_Credit_Bureau', 'gift_certificates'],\n",
              "      dtype=object)"
            ]
          },
          "metadata": {
            "tags": []
          },
          "execution_count": 6
        }
      ]
    },
    {
      "metadata": {
        "id": "BLC30mtW4F_8",
        "colab_type": "code",
        "colab": {
          "base_uri": "https://localhost:8080/",
          "height": 34
        },
        "outputId": "bf029a85-2be7-450f-cdcb-e055c2b7fa3e"
      },
      "cell_type": "code",
      "source": [
        "chefmozacccepts['Rpayment'].unique().size"
      ],
      "execution_count": 7,
      "outputs": [
        {
          "output_type": "execute_result",
          "data": {
            "text/plain": [
              "12"
            ]
          },
          "metadata": {
            "tags": []
          },
          "execution_count": 7
        }
      ]
    },
    {
      "metadata": {
        "id": "mHpLZaZ6lX2O",
        "colab_type": "text"
      },
      "cell_type": "markdown",
      "source": [
        "We have 12 type of payment, maybe we have to only use 2 or 3 of them, like cash, credictCard and checks."
      ]
    },
    {
      "metadata": {
        "id": "qCU1091M8gGu",
        "colab_type": "code",
        "colab": {}
      },
      "cell_type": "code",
      "source": [
        "chefmozacccepts['Rpayment_accepts'] = chefmozacccepts['Rpayment']\n",
        "chefmozacccepts['Rpayment_accepts'] = chefmozacccepts['Rpayment_accepts']\\\n",
        "             .replace(['VISA', 'MasterCard-Eurocard', 'American_Express',\n",
        "                       'bank_debit_cards','Discover', 'Carte_Blanche',\n",
        "                       'Diners_Club', 'Visa', 'Japan_Credit_Bureau'], ' credictCard')\n",
        "chefmozacccepts['Rpayment_accepts'] = chefmozacccepts['Rpayment_accepts']\\\n",
        "             .replace(['gift_certificates'], 'checks')"
      ],
      "execution_count": 0,
      "outputs": []
    },
    {
      "metadata": {
        "id": "4s9FxMtVrK-k",
        "colab_type": "code",
        "colab": {}
      },
      "cell_type": "code",
      "source": [
        "chefmozacccepts['Rpayment_accepts'] = chefmozacccepts['Rpayment_accepts'].astype('category')"
      ],
      "execution_count": 0,
      "outputs": []
    },
    {
      "metadata": {
        "id": "9nhrJlwtvE-A",
        "colab_type": "text"
      },
      "cell_type": "markdown",
      "source": [
        "## Chefmozcuisine\n",
        "\n",
        "placeID: ID of the restaurant.\n",
        "\n",
        "Rcuisine: The region of the food that they cook."
      ]
    },
    {
      "metadata": {
        "id": "zbr_OQeivO1_",
        "colab_type": "code",
        "colab": {
          "base_uri": "https://localhost:8080/",
          "height": 204
        },
        "outputId": "63a393d0-e0df-4742-c3dd-925db15615e6"
      },
      "cell_type": "code",
      "source": [
        "chefmozcuisine.sample(5)"
      ],
      "execution_count": 10,
      "outputs": [
        {
          "output_type": "execute_result",
          "data": {
            "text/html": [
              "<div>\n",
              "<style scoped>\n",
              "    .dataframe tbody tr th:only-of-type {\n",
              "        vertical-align: middle;\n",
              "    }\n",
              "\n",
              "    .dataframe tbody tr th {\n",
              "        vertical-align: top;\n",
              "    }\n",
              "\n",
              "    .dataframe thead th {\n",
              "        text-align: right;\n",
              "    }\n",
              "</style>\n",
              "<table border=\"1\" class=\"dataframe\">\n",
              "  <thead>\n",
              "    <tr style=\"text-align: right;\">\n",
              "      <th></th>\n",
              "      <th>placeID</th>\n",
              "      <th>Rcuisine</th>\n",
              "    </tr>\n",
              "  </thead>\n",
              "  <tbody>\n",
              "    <tr>\n",
              "      <th>580</th>\n",
              "      <td>132464</td>\n",
              "      <td>German</td>\n",
              "    </tr>\n",
              "    <tr>\n",
              "      <th>184</th>\n",
              "      <td>132955</td>\n",
              "      <td>Bar_Pub_Brewery</td>\n",
              "    </tr>\n",
              "    <tr>\n",
              "      <th>770</th>\n",
              "      <td>132226</td>\n",
              "      <td>American</td>\n",
              "    </tr>\n",
              "    <tr>\n",
              "      <th>114</th>\n",
              "      <td>134989</td>\n",
              "      <td>Mexican</td>\n",
              "    </tr>\n",
              "    <tr>\n",
              "      <th>710</th>\n",
              "      <td>132294</td>\n",
              "      <td>Southern</td>\n",
              "    </tr>\n",
              "  </tbody>\n",
              "</table>\n",
              "</div>"
            ],
            "text/plain": [
              "     placeID         Rcuisine\n",
              "580   132464           German\n",
              "184   132955  Bar_Pub_Brewery\n",
              "770   132226         American\n",
              "114   134989          Mexican\n",
              "710   132294         Southern"
            ]
          },
          "metadata": {
            "tags": []
          },
          "execution_count": 10
        }
      ]
    },
    {
      "metadata": {
        "id": "NgLpiz2IvRM3",
        "colab_type": "code",
        "colab": {
          "base_uri": "https://localhost:8080/",
          "height": 238
        },
        "outputId": "25513f7a-4495-44ae-a096-810690113ddd"
      },
      "cell_type": "code",
      "source": [
        "chefmozcuisine['Rcuisine'].unique()"
      ],
      "execution_count": 11,
      "outputs": [
        {
          "output_type": "execute_result",
          "data": {
            "text/plain": [
              "array(['Spanish', 'Italian', 'Latin_American', 'Mexican', 'Fast_Food',\n",
              "       'Burgers', 'Dessert-Ice_Cream', 'Hot_Dogs', 'Steaks', 'Asian',\n",
              "       'International', 'Mongolian', 'Vegetarian', 'Brazilian',\n",
              "       'Cafe-Coffee_Shop', 'Cafeteria', 'Contemporary', 'Deli-Sandwiches',\n",
              "       'Diner', 'Japanese', 'Sushi', 'Seafood', 'Chinese', 'Bar',\n",
              "       'Bar_Pub_Brewery', 'Pizzeria', 'Mediterranean', 'American',\n",
              "       'Family', 'Caribbean', 'African', 'Breakfast-Brunch', 'Regional',\n",
              "       'Afghan', 'Bakery', 'Game', 'Armenian', 'Vietnamese', 'Korean',\n",
              "       'Thai', 'Barbecue', 'Polish', 'Dutch-Belgian', 'French', 'German',\n",
              "       'Southwestern', 'Persian', 'Ethiopian', 'Juice', 'Soup',\n",
              "       'Continental-European', 'Greek', 'Southern', 'Eastern_European',\n",
              "       'California', 'Bagels', 'Turkish', 'Organic-Healthy',\n",
              "       'Fine_Dining'], dtype=object)"
            ]
          },
          "metadata": {
            "tags": []
          },
          "execution_count": 11
        }
      ]
    },
    {
      "metadata": {
        "id": "3SBDnTr-wl-w",
        "colab_type": "code",
        "colab": {}
      },
      "cell_type": "code",
      "source": [
        "# This doesn't make much sense, we can split the Clasification for have less dummy variables, but we will try make the recomendation with full data\n",
        "chefmozcuisine['Rcuisine_Type'] = chefmozcuisine['Rcuisine']\n",
        "chefmozcuisine['Rcuisine_Type'] = chefmozcuisine['Rcuisine_Type'].replace(['Spanish','Italian','Seafood','Greek','Mediterranean'], 'Mediterranean')\n",
        "chefmozcuisine['Rcuisine_Type'] = chefmozcuisine['Rcuisine_Type'].replace(['Latin_American','Mexican','Brazilian','Caribbean'], 'South_American')\n",
        "chefmozcuisine['Rcuisine_Type'] = chefmozcuisine['Rcuisine_Type'].replace(['Fast_Food','Hot_Dogs','Burgers','Deli-Sandwiches','Pizzeria'], 'Fast_Food')\n",
        "chefmozcuisine['Rcuisine_Type'] = chefmozcuisine['Rcuisine_Type'].replace(['Asian','Mongolian','Chinese','Japanese','Sushi','Vietnamese', 'Korean','Thai'], 'Asian')\n",
        "chefmozcuisine['Rcuisine_Type'] = chefmozcuisine['Rcuisine_Type'].replace(['French', 'German','Polish', 'Dutch-Belgian','Continental-European','Eastern_European'], 'European')\n",
        "chefmozcuisine['Rcuisine_Type'] = chefmozcuisine['Rcuisine_Type'].replace(['Afghan','Armenian','Persian','Turkish'], 'Turkish')\n",
        "chefmozcuisine['Rcuisine_Type'] = chefmozcuisine['Rcuisine_Type'].replace(['African','Ethiopian'], 'African')\n",
        "chefmozcuisine['Rcuisine_Type'] = chefmozcuisine['Rcuisine_Type'].replace(['Breakfast-Brunch','Bagels'], 'Breakfast')\n",
        "chefmozcuisine['Rcuisine_Type'] = chefmozcuisine['Rcuisine_Type'].replace(['Bar_Pub_Brewery','Bar'], 'Bar')\n",
        "chefmozcuisine['Rcuisine_Type'] = chefmozcuisine['Rcuisine_Type'].replace(['Cafeteria','Cafe-Coffee_Shop',''], 'Cafeteria')\n",
        "chefmozcuisine['Rcuisine_Type'] = chefmozcuisine['Rcuisine_Type'].replace(['Fine_Dining','Organic-Healthy','Vegetarian'], 'Healthy')\n",
        "chefmozcuisine['Rcuisine_Type'] = chefmozcuisine['Rcuisine_Type'].replace(['American','California','Southwestern'], 'American')"
      ],
      "execution_count": 0,
      "outputs": []
    },
    {
      "metadata": {
        "id": "tqFEXLgtMnl7",
        "colab_type": "code",
        "colab": {
          "base_uri": "https://localhost:8080/",
          "height": 102
        },
        "outputId": "32ebe804-039d-4a77-93c0-766e8a05219b"
      },
      "cell_type": "code",
      "source": [
        "chefmozcuisine['Rcuisine_Type'].unique()"
      ],
      "execution_count": 13,
      "outputs": [
        {
          "output_type": "execute_result",
          "data": {
            "text/plain": [
              "array(['Mediterranean', 'South_American', 'Fast_Food',\n",
              "       'Dessert-Ice_Cream', 'Steaks', 'Asian', 'International', 'Healthy',\n",
              "       'Cafeteria', 'Contemporary', 'Diner', 'Bar', 'American', 'Family',\n",
              "       'African', 'Breakfast', 'Regional', 'Turkish', 'Bakery', 'Game',\n",
              "       'Barbecue', 'European', 'Juice', 'Soup', 'Southern'], dtype=object)"
            ]
          },
          "metadata": {
            "tags": []
          },
          "execution_count": 13
        }
      ]
    },
    {
      "metadata": {
        "id": "9tDW0982SOVD",
        "colab_type": "code",
        "colab": {
          "base_uri": "https://localhost:8080/",
          "height": 204
        },
        "outputId": "50cba456-9e05-470d-9d50-e2b5c9acf3e8"
      },
      "cell_type": "code",
      "source": [
        "chefmozcuisine.sample(5)"
      ],
      "execution_count": 14,
      "outputs": [
        {
          "output_type": "execute_result",
          "data": {
            "text/html": [
              "<div>\n",
              "<style scoped>\n",
              "    .dataframe tbody tr th:only-of-type {\n",
              "        vertical-align: middle;\n",
              "    }\n",
              "\n",
              "    .dataframe tbody tr th {\n",
              "        vertical-align: top;\n",
              "    }\n",
              "\n",
              "    .dataframe thead th {\n",
              "        text-align: right;\n",
              "    }\n",
              "</style>\n",
              "<table border=\"1\" class=\"dataframe\">\n",
              "  <thead>\n",
              "    <tr style=\"text-align: right;\">\n",
              "      <th></th>\n",
              "      <th>placeID</th>\n",
              "      <th>Rcuisine</th>\n",
              "      <th>Rcuisine_Type</th>\n",
              "    </tr>\n",
              "  </thead>\n",
              "  <tbody>\n",
              "    <tr>\n",
              "      <th>850</th>\n",
              "      <td>132125</td>\n",
              "      <td>Mexican</td>\n",
              "      <td>South_American</td>\n",
              "    </tr>\n",
              "    <tr>\n",
              "      <th>120</th>\n",
              "      <td>134983</td>\n",
              "      <td>Bar_Pub_Brewery</td>\n",
              "      <td>Bar</td>\n",
              "    </tr>\n",
              "    <tr>\n",
              "      <th>27</th>\n",
              "      <td>135097</td>\n",
              "      <td>Cafe-Coffee_Shop</td>\n",
              "      <td>Cafeteria</td>\n",
              "    </tr>\n",
              "    <tr>\n",
              "      <th>580</th>\n",
              "      <td>132464</td>\n",
              "      <td>German</td>\n",
              "      <td>European</td>\n",
              "    </tr>\n",
              "    <tr>\n",
              "      <th>425</th>\n",
              "      <td>132674</td>\n",
              "      <td>American</td>\n",
              "      <td>American</td>\n",
              "    </tr>\n",
              "  </tbody>\n",
              "</table>\n",
              "</div>"
            ],
            "text/plain": [
              "     placeID          Rcuisine   Rcuisine_Type\n",
              "850   132125           Mexican  South_American\n",
              "120   134983   Bar_Pub_Brewery             Bar\n",
              "27    135097  Cafe-Coffee_Shop       Cafeteria\n",
              "580   132464            German        European\n",
              "425   132674          American        American"
            ]
          },
          "metadata": {
            "tags": []
          },
          "execution_count": 14
        }
      ]
    },
    {
      "metadata": {
        "id": "OnWOVoOHVG3K",
        "colab_type": "text"
      },
      "cell_type": "markdown",
      "source": [
        "## chefmozhours4\n",
        "\n",
        "placeID: ID of the restaurant.\n",
        "\n",
        "hours: Hours that they open\n",
        "\n",
        "days Days that they open"
      ]
    },
    {
      "metadata": {
        "id": "5af3LfRYU9B3",
        "colab_type": "code",
        "colab": {
          "base_uri": "https://localhost:8080/",
          "height": 204
        },
        "outputId": "625c5af8-3aa7-42a8-a7d1-88c2f46d9d1e"
      },
      "cell_type": "code",
      "source": [
        "chefmozhours4.sample(5)"
      ],
      "execution_count": 15,
      "outputs": [
        {
          "output_type": "execute_result",
          "data": {
            "text/html": [
              "<div>\n",
              "<style scoped>\n",
              "    .dataframe tbody tr th:only-of-type {\n",
              "        vertical-align: middle;\n",
              "    }\n",
              "\n",
              "    .dataframe tbody tr th {\n",
              "        vertical-align: top;\n",
              "    }\n",
              "\n",
              "    .dataframe thead th {\n",
              "        text-align: right;\n",
              "    }\n",
              "</style>\n",
              "<table border=\"1\" class=\"dataframe\">\n",
              "  <thead>\n",
              "    <tr style=\"text-align: right;\">\n",
              "      <th></th>\n",
              "      <th>placeID</th>\n",
              "      <th>hours</th>\n",
              "      <th>days</th>\n",
              "    </tr>\n",
              "  </thead>\n",
              "  <tbody>\n",
              "    <tr>\n",
              "      <th>475</th>\n",
              "      <td>133025</td>\n",
              "      <td>00:00-23:30;</td>\n",
              "      <td>Sat;</td>\n",
              "    </tr>\n",
              "    <tr>\n",
              "      <th>1607</th>\n",
              "      <td>132636</td>\n",
              "      <td>00:00-23:30;</td>\n",
              "      <td>Sun;</td>\n",
              "    </tr>\n",
              "    <tr>\n",
              "      <th>1577</th>\n",
              "      <td>132646</td>\n",
              "      <td>00:00-23:30;</td>\n",
              "      <td>Sun;</td>\n",
              "    </tr>\n",
              "    <tr>\n",
              "      <th>927</th>\n",
              "      <td>132867</td>\n",
              "      <td>08:00-22:30;</td>\n",
              "      <td>Mon;Tue;Wed;Thu;Fri;</td>\n",
              "    </tr>\n",
              "    <tr>\n",
              "      <th>180</th>\n",
              "      <td>135047</td>\n",
              "      <td>08:00-23:30;</td>\n",
              "      <td>Mon;Tue;Wed;Thu;Fri;</td>\n",
              "    </tr>\n",
              "  </tbody>\n",
              "</table>\n",
              "</div>"
            ],
            "text/plain": [
              "      placeID         hours                  days\n",
              "475    133025  00:00-23:30;                  Sat;\n",
              "1607   132636  00:00-23:30;                  Sun;\n",
              "1577   132646  00:00-23:30;                  Sun;\n",
              "927    132867  08:00-22:30;  Mon;Tue;Wed;Thu;Fri;\n",
              "180    135047  08:00-23:30;  Mon;Tue;Wed;Thu;Fri;"
            ]
          },
          "metadata": {
            "tags": []
          },
          "execution_count": 15
        }
      ]
    },
    {
      "metadata": {
        "id": "SAuLHpVyVIHM",
        "colab_type": "code",
        "colab": {
          "base_uri": "https://localhost:8080/",
          "height": 34
        },
        "outputId": "e72cdcd9-cddc-4a4f-cfdd-e31d12b987fe"
      },
      "cell_type": "code",
      "source": [
        "chefmozhours4['days'].unique()"
      ],
      "execution_count": 16,
      "outputs": [
        {
          "output_type": "execute_result",
          "data": {
            "text/plain": [
              "array(['Mon;Tue;Wed;Thu;Fri;', 'Sat;', 'Sun;'], dtype=object)"
            ]
          },
          "metadata": {
            "tags": []
          },
          "execution_count": 16
        }
      ]
    },
    {
      "metadata": {
        "id": "E05G6FEJVmKR",
        "colab_type": "code",
        "colab": {}
      },
      "cell_type": "code",
      "source": [
        "chefmozhours4['days'] = chefmozhours4['days'].replace(['Mon;Tue;Wed;Thu;Fri;'],'Diary_Days')"
      ],
      "execution_count": 0,
      "outputs": []
    },
    {
      "metadata": {
        "id": "Zw0r7rhhV1-R",
        "colab_type": "code",
        "colab": {
          "base_uri": "https://localhost:8080/",
          "height": 34
        },
        "outputId": "39214033-9841-4189-e736-3b72c2187416"
      },
      "cell_type": "code",
      "source": [
        "chefmozhours4['days'].unique()"
      ],
      "execution_count": 18,
      "outputs": [
        {
          "output_type": "execute_result",
          "data": {
            "text/plain": [
              "array(['Diary_Days', 'Sat;', 'Sun;'], dtype=object)"
            ]
          },
          "metadata": {
            "tags": []
          },
          "execution_count": 18
        }
      ]
    },
    {
      "metadata": {
        "id": "8oiuYuu9WCn1",
        "colab_type": "text"
      },
      "cell_type": "markdown",
      "source": [
        "## chefmozparking\n",
        "\n",
        "placeID:  ID of the restaurant.\n",
        "\n",
        "parking_lot: The type of parking that they has"
      ]
    },
    {
      "metadata": {
        "id": "DEWcEdehV23Y",
        "colab_type": "code",
        "colab": {
          "base_uri": "https://localhost:8080/",
          "height": 359
        },
        "outputId": "c5475451-1a77-4e75-d731-102963d96add"
      },
      "cell_type": "code",
      "source": [
        "chefmozparking.sample(10)"
      ],
      "execution_count": 19,
      "outputs": [
        {
          "output_type": "execute_result",
          "data": {
            "text/html": [
              "<div>\n",
              "<style scoped>\n",
              "    .dataframe tbody tr th:only-of-type {\n",
              "        vertical-align: middle;\n",
              "    }\n",
              "\n",
              "    .dataframe tbody tr th {\n",
              "        vertical-align: top;\n",
              "    }\n",
              "\n",
              "    .dataframe thead th {\n",
              "        text-align: right;\n",
              "    }\n",
              "</style>\n",
              "<table border=\"1\" class=\"dataframe\">\n",
              "  <thead>\n",
              "    <tr style=\"text-align: right;\">\n",
              "      <th></th>\n",
              "      <th>placeID</th>\n",
              "      <th>parking_lot</th>\n",
              "    </tr>\n",
              "  </thead>\n",
              "  <tbody>\n",
              "    <tr>\n",
              "      <th>392</th>\n",
              "      <td>132783</td>\n",
              "      <td>valet parking</td>\n",
              "    </tr>\n",
              "    <tr>\n",
              "      <th>511</th>\n",
              "      <td>132664</td>\n",
              "      <td>none</td>\n",
              "    </tr>\n",
              "    <tr>\n",
              "      <th>261</th>\n",
              "      <td>132916</td>\n",
              "      <td>none</td>\n",
              "    </tr>\n",
              "    <tr>\n",
              "      <th>42</th>\n",
              "      <td>135065</td>\n",
              "      <td>none</td>\n",
              "    </tr>\n",
              "    <tr>\n",
              "      <th>331</th>\n",
              "      <td>132846</td>\n",
              "      <td>none</td>\n",
              "    </tr>\n",
              "    <tr>\n",
              "      <th>333</th>\n",
              "      <td>132844</td>\n",
              "      <td>none</td>\n",
              "    </tr>\n",
              "    <tr>\n",
              "      <th>586</th>\n",
              "      <td>132588</td>\n",
              "      <td>public</td>\n",
              "    </tr>\n",
              "    <tr>\n",
              "      <th>687</th>\n",
              "      <td>132157</td>\n",
              "      <td>yes</td>\n",
              "    </tr>\n",
              "    <tr>\n",
              "      <th>538</th>\n",
              "      <td>132637</td>\n",
              "      <td>none</td>\n",
              "    </tr>\n",
              "    <tr>\n",
              "      <th>154</th>\n",
              "      <td>133030</td>\n",
              "      <td>none</td>\n",
              "    </tr>\n",
              "  </tbody>\n",
              "</table>\n",
              "</div>"
            ],
            "text/plain": [
              "     placeID    parking_lot\n",
              "392   132783  valet parking\n",
              "511   132664           none\n",
              "261   132916           none\n",
              "42    135065           none\n",
              "331   132846           none\n",
              "333   132844           none\n",
              "586   132588         public\n",
              "687   132157            yes\n",
              "538   132637           none\n",
              "154   133030           none"
            ]
          },
          "metadata": {
            "tags": []
          },
          "execution_count": 19
        }
      ]
    },
    {
      "metadata": {
        "id": "Z3jkpfWIWFJp",
        "colab_type": "code",
        "colab": {
          "base_uri": "https://localhost:8080/",
          "height": 51
        },
        "outputId": "4734a027-2c22-492f-b114-51f9cfa38f22"
      },
      "cell_type": "code",
      "source": [
        "chefmozparking['parking_lot'].unique()"
      ],
      "execution_count": 20,
      "outputs": [
        {
          "output_type": "execute_result",
          "data": {
            "text/plain": [
              "array(['public', 'none', 'yes', 'valet parking', 'fee', 'street',\n",
              "       'validated parking'], dtype=object)"
            ]
          },
          "metadata": {
            "tags": []
          },
          "execution_count": 20
        }
      ]
    },
    {
      "metadata": {
        "id": "mTtZrRPdY1UU",
        "colab_type": "code",
        "colab": {}
      },
      "cell_type": "code",
      "source": [
        "chefmozparking['parking'] = chefmozparking['parking_lot']\n",
        "chefmozparking['parking'] = chefmozparking['parking'].replace(['yes','public', 'valet parking','validated parking','fee'], 'yes')\n",
        "chefmozparking['parking'] = chefmozparking['parking'].replace(['none','street'], 'yes')"
      ],
      "execution_count": 0,
      "outputs": []
    },
    {
      "metadata": {
        "id": "LRa7Mjgj7WEN",
        "colab_type": "text"
      },
      "cell_type": "markdown",
      "source": [
        "## geoplaces2\n",
        "\n",
        "placeID: ID of the restaurant.\n",
        "\n",
        "latitude and longitude: The location of the restaurant\n",
        "\n",
        "the_geom_meter:\n",
        "\n",
        "name: Name of the restaurant\n",
        "\n",
        "address: The Address of the Restaurant\n",
        "\n",
        "city: City\n",
        "\n",
        "state: State\n",
        "\n",
        "country: Country\n",
        "\n",
        "fax: ?\n",
        "\n",
        "zip: The ZIP of the restaurant (CP in Spain)\n",
        "\n",
        "alcohol: Type of alcohol that they serve\n",
        "\n",
        "smoking_area: If they have a smoke zone\n",
        "\n",
        "dress_code: If they has dress code or not\n",
        "\n",
        "accessibility: I think it was if the restaurant have handicapped access\n",
        "\n",
        "price: what type of price has the restaurant\n",
        "\n",
        "url: web url\n",
        "\n",
        "Rambience: ambience (familiar, quiet, noisy, etc)\n",
        "\n",
        "franchise: if the restaurant is or not a franchise\n",
        "\n",
        "area:\n",
        "\n",
        "other_services:"
      ]
    },
    {
      "metadata": {
        "id": "NEhbppmOZfPW",
        "colab_type": "code",
        "colab": {
          "base_uri": "https://localhost:8080/",
          "height": 406
        },
        "outputId": "63091d05-0997-4f85-bd70-cc84d4bdad67"
      },
      "cell_type": "code",
      "source": [
        "geoplaces2.sample(5)"
      ],
      "execution_count": 22,
      "outputs": [
        {
          "output_type": "execute_result",
          "data": {
            "text/html": [
              "<div>\n",
              "<style scoped>\n",
              "    .dataframe tbody tr th:only-of-type {\n",
              "        vertical-align: middle;\n",
              "    }\n",
              "\n",
              "    .dataframe tbody tr th {\n",
              "        vertical-align: top;\n",
              "    }\n",
              "\n",
              "    .dataframe thead th {\n",
              "        text-align: right;\n",
              "    }\n",
              "</style>\n",
              "<table border=\"1\" class=\"dataframe\">\n",
              "  <thead>\n",
              "    <tr style=\"text-align: right;\">\n",
              "      <th></th>\n",
              "      <th>placeID</th>\n",
              "      <th>latitude</th>\n",
              "      <th>longitude</th>\n",
              "      <th>the_geom_meter</th>\n",
              "      <th>name</th>\n",
              "      <th>address</th>\n",
              "      <th>city</th>\n",
              "      <th>state</th>\n",
              "      <th>country</th>\n",
              "      <th>fax</th>\n",
              "      <th>...</th>\n",
              "      <th>alcohol</th>\n",
              "      <th>smoking_area</th>\n",
              "      <th>dress_code</th>\n",
              "      <th>accessibility</th>\n",
              "      <th>price</th>\n",
              "      <th>url</th>\n",
              "      <th>Rambience</th>\n",
              "      <th>franchise</th>\n",
              "      <th>area</th>\n",
              "      <th>other_services</th>\n",
              "    </tr>\n",
              "  </thead>\n",
              "  <tbody>\n",
              "    <tr>\n",
              "      <th>111</th>\n",
              "      <td>132594</td>\n",
              "      <td>23.752168</td>\n",
              "      <td>-99.165709</td>\n",
              "      <td>0101000020957F00003AE4C6DBF48157C1CE38ECC1864E...</td>\n",
              "      <td>tacos de barbacoa enfrente del Tec</td>\n",
              "      <td>?</td>\n",
              "      <td>?</td>\n",
              "      <td>?</td>\n",
              "      <td>?</td>\n",
              "      <td>?</td>\n",
              "      <td>...</td>\n",
              "      <td>No_Alcohol_Served</td>\n",
              "      <td>not permitted</td>\n",
              "      <td>informal</td>\n",
              "      <td>completely</td>\n",
              "      <td>low</td>\n",
              "      <td>?</td>\n",
              "      <td>familiar</td>\n",
              "      <td>f</td>\n",
              "      <td>open</td>\n",
              "      <td>none</td>\n",
              "    </tr>\n",
              "    <tr>\n",
              "      <th>120</th>\n",
              "      <td>135028</td>\n",
              "      <td>22.146658</td>\n",
              "      <td>-100.987219</td>\n",
              "      <td>0101000020957F0000B4F00BDD8B4858C10AC3619C83A6...</td>\n",
              "      <td>La Virreina</td>\n",
              "      <td>Av. Carranza 830</td>\n",
              "      <td>San Luis Potosi</td>\n",
              "      <td>SLP</td>\n",
              "      <td>Mexico</td>\n",
              "      <td>?</td>\n",
              "      <td>...</td>\n",
              "      <td>Wine-Beer</td>\n",
              "      <td>none</td>\n",
              "      <td>informal</td>\n",
              "      <td>no_accessibility</td>\n",
              "      <td>medium</td>\n",
              "      <td>?</td>\n",
              "      <td>familiar</td>\n",
              "      <td>f</td>\n",
              "      <td>closed</td>\n",
              "      <td>none</td>\n",
              "    </tr>\n",
              "    <tr>\n",
              "      <th>82</th>\n",
              "      <td>135048</td>\n",
              "      <td>22.142017</td>\n",
              "      <td>-100.999246</td>\n",
              "      <td>0101000020957F00008032636EEC4858C16CDF265038AA...</td>\n",
              "      <td>Restaurante Bar Fu-hao</td>\n",
              "      <td>Jesus Goytortua 390 Tangamanga</td>\n",
              "      <td>San Luis Potosi</td>\n",
              "      <td>SLP</td>\n",
              "      <td>Mexico</td>\n",
              "      <td>?</td>\n",
              "      <td>...</td>\n",
              "      <td>Wine-Beer</td>\n",
              "      <td>none</td>\n",
              "      <td>informal</td>\n",
              "      <td>no_accessibility</td>\n",
              "      <td>high</td>\n",
              "      <td>?</td>\n",
              "      <td>familiar</td>\n",
              "      <td>f</td>\n",
              "      <td>closed</td>\n",
              "      <td>none</td>\n",
              "    </tr>\n",
              "    <tr>\n",
              "      <th>38</th>\n",
              "      <td>134992</td>\n",
              "      <td>18.936683</td>\n",
              "      <td>-99.247366</td>\n",
              "      <td>0101000020957F0000FC799354656C5AC1233FCC70E758...</td>\n",
              "      <td>Restaurant Teely</td>\n",
              "      <td>La Pradera</td>\n",
              "      <td>Cuernavaca</td>\n",
              "      <td>Morelos</td>\n",
              "      <td>Mexico</td>\n",
              "      <td>?</td>\n",
              "      <td>...</td>\n",
              "      <td>Wine-Beer</td>\n",
              "      <td>section</td>\n",
              "      <td>casual</td>\n",
              "      <td>no_accessibility</td>\n",
              "      <td>high</td>\n",
              "      <td>?</td>\n",
              "      <td>familiar</td>\n",
              "      <td>f</td>\n",
              "      <td>closed</td>\n",
              "      <td>none</td>\n",
              "    </tr>\n",
              "    <tr>\n",
              "      <th>90</th>\n",
              "      <td>132872</td>\n",
              "      <td>22.173595</td>\n",
              "      <td>-100.994603</td>\n",
              "      <td>0101000020957F0000942C3434384458C1C2D3499804A7...</td>\n",
              "      <td>Pizzeria Julios</td>\n",
              "      <td>?</td>\n",
              "      <td>s.l.p</td>\n",
              "      <td>mexico</td>\n",
              "      <td>?</td>\n",
              "      <td>?</td>\n",
              "      <td>...</td>\n",
              "      <td>No_Alcohol_Served</td>\n",
              "      <td>not permitted</td>\n",
              "      <td>informal</td>\n",
              "      <td>partially</td>\n",
              "      <td>medium</td>\n",
              "      <td>?</td>\n",
              "      <td>familiar</td>\n",
              "      <td>f</td>\n",
              "      <td>closed</td>\n",
              "      <td>none</td>\n",
              "    </tr>\n",
              "  </tbody>\n",
              "</table>\n",
              "<p>5 rows × 21 columns</p>\n",
              "</div>"
            ],
            "text/plain": [
              "     placeID   latitude   longitude  \\\n",
              "111   132594  23.752168  -99.165709   \n",
              "120   135028  22.146658 -100.987219   \n",
              "82    135048  22.142017 -100.999246   \n",
              "38    134992  18.936683  -99.247366   \n",
              "90    132872  22.173595 -100.994603   \n",
              "\n",
              "                                        the_geom_meter  \\\n",
              "111  0101000020957F00003AE4C6DBF48157C1CE38ECC1864E...   \n",
              "120  0101000020957F0000B4F00BDD8B4858C10AC3619C83A6...   \n",
              "82   0101000020957F00008032636EEC4858C16CDF265038AA...   \n",
              "38   0101000020957F0000FC799354656C5AC1233FCC70E758...   \n",
              "90   0101000020957F0000942C3434384458C1C2D3499804A7...   \n",
              "\n",
              "                                   name                         address  \\\n",
              "111  tacos de barbacoa enfrente del Tec                               ?   \n",
              "120                         La Virreina                Av. Carranza 830   \n",
              "82               Restaurante Bar Fu-hao  Jesus Goytortua 390 Tangamanga   \n",
              "38                     Restaurant Teely                      La Pradera   \n",
              "90                      Pizzeria Julios                               ?   \n",
              "\n",
              "                city    state country fax      ...                  alcohol  \\\n",
              "111                ?        ?       ?   ?      ...        No_Alcohol_Served   \n",
              "120  San Luis Potosi      SLP  Mexico   ?      ...                Wine-Beer   \n",
              "82   San Luis Potosi      SLP  Mexico   ?      ...                Wine-Beer   \n",
              "38        Cuernavaca  Morelos  Mexico   ?      ...                Wine-Beer   \n",
              "90             s.l.p   mexico       ?   ?      ...        No_Alcohol_Served   \n",
              "\n",
              "      smoking_area dress_code     accessibility   price url Rambience  \\\n",
              "111  not permitted   informal        completely     low   ?  familiar   \n",
              "120           none   informal  no_accessibility  medium   ?  familiar   \n",
              "82            none   informal  no_accessibility    high   ?  familiar   \n",
              "38         section     casual  no_accessibility    high   ?  familiar   \n",
              "90   not permitted   informal         partially  medium   ?  familiar   \n",
              "\n",
              "    franchise    area other_services  \n",
              "111         f    open           none  \n",
              "120         f  closed           none  \n",
              "82          f  closed           none  \n",
              "38          f  closed           none  \n",
              "90          f  closed           none  \n",
              "\n",
              "[5 rows x 21 columns]"
            ]
          },
          "metadata": {
            "tags": []
          },
          "execution_count": 22
        }
      ]
    },
    {
      "metadata": {
        "id": "9Ekz6k107bcn",
        "colab_type": "code",
        "colab": {
          "base_uri": "https://localhost:8080/",
          "height": 102
        },
        "outputId": "01c733fb-5882-4d20-b921-34e56ad07d9e"
      },
      "cell_type": "code",
      "source": [
        "geoplaces2.columns"
      ],
      "execution_count": 23,
      "outputs": [
        {
          "output_type": "execute_result",
          "data": {
            "text/plain": [
              "Index(['placeID', 'latitude', 'longitude', 'the_geom_meter', 'name', 'address',\n",
              "       'city', 'state', 'country', 'fax', 'zip', 'alcohol', 'smoking_area',\n",
              "       'dress_code', 'accessibility', 'price', 'url', 'Rambience', 'franchise',\n",
              "       'area', 'other_services'],\n",
              "      dtype='object')"
            ]
          },
          "metadata": {
            "tags": []
          },
          "execution_count": 23
        }
      ]
    },
    {
      "metadata": {
        "id": "a_YsJLcs7kVQ",
        "colab_type": "code",
        "colab": {
          "base_uri": "https://localhost:8080/",
          "height": 34
        },
        "outputId": "516275a5-5f8b-494b-9b2d-b8b0fce75b2e"
      },
      "cell_type": "code",
      "source": [
        "geoplaces2['Rambience'].unique()"
      ],
      "execution_count": 24,
      "outputs": [
        {
          "output_type": "execute_result",
          "data": {
            "text/plain": [
              "array(['familiar', 'quiet'], dtype=object)"
            ]
          },
          "metadata": {
            "tags": []
          },
          "execution_count": 24
        }
      ]
    },
    {
      "metadata": {
        "id": "qVgtGPJXJ91q",
        "colab_type": "text"
      },
      "cell_type": "markdown",
      "source": [
        "## rating_final"
      ]
    },
    {
      "metadata": {
        "id": "xznDpB758mMb",
        "colab_type": "code",
        "colab": {
          "base_uri": "https://localhost:8080/",
          "height": 204
        },
        "outputId": "742a9e62-144a-4a82-c039-b0476f1e8128"
      },
      "cell_type": "code",
      "source": [
        "rating_final.head(5)"
      ],
      "execution_count": 25,
      "outputs": [
        {
          "output_type": "execute_result",
          "data": {
            "text/html": [
              "<div>\n",
              "<style scoped>\n",
              "    .dataframe tbody tr th:only-of-type {\n",
              "        vertical-align: middle;\n",
              "    }\n",
              "\n",
              "    .dataframe tbody tr th {\n",
              "        vertical-align: top;\n",
              "    }\n",
              "\n",
              "    .dataframe thead th {\n",
              "        text-align: right;\n",
              "    }\n",
              "</style>\n",
              "<table border=\"1\" class=\"dataframe\">\n",
              "  <thead>\n",
              "    <tr style=\"text-align: right;\">\n",
              "      <th></th>\n",
              "      <th>userID</th>\n",
              "      <th>placeID</th>\n",
              "      <th>rating</th>\n",
              "      <th>food_rating</th>\n",
              "      <th>service_rating</th>\n",
              "    </tr>\n",
              "  </thead>\n",
              "  <tbody>\n",
              "    <tr>\n",
              "      <th>0</th>\n",
              "      <td>U1077</td>\n",
              "      <td>135085</td>\n",
              "      <td>2</td>\n",
              "      <td>2</td>\n",
              "      <td>2</td>\n",
              "    </tr>\n",
              "    <tr>\n",
              "      <th>1</th>\n",
              "      <td>U1077</td>\n",
              "      <td>135038</td>\n",
              "      <td>2</td>\n",
              "      <td>2</td>\n",
              "      <td>1</td>\n",
              "    </tr>\n",
              "    <tr>\n",
              "      <th>2</th>\n",
              "      <td>U1077</td>\n",
              "      <td>132825</td>\n",
              "      <td>2</td>\n",
              "      <td>2</td>\n",
              "      <td>2</td>\n",
              "    </tr>\n",
              "    <tr>\n",
              "      <th>3</th>\n",
              "      <td>U1077</td>\n",
              "      <td>135060</td>\n",
              "      <td>1</td>\n",
              "      <td>2</td>\n",
              "      <td>2</td>\n",
              "    </tr>\n",
              "    <tr>\n",
              "      <th>4</th>\n",
              "      <td>U1068</td>\n",
              "      <td>135104</td>\n",
              "      <td>1</td>\n",
              "      <td>1</td>\n",
              "      <td>2</td>\n",
              "    </tr>\n",
              "  </tbody>\n",
              "</table>\n",
              "</div>"
            ],
            "text/plain": [
              "  userID  placeID  rating  food_rating  service_rating\n",
              "0  U1077   135085       2            2               2\n",
              "1  U1077   135038       2            2               1\n",
              "2  U1077   132825       2            2               2\n",
              "3  U1077   135060       1            2               2\n",
              "4  U1068   135104       1            1               2"
            ]
          },
          "metadata": {
            "tags": []
          },
          "execution_count": 25
        }
      ]
    },
    {
      "metadata": {
        "id": "aUTZosyoq9oP",
        "colab_type": "code",
        "colab": {}
      },
      "cell_type": "code",
      "source": [
        "rating_final['goodRating?'] = np.nan\n",
        "rating_final['ratingMean'] = 0.00"
      ],
      "execution_count": 0,
      "outputs": []
    },
    {
      "metadata": {
        "id": "n5e-Qwy5KBAY",
        "colab_type": "code",
        "colab": {
          "base_uri": "https://localhost:8080/",
          "height": 187
        },
        "outputId": "25bd1c44-0009-4569-8920-9b82a5a70d38"
      },
      "cell_type": "code",
      "source": [
        "import math\n",
        "for i in range(len(rating_final)):\n",
        "    sumarating = [rating_final['food_rating'][i],rating_final['service_rating'][i]]\n",
        "    sumaratingMean = np.mean(sumarating)\n",
        "    sumaratingRound = math.ceil(sumaratingMean)\n",
        "    \n",
        "    rating_final['goodRating?'][i] = rating_final['rating'][i]==sumaratingRound\n",
        "    rating_final['ratingMean'][i] = sumaratingMean"
      ],
      "execution_count": 52,
      "outputs": [
        {
          "output_type": "stream",
          "text": [
            "/usr/local/lib/python3.6/dist-packages/ipykernel_launcher.py:7: SettingWithCopyWarning: \n",
            "A value is trying to be set on a copy of a slice from a DataFrame\n",
            "\n",
            "See the caveats in the documentation: http://pandas.pydata.org/pandas-docs/stable/indexing.html#indexing-view-versus-copy\n",
            "  import sys\n",
            "/usr/local/lib/python3.6/dist-packages/ipykernel_launcher.py:8: SettingWithCopyWarning: \n",
            "A value is trying to be set on a copy of a slice from a DataFrame\n",
            "\n",
            "See the caveats in the documentation: http://pandas.pydata.org/pandas-docs/stable/indexing.html#indexing-view-versus-copy\n",
            "  \n"
          ],
          "name": "stderr"
        }
      ]
    },
    {
      "metadata": {
        "id": "lhEcyEtUJb3s",
        "colab_type": "code",
        "colab": {
          "base_uri": "https://localhost:8080/",
          "height": 204
        },
        "outputId": "211f44c1-73ef-448f-d03d-31397a2ff9a4"
      },
      "cell_type": "code",
      "source": [
        "rating_final[rating_final['goodRating?']==False].head()"
      ],
      "execution_count": 48,
      "outputs": [
        {
          "output_type": "execute_result",
          "data": {
            "text/html": [
              "<div>\n",
              "<style scoped>\n",
              "    .dataframe tbody tr th:only-of-type {\n",
              "        vertical-align: middle;\n",
              "    }\n",
              "\n",
              "    .dataframe tbody tr th {\n",
              "        vertical-align: top;\n",
              "    }\n",
              "\n",
              "    .dataframe thead th {\n",
              "        text-align: right;\n",
              "    }\n",
              "</style>\n",
              "<table border=\"1\" class=\"dataframe\">\n",
              "  <thead>\n",
              "    <tr style=\"text-align: right;\">\n",
              "      <th></th>\n",
              "      <th>userID</th>\n",
              "      <th>placeID</th>\n",
              "      <th>rating</th>\n",
              "      <th>food_rating</th>\n",
              "      <th>service_rating</th>\n",
              "      <th>goodRating?</th>\n",
              "      <th>ratingMean</th>\n",
              "    </tr>\n",
              "  </thead>\n",
              "  <tbody>\n",
              "    <tr>\n",
              "      <th>3</th>\n",
              "      <td>U1077</td>\n",
              "      <td>135060</td>\n",
              "      <td>1</td>\n",
              "      <td>2</td>\n",
              "      <td>2</td>\n",
              "      <td>False</td>\n",
              "      <td>2.0</td>\n",
              "    </tr>\n",
              "    <tr>\n",
              "      <th>4</th>\n",
              "      <td>U1068</td>\n",
              "      <td>135104</td>\n",
              "      <td>1</td>\n",
              "      <td>1</td>\n",
              "      <td>2</td>\n",
              "      <td>False</td>\n",
              "      <td>1.5</td>\n",
              "    </tr>\n",
              "    <tr>\n",
              "      <th>11</th>\n",
              "      <td>U1067</td>\n",
              "      <td>132732</td>\n",
              "      <td>1</td>\n",
              "      <td>2</td>\n",
              "      <td>2</td>\n",
              "      <td>False</td>\n",
              "      <td>2.0</td>\n",
              "    </tr>\n",
              "    <tr>\n",
              "      <th>14</th>\n",
              "      <td>U1067</td>\n",
              "      <td>132560</td>\n",
              "      <td>1</td>\n",
              "      <td>0</td>\n",
              "      <td>0</td>\n",
              "      <td>False</td>\n",
              "      <td>0.0</td>\n",
              "    </tr>\n",
              "    <tr>\n",
              "      <th>15</th>\n",
              "      <td>U1103</td>\n",
              "      <td>132584</td>\n",
              "      <td>1</td>\n",
              "      <td>2</td>\n",
              "      <td>1</td>\n",
              "      <td>False</td>\n",
              "      <td>1.5</td>\n",
              "    </tr>\n",
              "  </tbody>\n",
              "</table>\n",
              "</div>"
            ],
            "text/plain": [
              "   userID  placeID  rating  food_rating  service_rating goodRating?  \\\n",
              "3   U1077   135060       1            2               2       False   \n",
              "4   U1068   135104       1            1               2       False   \n",
              "11  U1067   132732       1            2               2       False   \n",
              "14  U1067   132560       1            0               0       False   \n",
              "15  U1103   132584       1            2               1       False   \n",
              "\n",
              "    ratingMean  \n",
              "3          2.0  \n",
              "4          1.5  \n",
              "11         2.0  \n",
              "14         0.0  \n",
              "15         1.5  "
            ]
          },
          "metadata": {
            "tags": []
          },
          "execution_count": 48
        }
      ]
    },
    {
      "metadata": {
        "id": "TlIegOTDJouz",
        "colab_type": "code",
        "colab": {}
      },
      "cell_type": "code",
      "source": [
        "rating_final[rating_final['goodRating?']==False]"
      ],
      "execution_count": 0,
      "outputs": []
    },
    {
      "metadata": {
        "id": "JwisvtmzKVyg",
        "colab_type": "text"
      },
      "cell_type": "markdown",
      "source": [
        " ## usercuisine"
      ]
    },
    {
      "metadata": {
        "id": "L7PLHvJJKYN4",
        "colab_type": "code",
        "colab": {
          "base_uri": "https://localhost:8080/",
          "height": 204
        },
        "outputId": "aa002d6d-c3ec-4380-a734-2d906193b12f"
      },
      "cell_type": "code",
      "source": [
        "usercuisine.sample(5)"
      ],
      "execution_count": 28,
      "outputs": [
        {
          "output_type": "execute_result",
          "data": {
            "text/html": [
              "<div>\n",
              "<style scoped>\n",
              "    .dataframe tbody tr th:only-of-type {\n",
              "        vertical-align: middle;\n",
              "    }\n",
              "\n",
              "    .dataframe tbody tr th {\n",
              "        vertical-align: top;\n",
              "    }\n",
              "\n",
              "    .dataframe thead th {\n",
              "        text-align: right;\n",
              "    }\n",
              "</style>\n",
              "<table border=\"1\" class=\"dataframe\">\n",
              "  <thead>\n",
              "    <tr style=\"text-align: right;\">\n",
              "      <th></th>\n",
              "      <th>userID</th>\n",
              "      <th>Rcuisine</th>\n",
              "    </tr>\n",
              "  </thead>\n",
              "  <tbody>\n",
              "    <tr>\n",
              "      <th>309</th>\n",
              "      <td>U1135</td>\n",
              "      <td>Southeast_Asian</td>\n",
              "    </tr>\n",
              "    <tr>\n",
              "      <th>217</th>\n",
              "      <td>U1128</td>\n",
              "      <td>Mexican</td>\n",
              "    </tr>\n",
              "    <tr>\n",
              "      <th>227</th>\n",
              "      <td>U1135</td>\n",
              "      <td>Mediterranean</td>\n",
              "    </tr>\n",
              "    <tr>\n",
              "      <th>254</th>\n",
              "      <td>U1135</td>\n",
              "      <td>Irish</td>\n",
              "    </tr>\n",
              "    <tr>\n",
              "      <th>229</th>\n",
              "      <td>U1135</td>\n",
              "      <td>Austrian</td>\n",
              "    </tr>\n",
              "  </tbody>\n",
              "</table>\n",
              "</div>"
            ],
            "text/plain": [
              "    userID         Rcuisine\n",
              "309  U1135  Southeast_Asian\n",
              "217  U1128          Mexican\n",
              "227  U1135    Mediterranean\n",
              "254  U1135            Irish\n",
              "229  U1135         Austrian"
            ]
          },
          "metadata": {
            "tags": []
          },
          "execution_count": 28
        }
      ]
    },
    {
      "metadata": {
        "id": "novgICJtKZZp",
        "colab_type": "code",
        "colab": {}
      },
      "cell_type": "code",
      "source": [
        ""
      ],
      "execution_count": 0,
      "outputs": []
    },
    {
      "metadata": {
        "id": "fP2Q9AkLKmcr",
        "colab_type": "text"
      },
      "cell_type": "markdown",
      "source": [
        "## userpayment"
      ]
    },
    {
      "metadata": {
        "id": "8PkHPFhCKnqp",
        "colab_type": "code",
        "colab": {
          "base_uri": "https://localhost:8080/",
          "height": 204
        },
        "outputId": "58c9d3c1-2d63-4d8b-fde7-233db287806a"
      },
      "cell_type": "code",
      "source": [
        "userpayment.sample(5)"
      ],
      "execution_count": 29,
      "outputs": [
        {
          "output_type": "execute_result",
          "data": {
            "text/html": [
              "<div>\n",
              "<style scoped>\n",
              "    .dataframe tbody tr th:only-of-type {\n",
              "        vertical-align: middle;\n",
              "    }\n",
              "\n",
              "    .dataframe tbody tr th {\n",
              "        vertical-align: top;\n",
              "    }\n",
              "\n",
              "    .dataframe thead th {\n",
              "        text-align: right;\n",
              "    }\n",
              "</style>\n",
              "<table border=\"1\" class=\"dataframe\">\n",
              "  <thead>\n",
              "    <tr style=\"text-align: right;\">\n",
              "      <th></th>\n",
              "      <th>userID</th>\n",
              "      <th>Upayment</th>\n",
              "    </tr>\n",
              "  </thead>\n",
              "  <tbody>\n",
              "    <tr>\n",
              "      <th>84</th>\n",
              "      <td>U1068</td>\n",
              "      <td>cash</td>\n",
              "    </tr>\n",
              "    <tr>\n",
              "      <th>32</th>\n",
              "      <td>U1029</td>\n",
              "      <td>cash</td>\n",
              "    </tr>\n",
              "    <tr>\n",
              "      <th>89</th>\n",
              "      <td>U1072</td>\n",
              "      <td>bank_debit_cards</td>\n",
              "    </tr>\n",
              "    <tr>\n",
              "      <th>33</th>\n",
              "      <td>U1030</td>\n",
              "      <td>cash</td>\n",
              "    </tr>\n",
              "    <tr>\n",
              "      <th>5</th>\n",
              "      <td>U1005</td>\n",
              "      <td>cash</td>\n",
              "    </tr>\n",
              "  </tbody>\n",
              "</table>\n",
              "</div>"
            ],
            "text/plain": [
              "   userID          Upayment\n",
              "84  U1068              cash\n",
              "32  U1029              cash\n",
              "89  U1072  bank_debit_cards\n",
              "33  U1030              cash\n",
              "5   U1005              cash"
            ]
          },
          "metadata": {
            "tags": []
          },
          "execution_count": 29
        }
      ]
    },
    {
      "metadata": {
        "id": "6MgS2_W8Kowq",
        "colab_type": "code",
        "colab": {}
      },
      "cell_type": "code",
      "source": [
        ""
      ],
      "execution_count": 0,
      "outputs": []
    },
    {
      "metadata": {
        "id": "5Zu4zjPYKu_a",
        "colab_type": "text"
      },
      "cell_type": "markdown",
      "source": [
        "## userprofile"
      ]
    },
    {
      "metadata": {
        "id": "4zp_lIWQKwAK",
        "colab_type": "code",
        "colab": {
          "base_uri": "https://localhost:8080/",
          "height": 275
        },
        "outputId": "cb7e6354-7085-46dd-8d9e-97975ad46a55"
      },
      "cell_type": "code",
      "source": [
        "userprofile.sample(5)"
      ],
      "execution_count": 30,
      "outputs": [
        {
          "output_type": "execute_result",
          "data": {
            "text/html": [
              "<div>\n",
              "<style scoped>\n",
              "    .dataframe tbody tr th:only-of-type {\n",
              "        vertical-align: middle;\n",
              "    }\n",
              "\n",
              "    .dataframe tbody tr th {\n",
              "        vertical-align: top;\n",
              "    }\n",
              "\n",
              "    .dataframe thead th {\n",
              "        text-align: right;\n",
              "    }\n",
              "</style>\n",
              "<table border=\"1\" class=\"dataframe\">\n",
              "  <thead>\n",
              "    <tr style=\"text-align: right;\">\n",
              "      <th></th>\n",
              "      <th>userID</th>\n",
              "      <th>latitude</th>\n",
              "      <th>longitude</th>\n",
              "      <th>smoker</th>\n",
              "      <th>drink_level</th>\n",
              "      <th>dress_preference</th>\n",
              "      <th>ambience</th>\n",
              "      <th>transport</th>\n",
              "      <th>marital_status</th>\n",
              "      <th>hijos</th>\n",
              "      <th>birth_year</th>\n",
              "      <th>interest</th>\n",
              "      <th>personality</th>\n",
              "      <th>religion</th>\n",
              "      <th>activity</th>\n",
              "      <th>color</th>\n",
              "      <th>weight</th>\n",
              "      <th>budget</th>\n",
              "      <th>height</th>\n",
              "    </tr>\n",
              "  </thead>\n",
              "  <tbody>\n",
              "    <tr>\n",
              "      <th>122</th>\n",
              "      <td>U1123</td>\n",
              "      <td>23.753112</td>\n",
              "      <td>-99.168567</td>\n",
              "      <td>false</td>\n",
              "      <td>abstemious</td>\n",
              "      <td>informal</td>\n",
              "      <td>family</td>\n",
              "      <td>?</td>\n",
              "      <td>single</td>\n",
              "      <td>independent</td>\n",
              "      <td>1987</td>\n",
              "      <td>technology</td>\n",
              "      <td>hard-worker</td>\n",
              "      <td>Catholic</td>\n",
              "      <td>student</td>\n",
              "      <td>green</td>\n",
              "      <td>110</td>\n",
              "      <td>medium</td>\n",
              "      <td>1.75</td>\n",
              "    </tr>\n",
              "    <tr>\n",
              "      <th>33</th>\n",
              "      <td>U1034</td>\n",
              "      <td>22.137178</td>\n",
              "      <td>-101.013169</td>\n",
              "      <td>false</td>\n",
              "      <td>casual drinker</td>\n",
              "      <td>informal</td>\n",
              "      <td>family</td>\n",
              "      <td>public</td>\n",
              "      <td>single</td>\n",
              "      <td>independent</td>\n",
              "      <td>1990</td>\n",
              "      <td>technology</td>\n",
              "      <td>thrifty-protector</td>\n",
              "      <td>Catholic</td>\n",
              "      <td>student</td>\n",
              "      <td>yellow</td>\n",
              "      <td>50</td>\n",
              "      <td>medium</td>\n",
              "      <td>1.58</td>\n",
              "    </tr>\n",
              "    <tr>\n",
              "      <th>102</th>\n",
              "      <td>U1103</td>\n",
              "      <td>23.752265</td>\n",
              "      <td>-99.168590</td>\n",
              "      <td>false</td>\n",
              "      <td>abstemious</td>\n",
              "      <td>formal</td>\n",
              "      <td>friends</td>\n",
              "      <td>public</td>\n",
              "      <td>single</td>\n",
              "      <td>independent</td>\n",
              "      <td>1989</td>\n",
              "      <td>technology</td>\n",
              "      <td>hard-worker</td>\n",
              "      <td>Jewish</td>\n",
              "      <td>professional</td>\n",
              "      <td>green</td>\n",
              "      <td>120</td>\n",
              "      <td>medium</td>\n",
              "      <td>1.90</td>\n",
              "    </tr>\n",
              "    <tr>\n",
              "      <th>11</th>\n",
              "      <td>U1012</td>\n",
              "      <td>18.813348</td>\n",
              "      <td>-99.243697</td>\n",
              "      <td>false</td>\n",
              "      <td>casual drinker</td>\n",
              "      <td>formal</td>\n",
              "      <td>family</td>\n",
              "      <td>public</td>\n",
              "      <td>single</td>\n",
              "      <td>independent</td>\n",
              "      <td>1988</td>\n",
              "      <td>technology</td>\n",
              "      <td>hard-worker</td>\n",
              "      <td>Catholic</td>\n",
              "      <td>student</td>\n",
              "      <td>red</td>\n",
              "      <td>98</td>\n",
              "      <td>medium</td>\n",
              "      <td>1.84</td>\n",
              "    </tr>\n",
              "    <tr>\n",
              "      <th>99</th>\n",
              "      <td>U1100</td>\n",
              "      <td>18.879729</td>\n",
              "      <td>-99.067106</td>\n",
              "      <td>false</td>\n",
              "      <td>casual drinker</td>\n",
              "      <td>formal</td>\n",
              "      <td>friends</td>\n",
              "      <td>public</td>\n",
              "      <td>single</td>\n",
              "      <td>independent</td>\n",
              "      <td>1990</td>\n",
              "      <td>eco-friendly</td>\n",
              "      <td>hard-worker</td>\n",
              "      <td>Christian</td>\n",
              "      <td>student</td>\n",
              "      <td>black</td>\n",
              "      <td>40</td>\n",
              "      <td>medium</td>\n",
              "      <td>1.65</td>\n",
              "    </tr>\n",
              "  </tbody>\n",
              "</table>\n",
              "</div>"
            ],
            "text/plain": [
              "    userID   latitude   longitude smoker     drink_level dress_preference  \\\n",
              "122  U1123  23.753112  -99.168567  false      abstemious         informal   \n",
              "33   U1034  22.137178 -101.013169  false  casual drinker         informal   \n",
              "102  U1103  23.752265  -99.168590  false      abstemious           formal   \n",
              "11   U1012  18.813348  -99.243697  false  casual drinker           formal   \n",
              "99   U1100  18.879729  -99.067106  false  casual drinker           formal   \n",
              "\n",
              "    ambience transport marital_status        hijos  birth_year      interest  \\\n",
              "122   family         ?         single  independent        1987    technology   \n",
              "33    family    public         single  independent        1990    technology   \n",
              "102  friends    public         single  independent        1989    technology   \n",
              "11    family    public         single  independent        1988    technology   \n",
              "99   friends    public         single  independent        1990  eco-friendly   \n",
              "\n",
              "           personality   religion      activity   color  weight  budget  \\\n",
              "122        hard-worker   Catholic       student   green     110  medium   \n",
              "33   thrifty-protector   Catholic       student  yellow      50  medium   \n",
              "102        hard-worker     Jewish  professional   green     120  medium   \n",
              "11         hard-worker   Catholic       student     red      98  medium   \n",
              "99         hard-worker  Christian       student   black      40  medium   \n",
              "\n",
              "     height  \n",
              "122    1.75  \n",
              "33     1.58  \n",
              "102    1.90  \n",
              "11     1.84  \n",
              "99     1.65  "
            ]
          },
          "metadata": {
            "tags": []
          },
          "execution_count": 30
        }
      ]
    },
    {
      "metadata": {
        "id": "KIE-7gKNKxLB",
        "colab_type": "code",
        "colab": {
          "base_uri": "https://localhost:8080/",
          "height": 34
        },
        "outputId": "c2129904-6724-41c8-9d10-e118adeaef26"
      },
      "cell_type": "code",
      "source": [
        "userprofile['hijos'].unique()"
      ],
      "execution_count": 31,
      "outputs": [
        {
          "output_type": "execute_result",
          "data": {
            "text/plain": [
              "array(['independent', 'kids', '?', 'dependent'], dtype=object)"
            ]
          },
          "metadata": {
            "tags": []
          },
          "execution_count": 31
        }
      ]
    },
    {
      "metadata": {
        "id": "AkNjVPTyZGMn",
        "colab_type": "code",
        "colab": {
          "base_uri": "https://localhost:8080/",
          "height": 287
        },
        "outputId": "4bbd0fd8-fd01-448d-eb4e-518a820e5b97"
      },
      "cell_type": "code",
      "source": [
        "## We can join all data table of user, to do a fullUserInformation, with this maybe we can see all table better.\n",
        "fullUserInformation = userprofile.merge(userpayment, on = 'userID', how ='left')\n",
        "fullUserInformation = fullUserInformation.merge(usercuisine,on='userID', how = 'left')\n",
        "fullUserInformation = fullUserInformation.merge(rating_final,on='userID', how = 'left')\n",
        "fullUserInformation.sample(5)"
      ],
      "execution_count": 32,
      "outputs": [
        {
          "output_type": "execute_result",
          "data": {
            "text/html": [
              "<div>\n",
              "<style scoped>\n",
              "    .dataframe tbody tr th:only-of-type {\n",
              "        vertical-align: middle;\n",
              "    }\n",
              "\n",
              "    .dataframe tbody tr th {\n",
              "        vertical-align: top;\n",
              "    }\n",
              "\n",
              "    .dataframe thead th {\n",
              "        text-align: right;\n",
              "    }\n",
              "</style>\n",
              "<table border=\"1\" class=\"dataframe\">\n",
              "  <thead>\n",
              "    <tr style=\"text-align: right;\">\n",
              "      <th></th>\n",
              "      <th>userID</th>\n",
              "      <th>latitude</th>\n",
              "      <th>longitude</th>\n",
              "      <th>smoker</th>\n",
              "      <th>drink_level</th>\n",
              "      <th>dress_preference</th>\n",
              "      <th>ambience</th>\n",
              "      <th>transport</th>\n",
              "      <th>marital_status</th>\n",
              "      <th>hijos</th>\n",
              "      <th>...</th>\n",
              "      <th>budget</th>\n",
              "      <th>height</th>\n",
              "      <th>Upayment</th>\n",
              "      <th>Rcuisine</th>\n",
              "      <th>placeID</th>\n",
              "      <th>rating</th>\n",
              "      <th>food_rating</th>\n",
              "      <th>service_rating</th>\n",
              "      <th>goodRating?</th>\n",
              "      <th>ratingMean</th>\n",
              "    </tr>\n",
              "  </thead>\n",
              "  <tbody>\n",
              "    <tr>\n",
              "      <th>4011</th>\n",
              "      <td>U1135</td>\n",
              "      <td>22.170396</td>\n",
              "      <td>-100.949936</td>\n",
              "      <td>false</td>\n",
              "      <td>casual drinker</td>\n",
              "      <td>informal</td>\n",
              "      <td>family</td>\n",
              "      <td>on foot</td>\n",
              "      <td>single</td>\n",
              "      <td>kids</td>\n",
              "      <td>...</td>\n",
              "      <td>low</td>\n",
              "      <td>1.54</td>\n",
              "      <td>cash</td>\n",
              "      <td>North_African</td>\n",
              "      <td>135058</td>\n",
              "      <td>0</td>\n",
              "      <td>0</td>\n",
              "      <td>0</td>\n",
              "      <td>True</td>\n",
              "      <td>0</td>\n",
              "    </tr>\n",
              "    <tr>\n",
              "      <th>1388</th>\n",
              "      <td>U1085</td>\n",
              "      <td>22.196787</td>\n",
              "      <td>-100.936335</td>\n",
              "      <td>false</td>\n",
              "      <td>abstemious</td>\n",
              "      <td>no preference</td>\n",
              "      <td>solitary</td>\n",
              "      <td>car owner</td>\n",
              "      <td>single</td>\n",
              "      <td>independent</td>\n",
              "      <td>...</td>\n",
              "      <td>?</td>\n",
              "      <td>1.70</td>\n",
              "      <td>cash</td>\n",
              "      <td>Mexican</td>\n",
              "      <td>135042</td>\n",
              "      <td>0</td>\n",
              "      <td>0</td>\n",
              "      <td>0</td>\n",
              "      <td>True</td>\n",
              "      <td>0</td>\n",
              "    </tr>\n",
              "    <tr>\n",
              "      <th>1286</th>\n",
              "      <td>U1076</td>\n",
              "      <td>22.156469</td>\n",
              "      <td>-100.985540</td>\n",
              "      <td>false</td>\n",
              "      <td>social drinker</td>\n",
              "      <td>elegant</td>\n",
              "      <td>family</td>\n",
              "      <td>public</td>\n",
              "      <td>married</td>\n",
              "      <td>kids</td>\n",
              "      <td>...</td>\n",
              "      <td>medium</td>\n",
              "      <td>1.71</td>\n",
              "      <td>VISA</td>\n",
              "      <td>Mexican</td>\n",
              "      <td>135042</td>\n",
              "      <td>2</td>\n",
              "      <td>2</td>\n",
              "      <td>2</td>\n",
              "      <td>True</td>\n",
              "      <td>2</td>\n",
              "    </tr>\n",
              "    <tr>\n",
              "      <th>1978</th>\n",
              "      <td>U1108</td>\n",
              "      <td>22.143524</td>\n",
              "      <td>-100.987562</td>\n",
              "      <td>false</td>\n",
              "      <td>abstemious</td>\n",
              "      <td>informal</td>\n",
              "      <td>solitary</td>\n",
              "      <td>public</td>\n",
              "      <td>single</td>\n",
              "      <td>independent</td>\n",
              "      <td>...</td>\n",
              "      <td>medium</td>\n",
              "      <td>1.81</td>\n",
              "      <td>VISA</td>\n",
              "      <td>Japanese</td>\n",
              "      <td>132723</td>\n",
              "      <td>2</td>\n",
              "      <td>2</td>\n",
              "      <td>2</td>\n",
              "      <td>True</td>\n",
              "      <td>2</td>\n",
              "    </tr>\n",
              "    <tr>\n",
              "      <th>2887</th>\n",
              "      <td>U1135</td>\n",
              "      <td>22.170396</td>\n",
              "      <td>-100.949936</td>\n",
              "      <td>false</td>\n",
              "      <td>casual drinker</td>\n",
              "      <td>informal</td>\n",
              "      <td>family</td>\n",
              "      <td>on foot</td>\n",
              "      <td>single</td>\n",
              "      <td>kids</td>\n",
              "      <td>...</td>\n",
              "      <td>low</td>\n",
              "      <td>1.54</td>\n",
              "      <td>cash</td>\n",
              "      <td>Burgers</td>\n",
              "      <td>135052</td>\n",
              "      <td>0</td>\n",
              "      <td>0</td>\n",
              "      <td>0</td>\n",
              "      <td>True</td>\n",
              "      <td>0</td>\n",
              "    </tr>\n",
              "  </tbody>\n",
              "</table>\n",
              "<p>5 rows × 27 columns</p>\n",
              "</div>"
            ],
            "text/plain": [
              "     userID   latitude   longitude smoker     drink_level dress_preference  \\\n",
              "4011  U1135  22.170396 -100.949936  false  casual drinker         informal   \n",
              "1388  U1085  22.196787 -100.936335  false      abstemious    no preference   \n",
              "1286  U1076  22.156469 -100.985540  false  social drinker          elegant   \n",
              "1978  U1108  22.143524 -100.987562  false      abstemious         informal   \n",
              "2887  U1135  22.170396 -100.949936  false  casual drinker         informal   \n",
              "\n",
              "      ambience  transport marital_status        hijos    ...      budget  \\\n",
              "4011    family    on foot         single         kids    ...         low   \n",
              "1388  solitary  car owner         single  independent    ...           ?   \n",
              "1286    family     public        married         kids    ...      medium   \n",
              "1978  solitary     public         single  independent    ...      medium   \n",
              "2887    family    on foot         single         kids    ...         low   \n",
              "\n",
              "     height Upayment       Rcuisine placeID rating  food_rating  \\\n",
              "4011   1.54     cash  North_African  135058      0            0   \n",
              "1388   1.70     cash        Mexican  135042      0            0   \n",
              "1286   1.71     VISA        Mexican  135042      2            2   \n",
              "1978   1.81     VISA       Japanese  132723      2            2   \n",
              "2887   1.54     cash        Burgers  135052      0            0   \n",
              "\n",
              "     service_rating  goodRating? ratingMean  \n",
              "4011              0         True          0  \n",
              "1388              0         True          0  \n",
              "1286              2         True          2  \n",
              "1978              2         True          2  \n",
              "2887              0         True          0  \n",
              "\n",
              "[5 rows x 27 columns]"
            ]
          },
          "metadata": {
            "tags": []
          },
          "execution_count": 32
        }
      ]
    },
    {
      "metadata": {
        "id": "W1FCaMBLcofA",
        "colab_type": "code",
        "colab": {}
      },
      "cell_type": "code",
      "source": [
        "class MiClase:\n",
        "    \"\"\"Simple clase de ejemplo\"\"\"\n",
        "    i = 12345\n",
        "    def f(self):\n",
        "        return 'hola mundo'\n",
        "    def __init__(self):\n",
        "        self.datos = []"
      ],
      "execution_count": 0,
      "outputs": []
    },
    {
      "metadata": {
        "id": "DFeSNu6yVcXd",
        "colab_type": "code",
        "colab": {
          "base_uri": "https://localhost:8080/",
          "height": 34
        },
        "outputId": "9431fc42-c986-4591-93cc-05998d6eb18a"
      },
      "cell_type": "code",
      "source": [
        "x = MiClase()\n",
        "x.__dict__"
      ],
      "execution_count": 65,
      "outputs": [
        {
          "output_type": "execute_result",
          "data": {
            "text/plain": [
              "{'datos': []}"
            ]
          },
          "metadata": {
            "tags": []
          },
          "execution_count": 65
        }
      ]
    },
    {
      "metadata": {
        "id": "tQ8CYic8VfGs",
        "colab_type": "code",
        "colab": {}
      },
      "cell_type": "code",
      "source": [
        ""
      ],
      "execution_count": 0,
      "outputs": []
    }
  ]
}